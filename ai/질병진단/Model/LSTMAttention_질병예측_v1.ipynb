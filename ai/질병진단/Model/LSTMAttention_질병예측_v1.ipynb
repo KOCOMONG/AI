{
  "cells": [
    {
      "cell_type": "code",
      "source": [
        "from google.colab import drive \n",
        "drive.mount('/content/gdrive/')"
      ],
      "metadata": {
        "colab": {
          "base_uri": "https://localhost:8080/"
        },
        "id": "dGkLxcLWaVka",
        "outputId": "3757fbba-8b3c-4e02-82b2-728f7ddf9d11"
      },
      "execution_count": null,
      "outputs": [
        {
          "output_type": "stream",
          "name": "stdout",
          "text": [
            "Mounted at /content/gdrive/\n"
          ]
        }
      ]
    },
    {
      "cell_type": "code",
      "execution_count": null,
      "metadata": {
        "id": "9IA8qpskaVT8"
      },
      "outputs": [],
      "source": [
        "\n",
        "import pandas as pd\n",
        "import numpy as np\n",
        "import tensorflow as tf\n",
        "tf.random.set_seed(42)\n",
        "\n",
        "pd.set_option('display.max_columns', 500) "
      ]
    },
    {
      "cell_type": "code",
      "source": [
        "DATA_IN_PATH = '/content/gdrive/MyDrive/캡스톤/version_6/version_6/'\n"
      ],
      "metadata": {
        "id": "CpOdNBo8JHDx"
      },
      "execution_count": null,
      "outputs": []
    },
    {
      "cell_type": "markdown",
      "metadata": {
        "id": "RVT6iKNhQ6i0"
      },
      "source": [
        "# Load Data: DB1(2020.5.17).xlsx"
      ]
    },
    {
      "cell_type": "code",
      "execution_count": null,
      "metadata": {
        "id": "Eqq8aSwOUEcy"
      },
      "outputs": [],
      "source": [
        "#data_jaun = pd.read_excel('DB1(2020.5.17).xlsx', sheet_name = 'digestive(jaundice)')\n",
        "#data_hemate = pd.read_excel('DB1(2020.5.17).xlsx', sheet_name = 'hematemesis(digestive)')\n",
        "#data_Folie_Nerve = pd.read_excel('DB1(2020.5.17).xlsx', sheet_name = 'Folie_Nerve')\n",
        "#data_musculoskeletal = pd.read_excel('DB1(2020.5.17).xlsx', sheet_name = 'musculoskeletal')\n",
        "#data_kidney = pd.read_excel('DB1(2020.5.17).xlsx', sheet_name = 'kidney')\n",
        "#data_respiratory = pd.read_excel('DB1(2020.5.17).xlsx', sheet_name = 'respiratory')\n",
        "#data_circulator1 = pd.read_excel('DB1(2020.5.17).xlsx', sheet_name = 'circulator1')\n",
        "#data_circulator2 = pd.read_excel('DB1(2020.5.17).xlsx', sheet_name = 'Circulator2')\n",
        "#data_para = pd.read_excel('DB1(2020.5.17).xlsx', sheet_name = 'Para_Female_Child')\n",
        "#data_digestive = pd.read_excel('DB1(2020.5.17).xlsx', sheet_name = 'digestive')\n",
        "#others = pd.read_excel('결측치db.xls', sheet_name='Sheet2')"
      ]
    },
    {
      "cell_type": "code",
      "execution_count": null,
      "metadata": {
        "id": "Xbz8GXDeHHaj"
      },
      "outputs": [],
      "source": [
        "data_jaun = pd.read_excel(DATA_IN_PATH+'DB1(2020.5.17)_add_less_5.xlsx', sheet_name = 'digestive(jaundice)')\n",
        "data_hemate = pd.read_excel(DATA_IN_PATH+'DB1(2020.5.17)_add_less_5.xlsx', sheet_name = 'hematemesis(digestive)')\n",
        "#data_Folie_Nerve = pd.read_excel('DB1(2020.5.17).xlsx', sheet_name = 'Folie_Nerve')\n",
        "data_musculoskeletal = pd.read_excel(DATA_IN_PATH+'DB1(2020.5.17)_add_less_5.xlsx', sheet_name = 'musculoskeletal')\n",
        "data_kidney = pd.read_excel(DATA_IN_PATH+'DB1(2020.5.17)_add_less_5.xlsx', sheet_name = 'kidney')\n",
        "data_respiratory = pd.read_excel(DATA_IN_PATH+'DB1(2020.5.17)_add_less_5.xlsx', sheet_name = 'respiratory')\n",
        "data_circulator1 = pd.read_excel(DATA_IN_PATH+'DB1(2020.5.17)_add_less_5.xlsx', sheet_name = 'circulator1')\n",
        "data_circulator2 = pd.read_excel(DATA_IN_PATH+'DB1(2020.5.17)_add_less_5.xlsx', sheet_name = 'Circulator2')\n",
        "data_para = pd.read_excel(DATA_IN_PATH+'DB1(2020.5.17)_add_less_5.xlsx', sheet_name = 'Para_Female_Child')\n",
        "data_digestive = pd.read_excel(DATA_IN_PATH+'DB1(2020.5.17)_add_less_5.xlsx', sheet_name = 'digestive')\n",
        "#others = pd.read_excel('결측치db.xls', sheet_name='Sheet2')"
      ]
    },
    {
      "cell_type": "markdown",
      "metadata": {
        "id": "RoLbHC7vRGew"
      },
      "source": [
        "# 1. Preprocessing"
      ]
    },
    {
      "cell_type": "markdown",
      "metadata": {
        "id": "iZZcnNXBKlHb"
      },
      "source": [
        "## 0) Select columns and fill diseases"
      ]
    },
    {
      "cell_type": "code",
      "execution_count": null,
      "metadata": {
        "id": "D0CoLQiww8_h"
      },
      "outputs": [],
      "source": [
        "def organize_data(df):\n",
        "  df.columns = df.iloc[0]\n",
        "  df = df[1:]\n",
        "  df = df.iloc[:, 6:]\n",
        "  df['level5/diagnosis'] = df['level5/diagnosis'].fillna(method='ffill') \n",
        "  df.drop('No.case', axis=1, inplace=True)\n",
        "\n",
        "  return df"
      ]
    },
    {
      "cell_type": "code",
      "execution_count": null,
      "metadata": {
        "id": "jOzjEnC_xKFc"
      },
      "outputs": [],
      "source": [
        "data_digestive = organize_data(data_digestive)\n",
        "data_musculoskeletal = organize_data(data_musculoskeletal)\n",
        "data_kidney = organize_data(data_kidney)\n",
        "data_respiratory = organize_data(data_respiratory)\n",
        "data_para = organize_data(data_para)\n",
        "#data_Folie_Nerve = organize_data(data_Folie_Nerve)\n",
        "data_circulator1 = organize_data(data_circulator1)\n",
        "data_circulator1 = data_circulator1.iloc[:, :21]\n",
        "\n",
        "data_circulator2 = data_circulator2.iloc[:, 1:]\n",
        "data_circulator2['진단 질병'] = data_circulator2['진단 질병'].fillna(method='ffill')\n",
        "data_circulator2.drop('No.case', axis=1, inplace=True) "
      ]
    },
    {
      "cell_type": "code",
      "execution_count": null,
      "metadata": {
        "id": "x9U1e1J62wqw"
      },
      "outputs": [],
      "source": [
        "data_hemate = organize_data(data_hemate)\n",
        "data_jaun = organize_data(data_jaun)\n",
        "\n",
        "data_hemate['Level1'] = 'hematemesis(digestive)'\n",
        "data_jaun['Level1'] = 'digestive(jaundice)'"
      ]
    },
    {
      "cell_type": "code",
      "execution_count": null,
      "metadata": {
        "id": "2SdFyRewaAMa"
      },
      "outputs": [],
      "source": [
        "data_digestive['Level1'] = 'digestive'\n",
        "data_musculoskeletal['Level1'] = 'musculoskeletal'\n",
        "data_kidney['Level1'] = 'kidney'\n",
        "data_respiratory['Level1'] = 'respiratory'\n",
        "data_para['Level1'] = 'para'\n",
        "data_circulator1['Level1'] = 'circulator1'\n",
        "data_circulator2['Level1'] = 'circulator2'"
      ]
    },
    {
      "cell_type": "code",
      "execution_count": null,
      "metadata": {
        "colab": {
          "base_uri": "https://localhost:8080/"
        },
        "id": "zle4FdXxzH8p",
        "outputId": "3dcc93fa-135b-4fc2-d1ae-66e3cde3df2b"
      },
      "outputs": [
        {
          "output_type": "stream",
          "name": "stdout",
          "text": [
            "(360, 22)\n",
            "(440, 22)\n",
            "(421, 22)\n",
            "(205, 22)\n",
            "(246, 22)\n",
            "(205, 22)\n",
            "(355, 22)\n",
            "(305, 22)\n",
            "(218, 22)\n"
          ]
        }
      ],
      "source": [
        "print(data_hemate.shape)\n",
        "print(data_jaun.shape)\n",
        "print(data_digestive.shape)\n",
        "print(data_musculoskeletal.shape)\n",
        "print(data_kidney.shape)\n",
        "print(data_respiratory.shape)\n",
        "print(data_para.shape)\n",
        "#print(data_Folie_Nerve.shape)\n",
        "print(data_circulator1.shape)\n",
        "print(data_circulator2.shape)"
      ]
    },
    {
      "cell_type": "code",
      "execution_count": null,
      "metadata": {
        "colab": {
          "base_uri": "https://localhost:8080/",
          "height": 211
        },
        "id": "gEMR9X_T0MnP",
        "outputId": "4ee280a8-9b00-4c47-a6ad-c738667c08f2"
      },
      "outputs": [
        {
          "output_type": "execute_result",
          "data": {
            "text/plain": [
              "0                            level5/diagnosis Chief complaint Sex Age Height  \\\n",
              "41  Breast pain following the menstrual cycle         가슴이 아파요  여자  35    162   \n",
              "\n",
              "0  Weight Onset Location    Duration Course Experience           Character  \\\n",
              "41     55  2년 전       양쪽  7~10일정도 지속    비슷함   주기적으로 아픔  전체적으로 아픈느낌, NRS 6점   \n",
              "\n",
              "0  Associated Sx.                  Factor Event 약물 투약력  \\\n",
              "41              -  생리 시작할 때 가장 아프고 점점 나아짐     -      -   \n",
              "\n",
              "0                             사회력 가족력             외상력  \\\n",
              "41  술 (일주일 소주 한병), 담배 (-), 커피 (-)   -  외상 (-), 수술 (-)   \n",
              "\n",
              "0                       과거력  \\\n",
              "41  고혈압/당뇨병/결핵/간염 (-/-/-/-)   \n",
              "\n",
              "0                                                 여성력 Level1  \n",
              "41  현재 생리중, 만삭 자연분만 1회, 만삭/조산/유산/생존 (1/-/-/1), 생리 주기적   para  "
            ],
            "text/html": [
              "\n",
              "  <div id=\"df-7877294a-db24-4fcd-82e9-b627f20ecf44\">\n",
              "    <div class=\"colab-df-container\">\n",
              "      <div>\n",
              "<style scoped>\n",
              "    .dataframe tbody tr th:only-of-type {\n",
              "        vertical-align: middle;\n",
              "    }\n",
              "\n",
              "    .dataframe tbody tr th {\n",
              "        vertical-align: top;\n",
              "    }\n",
              "\n",
              "    .dataframe thead th {\n",
              "        text-align: right;\n",
              "    }\n",
              "</style>\n",
              "<table border=\"1\" class=\"dataframe\">\n",
              "  <thead>\n",
              "    <tr style=\"text-align: right;\">\n",
              "      <th></th>\n",
              "      <th>level5/diagnosis</th>\n",
              "      <th>Chief complaint</th>\n",
              "      <th>Sex</th>\n",
              "      <th>Age</th>\n",
              "      <th>Height</th>\n",
              "      <th>Weight</th>\n",
              "      <th>Onset</th>\n",
              "      <th>Location</th>\n",
              "      <th>Duration</th>\n",
              "      <th>Course</th>\n",
              "      <th>Experience</th>\n",
              "      <th>Character</th>\n",
              "      <th>Associated Sx.</th>\n",
              "      <th>Factor</th>\n",
              "      <th>Event</th>\n",
              "      <th>약물 투약력</th>\n",
              "      <th>사회력</th>\n",
              "      <th>가족력</th>\n",
              "      <th>외상력</th>\n",
              "      <th>과거력</th>\n",
              "      <th>여성력</th>\n",
              "      <th>Level1</th>\n",
              "    </tr>\n",
              "  </thead>\n",
              "  <tbody>\n",
              "    <tr>\n",
              "      <th>41</th>\n",
              "      <td>Breast pain following the menstrual cycle</td>\n",
              "      <td>가슴이 아파요</td>\n",
              "      <td>여자</td>\n",
              "      <td>35</td>\n",
              "      <td>162</td>\n",
              "      <td>55</td>\n",
              "      <td>2년 전</td>\n",
              "      <td>양쪽</td>\n",
              "      <td>7~10일정도 지속</td>\n",
              "      <td>비슷함</td>\n",
              "      <td>주기적으로 아픔</td>\n",
              "      <td>전체적으로 아픈느낌, NRS 6점</td>\n",
              "      <td>-</td>\n",
              "      <td>생리 시작할 때 가장 아프고 점점 나아짐</td>\n",
              "      <td>-</td>\n",
              "      <td>-</td>\n",
              "      <td>술 (일주일 소주 한병), 담배 (-), 커피 (-)</td>\n",
              "      <td>-</td>\n",
              "      <td>외상 (-), 수술 (-)</td>\n",
              "      <td>고혈압/당뇨병/결핵/간염 (-/-/-/-)</td>\n",
              "      <td>현재 생리중, 만삭 자연분만 1회, 만삭/조산/유산/생존 (1/-/-/1), 생리 주기적</td>\n",
              "      <td>para</td>\n",
              "    </tr>\n",
              "  </tbody>\n",
              "</table>\n",
              "</div>\n",
              "      <button class=\"colab-df-convert\" onclick=\"convertToInteractive('df-7877294a-db24-4fcd-82e9-b627f20ecf44')\"\n",
              "              title=\"Convert this dataframe to an interactive table.\"\n",
              "              style=\"display:none;\">\n",
              "        \n",
              "  <svg xmlns=\"http://www.w3.org/2000/svg\" height=\"24px\"viewBox=\"0 0 24 24\"\n",
              "       width=\"24px\">\n",
              "    <path d=\"M0 0h24v24H0V0z\" fill=\"none\"/>\n",
              "    <path d=\"M18.56 5.44l.94 2.06.94-2.06 2.06-.94-2.06-.94-.94-2.06-.94 2.06-2.06.94zm-11 1L8.5 8.5l.94-2.06 2.06-.94-2.06-.94L8.5 2.5l-.94 2.06-2.06.94zm10 10l.94 2.06.94-2.06 2.06-.94-2.06-.94-.94-2.06-.94 2.06-2.06.94z\"/><path d=\"M17.41 7.96l-1.37-1.37c-.4-.4-.92-.59-1.43-.59-.52 0-1.04.2-1.43.59L10.3 9.45l-7.72 7.72c-.78.78-.78 2.05 0 2.83L4 21.41c.39.39.9.59 1.41.59.51 0 1.02-.2 1.41-.59l7.78-7.78 2.81-2.81c.8-.78.8-2.07 0-2.86zM5.41 20L4 18.59l7.72-7.72 1.47 1.35L5.41 20z\"/>\n",
              "  </svg>\n",
              "      </button>\n",
              "      \n",
              "  <style>\n",
              "    .colab-df-container {\n",
              "      display:flex;\n",
              "      flex-wrap:wrap;\n",
              "      gap: 12px;\n",
              "    }\n",
              "\n",
              "    .colab-df-convert {\n",
              "      background-color: #E8F0FE;\n",
              "      border: none;\n",
              "      border-radius: 50%;\n",
              "      cursor: pointer;\n",
              "      display: none;\n",
              "      fill: #1967D2;\n",
              "      height: 32px;\n",
              "      padding: 0 0 0 0;\n",
              "      width: 32px;\n",
              "    }\n",
              "\n",
              "    .colab-df-convert:hover {\n",
              "      background-color: #E2EBFA;\n",
              "      box-shadow: 0px 1px 2px rgba(60, 64, 67, 0.3), 0px 1px 3px 1px rgba(60, 64, 67, 0.15);\n",
              "      fill: #174EA6;\n",
              "    }\n",
              "\n",
              "    [theme=dark] .colab-df-convert {\n",
              "      background-color: #3B4455;\n",
              "      fill: #D2E3FC;\n",
              "    }\n",
              "\n",
              "    [theme=dark] .colab-df-convert:hover {\n",
              "      background-color: #434B5C;\n",
              "      box-shadow: 0px 1px 3px 1px rgba(0, 0, 0, 0.15);\n",
              "      filter: drop-shadow(0px 1px 2px rgba(0, 0, 0, 0.3));\n",
              "      fill: #FFFFFF;\n",
              "    }\n",
              "  </style>\n",
              "\n",
              "      <script>\n",
              "        const buttonEl =\n",
              "          document.querySelector('#df-7877294a-db24-4fcd-82e9-b627f20ecf44 button.colab-df-convert');\n",
              "        buttonEl.style.display =\n",
              "          google.colab.kernel.accessAllowed ? 'block' : 'none';\n",
              "\n",
              "        async function convertToInteractive(key) {\n",
              "          const element = document.querySelector('#df-7877294a-db24-4fcd-82e9-b627f20ecf44');\n",
              "          const dataTable =\n",
              "            await google.colab.kernel.invokeFunction('convertToInteractive',\n",
              "                                                     [key], {});\n",
              "          if (!dataTable) return;\n",
              "\n",
              "          const docLinkHtml = 'Like what you see? Visit the ' +\n",
              "            '<a target=\"_blank\" href=https://colab.research.google.com/notebooks/data_table.ipynb>data table notebook</a>'\n",
              "            + ' to learn more about interactive tables.';\n",
              "          element.innerHTML = '';\n",
              "          dataTable['output_type'] = 'display_data';\n",
              "          await google.colab.output.renderOutput(dataTable, element);\n",
              "          const docLink = document.createElement('div');\n",
              "          docLink.innerHTML = docLinkHtml;\n",
              "          element.appendChild(docLink);\n",
              "        }\n",
              "      </script>\n",
              "    </div>\n",
              "  </div>\n",
              "  "
            ]
          },
          "metadata": {},
          "execution_count": 128
        }
      ],
      "source": [
        "data_circulator2.columns = data_circulator1.columns\n",
        "\n",
        "data = pd.concat([data_digestive, data_musculoskeletal, data_kidney,\n",
        "                  data_respiratory, data_circulator1, #data_Folie_Nerve,\n",
        "                  data_circulator2, data_para, data_jaun, data_hemate], axis=0)\n",
        "data.sample()"
      ]
    },
    {
      "cell_type": "code",
      "execution_count": null,
      "metadata": {
        "colab": {
          "base_uri": "https://localhost:8080/",
          "height": 125
        },
        "id": "KoDiLuSSFquj",
        "outputId": "02dd8bb9-74f9-4b45-8250-a643571a5391"
      },
      "outputs": [
        {
          "output_type": "execute_result",
          "data": {
            "text/plain": [
              "     level5/diagnosis Chief complaint Sex Age Height  Weight Onset Location  \\\n",
              "0  Reflux esophagitis          피 토했어요  여자  40    165    65.0   2달전      NaN   \n",
              "\n",
              "  Duration Course Experience            Character Associated Sx. Factor  \\\n",
              "0      NaN    비슷함         처음  붉은색, 덩어리(-), 음식물(-)         복통, 기침    NaN   \n",
              "\n",
              "     Event 약물 투약력  사회력  가족력  외상력  과거력      여성력     Level1  \n",
              "0  특이사항 없음    NaN  NaN  NaN  NaN  NaN  정상 월경주기  digestive  "
            ],
            "text/html": [
              "\n",
              "  <div id=\"df-72002a90-60d7-4c4d-a5cd-347bef00ae60\">\n",
              "    <div class=\"colab-df-container\">\n",
              "      <div>\n",
              "<style scoped>\n",
              "    .dataframe tbody tr th:only-of-type {\n",
              "        vertical-align: middle;\n",
              "    }\n",
              "\n",
              "    .dataframe tbody tr th {\n",
              "        vertical-align: top;\n",
              "    }\n",
              "\n",
              "    .dataframe thead th {\n",
              "        text-align: right;\n",
              "    }\n",
              "</style>\n",
              "<table border=\"1\" class=\"dataframe\">\n",
              "  <thead>\n",
              "    <tr style=\"text-align: right;\">\n",
              "      <th></th>\n",
              "      <th>level5/diagnosis</th>\n",
              "      <th>Chief complaint</th>\n",
              "      <th>Sex</th>\n",
              "      <th>Age</th>\n",
              "      <th>Height</th>\n",
              "      <th>Weight</th>\n",
              "      <th>Onset</th>\n",
              "      <th>Location</th>\n",
              "      <th>Duration</th>\n",
              "      <th>Course</th>\n",
              "      <th>Experience</th>\n",
              "      <th>Character</th>\n",
              "      <th>Associated Sx.</th>\n",
              "      <th>Factor</th>\n",
              "      <th>Event</th>\n",
              "      <th>약물 투약력</th>\n",
              "      <th>사회력</th>\n",
              "      <th>가족력</th>\n",
              "      <th>외상력</th>\n",
              "      <th>과거력</th>\n",
              "      <th>여성력</th>\n",
              "      <th>Level1</th>\n",
              "    </tr>\n",
              "  </thead>\n",
              "  <tbody>\n",
              "    <tr>\n",
              "      <th>0</th>\n",
              "      <td>Reflux esophagitis</td>\n",
              "      <td>피 토했어요</td>\n",
              "      <td>여자</td>\n",
              "      <td>40</td>\n",
              "      <td>165</td>\n",
              "      <td>65.0</td>\n",
              "      <td>2달전</td>\n",
              "      <td>NaN</td>\n",
              "      <td>NaN</td>\n",
              "      <td>비슷함</td>\n",
              "      <td>처음</td>\n",
              "      <td>붉은색, 덩어리(-), 음식물(-)</td>\n",
              "      <td>복통, 기침</td>\n",
              "      <td>NaN</td>\n",
              "      <td>특이사항 없음</td>\n",
              "      <td>NaN</td>\n",
              "      <td>NaN</td>\n",
              "      <td>NaN</td>\n",
              "      <td>NaN</td>\n",
              "      <td>NaN</td>\n",
              "      <td>정상 월경주기</td>\n",
              "      <td>digestive</td>\n",
              "    </tr>\n",
              "  </tbody>\n",
              "</table>\n",
              "</div>\n",
              "      <button class=\"colab-df-convert\" onclick=\"convertToInteractive('df-72002a90-60d7-4c4d-a5cd-347bef00ae60')\"\n",
              "              title=\"Convert this dataframe to an interactive table.\"\n",
              "              style=\"display:none;\">\n",
              "        \n",
              "  <svg xmlns=\"http://www.w3.org/2000/svg\" height=\"24px\"viewBox=\"0 0 24 24\"\n",
              "       width=\"24px\">\n",
              "    <path d=\"M0 0h24v24H0V0z\" fill=\"none\"/>\n",
              "    <path d=\"M18.56 5.44l.94 2.06.94-2.06 2.06-.94-2.06-.94-.94-2.06-.94 2.06-2.06.94zm-11 1L8.5 8.5l.94-2.06 2.06-.94-2.06-.94L8.5 2.5l-.94 2.06-2.06.94zm10 10l.94 2.06.94-2.06 2.06-.94-2.06-.94-.94-2.06-.94 2.06-2.06.94z\"/><path d=\"M17.41 7.96l-1.37-1.37c-.4-.4-.92-.59-1.43-.59-.52 0-1.04.2-1.43.59L10.3 9.45l-7.72 7.72c-.78.78-.78 2.05 0 2.83L4 21.41c.39.39.9.59 1.41.59.51 0 1.02-.2 1.41-.59l7.78-7.78 2.81-2.81c.8-.78.8-2.07 0-2.86zM5.41 20L4 18.59l7.72-7.72 1.47 1.35L5.41 20z\"/>\n",
              "  </svg>\n",
              "      </button>\n",
              "      \n",
              "  <style>\n",
              "    .colab-df-container {\n",
              "      display:flex;\n",
              "      flex-wrap:wrap;\n",
              "      gap: 12px;\n",
              "    }\n",
              "\n",
              "    .colab-df-convert {\n",
              "      background-color: #E8F0FE;\n",
              "      border: none;\n",
              "      border-radius: 50%;\n",
              "      cursor: pointer;\n",
              "      display: none;\n",
              "      fill: #1967D2;\n",
              "      height: 32px;\n",
              "      padding: 0 0 0 0;\n",
              "      width: 32px;\n",
              "    }\n",
              "\n",
              "    .colab-df-convert:hover {\n",
              "      background-color: #E2EBFA;\n",
              "      box-shadow: 0px 1px 2px rgba(60, 64, 67, 0.3), 0px 1px 3px 1px rgba(60, 64, 67, 0.15);\n",
              "      fill: #174EA6;\n",
              "    }\n",
              "\n",
              "    [theme=dark] .colab-df-convert {\n",
              "      background-color: #3B4455;\n",
              "      fill: #D2E3FC;\n",
              "    }\n",
              "\n",
              "    [theme=dark] .colab-df-convert:hover {\n",
              "      background-color: #434B5C;\n",
              "      box-shadow: 0px 1px 3px 1px rgba(0, 0, 0, 0.15);\n",
              "      filter: drop-shadow(0px 1px 2px rgba(0, 0, 0, 0.3));\n",
              "      fill: #FFFFFF;\n",
              "    }\n",
              "  </style>\n",
              "\n",
              "      <script>\n",
              "        const buttonEl =\n",
              "          document.querySelector('#df-72002a90-60d7-4c4d-a5cd-347bef00ae60 button.colab-df-convert');\n",
              "        buttonEl.style.display =\n",
              "          google.colab.kernel.accessAllowed ? 'block' : 'none';\n",
              "\n",
              "        async function convertToInteractive(key) {\n",
              "          const element = document.querySelector('#df-72002a90-60d7-4c4d-a5cd-347bef00ae60');\n",
              "          const dataTable =\n",
              "            await google.colab.kernel.invokeFunction('convertToInteractive',\n",
              "                                                     [key], {});\n",
              "          if (!dataTable) return;\n",
              "\n",
              "          const docLinkHtml = 'Like what you see? Visit the ' +\n",
              "            '<a target=\"_blank\" href=https://colab.research.google.com/notebooks/data_table.ipynb>data table notebook</a>'\n",
              "            + ' to learn more about interactive tables.';\n",
              "          element.innerHTML = '';\n",
              "          dataTable['output_type'] = 'display_data';\n",
              "          await google.colab.output.renderOutput(dataTable, element);\n",
              "          const docLink = document.createElement('div');\n",
              "          docLink.innerHTML = docLinkHtml;\n",
              "          element.appendChild(docLink);\n",
              "        }\n",
              "      </script>\n",
              "    </div>\n",
              "  </div>\n",
              "  "
            ]
          },
          "metadata": {},
          "execution_count": 129
        }
      ],
      "source": [
        "nan_data = pd.read_excel(DATA_IN_PATH + 'at_least_10_nan_data.xlsx', sheet_name = 'Sheet1')\n",
        "nan_data.drop('Unnamed: 0', inplace=True, axis=1)\n",
        "nan_data.head(1)"
      ]
    },
    {
      "cell_type": "code",
      "execution_count": null,
      "metadata": {
        "colab": {
          "base_uri": "https://localhost:8080/"
        },
        "id": "Z0UUTyNuGMsj",
        "outputId": "82190eb8-41dd-4236-e64a-43d4bb10656b"
      },
      "outputs": [
        {
          "output_type": "stream",
          "name": "stdout",
          "text": [
            "(2755, 22)\n",
            "(2953, 22)\n"
          ]
        }
      ],
      "source": [
        "print(data.shape)\n",
        "data = pd.concat([data, nan_data], axis=0)\n",
        "print(data.shape)"
      ]
    },
    {
      "cell_type": "code",
      "execution_count": null,
      "metadata": {
        "id": "W-gVtdAEGMNc"
      },
      "outputs": [],
      "source": [
        ""
      ]
    },
    {
      "cell_type": "markdown",
      "metadata": {
        "id": "aayyq2tF1gFs"
      },
      "source": [
        "## 1) Drop rows if more than half are nan"
      ]
    },
    {
      "cell_type": "code",
      "execution_count": null,
      "metadata": {
        "id": "xnj87S0m2VMo"
      },
      "outputs": [],
      "source": [
        "data = data.fillna('-')"
      ]
    },
    {
      "cell_type": "code",
      "execution_count": null,
      "metadata": {
        "id": "ACrBKPgT2LQw"
      },
      "outputs": [],
      "source": [
        "def to_nan(x):\n",
        "  if(x == '-'):\n",
        "    x = np.nan\n",
        "  if(x == '(-)'):\n",
        "    x = np.nan\n",
        "  if(x=='없음'):\n",
        "    x = np.nan\n",
        "  if(x=='특이사항 없음'):\n",
        "    x = np.nan\n",
        "  if(x=='이상 없음'):\n",
        "    x = np.nan\n",
        "  if(x=='.'):\n",
        "    x = np.nan\n",
        "    \n",
        "  return x"
      ]
    },
    {
      "cell_type": "code",
      "execution_count": null,
      "metadata": {
        "id": "W8-jl6BB2SuP"
      },
      "outputs": [],
      "source": [
        "for i in range(len(data.columns)):\n",
        "    data[data.columns[i]] = data.apply(lambda x : to_nan(x[data.columns[i]]) , axis = 1 )"
      ]
    },
    {
      "cell_type": "code",
      "execution_count": null,
      "metadata": {
        "colab": {
          "base_uri": "https://localhost:8080/"
        },
        "id": "8m45ZTcu1Mug",
        "outputId": "305d768d-a6a4-4b9d-af72-c56de50ad279"
      },
      "outputs": [
        {
          "output_type": "stream",
          "name": "stdout",
          "text": [
            "Before (2953, 22)\n",
            "After (2238, 22)\n"
          ]
        }
      ],
      "source": [
        "print('Before', data.shape)\n",
        "data.dropna(thresh = data.shape[1]/2, axis = 0, inplace = True)\n",
        "print('After', data.shape)"
      ]
    },
    {
      "cell_type": "code",
      "execution_count": null,
      "metadata": {
        "id": "j9-gM2TK6Vjv"
      },
      "outputs": [],
      "source": [
        "data.reset_index(drop=True, inplace=True)"
      ]
    },
    {
      "cell_type": "code",
      "execution_count": null,
      "metadata": {
        "colab": {
          "base_uri": "https://localhost:8080/"
        },
        "id": "l3qRGPPB05-5",
        "outputId": "f52f7041-c652-42b3-f5a2-1675d29b313b"
      },
      "outputs": [
        {
          "output_type": "stream",
          "name": "stdout",
          "text": [
            "(2238, 22)\n",
            "Rupture of esophageal varices     100\n",
            "Gastric ulcer / duodenal ulcer     50\n",
            "Chronic pancreatitis               50\n",
            "Acute cholecystitis                50\n",
            "Esophageal cancer                  50\n",
            "                                 ... \n",
            "intraducal papilloma                1\n",
            "마주신경성 실신                            1\n",
            "fibrocystic change                  1\n",
            "일차성 고콜레스테롤혈증                        1\n",
            "백의 고혈압                              1\n",
            "Name: level5/diagnosis, Length: 289, dtype: int64\n"
          ]
        }
      ],
      "source": [
        "print(data.shape)\n",
        "print(data['level5/diagnosis'].value_counts())"
      ]
    },
    {
      "cell_type": "code",
      "execution_count": null,
      "metadata": {
        "id": "BOk6Euw_dSzF"
      },
      "outputs": [],
      "source": [
        "#idx_num = data[data['Height'].isnull()].index\n",
        "#data = data.drop(idx_num)"
      ]
    },
    {
      "cell_type": "code",
      "execution_count": null,
      "metadata": {
        "id": "LbQYmVhIKsyq"
      },
      "outputs": [],
      "source": [
        ""
      ]
    },
    {
      "cell_type": "markdown",
      "metadata": {
        "id": "dTXoHVP4RJkE"
      },
      "source": [
        "## 2) Change Nan to blank text"
      ]
    },
    {
      "cell_type": "code",
      "execution_count": null,
      "metadata": {
        "id": "dt3ThlnBfsQs"
      },
      "outputs": [],
      "source": [
        "data = data.fillna('-')"
      ]
    },
    {
      "cell_type": "code",
      "execution_count": null,
      "metadata": {
        "id": "uXfGSN-8mouO"
      },
      "outputs": [],
      "source": [
        "def to_nan(x):\n",
        "  if(x == '-'):\n",
        "    x = ''\n",
        "  elif(x == '아니오'):\n",
        "    x = ''\n",
        "  elif(x == '아뇨'):\n",
        "    x = ''\n",
        "  elif(x == '몰라요'):\n",
        "    x = ''\n",
        "  elif(x == '모릅니다'):\n",
        "    x = ''\n",
        "  elif(x == '모름'):\n",
        "    x = ''\n",
        "  elif(x == '아뇨'):\n",
        "    x = ''\n",
        "  elif(x == '아뇨'):\n",
        "    x = ''\n",
        "  elif(x == '.'):\n",
        "    x = ''    \n",
        "  return x"
      ]
    },
    {
      "cell_type": "code",
      "execution_count": null,
      "metadata": {
        "id": "RCMQCxldmoix"
      },
      "outputs": [],
      "source": [
        "for i in range(len(data.columns)):\n",
        "    data[data.columns[i]] = data.apply(lambda x : to_nan(x[data.columns[i]]) , axis = 1 )"
      ]
    },
    {
      "cell_type": "code",
      "execution_count": null,
      "metadata": {
        "colab": {
          "base_uri": "https://localhost:8080/"
        },
        "id": "dNz9DxwI17Rm",
        "outputId": "4ba9d6ca-815b-4140-c439-4359d2f38856"
      },
      "outputs": [
        {
          "output_type": "stream",
          "name": "stdout",
          "text": [
            "(2238, 22)\n"
          ]
        }
      ],
      "source": [
        "print(data.shape)"
      ]
    },
    {
      "cell_type": "markdown",
      "metadata": {
        "id": "2KvyK8gz3fjh"
      },
      "source": [
        "## 3) Check Target Data, Disease"
      ]
    },
    {
      "cell_type": "code",
      "execution_count": null,
      "metadata": {
        "colab": {
          "base_uri": "https://localhost:8080/"
        },
        "id": "fyGrH-By36ja",
        "outputId": "6c557213-7a19-40dc-9d4f-0ede3b4e3d2f"
      },
      "outputs": [
        {
          "output_type": "execute_result",
          "data": {
            "text/plain": [
              "Rupture of esophageal varices     100\n",
              "Gastric ulcer / duodenal ulcer     50\n",
              "Chronic pancreatitis               50\n",
              "Acute cholecystitis                50\n",
              "Esophageal cancer                  50\n",
              "                                 ... \n",
              "intraducal papilloma                1\n",
              "마주신경성 실신                            1\n",
              "fibrocystic change                  1\n",
              "일차성 고콜레스테롤혈증                        1\n",
              "백의 고혈압                              1\n",
              "Name: level5/diagnosis, Length: 289, dtype: int64"
            ]
          },
          "metadata": {},
          "execution_count": 142
        }
      ],
      "source": [
        "data['level5/diagnosis'].value_counts()"
      ]
    },
    {
      "cell_type": "code",
      "execution_count": null,
      "metadata": {
        "colab": {
          "base_uri": "https://localhost:8080/"
        },
        "id": "M-y09EPr3fFi",
        "outputId": "47f08f86-64b4-4ef2-9ab7-fabb35d52967"
      },
      "outputs": [
        {
          "output_type": "execute_result",
          "data": {
            "text/plain": [
              "289"
            ]
          },
          "metadata": {},
          "execution_count": 143
        }
      ],
      "source": [
        "len(data['level5/diagnosis'].unique())"
      ]
    },
    {
      "cell_type": "markdown",
      "metadata": {
        "id": "mh7Cfaw33m2a"
      },
      "source": [
        "### Organize differently expressed diseases to the same expression diseases"
      ]
    },
    {
      "cell_type": "code",
      "execution_count": null,
      "metadata": {
        "colab": {
          "base_uri": "https://localhost:8080/",
          "height": 206
        },
        "id": "e_AZUkd23iSv",
        "outputId": "4a8a2553-749e-4391-89da-6d54f239cbe7"
      },
      "outputs": [
        {
          "output_type": "execute_result",
          "data": {
            "text/plain": [
              "                  level5/diagnosis              번역\n",
              "0             Pseudoparathyroidism  가성 부갑상선 기능 저하증\n",
              "1    Familial hypercholesterolemia    가족성 고콜레스테롤혈증\n",
              "2           Familial short stature        가족형 저신장증\n",
              "3                        hepatitis              간염\n",
              "4  Interstitial lung disease (ILD)         간질성 폐질환"
            ],
            "text/html": [
              "\n",
              "  <div id=\"df-57685b65-2b1c-44b1-a199-23983fc4a1ad\">\n",
              "    <div class=\"colab-df-container\">\n",
              "      <div>\n",
              "<style scoped>\n",
              "    .dataframe tbody tr th:only-of-type {\n",
              "        vertical-align: middle;\n",
              "    }\n",
              "\n",
              "    .dataframe tbody tr th {\n",
              "        vertical-align: top;\n",
              "    }\n",
              "\n",
              "    .dataframe thead th {\n",
              "        text-align: right;\n",
              "    }\n",
              "</style>\n",
              "<table border=\"1\" class=\"dataframe\">\n",
              "  <thead>\n",
              "    <tr style=\"text-align: right;\">\n",
              "      <th></th>\n",
              "      <th>level5/diagnosis</th>\n",
              "      <th>번역</th>\n",
              "    </tr>\n",
              "  </thead>\n",
              "  <tbody>\n",
              "    <tr>\n",
              "      <th>0</th>\n",
              "      <td>Pseudoparathyroidism</td>\n",
              "      <td>가성 부갑상선 기능 저하증</td>\n",
              "    </tr>\n",
              "    <tr>\n",
              "      <th>1</th>\n",
              "      <td>Familial hypercholesterolemia</td>\n",
              "      <td>가족성 고콜레스테롤혈증</td>\n",
              "    </tr>\n",
              "    <tr>\n",
              "      <th>2</th>\n",
              "      <td>Familial short stature</td>\n",
              "      <td>가족형 저신장증</td>\n",
              "    </tr>\n",
              "    <tr>\n",
              "      <th>3</th>\n",
              "      <td>hepatitis</td>\n",
              "      <td>간염</td>\n",
              "    </tr>\n",
              "    <tr>\n",
              "      <th>4</th>\n",
              "      <td>Interstitial lung disease (ILD)</td>\n",
              "      <td>간질성 폐질환</td>\n",
              "    </tr>\n",
              "  </tbody>\n",
              "</table>\n",
              "</div>\n",
              "      <button class=\"colab-df-convert\" onclick=\"convertToInteractive('df-57685b65-2b1c-44b1-a199-23983fc4a1ad')\"\n",
              "              title=\"Convert this dataframe to an interactive table.\"\n",
              "              style=\"display:none;\">\n",
              "        \n",
              "  <svg xmlns=\"http://www.w3.org/2000/svg\" height=\"24px\"viewBox=\"0 0 24 24\"\n",
              "       width=\"24px\">\n",
              "    <path d=\"M0 0h24v24H0V0z\" fill=\"none\"/>\n",
              "    <path d=\"M18.56 5.44l.94 2.06.94-2.06 2.06-.94-2.06-.94-.94-2.06-.94 2.06-2.06.94zm-11 1L8.5 8.5l.94-2.06 2.06-.94-2.06-.94L8.5 2.5l-.94 2.06-2.06.94zm10 10l.94 2.06.94-2.06 2.06-.94-2.06-.94-.94-2.06-.94 2.06-2.06.94z\"/><path d=\"M17.41 7.96l-1.37-1.37c-.4-.4-.92-.59-1.43-.59-.52 0-1.04.2-1.43.59L10.3 9.45l-7.72 7.72c-.78.78-.78 2.05 0 2.83L4 21.41c.39.39.9.59 1.41.59.51 0 1.02-.2 1.41-.59l7.78-7.78 2.81-2.81c.8-.78.8-2.07 0-2.86zM5.41 20L4 18.59l7.72-7.72 1.47 1.35L5.41 20z\"/>\n",
              "  </svg>\n",
              "      </button>\n",
              "      \n",
              "  <style>\n",
              "    .colab-df-container {\n",
              "      display:flex;\n",
              "      flex-wrap:wrap;\n",
              "      gap: 12px;\n",
              "    }\n",
              "\n",
              "    .colab-df-convert {\n",
              "      background-color: #E8F0FE;\n",
              "      border: none;\n",
              "      border-radius: 50%;\n",
              "      cursor: pointer;\n",
              "      display: none;\n",
              "      fill: #1967D2;\n",
              "      height: 32px;\n",
              "      padding: 0 0 0 0;\n",
              "      width: 32px;\n",
              "    }\n",
              "\n",
              "    .colab-df-convert:hover {\n",
              "      background-color: #E2EBFA;\n",
              "      box-shadow: 0px 1px 2px rgba(60, 64, 67, 0.3), 0px 1px 3px 1px rgba(60, 64, 67, 0.15);\n",
              "      fill: #174EA6;\n",
              "    }\n",
              "\n",
              "    [theme=dark] .colab-df-convert {\n",
              "      background-color: #3B4455;\n",
              "      fill: #D2E3FC;\n",
              "    }\n",
              "\n",
              "    [theme=dark] .colab-df-convert:hover {\n",
              "      background-color: #434B5C;\n",
              "      box-shadow: 0px 1px 3px 1px rgba(0, 0, 0, 0.15);\n",
              "      filter: drop-shadow(0px 1px 2px rgba(0, 0, 0, 0.3));\n",
              "      fill: #FFFFFF;\n",
              "    }\n",
              "  </style>\n",
              "\n",
              "      <script>\n",
              "        const buttonEl =\n",
              "          document.querySelector('#df-57685b65-2b1c-44b1-a199-23983fc4a1ad button.colab-df-convert');\n",
              "        buttonEl.style.display =\n",
              "          google.colab.kernel.accessAllowed ? 'block' : 'none';\n",
              "\n",
              "        async function convertToInteractive(key) {\n",
              "          const element = document.querySelector('#df-57685b65-2b1c-44b1-a199-23983fc4a1ad');\n",
              "          const dataTable =\n",
              "            await google.colab.kernel.invokeFunction('convertToInteractive',\n",
              "                                                     [key], {});\n",
              "          if (!dataTable) return;\n",
              "\n",
              "          const docLinkHtml = 'Like what you see? Visit the ' +\n",
              "            '<a target=\"_blank\" href=https://colab.research.google.com/notebooks/data_table.ipynb>data table notebook</a>'\n",
              "            + ' to learn more about interactive tables.';\n",
              "          element.innerHTML = '';\n",
              "          dataTable['output_type'] = 'display_data';\n",
              "          await google.colab.output.renderOutput(dataTable, element);\n",
              "          const docLink = document.createElement('div');\n",
              "          docLink.innerHTML = docLinkHtml;\n",
              "          element.appendChild(docLink);\n",
              "        }\n",
              "      </script>\n",
              "    </div>\n",
              "  </div>\n",
              "  "
            ]
          },
          "metadata": {},
          "execution_count": 144
        }
      ],
      "source": [
        "disease_kor = pd.read_excel(DATA_IN_PATH + 'ver6_new_words.xlsx', sheet_name = '질병')\n",
        "disease_kor = disease_kor[['level5/diagnosis', '번역']]\n",
        "disease_kor.head()"
      ]
    },
    {
      "cell_type": "code",
      "execution_count": null,
      "metadata": {
        "colab": {
          "base_uri": "https://localhost:8080/",
          "height": 81
        },
        "id": "-JLpBUwl3kkr",
        "outputId": "7e0b5487-9bc7-4f08-c1b2-2f10ae855d59"
      },
      "outputs": [
        {
          "output_type": "execute_result",
          "data": {
            "text/plain": [
              "     level5/diagnosis Chief complaint Sex Age Height Weight Onset Location  \\\n",
              "2173          일류성 요실금     \"소변이 자꾸 새요\"  여성  74    158   54.0   4년전            \n",
              "\n",
              "     Duration Course Experience Character Associated Sx. Factor Event 약물 투약력  \\\n",
              "2173             심해짐         처음                                                \n",
              "\n",
              "     사회력 가족력 외상력     과거력 여성력  Level1  \n",
              "2173              당뇨신경병증  폐경  kidney  "
            ],
            "text/html": [
              "\n",
              "  <div id=\"df-50d92406-7c89-44fd-98eb-ec699f9442d9\">\n",
              "    <div class=\"colab-df-container\">\n",
              "      <div>\n",
              "<style scoped>\n",
              "    .dataframe tbody tr th:only-of-type {\n",
              "        vertical-align: middle;\n",
              "    }\n",
              "\n",
              "    .dataframe tbody tr th {\n",
              "        vertical-align: top;\n",
              "    }\n",
              "\n",
              "    .dataframe thead th {\n",
              "        text-align: right;\n",
              "    }\n",
              "</style>\n",
              "<table border=\"1\" class=\"dataframe\">\n",
              "  <thead>\n",
              "    <tr style=\"text-align: right;\">\n",
              "      <th></th>\n",
              "      <th>level5/diagnosis</th>\n",
              "      <th>Chief complaint</th>\n",
              "      <th>Sex</th>\n",
              "      <th>Age</th>\n",
              "      <th>Height</th>\n",
              "      <th>Weight</th>\n",
              "      <th>Onset</th>\n",
              "      <th>Location</th>\n",
              "      <th>Duration</th>\n",
              "      <th>Course</th>\n",
              "      <th>Experience</th>\n",
              "      <th>Character</th>\n",
              "      <th>Associated Sx.</th>\n",
              "      <th>Factor</th>\n",
              "      <th>Event</th>\n",
              "      <th>약물 투약력</th>\n",
              "      <th>사회력</th>\n",
              "      <th>가족력</th>\n",
              "      <th>외상력</th>\n",
              "      <th>과거력</th>\n",
              "      <th>여성력</th>\n",
              "      <th>Level1</th>\n",
              "    </tr>\n",
              "  </thead>\n",
              "  <tbody>\n",
              "    <tr>\n",
              "      <th>2173</th>\n",
              "      <td>일류성 요실금</td>\n",
              "      <td>\"소변이 자꾸 새요\"</td>\n",
              "      <td>여성</td>\n",
              "      <td>74</td>\n",
              "      <td>158</td>\n",
              "      <td>54.0</td>\n",
              "      <td>4년전</td>\n",
              "      <td></td>\n",
              "      <td></td>\n",
              "      <td>심해짐</td>\n",
              "      <td>처음</td>\n",
              "      <td></td>\n",
              "      <td></td>\n",
              "      <td></td>\n",
              "      <td></td>\n",
              "      <td></td>\n",
              "      <td></td>\n",
              "      <td></td>\n",
              "      <td></td>\n",
              "      <td>당뇨신경병증</td>\n",
              "      <td>폐경</td>\n",
              "      <td>kidney</td>\n",
              "    </tr>\n",
              "  </tbody>\n",
              "</table>\n",
              "</div>\n",
              "      <button class=\"colab-df-convert\" onclick=\"convertToInteractive('df-50d92406-7c89-44fd-98eb-ec699f9442d9')\"\n",
              "              title=\"Convert this dataframe to an interactive table.\"\n",
              "              style=\"display:none;\">\n",
              "        \n",
              "  <svg xmlns=\"http://www.w3.org/2000/svg\" height=\"24px\"viewBox=\"0 0 24 24\"\n",
              "       width=\"24px\">\n",
              "    <path d=\"M0 0h24v24H0V0z\" fill=\"none\"/>\n",
              "    <path d=\"M18.56 5.44l.94 2.06.94-2.06 2.06-.94-2.06-.94-.94-2.06-.94 2.06-2.06.94zm-11 1L8.5 8.5l.94-2.06 2.06-.94-2.06-.94L8.5 2.5l-.94 2.06-2.06.94zm10 10l.94 2.06.94-2.06 2.06-.94-2.06-.94-.94-2.06-.94 2.06-2.06.94z\"/><path d=\"M17.41 7.96l-1.37-1.37c-.4-.4-.92-.59-1.43-.59-.52 0-1.04.2-1.43.59L10.3 9.45l-7.72 7.72c-.78.78-.78 2.05 0 2.83L4 21.41c.39.39.9.59 1.41.59.51 0 1.02-.2 1.41-.59l7.78-7.78 2.81-2.81c.8-.78.8-2.07 0-2.86zM5.41 20L4 18.59l7.72-7.72 1.47 1.35L5.41 20z\"/>\n",
              "  </svg>\n",
              "      </button>\n",
              "      \n",
              "  <style>\n",
              "    .colab-df-container {\n",
              "      display:flex;\n",
              "      flex-wrap:wrap;\n",
              "      gap: 12px;\n",
              "    }\n",
              "\n",
              "    .colab-df-convert {\n",
              "      background-color: #E8F0FE;\n",
              "      border: none;\n",
              "      border-radius: 50%;\n",
              "      cursor: pointer;\n",
              "      display: none;\n",
              "      fill: #1967D2;\n",
              "      height: 32px;\n",
              "      padding: 0 0 0 0;\n",
              "      width: 32px;\n",
              "    }\n",
              "\n",
              "    .colab-df-convert:hover {\n",
              "      background-color: #E2EBFA;\n",
              "      box-shadow: 0px 1px 2px rgba(60, 64, 67, 0.3), 0px 1px 3px 1px rgba(60, 64, 67, 0.15);\n",
              "      fill: #174EA6;\n",
              "    }\n",
              "\n",
              "    [theme=dark] .colab-df-convert {\n",
              "      background-color: #3B4455;\n",
              "      fill: #D2E3FC;\n",
              "    }\n",
              "\n",
              "    [theme=dark] .colab-df-convert:hover {\n",
              "      background-color: #434B5C;\n",
              "      box-shadow: 0px 1px 3px 1px rgba(0, 0, 0, 0.15);\n",
              "      filter: drop-shadow(0px 1px 2px rgba(0, 0, 0, 0.3));\n",
              "      fill: #FFFFFF;\n",
              "    }\n",
              "  </style>\n",
              "\n",
              "      <script>\n",
              "        const buttonEl =\n",
              "          document.querySelector('#df-50d92406-7c89-44fd-98eb-ec699f9442d9 button.colab-df-convert');\n",
              "        buttonEl.style.display =\n",
              "          google.colab.kernel.accessAllowed ? 'block' : 'none';\n",
              "\n",
              "        async function convertToInteractive(key) {\n",
              "          const element = document.querySelector('#df-50d92406-7c89-44fd-98eb-ec699f9442d9');\n",
              "          const dataTable =\n",
              "            await google.colab.kernel.invokeFunction('convertToInteractive',\n",
              "                                                     [key], {});\n",
              "          if (!dataTable) return;\n",
              "\n",
              "          const docLinkHtml = 'Like what you see? Visit the ' +\n",
              "            '<a target=\"_blank\" href=https://colab.research.google.com/notebooks/data_table.ipynb>data table notebook</a>'\n",
              "            + ' to learn more about interactive tables.';\n",
              "          element.innerHTML = '';\n",
              "          dataTable['output_type'] = 'display_data';\n",
              "          await google.colab.output.renderOutput(dataTable, element);\n",
              "          const docLink = document.createElement('div');\n",
              "          docLink.innerHTML = docLinkHtml;\n",
              "          element.appendChild(docLink);\n",
              "        }\n",
              "      </script>\n",
              "    </div>\n",
              "  </div>\n",
              "  "
            ]
          },
          "metadata": {},
          "execution_count": 145
        }
      ],
      "source": [
        "data = pd.merge(data, disease_kor, how='left',on='level5/diagnosis')\n",
        "data = data.drop_duplicates()\n",
        "data.reset_index(drop=True, inplace=True)\n",
        "\n",
        "data['번역'].fillna(data['level5/diagnosis'], inplace=True)\n",
        "data['level5/diagnosis'] = data['번역']\n",
        "data.drop('번역', axis=1, inplace=True)\n",
        "data.sample()"
      ]
    },
    {
      "cell_type": "code",
      "execution_count": null,
      "metadata": {
        "colab": {
          "base_uri": "https://localhost:8080/"
        },
        "id": "MVTUU3gW3rFV",
        "outputId": "396e3a86-497b-448f-f951-a87a60195375"
      },
      "outputs": [
        {
          "output_type": "stream",
          "name": "stdout",
          "text": [
            "(2222, 22)\n"
          ]
        }
      ],
      "source": [
        "print(data.shape)\n",
        "#print(disease_kor.shape)\n",
        "#print(a.shape)"
      ]
    },
    {
      "cell_type": "code",
      "execution_count": null,
      "metadata": {
        "id": "93NpVUM-3rxP"
      },
      "outputs": [],
      "source": [
        "#ind = data[data['level5/diagnosis'] == 'Gastritis, gastric ulcer, duodenal ulcer'].index\n",
        "#data.loc[ind, data.columns[0]] = 'Gastric ulcer / duodenal ulcer'\n",
        "#data[data['level5/diagnosis'] == 'Gastric ulcer / duodenal ulcer']\n",
        "\n",
        "#ind = data[data['level5/diagnosis'] == 'Irritable bowel syndrome (IBS)'].index\n",
        "#data.loc[ind, data.columns[0]] = 'Irritable bowel syndrome'\n",
        "\n",
        "#ind = data[data['level5/diagnosis'] == 'Irritable Bowel Syndrome (IBS)'].index\n",
        "#data.loc[ind, data.columns[0]] = 'Irritable bowel syndrome'"
      ]
    },
    {
      "cell_type": "markdown",
      "metadata": {
        "id": "0IFjEFXutZU5"
      },
      "source": [
        "- Change some disease names in Circulator2"
      ]
    },
    {
      "cell_type": "code",
      "execution_count": null,
      "metadata": {
        "id": "NB9dRoxctTYA"
      },
      "outputs": [],
      "source": [
        "idx = data[data['level5/diagnosis'] == '공황장애 / 과다환기증후군'].index#['level5/diagnosis'] = '공황장애'\n",
        "data.loc[idx, 'level5/diagnosis'] = '공황장애'\n",
        "\n",
        "idx = data[data['level5/diagnosis'] == '소화성궤양'].index\n",
        "data.loc[idx, 'level5/diagnosis'] = '소화성 궤양'\n",
        "\n",
        "idx = data[data['level5/diagnosis'] == '기립성 저혈압(혈량저하증 동반되어 있을 수)'].index\n",
        "data.loc[idx, 'level5/diagnosis'] = '기립성 저혈압(혈량저하증 동반 가능)'\n",
        "\n",
        "idx = data[data['level5/diagnosis'] == '대동맥박리'].index\n",
        "data.loc[idx, 'level5/diagnosis'] = '대동맥 박리'\n",
        "\n",
        "idx = data[data['level5/diagnosis'] == '역류성식도염'].index\n",
        "data.loc[idx, 'level5/diagnosis'] = '역류성 식도염'\n",
        "\n",
        "idx = data[data['level5/diagnosis'] == '거미막하출혈(SAH)'].index\n",
        "data.loc[idx, 'level5/diagnosis'] = '지주막하 출혈'\n",
        "\n",
        "idx = data[data['level5/diagnosis'] == '과다환기증'].index # 원문: Panic disorder / hyperventilation syndrome\n",
        "data.loc[idx, 'level5/diagnosis'] = '공황장애'\n",
        "\n",
        "idx = data[data['level5/diagnosis'] == '판막 질환(AR, MR 등)'].index\n",
        "data.loc[idx, 'level5/diagnosis'] = '판막 질환'\n",
        "\n",
        "idx = data[data['level5/diagnosis'] == '폐경후증후군'].index\n",
        "data.loc[idx, 'level5/diagnosis'] = '폐경증후군'\n",
        "\n",
        "idx = data[data['level5/diagnosis'] == '폐경증후군(폐경)'].index\n",
        "data.loc[idx, 'level5/diagnosis'] = '폐경증후군'\n",
        "\n",
        "idx = data[data['level5/diagnosis'] == '마주신경성 실신'].index\n",
        "data.loc[idx, 'level5/diagnosis'] = '미주신경성 실신'"
      ]
    },
    {
      "cell_type": "code",
      "execution_count": null,
      "metadata": {
        "colab": {
          "base_uri": "https://localhost:8080/"
        },
        "id": "8vj_bYea35jg",
        "outputId": "fd160e72-2a98-4ec7-9425-470a30a65462"
      },
      "outputs": [
        {
          "output_type": "execute_result",
          "data": {
            "text/plain": [
              "227"
            ]
          },
          "metadata": {},
          "execution_count": 149
        }
      ],
      "source": [
        "len(data['level5/diagnosis'].unique())"
      ]
    },
    {
      "cell_type": "markdown",
      "metadata": {
        "id": "ECoRD3tB2uyt"
      },
      "source": [
        "### Drop disease which has less than 5 cases"
      ]
    },
    {
      "cell_type": "code",
      "execution_count": null,
      "metadata": {
        "colab": {
          "base_uri": "https://localhost:8080/",
          "height": 112
        },
        "id": "QWgfj_GuLEeo",
        "outputId": "372dfd39-8926-451f-c9ee-fee952fc0a95"
      },
      "outputs": [
        {
          "output_type": "execute_result",
          "data": {
            "text/plain": [
              "    Disease  counts\n",
              "225    신증후군       4\n",
              "226   갈색세포종       3"
            ],
            "text/html": [
              "\n",
              "  <div id=\"df-612b2739-6fc6-4267-bd6c-3228fd891727\">\n",
              "    <div class=\"colab-df-container\">\n",
              "      <div>\n",
              "<style scoped>\n",
              "    .dataframe tbody tr th:only-of-type {\n",
              "        vertical-align: middle;\n",
              "    }\n",
              "\n",
              "    .dataframe tbody tr th {\n",
              "        vertical-align: top;\n",
              "    }\n",
              "\n",
              "    .dataframe thead th {\n",
              "        text-align: right;\n",
              "    }\n",
              "</style>\n",
              "<table border=\"1\" class=\"dataframe\">\n",
              "  <thead>\n",
              "    <tr style=\"text-align: right;\">\n",
              "      <th></th>\n",
              "      <th>Disease</th>\n",
              "      <th>counts</th>\n",
              "    </tr>\n",
              "  </thead>\n",
              "  <tbody>\n",
              "    <tr>\n",
              "      <th>225</th>\n",
              "      <td>신증후군</td>\n",
              "      <td>4</td>\n",
              "    </tr>\n",
              "    <tr>\n",
              "      <th>226</th>\n",
              "      <td>갈색세포종</td>\n",
              "      <td>3</td>\n",
              "    </tr>\n",
              "  </tbody>\n",
              "</table>\n",
              "</div>\n",
              "      <button class=\"colab-df-convert\" onclick=\"convertToInteractive('df-612b2739-6fc6-4267-bd6c-3228fd891727')\"\n",
              "              title=\"Convert this dataframe to an interactive table.\"\n",
              "              style=\"display:none;\">\n",
              "        \n",
              "  <svg xmlns=\"http://www.w3.org/2000/svg\" height=\"24px\"viewBox=\"0 0 24 24\"\n",
              "       width=\"24px\">\n",
              "    <path d=\"M0 0h24v24H0V0z\" fill=\"none\"/>\n",
              "    <path d=\"M18.56 5.44l.94 2.06.94-2.06 2.06-.94-2.06-.94-.94-2.06-.94 2.06-2.06.94zm-11 1L8.5 8.5l.94-2.06 2.06-.94-2.06-.94L8.5 2.5l-.94 2.06-2.06.94zm10 10l.94 2.06.94-2.06 2.06-.94-2.06-.94-.94-2.06-.94 2.06-2.06.94z\"/><path d=\"M17.41 7.96l-1.37-1.37c-.4-.4-.92-.59-1.43-.59-.52 0-1.04.2-1.43.59L10.3 9.45l-7.72 7.72c-.78.78-.78 2.05 0 2.83L4 21.41c.39.39.9.59 1.41.59.51 0 1.02-.2 1.41-.59l7.78-7.78 2.81-2.81c.8-.78.8-2.07 0-2.86zM5.41 20L4 18.59l7.72-7.72 1.47 1.35L5.41 20z\"/>\n",
              "  </svg>\n",
              "      </button>\n",
              "      \n",
              "  <style>\n",
              "    .colab-df-container {\n",
              "      display:flex;\n",
              "      flex-wrap:wrap;\n",
              "      gap: 12px;\n",
              "    }\n",
              "\n",
              "    .colab-df-convert {\n",
              "      background-color: #E8F0FE;\n",
              "      border: none;\n",
              "      border-radius: 50%;\n",
              "      cursor: pointer;\n",
              "      display: none;\n",
              "      fill: #1967D2;\n",
              "      height: 32px;\n",
              "      padding: 0 0 0 0;\n",
              "      width: 32px;\n",
              "    }\n",
              "\n",
              "    .colab-df-convert:hover {\n",
              "      background-color: #E2EBFA;\n",
              "      box-shadow: 0px 1px 2px rgba(60, 64, 67, 0.3), 0px 1px 3px 1px rgba(60, 64, 67, 0.15);\n",
              "      fill: #174EA6;\n",
              "    }\n",
              "\n",
              "    [theme=dark] .colab-df-convert {\n",
              "      background-color: #3B4455;\n",
              "      fill: #D2E3FC;\n",
              "    }\n",
              "\n",
              "    [theme=dark] .colab-df-convert:hover {\n",
              "      background-color: #434B5C;\n",
              "      box-shadow: 0px 1px 3px 1px rgba(0, 0, 0, 0.15);\n",
              "      filter: drop-shadow(0px 1px 2px rgba(0, 0, 0, 0.3));\n",
              "      fill: #FFFFFF;\n",
              "    }\n",
              "  </style>\n",
              "\n",
              "      <script>\n",
              "        const buttonEl =\n",
              "          document.querySelector('#df-612b2739-6fc6-4267-bd6c-3228fd891727 button.colab-df-convert');\n",
              "        buttonEl.style.display =\n",
              "          google.colab.kernel.accessAllowed ? 'block' : 'none';\n",
              "\n",
              "        async function convertToInteractive(key) {\n",
              "          const element = document.querySelector('#df-612b2739-6fc6-4267-bd6c-3228fd891727');\n",
              "          const dataTable =\n",
              "            await google.colab.kernel.invokeFunction('convertToInteractive',\n",
              "                                                     [key], {});\n",
              "          if (!dataTable) return;\n",
              "\n",
              "          const docLinkHtml = 'Like what you see? Visit the ' +\n",
              "            '<a target=\"_blank\" href=https://colab.research.google.com/notebooks/data_table.ipynb>data table notebook</a>'\n",
              "            + ' to learn more about interactive tables.';\n",
              "          element.innerHTML = '';\n",
              "          dataTable['output_type'] = 'display_data';\n",
              "          await google.colab.output.renderOutput(dataTable, element);\n",
              "          const docLink = document.createElement('div');\n",
              "          docLink.innerHTML = docLinkHtml;\n",
              "          element.appendChild(docLink);\n",
              "        }\n",
              "      </script>\n",
              "    </div>\n",
              "  </div>\n",
              "  "
            ]
          },
          "metadata": {},
          "execution_count": 150
        }
      ],
      "source": [
        "target_counts = data['level5/diagnosis'].value_counts().reset_index()\n",
        "target_counts.columns = ['Disease', 'counts']\n",
        "target_counts = target_counts[target_counts['counts'] < 5]\n",
        "target_counts"
      ]
    },
    {
      "cell_type": "code",
      "execution_count": null,
      "metadata": {
        "colab": {
          "base_uri": "https://localhost:8080/",
          "height": 423
        },
        "id": "Mvxwq30133w3",
        "outputId": "697e4512-b6ab-4187-c423-e5dd528389da"
      },
      "outputs": [
        {
          "output_type": "execute_result",
          "data": {
            "text/plain": [
              "          Disease  counts\n",
              "0       식도 정맥류 파열     100\n",
              "1          소화성 궤양      95\n",
              "2         역류성 식도염      64\n",
              "3             식도암      50\n",
              "4          만성 췌장염      50\n",
              "..            ...     ...\n",
              "220          저혈량증       5\n",
              "221        악성 고혈암       5\n",
              "222         이식거부증       5\n",
              "223        방광경부폐색       5\n",
              "224  면역글로불린 A 신병증       5\n",
              "\n",
              "[225 rows x 2 columns]"
            ],
            "text/html": [
              "\n",
              "  <div id=\"df-3ef007c6-05ca-4c7b-b3f2-c26d04b3d3ce\">\n",
              "    <div class=\"colab-df-container\">\n",
              "      <div>\n",
              "<style scoped>\n",
              "    .dataframe tbody tr th:only-of-type {\n",
              "        vertical-align: middle;\n",
              "    }\n",
              "\n",
              "    .dataframe tbody tr th {\n",
              "        vertical-align: top;\n",
              "    }\n",
              "\n",
              "    .dataframe thead th {\n",
              "        text-align: right;\n",
              "    }\n",
              "</style>\n",
              "<table border=\"1\" class=\"dataframe\">\n",
              "  <thead>\n",
              "    <tr style=\"text-align: right;\">\n",
              "      <th></th>\n",
              "      <th>Disease</th>\n",
              "      <th>counts</th>\n",
              "    </tr>\n",
              "  </thead>\n",
              "  <tbody>\n",
              "    <tr>\n",
              "      <th>0</th>\n",
              "      <td>식도 정맥류 파열</td>\n",
              "      <td>100</td>\n",
              "    </tr>\n",
              "    <tr>\n",
              "      <th>1</th>\n",
              "      <td>소화성 궤양</td>\n",
              "      <td>95</td>\n",
              "    </tr>\n",
              "    <tr>\n",
              "      <th>2</th>\n",
              "      <td>역류성 식도염</td>\n",
              "      <td>64</td>\n",
              "    </tr>\n",
              "    <tr>\n",
              "      <th>3</th>\n",
              "      <td>식도암</td>\n",
              "      <td>50</td>\n",
              "    </tr>\n",
              "    <tr>\n",
              "      <th>4</th>\n",
              "      <td>만성 췌장염</td>\n",
              "      <td>50</td>\n",
              "    </tr>\n",
              "    <tr>\n",
              "      <th>...</th>\n",
              "      <td>...</td>\n",
              "      <td>...</td>\n",
              "    </tr>\n",
              "    <tr>\n",
              "      <th>220</th>\n",
              "      <td>저혈량증</td>\n",
              "      <td>5</td>\n",
              "    </tr>\n",
              "    <tr>\n",
              "      <th>221</th>\n",
              "      <td>악성 고혈암</td>\n",
              "      <td>5</td>\n",
              "    </tr>\n",
              "    <tr>\n",
              "      <th>222</th>\n",
              "      <td>이식거부증</td>\n",
              "      <td>5</td>\n",
              "    </tr>\n",
              "    <tr>\n",
              "      <th>223</th>\n",
              "      <td>방광경부폐색</td>\n",
              "      <td>5</td>\n",
              "    </tr>\n",
              "    <tr>\n",
              "      <th>224</th>\n",
              "      <td>면역글로불린 A 신병증</td>\n",
              "      <td>5</td>\n",
              "    </tr>\n",
              "  </tbody>\n",
              "</table>\n",
              "<p>225 rows × 2 columns</p>\n",
              "</div>\n",
              "      <button class=\"colab-df-convert\" onclick=\"convertToInteractive('df-3ef007c6-05ca-4c7b-b3f2-c26d04b3d3ce')\"\n",
              "              title=\"Convert this dataframe to an interactive table.\"\n",
              "              style=\"display:none;\">\n",
              "        \n",
              "  <svg xmlns=\"http://www.w3.org/2000/svg\" height=\"24px\"viewBox=\"0 0 24 24\"\n",
              "       width=\"24px\">\n",
              "    <path d=\"M0 0h24v24H0V0z\" fill=\"none\"/>\n",
              "    <path d=\"M18.56 5.44l.94 2.06.94-2.06 2.06-.94-2.06-.94-.94-2.06-.94 2.06-2.06.94zm-11 1L8.5 8.5l.94-2.06 2.06-.94-2.06-.94L8.5 2.5l-.94 2.06-2.06.94zm10 10l.94 2.06.94-2.06 2.06-.94-2.06-.94-.94-2.06-.94 2.06-2.06.94z\"/><path d=\"M17.41 7.96l-1.37-1.37c-.4-.4-.92-.59-1.43-.59-.52 0-1.04.2-1.43.59L10.3 9.45l-7.72 7.72c-.78.78-.78 2.05 0 2.83L4 21.41c.39.39.9.59 1.41.59.51 0 1.02-.2 1.41-.59l7.78-7.78 2.81-2.81c.8-.78.8-2.07 0-2.86zM5.41 20L4 18.59l7.72-7.72 1.47 1.35L5.41 20z\"/>\n",
              "  </svg>\n",
              "      </button>\n",
              "      \n",
              "  <style>\n",
              "    .colab-df-container {\n",
              "      display:flex;\n",
              "      flex-wrap:wrap;\n",
              "      gap: 12px;\n",
              "    }\n",
              "\n",
              "    .colab-df-convert {\n",
              "      background-color: #E8F0FE;\n",
              "      border: none;\n",
              "      border-radius: 50%;\n",
              "      cursor: pointer;\n",
              "      display: none;\n",
              "      fill: #1967D2;\n",
              "      height: 32px;\n",
              "      padding: 0 0 0 0;\n",
              "      width: 32px;\n",
              "    }\n",
              "\n",
              "    .colab-df-convert:hover {\n",
              "      background-color: #E2EBFA;\n",
              "      box-shadow: 0px 1px 2px rgba(60, 64, 67, 0.3), 0px 1px 3px 1px rgba(60, 64, 67, 0.15);\n",
              "      fill: #174EA6;\n",
              "    }\n",
              "\n",
              "    [theme=dark] .colab-df-convert {\n",
              "      background-color: #3B4455;\n",
              "      fill: #D2E3FC;\n",
              "    }\n",
              "\n",
              "    [theme=dark] .colab-df-convert:hover {\n",
              "      background-color: #434B5C;\n",
              "      box-shadow: 0px 1px 3px 1px rgba(0, 0, 0, 0.15);\n",
              "      filter: drop-shadow(0px 1px 2px rgba(0, 0, 0, 0.3));\n",
              "      fill: #FFFFFF;\n",
              "    }\n",
              "  </style>\n",
              "\n",
              "      <script>\n",
              "        const buttonEl =\n",
              "          document.querySelector('#df-3ef007c6-05ca-4c7b-b3f2-c26d04b3d3ce button.colab-df-convert');\n",
              "        buttonEl.style.display =\n",
              "          google.colab.kernel.accessAllowed ? 'block' : 'none';\n",
              "\n",
              "        async function convertToInteractive(key) {\n",
              "          const element = document.querySelector('#df-3ef007c6-05ca-4c7b-b3f2-c26d04b3d3ce');\n",
              "          const dataTable =\n",
              "            await google.colab.kernel.invokeFunction('convertToInteractive',\n",
              "                                                     [key], {});\n",
              "          if (!dataTable) return;\n",
              "\n",
              "          const docLinkHtml = 'Like what you see? Visit the ' +\n",
              "            '<a target=\"_blank\" href=https://colab.research.google.com/notebooks/data_table.ipynb>data table notebook</a>'\n",
              "            + ' to learn more about interactive tables.';\n",
              "          element.innerHTML = '';\n",
              "          dataTable['output_type'] = 'display_data';\n",
              "          await google.colab.output.renderOutput(dataTable, element);\n",
              "          const docLink = document.createElement('div');\n",
              "          docLink.innerHTML = docLinkHtml;\n",
              "          element.appendChild(docLink);\n",
              "        }\n",
              "      </script>\n",
              "    </div>\n",
              "  </div>\n",
              "  "
            ]
          },
          "metadata": {},
          "execution_count": 151
        }
      ],
      "source": [
        "target_counts = data['level5/diagnosis'].value_counts().reset_index()\n",
        "target_counts.columns = ['Disease', 'counts']\n",
        "target_counts = target_counts[target_counts['counts'] >= 5]\n",
        "target_counts"
      ]
    },
    {
      "cell_type": "code",
      "execution_count": null,
      "metadata": {
        "id": "tiRR5YfN4tqk"
      },
      "outputs": [],
      "source": [
        "data = data[data['level5/diagnosis'].isin(target_counts['Disease'])]\n",
        "data.reset_index(drop=True, inplace=True)"
      ]
    },
    {
      "cell_type": "code",
      "execution_count": null,
      "metadata": {
        "colab": {
          "base_uri": "https://localhost:8080/"
        },
        "id": "6wLkElY24PwD",
        "outputId": "026670c5-8ddf-4596-a1f7-e81497e63fff"
      },
      "outputs": [
        {
          "output_type": "stream",
          "name": "stdout",
          "text": [
            "(2215, 22)\n",
            "식도 정맥류 파열    100\n",
            "소화성 궤양        95\n",
            "역류성 식도염       64\n",
            "식도암           50\n",
            "만성 췌장염        50\n",
            "            ... \n",
            "저혈량증           5\n",
            "악성 고혈암         5\n",
            "이식거부증          5\n",
            "방광경부폐색         5\n",
            "일시적 요실금        5\n",
            "Name: level5/diagnosis, Length: 225, dtype: int64\n"
          ]
        }
      ],
      "source": [
        "print(data.shape)\n",
        "print(data['level5/diagnosis'].value_counts())"
      ]
    },
    {
      "cell_type": "markdown",
      "metadata": {
        "id": "_1-vtamTGRY0"
      },
      "source": [
        "## 4) Calculate BMI and define Obesity with Weight and Height\n",
        "- https://www.tongyeong.go.kr/health/01635/01898/01902.web"
      ]
    },
    {
      "cell_type": "code",
      "execution_count": null,
      "metadata": {
        "id": "gqdxZjPf4eEq"
      },
      "outputs": [],
      "source": [
        "# Correct Height error\n",
        "idx = data[data['Height'] == '58세 여성이 소변을 자주 보고 소변을 참기 어려우며 소변 누러 화장실을 가면 미처 속옷을 내리기도 전에 소변이 흘러나오는 증상이 4년 이상 지속되어 내원하였다. 기침을 하면 소변이 약간 새며,밤에 자다가도 소변이 마려워 3번 정도 깬다고 한다. 소변이 속옷에 묻어 냄새 및 회음부 주위 피부염이 발생하며 상기 증상으로 사회생활도 힘들다고 한다. 특이 과거력은 없다.'].index\n",
        "data.loc[idx, 'Height'] = ''\n",
        "#print(data['Height'].iloc[850])\n",
        "#data['Height'].iloc[850]=''\n",
        "#print(data['Height'].iloc[850])"
      ]
    },
    {
      "cell_type": "code",
      "execution_count": null,
      "metadata": {
        "id": "FIF1aqZa202m"
      },
      "outputs": [],
      "source": [
        "data['Height'] = data['Height'].replace('', '0')\n",
        "data['Weight'] = data['Weight'].replace('', '0')\n",
        "\n",
        "data['Height'] = data['Height'].astype('int')\n",
        "data['Weight'] = data['Weight'].astype('int')"
      ]
    },
    {
      "cell_type": "code",
      "execution_count": null,
      "metadata": {
        "id": "1euw05cSHBbT"
      },
      "outputs": [],
      "source": [
        "data['BMI'] = data['Weight'] / (data['Height']/100)**2\n",
        "data['BMI'].fillna(-1, inplace=True)"
      ]
    },
    {
      "cell_type": "code",
      "execution_count": null,
      "metadata": {
        "id": "dL1pgmlhGtYg"
      },
      "outputs": [],
      "source": [
        "def define_obesity(x):\n",
        "  if x < 0:\n",
        "    return '알 수 없음'\n",
        "  elif x < 20.0:\n",
        "    return '저체중'\n",
        "  elif x <= 24.0:\n",
        "    return '정상'\n",
        "  elif x <= 29.0:\n",
        "    return '과체중'\n",
        "  else:\n",
        "    return '비만'\n",
        "\n",
        "data['Obesity'] = data.apply(lambda x : define_obesity(x['BMI']), axis=1)"
      ]
    },
    {
      "cell_type": "markdown",
      "metadata": {
        "id": "ucG31DqiRw7e"
      },
      "source": [
        "## 5) Change Age to Groups of Age"
      ]
    },
    {
      "cell_type": "code",
      "execution_count": null,
      "metadata": {
        "id": "s5nd4pXhktrG"
      },
      "outputs": [],
      "source": [
        "data['Age'] = data['Age'].astype(str)"
      ]
    },
    {
      "cell_type": "code",
      "execution_count": null,
      "metadata": {
        "id": "QEVOOgGwBQ7q"
      },
      "outputs": [],
      "source": [
        "import re\n",
        "# Infant/Child's Grouping Reference: https://www.doctorsnews.co.kr/news/articleView.html?idxno=20917&replyAll=&reply_sc_order_by=I\n",
        "\n",
        "def replace_age(x):\n",
        "\n",
        "  if ('개월' in x) or ('달' in x) or ('개월' in x):\n",
        "    #print(x)\n",
        "    month_age = int(re.findall(\"\\d+\", x)[0])*4\n",
        "    x = '생후 ' + str(month_age) + '주'\n",
        "  \n",
        "  if ('주' in x):\n",
        "     week_age = int(re.findall(\"\\d+\", x)[0])\n",
        "     if week_age <= 4:\n",
        "       x = '신생아' # 태어나서 1개월까지(newborn)\n",
        "     elif week_age <= 4*12:\n",
        "       x = '영아' # 태어나서 1년까지(infant)\n",
        "     else:\n",
        "       x = '유아' # 만 1세부터 6세까지(child)\n",
        "  else:\n",
        "     x = x.replace('세', '')\n",
        "     x = x[:2]\n",
        "     x = int(x)#.astype(int)\n",
        "     x = str(x//10*10)+'대'\n",
        "\n",
        "  return x\n",
        "\n",
        "data['Age'] = data.apply(lambda x : replace_age(x['Age']), axis=1)"
      ]
    },
    {
      "cell_type": "code",
      "execution_count": null,
      "metadata": {
        "colab": {
          "base_uri": "https://localhost:8080/"
        },
        "id": "F_tVm5zc-LtC",
        "outputId": "2fd14b90-7ec2-4444-9381-15175d909fda"
      },
      "outputs": [
        {
          "output_type": "execute_result",
          "data": {
            "text/plain": [
              "0       50대\n",
              "1       30대\n",
              "2       70대\n",
              "3       10대\n",
              "4       60대\n",
              "       ... \n",
              "2210    50대\n",
              "2211    30대\n",
              "2212    60대\n",
              "2213    60대\n",
              "2214    10대\n",
              "Name: Age, Length: 2215, dtype: object"
            ]
          },
          "metadata": {},
          "execution_count": 160
        }
      ],
      "source": [
        "data['Age']"
      ]
    },
    {
      "cell_type": "markdown",
      "metadata": {
        "id": "GZBPjslh_yH4"
      },
      "source": [
        "## 6) Arrange Sex"
      ]
    },
    {
      "cell_type": "code",
      "execution_count": null,
      "metadata": {
        "colab": {
          "base_uri": "https://localhost:8080/"
        },
        "id": "eevlBAV6_6MU",
        "outputId": "7ae58eac-16ff-4f6a-eb77-18fce5bf7f0d"
      },
      "outputs": [
        {
          "output_type": "execute_result",
          "data": {
            "text/plain": [
              "남자      829\n",
              "여자      691\n",
              "남성      139\n",
              "여성      130\n",
              "F       129\n",
              "M        92\n",
              "남자       79\n",
              "여자       63\n",
              "남성       45\n",
              "여자       15\n",
              "          3\n",
              "Name: Sex, dtype: int64"
            ]
          },
          "metadata": {},
          "execution_count": 161
        }
      ],
      "source": [
        "data['Sex'].value_counts()"
      ]
    },
    {
      "cell_type": "code",
      "execution_count": null,
      "metadata": {
        "id": "7y9lvNQdADvJ"
      },
      "outputs": [],
      "source": [
        "def organize_sex(x):\n",
        "  x = x.replace('F', '여자')\n",
        "  x = x.replace('M', '남자')\n",
        "  x = x.replace('여성', '여자')\n",
        "  x = x.replace('남성', '남자')\n",
        "  #x = x.lstrip()\n",
        "  x = x.replace('여자 ', '여자')\n",
        "  x = x.replace('여자  ', '여자')\n",
        "  x = x.replace('남자 ', '남자')\n",
        "  x = x.replace('남성 ', '남자')\n",
        "\n",
        "  return x\n",
        "\n",
        "data['Sex'] = organize_sex(data['Sex'])"
      ]
    },
    {
      "cell_type": "code",
      "execution_count": null,
      "metadata": {
        "colab": {
          "base_uri": "https://localhost:8080/"
        },
        "id": "6lvfgVj8AnX3",
        "outputId": "36f45734-d1aa-4404-e686-b0b89c56b790"
      },
      "outputs": [
        {
          "output_type": "execute_result",
          "data": {
            "text/plain": [
              "남자    1184\n",
              "여자    1028\n",
              "         3\n",
              "Name: Sex, dtype: int64"
            ]
          },
          "metadata": {},
          "execution_count": 163
        }
      ],
      "source": [
        "data['Sex'].value_counts()"
      ]
    },
    {
      "cell_type": "markdown",
      "metadata": {
        "id": "jxb7NNY9S_XR"
      },
      "source": [
        "## 7) Remove Negative values(-)"
      ]
    },
    {
      "cell_type": "code",
      "execution_count": null,
      "metadata": {
        "colab": {
          "base_uri": "https://localhost:8080/"
        },
        "id": "WpN5QW9BiqJ_",
        "outputId": "46151c8b-0e6e-4ef4-b18e-0292f6428a21"
      },
      "outputs": [
        {
          "output_type": "execute_result",
          "data": {
            "text/plain": [
              "Index(['Experience', 'Character', 'Associated Sx.', 'Factor', 'Event',\n",
              "       '약물 투약력', '사회력', '가족력', '외상력', '과거력', '여성력'],\n",
              "      dtype='object')"
            ]
          },
          "metadata": {},
          "execution_count": 164
        }
      ],
      "source": [
        "data.columns[10:21]"
      ]
    },
    {
      "cell_type": "code",
      "execution_count": null,
      "metadata": {
        "id": "CWmPwmnVpv36"
      },
      "outputs": [],
      "source": [
        "#k = data.copy()"
      ]
    },
    {
      "cell_type": "code",
      "execution_count": null,
      "metadata": {
        "id": "U8QBmvRSpUya"
      },
      "outputs": [],
      "source": [
        "# since regex doesn't support '+', change '+' to '#'\n",
        "def to_new_positive_value(x):\n",
        "  if('+' in x):\n",
        "    x = x.replace('+', '#')#np.nan\n",
        "    \n",
        "  return x\n",
        "\n",
        "for m in data.columns[10:21]: #'Experience', 'Character', 'Associated Sx.', 'Factor', 'Event', '약물 투약력', '사회력', '가족력', '외상력', '과거력', '여성력']\n",
        "  data[m] = data.apply(lambda x : to_new_positive_value(x[m]) , axis = 1 )"
      ]
    },
    {
      "cell_type": "code",
      "execution_count": null,
      "metadata": {
        "id": "DRUc2iGTDKGN"
      },
      "outputs": [],
      "source": [
        "idx = data[data['Associated Sx.'] == '발열(#, 4주 전) 가래(#), 기침(#), 체중변화 (#, -4kg/2개월)'].index\n",
        "data.loc[idx, 'Associated Sx.'] = '발열(#, 4주 전), 가래(#), 기침(#), 체중변화 (#, -4kg/2개월)'\n",
        "\n",
        "idx = data[data['사회력'] == '술(#주) 흡연(#), 과식(#), 지방식(#)'].index\n",
        "data.loc[idx, '사회력'] = '술(#주), 흡연(#), 과식(#), 지방식(#)'"
      ]
    },
    {
      "cell_type": "code",
      "execution_count": null,
      "metadata": {
        "colab": {
          "base_uri": "https://localhost:8080/",
          "height": 36
        },
        "id": "scPvjjjQ2m_I",
        "outputId": "62b7a987-8c8d-41f7-a821-f7261131eca0"
      },
      "outputs": [
        {
          "output_type": "execute_result",
          "data": {
            "text/plain": [
              "'[전신] 발열 / 식은땀 / 체중 감소 / 오한/ 피로감(-/-/-/-/-), [소화기] 구역 / 구토 / 식욕 부진 / 변비 / 설사(-/#, 2회 흰 물만 나옴 /-/-/-), 속쓰림, 혈변(-), [응급] 어지러움 / 갈증 / 소변량 감소 / 호흡곤란(#/#/#/-)'"
            ],
            "application/vnd.google.colaboratory.intrinsic+json": {
              "type": "string"
            }
          },
          "metadata": {},
          "execution_count": 168
        }
      ],
      "source": [
        "data['Associated Sx.'][0]"
      ]
    },
    {
      "cell_type": "code",
      "execution_count": null,
      "metadata": {
        "id": "xduze-Iy-4sD"
      },
      "outputs": [],
      "source": [
        "def remove_negative_values(x):\n",
        "  \n",
        "  #print('x',x,'1')\n",
        "  # 1. To extract texts from brackets: (-/#, 2회 흰 물만 나옴 /-/-/-).\n",
        "  brackets = re.findall('\\((.*?)\\)', x) # ['-/-/-/-/-', '-/#, 2회 흰 물만 나옴 /-/-/-', '-', '#/#/#/-']\n",
        "  for i in range(len(brackets)):\n",
        "    n = brackets[i].split('/') # ['-', '#, 2회 흰 물만 나옴 ', '-', '-', '-']\n",
        "\n",
        "    for j in range(len(n)):\n",
        "      if len(n[j])>1:\n",
        "        tmp_str = n[j][2:] #  Behind '#, ' --> ' 2회 흰 물만 나옴 '\n",
        "        if len(re.findall('\\#', n[j]))==0: # '(#) (지금 복용 중)'\n",
        "          n[j]=''\n",
        "        else:\n",
        "          n[j] = '#'   \n",
        "        x = x.replace(brackets[i],'/'.join(n)) # Drawback: doesn't contain texts which was in brackets\n",
        "\n",
        "  #if len(re.findall(r\"(\\d+)-?(\\d+)\", x)) > 0: # 하루 4-5회\n",
        "  #  x = x.replace('-', '~')\n",
        "\n",
        "  # 2. To remove negative values\n",
        "  splited_x = x.split(',')\n",
        "  for i in range(len(splited_x)):\n",
        "    if ('및' in splited_x[i]):\n",
        "      splited_x = x.split(',') and x.split('및')\n",
        "      break\n",
        "\n",
        "  #print(splited_x)\n",
        "  for i in range(len(splited_x)):\n",
        "    ne_or_po = re.findall('-|#',splited_x[i]) #.index('') ['#', '#', '#', '-']\n",
        "    sym = splited_x[i].split('/') # [' [응급] 어지러움 ', ' 갈증 ', ' 소변량 감소 ', ' 호흡곤란(#', '#', '#', '-)']\n",
        "\n",
        "    only_positive = \"\"\n",
        "    #print(ne_or_po)\n",
        "    for j in range(len(ne_or_po)):\n",
        "      if ne_or_po[j] != '-':\n",
        "        only_positive += sym[j]\n",
        "\n",
        "      splited_x[i] = only_positive\n",
        "        #print('@fin_splited_x', splited_x[i])\n",
        "  x = (',').join(splited_x)\n",
        "  #print('@@fin_x', x)\n",
        "\n",
        "  return x\n",
        "\n",
        "#def remove_negative_values(x):\n",
        "#  tmp = x.split(',')\n",
        "#  for i in range(len(tmp)):\n",
        "#    if ('-' in tmp[i]):\n",
        "#      tmp[i] = ''\n",
        "#  x = ''.join(tmp)\n",
        "#  return x\n",
        "#for i in range(len(data.columns)):\n",
        "#    data[data.columns[i]] = data.apply(lambda x : remove_negative_values(x[data.columns[i]]) , axis = 1 )"
      ]
    },
    {
      "cell_type": "code",
      "execution_count": null,
      "metadata": {
        "id": "KF1tB3V-jHiJ"
      },
      "outputs": [],
      "source": [
        "for m in data.columns[10:21]: #'Experience', 'Character', 'Associated Sx.', 'Factor', 'Event', '약물 투약력', '사회력', '가족력', '외상력', '과거력', '여성력']\n",
        "  data[m] = data.apply(lambda x : remove_negative_values(x[m]) , axis = 1 )"
      ]
    },
    {
      "cell_type": "code",
      "execution_count": null,
      "metadata": {
        "colab": {
          "base_uri": "https://localhost:8080/",
          "height": 36
        },
        "id": "ZKqJN73iMcEz",
        "outputId": "f45e6424-c416-4213-aa35-4e672a5d838a"
      },
      "outputs": [
        {
          "output_type": "execute_result",
          "data": {
            "text/plain": [
              "', 구토 , 속쓰림,, [응급] 어지러움  갈증  소변량 감소 '"
            ],
            "application/vnd.google.colaboratory.intrinsic+json": {
              "type": "string"
            }
          },
          "metadata": {},
          "execution_count": 171
        }
      ],
      "source": [
        "data['Associated Sx.'][0]"
      ]
    },
    {
      "cell_type": "code",
      "execution_count": null,
      "metadata": {
        "id": "af_TL8BUkYBh"
      },
      "outputs": [],
      "source": [
        "def to_ori_new_positive_value(x):\n",
        "  if('#' in x):\n",
        "    x = x.replace('#', '+')#np.nan\n",
        "    \n",
        "  return x\n",
        "\n",
        "for m in data.columns[10:21]: #'Experience', 'Character', 'Associated Sx.', 'Factor', 'Event', '약물 투약력', '사회력', '가족력', '외상력', '과거력', '여성력']\n",
        "  data[m] = data.apply(lambda x : to_ori_new_positive_value(x[m]) , axis = 1 )"
      ]
    },
    {
      "cell_type": "markdown",
      "metadata": {
        "id": "o9bs7Z0vAMfg"
      },
      "source": [
        "## 8) NRS scores to text"
      ]
    },
    {
      "cell_type": "code",
      "execution_count": null,
      "metadata": {
        "id": "GaYD2D8JAL6U"
      },
      "outputs": [],
      "source": [
        "#NRS 5점\n",
        "#NRS: 5\n",
        "#NRS 4~6 / NRS : 4~6"
      ]
    },
    {
      "cell_type": "code",
      "execution_count": null,
      "metadata": {
        "id": "0MBZMNg-BxVP"
      },
      "outputs": [],
      "source": [
        "def NRS_to_text(text):\n",
        "\n",
        "  a = re.findall('NRS.*?점', text) #NRS 5점\n",
        "  if len(a) == 0:\n",
        "    a = re.findall('NRS.*?\\d~\\d', text) #NRS 4~6 / NRS : 4~6\n",
        "  if len(a) == 0:\n",
        "    a = re.findall('NRS.*?\\d', text) #NRS: 5\n",
        "  \n",
        "  try:\n",
        "    t = re.findall('[0-9]+', a[0])\n",
        "\n",
        "    if (len(t) == 2):\n",
        "      score = (int(t[0])+int(t[1]))/ 2\n",
        "    else:\n",
        "      score = int(t[0])\n",
        "\n",
        "    if score >= 7:\n",
        "      to_text = '심함'\n",
        "    elif score >= 4:\n",
        "      to_text = '중간'\n",
        "    else:\n",
        "      to_text = '약함'\n",
        "\n",
        "    text = text.replace(a[0], to_text)\n",
        "  \n",
        "  except:\n",
        "    pass\n",
        "\n",
        "  return text"
      ]
    },
    {
      "cell_type": "code",
      "execution_count": null,
      "metadata": {
        "colab": {
          "base_uri": "https://localhost:8080/",
          "height": 36
        },
        "id": "CP0incS_Jb4J",
        "outputId": "8ecdf4bd-c7e0-4134-efde-5c9b7f8611ea"
      },
      "outputs": [
        {
          "output_type": "execute_result",
          "data": {
            "text/plain": [
              "'뻐근한 통증dd, 약함, 등이랑 목으로 뻗침'"
            ],
            "application/vnd.google.colaboratory.intrinsic+json": {
              "type": "string"
            }
          },
          "metadata": {},
          "execution_count": 175
        }
      ],
      "source": [
        "#text = '뻐근한 통증, NRS : 1~6, 등이랑 목으로 뻗침'\n",
        "text = '뻐근한 통증dd, NRS : 1~6, 등이랑 목으로 뻗침'\n",
        "\n",
        "NRS_to_text(text)"
      ]
    },
    {
      "cell_type": "code",
      "execution_count": null,
      "metadata": {
        "id": "tiniSaf8MttI"
      },
      "outputs": [],
      "source": [
        "#data[data['Character'] == '쥐어짜는 느낌의 통증, NRS 7점, 턱과 목쪽으로 방사되는 통증, 왼팔로도 통증이 뻗치는 듯한 느낌 있음']\n",
        "#data.iloc[872]['Character']"
      ]
    },
    {
      "cell_type": "code",
      "execution_count": null,
      "metadata": {
        "id": "JqFkhihRGWqo"
      },
      "outputs": [],
      "source": [
        "for m in data.columns[10:21]: #'Experience', 'Character', 'Associated Sx.', 'Factor', 'Event', '약물 투약력', '사회력', '가족력', '외상력', '과거력', '여성력']\n",
        "  data[m] = data.apply(lambda x : NRS_to_text(x[m]) , axis = 1 )"
      ]
    },
    {
      "cell_type": "code",
      "execution_count": null,
      "metadata": {
        "id": "IL6_1GIiKx0R"
      },
      "outputs": [],
      "source": [
        "#data.iloc[872]['Character']"
      ]
    },
    {
      "cell_type": "markdown",
      "metadata": {
        "id": "FSGj6oU4P7-C"
      },
      "source": [
        "## 9-1) Make a sentence"
      ]
    },
    {
      "cell_type": "code",
      "execution_count": null,
      "metadata": {
        "id": "9B4q5VibQujl"
      },
      "outputs": [],
      "source": [
        "data['All'] = (data['Chief complaint'].map(str) +'. '+ data['Age'].map(str) + '. '+\n",
        "                data['Sex'].map(str) + '. '+\n",
        "                data['Onset'].map(str) + '. '+ data['Location'].map(str) + '. ' +\n",
        "                data['Duration'].map(str) + '. ' + data['Course'].map(str) + '. ' +\n",
        "                data['Experience'].map(str) + '. ' + data['Character'].map(str) + '. ' +\n",
        "                data['Associated Sx.'].map(str)+'. '+ data['Factor'].map(str) + '. ' +\n",
        "                data['Event'].map(str) + '. ' + data['약물 투약력'].map(str) + '. ' +\n",
        "                data['사회력'].map(str) + '. ' + data['가족력'].map(str) + '. ' +\n",
        "                data['외상력'].map(str) + '. ' + data['과거력'].map(str) + '. ' +\n",
        "                data['여성력'].map(str) + '. ' + data['Obesity']).apply(lambda row: row.strip())"
      ]
    },
    {
      "cell_type": "code",
      "execution_count": null,
      "metadata": {
        "colab": {
          "base_uri": "https://localhost:8080/"
        },
        "id": "fDU-IdlEQ2cO",
        "outputId": "ca0d5100-f1c2-4731-df4f-38c045437990"
      },
      "outputs": [
        {
          "output_type": "execute_result",
          "data": {
            "text/plain": [
              "0       배가 아파요. 50대. 남자. 1일전. 명치 부위. 지속. 심해짐. 이전에도 3차례...\n",
              "1       갑자기 배가 너무 아파요. 30대. 남자. 오늘 새벽. 명치에서 시작해 현재 복부 ...\n",
              "2       속이 쓰려요. 70대. 여자. 1달전. 명치 부위. 지속. 심해짐. . 속이 쓰림,...\n",
              "3       속이 쓰려요. 10대. 남자. 2달전. 명치부위 . 지속. 심해짐. . 명치부위 압...\n",
              "4       배가 아파요. 60대. 남자. 1시간전. 명치부위. 지속. 심해짐. . 명치 부위가...\n",
              "                              ...                        \n",
              "2210    콜레스테롤이 높대요. 50대. 남자. 1개월 전. . . . 처음. . 피곤, 식욕...\n",
              "2211    콜레스테롤이 높대요. 30대. 여자. 1주 전. . . . 처음. . 체중변화(/1...\n",
              "2212    콜레스테롤이 높대요. 60대. 여자. 1개월 전. . . . 처음. . . . . ...\n",
              "2213    콜레스테롤이 높대요. 60대. 여자. 3개월 전. . . . 처음. . . . . ...\n",
              "2214    생리를 안해요. 10대. 여자. 처음부터. . . . 처음. 초경 안옴. 턱이 짧음...\n",
              "Name: All, Length: 2215, dtype: object"
            ]
          },
          "metadata": {},
          "execution_count": 180
        }
      ],
      "source": [
        "data['All']"
      ]
    },
    {
      "cell_type": "code",
      "source": [
        "data"
      ],
      "metadata": {
        "colab": {
          "base_uri": "https://localhost:8080/",
          "height": 195
        },
        "id": "qPLWAkR-Tr2y",
        "outputId": "f27da381-2101-40d0-a13c-4b1c54335805"
      },
      "execution_count": null,
      "outputs": [
        {
          "output_type": "execute_result",
          "data": {
            "text/plain": [
              "   Height  Weight  Age Chief complaint Sex Onset Location Duration Course  \\\n",
              "0     180      75  30대          배가 아파요  남자  1일 전    명치 부위       지속    심해짐   \n",
              "\n",
              "               Experience                          Character  \\\n",
              "0  이전에도 3차례, 통증은 이번보다 약했음  칼로 찢기는 듯한 통증, NRS 8점, 방사통: 등으로 퍼짐   \n",
              "\n",
              "              Associated Sx.           Factor Event 약물 투약력  \\\n",
              "0  구토, 속쓰림, 어지러움, 갈증, 소변량 감소  오른쪽으로 돌아 누우면 완화                \n",
              "\n",
              "                       사회력 가족력 외상력 과거력 여성력        BMI Obesity  \\\n",
              "0  술: 1주일 6~7번, 식사는 매우 불규칙                  23.148148      정상   \n",
              "\n",
              "                                                 All  \n",
              "0  배 아프다 30 대다 1일 명치 부위 남자 심해지다 이전 에도 3 차례 통증 보다 ...  "
            ],
            "text/html": [
              "\n",
              "  <div id=\"df-5e57b82b-2adc-44b1-90d0-d195c0c61e2b\">\n",
              "    <div class=\"colab-df-container\">\n",
              "      <div>\n",
              "<style scoped>\n",
              "    .dataframe tbody tr th:only-of-type {\n",
              "        vertical-align: middle;\n",
              "    }\n",
              "\n",
              "    .dataframe tbody tr th {\n",
              "        vertical-align: top;\n",
              "    }\n",
              "\n",
              "    .dataframe thead th {\n",
              "        text-align: right;\n",
              "    }\n",
              "</style>\n",
              "<table border=\"1\" class=\"dataframe\">\n",
              "  <thead>\n",
              "    <tr style=\"text-align: right;\">\n",
              "      <th></th>\n",
              "      <th>Height</th>\n",
              "      <th>Weight</th>\n",
              "      <th>Age</th>\n",
              "      <th>Chief complaint</th>\n",
              "      <th>Sex</th>\n",
              "      <th>Onset</th>\n",
              "      <th>Location</th>\n",
              "      <th>Duration</th>\n",
              "      <th>Course</th>\n",
              "      <th>Experience</th>\n",
              "      <th>Character</th>\n",
              "      <th>Associated Sx.</th>\n",
              "      <th>Factor</th>\n",
              "      <th>Event</th>\n",
              "      <th>약물 투약력</th>\n",
              "      <th>사회력</th>\n",
              "      <th>가족력</th>\n",
              "      <th>외상력</th>\n",
              "      <th>과거력</th>\n",
              "      <th>여성력</th>\n",
              "      <th>BMI</th>\n",
              "      <th>Obesity</th>\n",
              "      <th>All</th>\n",
              "    </tr>\n",
              "  </thead>\n",
              "  <tbody>\n",
              "    <tr>\n",
              "      <th>0</th>\n",
              "      <td>180</td>\n",
              "      <td>75</td>\n",
              "      <td>30대</td>\n",
              "      <td>배가 아파요</td>\n",
              "      <td>남자</td>\n",
              "      <td>1일 전</td>\n",
              "      <td>명치 부위</td>\n",
              "      <td>지속</td>\n",
              "      <td>심해짐</td>\n",
              "      <td>이전에도 3차례, 통증은 이번보다 약했음</td>\n",
              "      <td>칼로 찢기는 듯한 통증, NRS 8점, 방사통: 등으로 퍼짐</td>\n",
              "      <td>구토, 속쓰림, 어지러움, 갈증, 소변량 감소</td>\n",
              "      <td>오른쪽으로 돌아 누우면 완화</td>\n",
              "      <td></td>\n",
              "      <td></td>\n",
              "      <td>술: 1주일 6~7번, 식사는 매우 불규칙</td>\n",
              "      <td></td>\n",
              "      <td></td>\n",
              "      <td></td>\n",
              "      <td></td>\n",
              "      <td>23.148148</td>\n",
              "      <td>정상</td>\n",
              "      <td>배 아프다 30 대다 1일 명치 부위 남자 심해지다 이전 에도 3 차례 통증 보다 ...</td>\n",
              "    </tr>\n",
              "  </tbody>\n",
              "</table>\n",
              "</div>\n",
              "      <button class=\"colab-df-convert\" onclick=\"convertToInteractive('df-5e57b82b-2adc-44b1-90d0-d195c0c61e2b')\"\n",
              "              title=\"Convert this dataframe to an interactive table.\"\n",
              "              style=\"display:none;\">\n",
              "        \n",
              "  <svg xmlns=\"http://www.w3.org/2000/svg\" height=\"24px\"viewBox=\"0 0 24 24\"\n",
              "       width=\"24px\">\n",
              "    <path d=\"M0 0h24v24H0V0z\" fill=\"none\"/>\n",
              "    <path d=\"M18.56 5.44l.94 2.06.94-2.06 2.06-.94-2.06-.94-.94-2.06-.94 2.06-2.06.94zm-11 1L8.5 8.5l.94-2.06 2.06-.94-2.06-.94L8.5 2.5l-.94 2.06-2.06.94zm10 10l.94 2.06.94-2.06 2.06-.94-2.06-.94-.94-2.06-.94 2.06-2.06.94z\"/><path d=\"M17.41 7.96l-1.37-1.37c-.4-.4-.92-.59-1.43-.59-.52 0-1.04.2-1.43.59L10.3 9.45l-7.72 7.72c-.78.78-.78 2.05 0 2.83L4 21.41c.39.39.9.59 1.41.59.51 0 1.02-.2 1.41-.59l7.78-7.78 2.81-2.81c.8-.78.8-2.07 0-2.86zM5.41 20L4 18.59l7.72-7.72 1.47 1.35L5.41 20z\"/>\n",
              "  </svg>\n",
              "      </button>\n",
              "      \n",
              "  <style>\n",
              "    .colab-df-container {\n",
              "      display:flex;\n",
              "      flex-wrap:wrap;\n",
              "      gap: 12px;\n",
              "    }\n",
              "\n",
              "    .colab-df-convert {\n",
              "      background-color: #E8F0FE;\n",
              "      border: none;\n",
              "      border-radius: 50%;\n",
              "      cursor: pointer;\n",
              "      display: none;\n",
              "      fill: #1967D2;\n",
              "      height: 32px;\n",
              "      padding: 0 0 0 0;\n",
              "      width: 32px;\n",
              "    }\n",
              "\n",
              "    .colab-df-convert:hover {\n",
              "      background-color: #E2EBFA;\n",
              "      box-shadow: 0px 1px 2px rgba(60, 64, 67, 0.3), 0px 1px 3px 1px rgba(60, 64, 67, 0.15);\n",
              "      fill: #174EA6;\n",
              "    }\n",
              "\n",
              "    [theme=dark] .colab-df-convert {\n",
              "      background-color: #3B4455;\n",
              "      fill: #D2E3FC;\n",
              "    }\n",
              "\n",
              "    [theme=dark] .colab-df-convert:hover {\n",
              "      background-color: #434B5C;\n",
              "      box-shadow: 0px 1px 3px 1px rgba(0, 0, 0, 0.15);\n",
              "      filter: drop-shadow(0px 1px 2px rgba(0, 0, 0, 0.3));\n",
              "      fill: #FFFFFF;\n",
              "    }\n",
              "  </style>\n",
              "\n",
              "      <script>\n",
              "        const buttonEl =\n",
              "          document.querySelector('#df-5e57b82b-2adc-44b1-90d0-d195c0c61e2b button.colab-df-convert');\n",
              "        buttonEl.style.display =\n",
              "          google.colab.kernel.accessAllowed ? 'block' : 'none';\n",
              "\n",
              "        async function convertToInteractive(key) {\n",
              "          const element = document.querySelector('#df-5e57b82b-2adc-44b1-90d0-d195c0c61e2b');\n",
              "          const dataTable =\n",
              "            await google.colab.kernel.invokeFunction('convertToInteractive',\n",
              "                                                     [key], {});\n",
              "          if (!dataTable) return;\n",
              "\n",
              "          const docLinkHtml = 'Like what you see? Visit the ' +\n",
              "            '<a target=\"_blank\" href=https://colab.research.google.com/notebooks/data_table.ipynb>data table notebook</a>'\n",
              "            + ' to learn more about interactive tables.';\n",
              "          element.innerHTML = '';\n",
              "          dataTable['output_type'] = 'display_data';\n",
              "          await google.colab.output.renderOutput(dataTable, element);\n",
              "          const docLink = document.createElement('div');\n",
              "          docLink.innerHTML = docLinkHtml;\n",
              "          element.appendChild(docLink);\n",
              "        }\n",
              "      </script>\n",
              "    </div>\n",
              "  </div>\n",
              "  "
            ]
          },
          "metadata": {},
          "execution_count": 428
        }
      ]
    },
    {
      "cell_type": "markdown",
      "metadata": {
        "id": "nzv64Hxg-fiL"
      },
      "source": [
        "## 9) Check spelling"
      ]
    },
    {
      "cell_type": "code",
      "execution_count": null,
      "metadata": {
        "id": "rqlUDisI-lzT"
      },
      "outputs": [],
      "source": [
        "def manual_spelling(x):\n",
        "  # Need to update more!!\n",
        "  x = x.replace('Live(', 'Liver(')\n",
        "  x = x.replace('혈번', '혈변')\n",
        "  x = x.replace('[회수] 회 / 일', '')\n",
        "  x = x.replace('ㅊ음', '처음')\n",
        "  x = x.replace('위엄', '위염')\n",
        "  x = x.replace('소회기', '소화기')\n",
        "  x = x.replace('소화쉐양', '소화궤양')\n",
        "  x = x.replace('무릅', '무릎')\n",
        "  x = x.replace('성광계', '성관계')\n",
        "  x = x.replace('게속', '계속')\n",
        "  x = x.replace('느김', '느낌')\n",
        "  x = x.replace('불규칙하', '불규칙한')\n",
        "  x = x.replace('뻗뻗', '뻣뻣')\n",
        "  x = x.replace('부움', '부음')\n",
        "  x = x.replace('피료', '피로')\n",
        "  x = x.replace('들이마쉴', '들이마실')\n",
        "  x = x.replace('(Olodaterol)', '')\n",
        "  x = x.replace('체충', '체중')\n",
        "  x = x.replace('속옥', '속옷')\n",
        "  x = x.replace('아이업음', '아이없음')\n",
        "  x = x.replace('재왕절개', '제왕절개')\n",
        "  x = x.replace('얄', '열')\n",
        "  x = x.replace('연 (', '열 (')\n",
        "  x = x.replace('가끔식', '가끔씩')\n",
        "  x = x.replace('붙성교', '성교')\n",
        "  x = x.replace('월경량와', '월경량과')\n",
        "  x = x.replace('호ㅡㅂ음', '호흡음')\n",
        "  x = x.replace('오료계', '요로계')\n",
        "  x = x.replace('분철성', '분출성')\n",
        "  return x"
      ]
    },
    {
      "cell_type": "code",
      "execution_count": null,
      "metadata": {
        "id": "Y0UB6aXf_JW1"
      },
      "outputs": [],
      "source": [
        "#for m in data.columns[6:21]: #'Experience', 'Character', 'Associated Sx.', 'Factor', 'Event', '약물 투약력', '사회력', '가족력', '외상력', '과거력', '여성력']\n",
        "#  data[m] = data.apply(lambda x : manual_spelling(x[m]) , axis = 1 )\n",
        "data['All'] = manual_spelling(data['All'])"
      ]
    },
    {
      "cell_type": "code",
      "execution_count": null,
      "metadata": {
        "colab": {
          "base_uri": "https://localhost:8080/"
        },
        "id": "CRjP3xSz_OnF",
        "outputId": "ecef9132-690d-4b6d-95ad-0085b9825b5f"
      },
      "outputs": [
        {
          "output_type": "stream",
          "name": "stdout",
          "text": [
            "Collecting git+https://github.com/ssut/py-hanspell.git\n",
            "  Cloning https://github.com/ssut/py-hanspell.git to /tmp/pip-req-build-52c42wft\n",
            "  Running command git clone -q https://github.com/ssut/py-hanspell.git /tmp/pip-req-build-52c42wft\n",
            "Requirement already satisfied: requests in /usr/local/lib/python3.7/dist-packages (from py-hanspell==1.1) (2.23.0)\n",
            "Requirement already satisfied: idna<3,>=2.5 in /usr/local/lib/python3.7/dist-packages (from requests->py-hanspell==1.1) (2.10)\n",
            "Requirement already satisfied: certifi>=2017.4.17 in /usr/local/lib/python3.7/dist-packages (from requests->py-hanspell==1.1) (2021.10.8)\n",
            "Requirement already satisfied: urllib3!=1.25.0,!=1.25.1,<1.26,>=1.21.1 in /usr/local/lib/python3.7/dist-packages (from requests->py-hanspell==1.1) (1.24.3)\n",
            "Requirement already satisfied: chardet<4,>=3.0.2 in /usr/local/lib/python3.7/dist-packages (from requests->py-hanspell==1.1) (3.0.4)\n"
          ]
        }
      ],
      "source": [
        "!pip install git+https://github.com/ssut/py-hanspell.git"
      ]
    },
    {
      "cell_type": "code",
      "execution_count": null,
      "metadata": {
        "colab": {
          "base_uri": "https://localhost:8080/"
        },
        "id": "kKp-SkQaRMcl",
        "outputId": "e3448b3b-8a6a-4798-ce19-db9f564cf14b"
      },
      "outputs": [
        {
          "output_type": "execute_result",
          "data": {
            "text/plain": [
              "0       배가 아파요. 50대. 남자. 1일전. 명치 부위. 지속. 심해짐. 이전에도 3차례...\n",
              "1       갑자기 배가 너무 아파요. 30대. 남자. 오늘 새벽. 명치에서 시작해 현재 복부 ...\n",
              "2       속이 쓰려요. 70대. 여자. 1달전. 명치 부위. 지속. 심해짐. . 속이 쓰림,...\n",
              "3       속이 쓰려요. 10대. 남자. 2달전. 명치부위 . 지속. 심해짐. . 명치부위 압...\n",
              "4       배가 아파요. 60대. 남자. 1시간전. 명치부위. 지속. 심해짐. . 명치 부위가...\n",
              "                              ...                        \n",
              "2210    콜레스테롤이 높대요. 50대. 남자. 1개월 전. . . . 처음. . 피곤, 식욕...\n",
              "2211    콜레스테롤이 높대요. 30대. 여자. 1주 전. . . . 처음. . 체중변화(/1...\n",
              "2212    콜레스테롤이 높대요. 60대. 여자. 1개월 전. . . . 처음. . . . . ...\n",
              "2213    콜레스테롤이 높대요. 60대. 여자. 3개월 전. . . . 처음. . . . . ...\n",
              "2214    생리를 안해요. 10대. 여자. 처음부터. . . . 처음. 초경 안옴. 턱이 짧음...\n",
              "Name: All, Length: 2215, dtype: object"
            ]
          },
          "metadata": {},
          "execution_count": 184
        }
      ],
      "source": [
        "data['All']"
      ]
    },
    {
      "cell_type": "code",
      "execution_count": null,
      "metadata": {
        "id": "gHeQH8Iz_ODt"
      },
      "outputs": [],
      "source": [
        "from tqdm.notebook import tqdm\n",
        "from hanspell import spell_checker\n",
        "\n",
        "def spelling_check(text):\n",
        "  #print(text)\n",
        "  result = spell_checker.check(text) \n",
        "  \n",
        "  return result.as_dict()['checked'] "
      ]
    },
    {
      "cell_type": "code",
      "execution_count": null,
      "metadata": {
        "colab": {
          "base_uri": "https://localhost:8080/",
          "height": 142,
          "referenced_widgets": [
            "5b10b45aefcf46648c2cd617309309df",
            "27af9825e09a4df6a3458a8be8909a50",
            "75684ec66f0842e280730cba9cda200d",
            "9eb22ceceab1430498493ce535a2fdac",
            "2b22b776c69049dfa23b972b72c5ffe7",
            "d6998c8ebc2c4370bec60076eb99d551",
            "a415c129ea0345b2aa43e33346272f2f",
            "c32c7cf7693842e4bee6c82d287525a9",
            "aa7fccad146f489b99f8c24261a63f10",
            "e7afff20760a406bb6950a5305c9e344",
            "11e4894bbd874322ad08c7148007ac21"
          ]
        },
        "id": "HDQb4E59_JPh",
        "outputId": "fb780857-3b3f-4963-f817-46880935ca68"
      },
      "outputs": [
        {
          "output_type": "display_data",
          "data": {
            "text/plain": [
              "  0%|          | 0/2215 [00:00<?, ?it/s]"
            ],
            "application/vnd.jupyter.widget-view+json": {
              "version_major": 2,
              "version_minor": 0,
              "model_id": "5b10b45aefcf46648c2cd617309309df"
            }
          },
          "metadata": {}
        },
        {
          "output_type": "stream",
          "name": "stderr",
          "text": [
            "/usr/local/lib/python3.7/dist-packages/ipykernel_launcher.py:2: SettingWithCopyWarning: \n",
            "A value is trying to be set on a copy of a slice from a DataFrame\n",
            "\n",
            "See the caveats in the documentation: https://pandas.pydata.org/pandas-docs/stable/user_guide/indexing.html#returning-a-view-versus-a-copy\n",
            "  \n"
          ]
        }
      ],
      "source": [
        "for i in tqdm(range(len(data))):\n",
        "  data['All'][i] = spelling_check(data['All'][i])"
      ]
    },
    {
      "cell_type": "code",
      "execution_count": null,
      "metadata": {
        "colab": {
          "base_uri": "https://localhost:8080/"
        },
        "id": "76jJfymm_Ipc",
        "outputId": "8f1d8bfd-0ef9-4140-fad8-f1e74e1cca8a"
      },
      "outputs": [
        {
          "output_type": "execute_result",
          "data": {
            "text/plain": [
              "0       배가 아파요. 50대. 남자. 1일 전. 명치 부위. 지속. 심해짐. 이전에도 3차...\n",
              "1       갑자기 배가 너무 아파요. 30대. 남자. 오늘 새벽. 명치에서 시작해 현재 복부 ...\n",
              "2       속이 쓰려요. 70대. 여자. 1달 전. 명치 부위. 지속. 심해짐. . 속이 쓰림...\n",
              "3       속이 쓰려요. 10대. 남자. 2달 전. 명치 부위. 지속. 심해짐. . 명치 부위...\n",
              "4       배가 아파요. 60대. 남자. 1시간 전. 명치 부위. 지속. 심해짐. . 명치 부...\n",
              "                              ...                        \n",
              "2210    콜레스테롤이 높대요. 50대. 남자. 1개월 전. . . . 처음. . 피곤, 식욕...\n",
              "2211    콜레스테롤이 높대요. 30대. 여자. 1주 전. . . . 처음. . 체중 변화(/...\n",
              "2212    콜레스테롤이 높대요. 60대. 여자. 1개월 전. . . . 처음. . . . . ...\n",
              "2213    콜레스테롤이 높대요. 60대. 여자. 3개월 전. . . . 처음. . . . . ...\n",
              "2214    생리를 안 해요. 10대. 여자. 처음부터. . . . 처음. 초경 안 옴. 턱이 ...\n",
              "Name: All, Length: 2215, dtype: object"
            ]
          },
          "metadata": {},
          "execution_count": 187
        }
      ],
      "source": [
        "data['All']"
      ]
    },
    {
      "cell_type": "markdown",
      "metadata": {
        "id": "ICjeQ0nC-mk7"
      },
      "source": [
        "## 10) Change English words to Korean"
      ]
    },
    {
      "cell_type": "code",
      "execution_count": null,
      "metadata": {
        "id": "UHC3Dsf--pI9"
      },
      "outputs": [],
      "source": [
        "def replace_eng_to_kor(x):\n",
        "  # Need to update more!!\n",
        "  x = x.replace('Liver', '간염')\n",
        "  x = x.replace('Hepatitis', '간염')\n",
        "  x = x.replace('DM', '당뇨')\n",
        "  x = x.replace('TBc', '결핵')\n",
        "  x = x.replace('TB', '결핵')\n",
        "  x = x.replace('HTN', '고혈압')\n",
        "  x = x.replace('Dyslipidemia', '이상지질혈증')\n",
        "  x = x.replace('dyslipidemia', '이상지질혈증')\n",
        "  x = x.replace('소염진통제(NSAIDs)', '소염진통제')\n",
        "  x = x.replace('NSAIDs', '소염진통제')\n",
        "  x = x.replace('NSAID', '소염진통제')\n",
        "  x = x.replace('LMP', '마지막 월경')\n",
        "  x = x.replace(\"Murphy's sign\", '숨을 들이쉬는 동안 오른쪽 갈비뼈 밑 인근 부위를 만지면 통증이 생기는 증상')\n",
        "  x = x.replace('Valsartan', '고혈압약')\n",
        "  x = x.replace('고혈압약(amlodipine)', '고혈압약')\n",
        "  x = x.replace('항고혈압제(Amlodipine)', '고혈압약')\n",
        "  x = x.replace('Amlodipine', '고혈압약')\n",
        "  x = x.replace('amlodipine', '고혈압약')\n",
        "  x = x.replace('Metformin', '비구아니드 계열의 경구용 혈당강하제, 제2형 당뇨병에 사용')\n",
        "  x = x.replace('BID', '하루에 2번')\n",
        "  x = x.replace('Bid', '하루에 2번')\n",
        "  x = x.replace('ciprofloxacin', '항생제')\n",
        "  x = x.replace('QD', '하루에 한번')\n",
        "  x = x.replace('우울증약(SSRI)', '우울증약')\n",
        "  x = x.replace('SSRI', '우울증약')\n",
        "  x = x.replace('1T', '1알')\n",
        "  x = x.replace('FAP', '가족성 용종증')\n",
        "  x = x.replace('COPD', '만성 폐쇄성 폐질환')\n",
        "  x = x.replace('Roux-Y op', '위우회술')\n",
        "  x = x.replace('terminal ileum', '직장과 결장 및 소장의 마지막 일부')\n",
        "  x = x.replace('Hyperlipidemia', '고지혈증')\n",
        "  x = x.replace('혈압강하제(CCB, ACEi)', '혈압강하제')\n",
        "  x = x.replace('C-sec', '제왕절개')\n",
        "  x = x.replace('Non-smoking, Non-Alcohol', '술 담배 안함')\n",
        "  x = x.replace('F / U / N / D / H / I / S', '빈뇨/절박뇨/야뇨/배뇨통/배뇨지연/요실금/소변줄기 변화')\n",
        "  \n",
        "  return x"
      ]
    },
    {
      "cell_type": "code",
      "execution_count": null,
      "metadata": {
        "colab": {
          "base_uri": "https://localhost:8080/",
          "height": 142,
          "referenced_widgets": [
            "d44f68e1d9154376b1d0ae9ab9cea70e",
            "1369f68a58be42d3a6357f12a6d99f62",
            "12d800524a3547ba9c38f5e6642c9199",
            "9d6de6f93e304425bddcefd4f5d6449c",
            "9a459ce580e04454a736cc283dd69be6",
            "bf3230755f91475180382fd12b4cabc0",
            "6c341a4bcd344761acab44ae11c1b5bd",
            "1b8b6e99e2dd4421b445552f23f1194d",
            "e15a065d49c24452b31518977b50f014",
            "b7a1d5149cdd431f8a8e88db5ddd8ded",
            "85af1f943a3747e69b0582c74a6f9da8"
          ]
        },
        "id": "8uy8I4aT_k7X",
        "outputId": "31d6ca22-0b76-4801-f1fd-a60fdcf59729"
      },
      "outputs": [
        {
          "output_type": "display_data",
          "data": {
            "text/plain": [
              "  0%|          | 0/2215 [00:00<?, ?it/s]"
            ],
            "application/vnd.jupyter.widget-view+json": {
              "version_major": 2,
              "version_minor": 0,
              "model_id": "d44f68e1d9154376b1d0ae9ab9cea70e"
            }
          },
          "metadata": {}
        },
        {
          "output_type": "stream",
          "name": "stderr",
          "text": [
            "/usr/local/lib/python3.7/dist-packages/ipykernel_launcher.py:5: SettingWithCopyWarning: \n",
            "A value is trying to be set on a copy of a slice from a DataFrame\n",
            "\n",
            "See the caveats in the documentation: https://pandas.pydata.org/pandas-docs/stable/user_guide/indexing.html#returning-a-view-versus-a-copy\n",
            "  \"\"\"\n"
          ]
        }
      ],
      "source": [
        "#for m in data.columns[10:21]: #'Experience', 'Character', 'Associated Sx.', 'Factor', 'Event', '약물 투약력', '사회력', '가족력', '외상력', '과거력', '여성력']\n",
        "#  data[m] = data.apply(lambda x : replace_eng_to_kor(x[m]) , axis = 1 )\n",
        "\n",
        "for i in tqdm(range(len(data))):\n",
        "  data['All'][i] = replace_eng_to_kor(data['All'][i])"
      ]
    },
    {
      "cell_type": "markdown",
      "metadata": {
        "id": "6tyPShL0-p5o"
      },
      "source": [
        "## 11) Change difficuly words to easy words"
      ]
    },
    {
      "cell_type": "code",
      "execution_count": null,
      "metadata": {
        "id": "XTnS5DpO-tjb"
      },
      "outputs": [],
      "source": [
        "def replace_diffi_to_easy(x):\n",
        "  # Need to update more!!\n",
        "  if x=='지속' or x=='지속 ' or x=='지속됨':\n",
        "      x = '하루종일'\n",
        "  x = x.replace('복압 배뇨', '소변을 볼 때 힘을 줘야함')#kidney\n",
        "  x = x.replace('샅통증', '사타구니 통증')\n",
        "  x = x.replace('다갈', '몹시 갈증이 남')\n",
        "  x = x.replace('다음', '몹시 갈증이 나 물을 많이 마심')\n",
        "  x = x.replace('다뇨', '소변량 증가')\n",
        "  x = x.replace('뒷무직', '잔변감')\n",
        "  x = x.replace('요의', '오줌이 마려운 느낌')\n",
        "  x = x.replace('급성 요폐', '소변이 마려운데 힘줘도 안 나옴')\n",
        "  x = x.replace('점적뇨', '소변 후 오줌이 몇 방울씩 속옷에 묻어남')\n",
        "  x = x.replace('두부 외상', '머리를 다침')\n",
        "  x = x.replace('두부 타격', '머리를 다침')\n",
        "  x = x.replace('섬망', '환각, 초조함, 떨림')\n",
        "\n",
        "  x = x.replace('복장뼈아래', '가슴 중앙 아래')#digestive\n",
        "  x = x.replace('방사통', '퍼지는 통증')\n",
        "  x = x.replace('반동압통', '눌렀다 떼면 아픔')\n",
        "  x = x.replace('반발압통', '눌렀다 떼면 아픔')\n",
        "  x = x.replace('압통점', '누르면 아픔')\n",
        "  x = x.replace('압통', '누르면 아픔')\n",
        "  x = x.replace('장음 감소', '장의 운동 소리가 감소')\n",
        "  x = x.replace('장음감소', '장의 운동 소리가 감소')\n",
        "  x = x.replace('장음 소실', '장의 운동 소리가 감소')\n",
        "  x = x.replace('장음 증가', '장의 운동 소리가 증가')\n",
        "  x = x.replace('장음증가', '장의 운동 소리가 증가')\n",
        "  x = x.replace('박동성 종괴', '두근거리는 멍울, 혹')\n",
        "  x = x.replace('종괴', '멍울, 혹')\n",
        "  x = x.replace('덩이', '멍울, 혹')\n",
        "  x = x.replace('두덩뼈', '골반뼈 중 일부')\n",
        "  x = x.replace('공막', '흰자, 눈')\n",
        "  x = x.replace('혈액응고지연', '피가 안멈춰요')\n",
        "  x = x.replace('인두통', '목이 아픔')\n",
        "  x = x.replace('항문 열상', '항문이 찢어져서 생긴 상처')\n",
        "  x = x.replace('후중감(tenesmus)', '잔변감')\n",
        "  x = x.replace('경부강직', '목근육이 굳어서 머리를 앞으로 구부릴 수 없음')\n",
        "  x = x.replace('조음장애', '발음장애')\n",
        "  x = x.replace('구음장애', '말하기 어려움')\n",
        "  x = x.replace('추위불내성', '추위를 견디지 못함')\n",
        "  x = x.replace('추위 불내성', '추위를 견디지 못함')\n",
        "  x = x.replace('더위불내성', '더위를 견디지 못함')\n",
        "  x = x.replace('더위 불내성', '더위를 견디지 못함')\n",
        "  x = x.replace('야간발한', '밤에 땀이 남')\n",
        "  x = x.replace('야간 발한', '밤에 땀이 남')\n",
        "  x = x.replace('발한과다', '땀이 많이 남')\n",
        "  x = x.replace('전신발한', '온몸에 땀이 남')\n",
        "  x = x.replace('발한', '땀이 남')\n",
        "  x = x.replace('와파린', '항응고제')\n",
        "  x = x.replace('경추', '목')\n",
        "  x = x.replace('요추', '허리')\n",
        "  x = x.replace('폴립', '종양, 용종')\n",
        "  x = x.replace('의식 소실', '의식 없어짐')\n",
        "  x = x.replace('의식소실', '의식 없어짐')\n",
        "  x = x.replace('황달 소실', '황달 없어짐')\n",
        "  x = x.replace('유지', '비슷')\n",
        "  x = x.replace('우상복부', '오른쪽 윗배')\n",
        "  x = x.replace('우하복부', '오른쪽 아랫배')\n",
        "  x = x.replace('우측복부', '오른쪽 배')\n",
        "  x = x.replace('좌측복부', '왼쪽 배')\n",
        "  x = x.replace('좌하복부', '왼쪽 아랫배')\n",
        "  x = x.replace('좌상복부', '왼쪽 윗배')\n",
        "  x = x.replace('하복부통', '아랫배 통증')\n",
        "  x = x.replace('상복부', '윗배')\n",
        "  x = x.replace('하복부', '아랫배')\n",
        "  x = x.replace('심계항진', '심장이 계속 두근거려요')\n",
        "  x = x.replace('분출성', '뿜어나오는 구토')\n",
        "  x = x.replace('홍반', '붉은 반점')\n",
        "\n",
        "\n",
        "\n",
        "  x = x.replace('작열감', '화끈거림')#musculoskeletal\n",
        "  x = x.replace('광과민성', '빛에 민감')\n",
        "  x = x.replace('간헐적', '주기적으로')#respiratory\n",
        "  x = x.replace('간간히', '가끔씩')\n",
        "  x = x.replace('혈성 콧물', '피가 섞인 콧물')\n",
        "  x = x.replace('인후통', '목구멍이 아픔')\n",
        "  x = x.replace('객혈', '피가 섞인 가래')\n",
        "  x = x.replace('객담', '가래')\n",
        "\n",
        "  #오목부종 오목 부종 안면부종 다리부종 하지부종 음낭부종 얼굴부종\n",
        "\n",
        "\n",
        "  x = x.replace('편마비', '한 쪽 마비')#circulator2\n",
        "  x = x.replace('메티마졸', '갑상선기능항진증 약')\n",
        "  x = x.replace('희발월경', '월경, 생리 주기가 길다') \n",
        "  x = x.replace('측면', '옆')\n",
        "  x = x.replace('무월경', '월경 안함')\n",
        "  x = x.replace('지방식', '기름진 음식')\n",
        "  x = x.replace('위약', '쇠약')\n",
        "  x = x.replace('쇠약감', '힘이 없음')\n",
        "  x = x.replace('동공산대', '동공 확대')\n",
        "\n",
        "\n",
        "\n",
        "  x = x.replace('성교통', '성관계를 할 때 통증')#Para_Female_Child\n",
        "  x = x.replace('성교', '성관계')\n",
        "  x = x.replace('회음부', '성기')\n",
        "  x = x.replace('외음부', '성기')\n",
        "  x = x.replace('초경(-)', '초경 안함')\n",
        "  x = x.replace('초경 전', '초경 안함')\n",
        "\n",
        "  x = x.replace('오심', '구역감')#digestive(jaundice)\n",
        "  x = x.replace('소양증', '가려움증')\n",
        "  x = x.replace('쓰리다', '속쓰림')#hematemesis(digestive)\n",
        "  return x"
      ]
    },
    {
      "cell_type": "code",
      "execution_count": null,
      "metadata": {
        "colab": {
          "base_uri": "https://localhost:8080/",
          "height": 142,
          "referenced_widgets": [
            "e2e94cc6c76e4456a76d3a86ae8db0d6",
            "131d1690f3f84842ac37fa26e4b52f17",
            "6f8e05d9fc194f4c892c3d491b18e270",
            "e908f564a2874813ad54b4d803153c8f",
            "f59221bebb384dd6963be9203cae8ead",
            "3fa6adc9c2fc433ebbbcfb428e3f2682",
            "318732f7559545c195de92c50e2ddf62",
            "282c06d5cf0c47ddbd693ef869cccd2c",
            "4b10acc01cdc4914a1b09b5eaf3b43c1",
            "f0478d88b4d04d96a0077719e4633d73",
            "236a34edb14c4fb38ca748f91d7920fa"
          ]
        },
        "id": "PgJWCuxv_zH-",
        "outputId": "e9014c49-8381-4fa7-f6d8-ee7faa99cb36"
      },
      "outputs": [
        {
          "output_type": "display_data",
          "data": {
            "text/plain": [
              "  0%|          | 0/2215 [00:00<?, ?it/s]"
            ],
            "application/vnd.jupyter.widget-view+json": {
              "version_major": 2,
              "version_minor": 0,
              "model_id": "e2e94cc6c76e4456a76d3a86ae8db0d6"
            }
          },
          "metadata": {}
        },
        {
          "output_type": "stream",
          "name": "stderr",
          "text": [
            "/usr/local/lib/python3.7/dist-packages/ipykernel_launcher.py:5: SettingWithCopyWarning: \n",
            "A value is trying to be set on a copy of a slice from a DataFrame\n",
            "\n",
            "See the caveats in the documentation: https://pandas.pydata.org/pandas-docs/stable/user_guide/indexing.html#returning-a-view-versus-a-copy\n",
            "  \"\"\"\n"
          ]
        }
      ],
      "source": [
        "# for m in data.columns[10:21]: #'Experience', 'Character', 'Associated Sx.', 'Factor', 'Event', '약물 투약력', '사회력', '가족력', '외상력', '과거력', '여성력']\n",
        "#  data[m] = data.apply(lambda x : replace_diffi_to_easy(x[m]) , axis = 1 )\n",
        "\n",
        "for i in tqdm(range(len(data))):\n",
        "  data['All'][i] = replace_diffi_to_easy(data['All'][i])"
      ]
    },
    {
      "cell_type": "code",
      "execution_count": null,
      "metadata": {
        "colab": {
          "base_uri": "https://localhost:8080/"
        },
        "id": "ePO1bqJ6nmbo",
        "outputId": "b73c8893-e294-45a2-9b38-1a2d603493f1"
      },
      "outputs": [
        {
          "output_type": "stream",
          "name": "stdout",
          "text": [
            "<class 'pandas.core.frame.DataFrame'>\n",
            "RangeIndex: 2215 entries, 0 to 2214\n",
            "Data columns (total 25 columns):\n",
            " #   Column            Non-Null Count  Dtype  \n",
            "---  ------            --------------  -----  \n",
            " 0   level5/diagnosis  2215 non-null   object \n",
            " 1   Chief complaint   2215 non-null   object \n",
            " 2   Sex               2215 non-null   object \n",
            " 3   Age               2215 non-null   object \n",
            " 4   Height            2215 non-null   int64  \n",
            " 5   Weight            2215 non-null   int64  \n",
            " 6   Onset             2215 non-null   object \n",
            " 7   Location          2215 non-null   object \n",
            " 8   Duration          2215 non-null   object \n",
            " 9   Course            2215 non-null   object \n",
            " 10  Experience        2215 non-null   object \n",
            " 11  Character         2215 non-null   object \n",
            " 12  Associated Sx.    2215 non-null   object \n",
            " 13  Factor            2215 non-null   object \n",
            " 14  Event             2215 non-null   object \n",
            " 15  약물 투약력            2215 non-null   object \n",
            " 16  사회력               2215 non-null   object \n",
            " 17  가족력               2215 non-null   object \n",
            " 18  외상력               2215 non-null   object \n",
            " 19  과거력               2215 non-null   object \n",
            " 20  여성력               2215 non-null   object \n",
            " 21  Level1            2215 non-null   object \n",
            " 22  BMI               2215 non-null   float64\n",
            " 23  Obesity           2215 non-null   object \n",
            " 24  All               2215 non-null   object \n",
            "dtypes: float64(1), int64(2), object(22)\n",
            "memory usage: 432.7+ KB\n"
          ]
        }
      ],
      "source": [
        "data.info()"
      ]
    },
    {
      "cell_type": "markdown",
      "metadata": {
        "id": "pAwodiAbBslb"
      },
      "source": [
        "## 12) Erase stopwords using konlpy"
      ]
    },
    {
      "cell_type": "code",
      "execution_count": null,
      "metadata": {
        "colab": {
          "base_uri": "https://localhost:8080/"
        },
        "id": "UBBFuZku7GSH",
        "outputId": "d622a26b-0263-4c1d-d8ab-2d9c78fa8d35"
      },
      "outputs": [
        {
          "output_type": "stream",
          "name": "stdout",
          "text": [
            "Requirement already satisfied: konlpy in /usr/local/lib/python3.7/dist-packages (0.6.0)\n",
            "Requirement already satisfied: JPype1>=0.7.0 in /usr/local/lib/python3.7/dist-packages (from konlpy) (1.3.0)\n",
            "Requirement already satisfied: lxml>=4.1.0 in /usr/local/lib/python3.7/dist-packages (from konlpy) (4.2.6)\n",
            "Requirement already satisfied: numpy>=1.6 in /usr/local/lib/python3.7/dist-packages (from konlpy) (1.21.5)\n",
            "Requirement already satisfied: typing-extensions in /usr/local/lib/python3.7/dist-packages (from JPype1>=0.7.0->konlpy) (3.10.0.2)\n"
          ]
        }
      ],
      "source": [
        "!pip install konlpy\n",
        "import konlpy.tag\n",
        "okt = konlpy.tag.Okt() # 객체 생성"
      ]
    },
    {
      "cell_type": "code",
      "execution_count": null,
      "metadata": {
        "id": "N5KvQyEm7Mae"
      },
      "outputs": [],
      "source": [
        "stopwords = ['질문', '문의', '관련', '그대로', '계속', '답변', '선생님', '관련문의',\n",
        "              '한지', '자주', '좀', '쪽', '자꾸', '요즘', '몇개', '무조건', '하나요',\n",
        "              '안해', '경우', '최근', '및', '몇', '달', '일반', '전날', '저번',\n",
        "              '말', '일어나지', '며칠', '먹기', '지난번', '글', '때문', '너', '무',\n",
        "              '시', '잔', '뒤', '지속', '막', '것', '이건', '뭔가', '다시', '그',\n",
        "              '무슨', '안', '난', '기', '후', '거리', '뭘', '저', '뭐', '답젼',\n",
        "              '평생', '회복', '반', '감사', '의사', '보험', '학생', '제발', '살짝',\n",
        "              '느낌', '제', '대해','문제', '전','정도', '왜', '거', '가요',\n",
        "              '의심', '추천', '를', '지금', '무엇', '관해', '리', '세',\n",
        "              '로', '목적', '그냥', '거의', '고민', '다음', '이틀', '항상', '뭐', '때',\n",
        "              '요',  '이후', '혹시', '안녕하세요',\n",
        "              '안녕','선생','끼','일','식','첨부','말씀','이번','분','년','진단','밥',\n",
        "              '속','년','동안','코딩','바','평소','게','주','올해','월','외','소견','오후','병원',\n",
        "              '어머니','군데','여러분','전문가','건','아버지','주일','센티','동안','건가요',\n",
        "              '의견','건강','세일','결까요','학원','수업','밤','부모','적','가족','대학생',\n",
        "              '무언가','이게','무엇','포함','살','사진','제','가능','중','기재','아이',\n",
        "              '저녁','안심','걱정','씨','며칠','동네','어디','하루','동생','해외','얘',\n",
        "              '학년','사람','직장인','나이','키','몸무게','엄마','부탁','해석','혹','시가'\n",
        "             '의', '가', '이', '은', '들', '는', '잘', '걍', '과', '도', '을'\n",
        "             '를', '으로', '자', '에', '와', '하다', '다', '.', ',']"
      ]
    },
    {
      "cell_type": "code",
      "execution_count": null,
      "metadata": {
        "id": "mMtcgL0O9DRs"
      },
      "outputs": [],
      "source": [
        "def erase_stopwords(text):\n",
        "  X_train =[]\n",
        "  temp_x = okt.morphs(text, stem=True)\n",
        "  #print(temp_x)\n",
        "  temp_x = [word for word in temp_x if not word in stopwords]\n",
        "  temp_x = re.findall(r'\\w+', str(temp_x))\n",
        "  X_train.append(temp_x)\n",
        "  #print(X_train)\n",
        "  temp_x = ' '.join(map(str, X_train))\n",
        "  \n",
        "  return ' '.join(re.findall(r'\\w+', str(temp_x)))"
      ]
    },
    {
      "cell_type": "code",
      "execution_count": null,
      "metadata": {
        "colab": {
          "base_uri": "https://localhost:8080/",
          "height": 142,
          "referenced_widgets": [
            "4de2933d7a124bd08d1fed1a74784a07",
            "def4350f035a4684b6fa9621d7e10cec",
            "4ff5c20861cc49b8801beeb17f29910e",
            "2ff570cf675849f0afe3545fc2f951f6",
            "98de88bf04a542568833a16863b03ee8",
            "28a1328103304d4bba0f5702971117af",
            "93e0ab6eca9941b3ad48a7dbcb44e8fa",
            "692df0dbcecc4a2f860f98b827ddfedb",
            "6a7d6cb72b6846efa7d465d315771d85",
            "0b50a73b7d1f466db97d717195f6bb5e",
            "828d511cd2ec4c8dafba48f679124699"
          ]
        },
        "id": "5j20uFQ07ftJ",
        "outputId": "5c2d4c44-00c3-4e5f-e5bb-5a7b1b303320"
      },
      "outputs": [
        {
          "output_type": "display_data",
          "data": {
            "text/plain": [
              "  0%|          | 0/2215 [00:00<?, ?it/s]"
            ],
            "application/vnd.jupyter.widget-view+json": {
              "version_major": 2,
              "version_minor": 0,
              "model_id": "4de2933d7a124bd08d1fed1a74784a07"
            }
          },
          "metadata": {}
        },
        {
          "output_type": "stream",
          "name": "stderr",
          "text": [
            "/usr/local/lib/python3.7/dist-packages/ipykernel_launcher.py:7: SettingWithCopyWarning: \n",
            "A value is trying to be set on a copy of a slice from a DataFrame\n",
            "\n",
            "See the caveats in the documentation: https://pandas.pydata.org/pandas-docs/stable/user_guide/indexing.html#returning-a-view-versus-a-copy\n",
            "  import sys\n"
          ]
        }
      ],
      "source": [
        "#for m in data.columns[10:21]: #'Experience', 'Character', 'Associated Sx.', 'Factor', 'Event', '약물 투약력', '사회력', '가족력', '외상력', '과거력', '여성력']\n",
        "#  data[m] = data.apply(lambda x : erase_stopwords(x[m]) , axis = 1 )\n",
        "\n",
        "#data['Chief complaint'] = data.apply(lambda x : erase_stopwords(x['Chief complaint']) , axis = 1 )\n",
        "\n",
        "for i in tqdm(range(len(data))):\n",
        "  data['All'][i] = erase_stopwords(data['All'][i])"
      ]
    },
    {
      "cell_type": "code",
      "execution_count": null,
      "metadata": {
        "id": "APyDCMlYVIre"
      },
      "outputs": [],
      "source": [
        "#data.to_csv('processed_DB_5.17.csv', encoding='utf-8-sig')"
      ]
    },
    {
      "cell_type": "code",
      "execution_count": null,
      "metadata": {
        "id": "zw67iehFkXyL"
      },
      "outputs": [],
      "source": [
        "#import pandas as pd\n",
        "\n",
        "#data = pd.read_csv('processed_DB_5.17.csv')\n",
        "#data.drop('Unnamed: 0', axis=1, inplace=True)\n",
        "#data.fillna('', inplace=True)\n",
        "#data"
      ]
    },
    {
      "cell_type": "markdown",
      "metadata": {
        "id": "r-wopB242rKD"
      },
      "source": [
        "# 2. Select features\n",
        "https://datascience.stackexchange.com/questions/74688/how-to-use-multiple-text-features-for-nlp-classifier"
      ]
    },
    {
      "cell_type": "code",
      "execution_count": null,
      "metadata": {
        "id": "mHtgZ5lBTpGf"
      },
      "outputs": [],
      "source": [
        "women_data = data.copy()"
      ]
    },
    {
      "cell_type": "code",
      "execution_count": null,
      "metadata": {
        "id": "F5JFCxB2ntnI"
      },
      "outputs": [],
      "source": [
        "men_data = data[data['Level1'] != 'para']\n",
        "men_data = men_data[men_data['level5/diagnosis'] != '폐경증후군']\n",
        "men_data = men_data[men_data['level5/diagnosis'] != '폐경에 의한 고혈압']"
      ]
    },
    {
      "cell_type": "code",
      "execution_count": null,
      "metadata": {
        "colab": {
          "base_uri": "https://localhost:8080/"
        },
        "id": "ynFUQJxzV9bW",
        "outputId": "569e1f3e-8cbb-4c8f-e91a-8eaa504874f9"
      },
      "outputs": [
        {
          "output_type": "stream",
          "name": "stdout",
          "text": [
            "2215\n",
            "2000\n"
          ]
        }
      ],
      "source": [
        "print(len(women_data))\n",
        "print(len(men_data))"
      ]
    },
    {
      "cell_type": "code",
      "execution_count": null,
      "metadata": {
        "id": "7w9QGtCoknqZ"
      },
      "outputs": [],
      "source": [
        "women_train = women_data.copy()\n",
        "men_train = men_data.copy()"
      ]
    },
    {
      "cell_type": "code",
      "execution_count": null,
      "metadata": {
        "colab": {
          "base_uri": "https://localhost:8080/",
          "height": 206
        },
        "id": "qQMstUcKm4jA",
        "outputId": "9ac62349-3dcf-44e8-c0fa-d241e183beef"
      },
      "outputs": [
        {
          "output_type": "execute_result",
          "data": {
            "text/plain": [
              "  level5/diagnosis                                                All\n",
              "0           소화성 궤양  배 아프다 50 대다 남자 1일 명치 부위 심해지다 이전 에도 3 차례 통증 보다 ...\n",
              "1           소화성 궤양  갑자기 배 너무 아프다 30 대다 남자 오늘 새벽 명치 에서 시작 현재 복부 전체 ...\n",
              "2           소화성 궤양  속이다 쓰리다 70 대다 여자 1 명치 부위 심해지다 속이다 쓰리다 약하다 구역질 ...\n",
              "3           소화성 궤양  속이다 쓰리다 10 대다 남자 2 명치 부위 심해지다 명치 부위 누르다 아픔 쓰리다...\n",
              "4           소화성 궤양  배 아프다 60 대다 남자 1시간 명치 부위 심해지다 명치 부위 아프다 쓰리다 고혈..."
            ],
            "text/html": [
              "\n",
              "  <div id=\"df-2abf5977-d8f0-4977-802a-1df2465a9e3f\">\n",
              "    <div class=\"colab-df-container\">\n",
              "      <div>\n",
              "<style scoped>\n",
              "    .dataframe tbody tr th:only-of-type {\n",
              "        vertical-align: middle;\n",
              "    }\n",
              "\n",
              "    .dataframe tbody tr th {\n",
              "        vertical-align: top;\n",
              "    }\n",
              "\n",
              "    .dataframe thead th {\n",
              "        text-align: right;\n",
              "    }\n",
              "</style>\n",
              "<table border=\"1\" class=\"dataframe\">\n",
              "  <thead>\n",
              "    <tr style=\"text-align: right;\">\n",
              "      <th></th>\n",
              "      <th>level5/diagnosis</th>\n",
              "      <th>All</th>\n",
              "    </tr>\n",
              "  </thead>\n",
              "  <tbody>\n",
              "    <tr>\n",
              "      <th>0</th>\n",
              "      <td>소화성 궤양</td>\n",
              "      <td>배 아프다 50 대다 남자 1일 명치 부위 심해지다 이전 에도 3 차례 통증 보다 ...</td>\n",
              "    </tr>\n",
              "    <tr>\n",
              "      <th>1</th>\n",
              "      <td>소화성 궤양</td>\n",
              "      <td>갑자기 배 너무 아프다 30 대다 남자 오늘 새벽 명치 에서 시작 현재 복부 전체 ...</td>\n",
              "    </tr>\n",
              "    <tr>\n",
              "      <th>2</th>\n",
              "      <td>소화성 궤양</td>\n",
              "      <td>속이다 쓰리다 70 대다 여자 1 명치 부위 심해지다 속이다 쓰리다 약하다 구역질 ...</td>\n",
              "    </tr>\n",
              "    <tr>\n",
              "      <th>3</th>\n",
              "      <td>소화성 궤양</td>\n",
              "      <td>속이다 쓰리다 10 대다 남자 2 명치 부위 심해지다 명치 부위 누르다 아픔 쓰리다...</td>\n",
              "    </tr>\n",
              "    <tr>\n",
              "      <th>4</th>\n",
              "      <td>소화성 궤양</td>\n",
              "      <td>배 아프다 60 대다 남자 1시간 명치 부위 심해지다 명치 부위 아프다 쓰리다 고혈...</td>\n",
              "    </tr>\n",
              "  </tbody>\n",
              "</table>\n",
              "</div>\n",
              "      <button class=\"colab-df-convert\" onclick=\"convertToInteractive('df-2abf5977-d8f0-4977-802a-1df2465a9e3f')\"\n",
              "              title=\"Convert this dataframe to an interactive table.\"\n",
              "              style=\"display:none;\">\n",
              "        \n",
              "  <svg xmlns=\"http://www.w3.org/2000/svg\" height=\"24px\"viewBox=\"0 0 24 24\"\n",
              "       width=\"24px\">\n",
              "    <path d=\"M0 0h24v24H0V0z\" fill=\"none\"/>\n",
              "    <path d=\"M18.56 5.44l.94 2.06.94-2.06 2.06-.94-2.06-.94-.94-2.06-.94 2.06-2.06.94zm-11 1L8.5 8.5l.94-2.06 2.06-.94-2.06-.94L8.5 2.5l-.94 2.06-2.06.94zm10 10l.94 2.06.94-2.06 2.06-.94-2.06-.94-.94-2.06-.94 2.06-2.06.94z\"/><path d=\"M17.41 7.96l-1.37-1.37c-.4-.4-.92-.59-1.43-.59-.52 0-1.04.2-1.43.59L10.3 9.45l-7.72 7.72c-.78.78-.78 2.05 0 2.83L4 21.41c.39.39.9.59 1.41.59.51 0 1.02-.2 1.41-.59l7.78-7.78 2.81-2.81c.8-.78.8-2.07 0-2.86zM5.41 20L4 18.59l7.72-7.72 1.47 1.35L5.41 20z\"/>\n",
              "  </svg>\n",
              "      </button>\n",
              "      \n",
              "  <style>\n",
              "    .colab-df-container {\n",
              "      display:flex;\n",
              "      flex-wrap:wrap;\n",
              "      gap: 12px;\n",
              "    }\n",
              "\n",
              "    .colab-df-convert {\n",
              "      background-color: #E8F0FE;\n",
              "      border: none;\n",
              "      border-radius: 50%;\n",
              "      cursor: pointer;\n",
              "      display: none;\n",
              "      fill: #1967D2;\n",
              "      height: 32px;\n",
              "      padding: 0 0 0 0;\n",
              "      width: 32px;\n",
              "    }\n",
              "\n",
              "    .colab-df-convert:hover {\n",
              "      background-color: #E2EBFA;\n",
              "      box-shadow: 0px 1px 2px rgba(60, 64, 67, 0.3), 0px 1px 3px 1px rgba(60, 64, 67, 0.15);\n",
              "      fill: #174EA6;\n",
              "    }\n",
              "\n",
              "    [theme=dark] .colab-df-convert {\n",
              "      background-color: #3B4455;\n",
              "      fill: #D2E3FC;\n",
              "    }\n",
              "\n",
              "    [theme=dark] .colab-df-convert:hover {\n",
              "      background-color: #434B5C;\n",
              "      box-shadow: 0px 1px 3px 1px rgba(0, 0, 0, 0.15);\n",
              "      filter: drop-shadow(0px 1px 2px rgba(0, 0, 0, 0.3));\n",
              "      fill: #FFFFFF;\n",
              "    }\n",
              "  </style>\n",
              "\n",
              "      <script>\n",
              "        const buttonEl =\n",
              "          document.querySelector('#df-2abf5977-d8f0-4977-802a-1df2465a9e3f button.colab-df-convert');\n",
              "        buttonEl.style.display =\n",
              "          google.colab.kernel.accessAllowed ? 'block' : 'none';\n",
              "\n",
              "        async function convertToInteractive(key) {\n",
              "          const element = document.querySelector('#df-2abf5977-d8f0-4977-802a-1df2465a9e3f');\n",
              "          const dataTable =\n",
              "            await google.colab.kernel.invokeFunction('convertToInteractive',\n",
              "                                                     [key], {});\n",
              "          if (!dataTable) return;\n",
              "\n",
              "          const docLinkHtml = 'Like what you see? Visit the ' +\n",
              "            '<a target=\"_blank\" href=https://colab.research.google.com/notebooks/data_table.ipynb>data table notebook</a>'\n",
              "            + ' to learn more about interactive tables.';\n",
              "          element.innerHTML = '';\n",
              "          dataTable['output_type'] = 'display_data';\n",
              "          await google.colab.output.renderOutput(dataTable, element);\n",
              "          const docLink = document.createElement('div');\n",
              "          docLink.innerHTML = docLinkHtml;\n",
              "          element.appendChild(docLink);\n",
              "        }\n",
              "      </script>\n",
              "    </div>\n",
              "  </div>\n",
              "  "
            ]
          },
          "metadata": {},
          "execution_count": 224
        }
      ],
      "source": [
        "from io import StringIO\n",
        "col = ['level5/diagnosis', 'All']#, 'Height', 'Weight']\n",
        "women_df = women_train[col]\n",
        "men_df = men_train[col]\n",
        "\n",
        "women_df = women_df[pd.notnull(women_df['All'])]\n",
        "men_df = men_df[pd.notnull(men_df['All'])]\n",
        "\n",
        "#df['category_id'] = df['level5/diagnosis'].factorize()[0]\n",
        "#category_id_df = df[['level5/diagnosis', 'category_id']].drop_duplicates().sort_values('category_id')\n",
        "#category_to_id = dict(category_id_df.values)\n",
        "#id_to_category = dict(category_id_df[['category_id', 'level5/diagnosis']].values)\n",
        "\n",
        "men_df.head()"
      ]
    },
    {
      "cell_type": "code",
      "execution_count": null,
      "metadata": {
        "id": "zisLGC7WpidT"
      },
      "outputs": [],
      "source": [
        "#df.to_csv('digestive.csv', index=False)"
      ]
    },
    {
      "cell_type": "code",
      "execution_count": null,
      "metadata": {
        "id": "7hRUNfxPmOj7"
      },
      "outputs": [],
      "source": [
        "from sklearn.model_selection import train_test_split\n",
        "\n",
        "w_ori_X_train, w_ori_X_test, w_ori_y_train, w_ori_y_test = train_test_split(women_df, women_df['level5/diagnosis'], random_state = 0)\n",
        "m_ori_X_train, m_ori_X_test, m_ori_y_train, m_ori_y_test = train_test_split(men_df, men_df['level5/diagnosis'], random_state = 0)"
      ]
    },
    {
      "cell_type": "code",
      "execution_count": null,
      "metadata": {
        "id": "FXaXElNOpjM2"
      },
      "outputs": [],
      "source": [
        "#!pip3 install tensorflow_addons"
      ]
    },
    {
      "cell_type": "markdown",
      "metadata": {
        "id": "C0Aid4qSYQhr"
      },
      "source": [
        "# Tokenizer: LMKor"
      ]
    },
    {
      "cell_type": "code",
      "execution_count": null,
      "metadata": {
        "colab": {
          "base_uri": "https://localhost:8080/"
        },
        "id": "g8_Dlt2PYTaF",
        "outputId": "07ae153f-bd25-440f-941b-0c877a7b3ece"
      },
      "outputs": [
        {
          "output_type": "stream",
          "name": "stdout",
          "text": [
            "Requirement already satisfied: transformers in /usr/local/lib/python3.7/dist-packages (4.17.0)\n",
            "Requirement already satisfied: regex!=2019.12.17 in /usr/local/lib/python3.7/dist-packages (from transformers) (2019.12.20)\n",
            "Requirement already satisfied: tokenizers!=0.11.3,>=0.11.1 in /usr/local/lib/python3.7/dist-packages (from transformers) (0.11.6)\n",
            "Requirement already satisfied: numpy>=1.17 in /usr/local/lib/python3.7/dist-packages (from transformers) (1.21.5)\n",
            "Requirement already satisfied: tqdm>=4.27 in /usr/local/lib/python3.7/dist-packages (from transformers) (4.63.0)\n",
            "Requirement already satisfied: requests in /usr/local/lib/python3.7/dist-packages (from transformers) (2.23.0)\n",
            "Requirement already satisfied: packaging>=20.0 in /usr/local/lib/python3.7/dist-packages (from transformers) (21.3)\n",
            "Requirement already satisfied: sacremoses in /usr/local/lib/python3.7/dist-packages (from transformers) (0.0.49)\n",
            "Requirement already satisfied: pyyaml>=5.1 in /usr/local/lib/python3.7/dist-packages (from transformers) (6.0)\n",
            "Requirement already satisfied: huggingface-hub<1.0,>=0.1.0 in /usr/local/lib/python3.7/dist-packages (from transformers) (0.4.0)\n",
            "Requirement already satisfied: importlib-metadata in /usr/local/lib/python3.7/dist-packages (from transformers) (4.11.3)\n",
            "Requirement already satisfied: filelock in /usr/local/lib/python3.7/dist-packages (from transformers) (3.6.0)\n",
            "Requirement already satisfied: typing-extensions>=3.7.4.3 in /usr/local/lib/python3.7/dist-packages (from huggingface-hub<1.0,>=0.1.0->transformers) (3.10.0.2)\n",
            "Requirement already satisfied: pyparsing!=3.0.5,>=2.0.2 in /usr/local/lib/python3.7/dist-packages (from packaging>=20.0->transformers) (3.0.7)\n",
            "Requirement already satisfied: zipp>=0.5 in /usr/local/lib/python3.7/dist-packages (from importlib-metadata->transformers) (3.7.0)\n",
            "Requirement already satisfied: idna<3,>=2.5 in /usr/local/lib/python3.7/dist-packages (from requests->transformers) (2.10)\n",
            "Requirement already satisfied: certifi>=2017.4.17 in /usr/local/lib/python3.7/dist-packages (from requests->transformers) (2021.10.8)\n",
            "Requirement already satisfied: chardet<4,>=3.0.2 in /usr/local/lib/python3.7/dist-packages (from requests->transformers) (3.0.4)\n",
            "Requirement already satisfied: urllib3!=1.25.0,!=1.25.1,<1.26,>=1.21.1 in /usr/local/lib/python3.7/dist-packages (from requests->transformers) (1.24.3)\n",
            "Requirement already satisfied: six in /usr/local/lib/python3.7/dist-packages (from sacremoses->transformers) (1.15.0)\n",
            "Requirement already satisfied: click in /usr/local/lib/python3.7/dist-packages (from sacremoses->transformers) (7.1.2)\n",
            "Requirement already satisfied: joblib in /usr/local/lib/python3.7/dist-packages (from sacremoses->transformers) (1.1.0)\n"
          ]
        }
      ],
      "source": [
        "#!pip install kobert_transformers\n",
        "#!pip install sentencepiece\n",
        "!pip install transformers"
      ]
    },
    {
      "cell_type": "code",
      "execution_count": null,
      "metadata": {
        "colab": {
          "base_uri": "https://localhost:8080/"
        },
        "id": "LrUIDUtGT4ds",
        "outputId": "6cf3aada-d7c8-45b9-d3b0-a08480287340"
      },
      "outputs": [
        {
          "output_type": "execute_result",
          "data": {
            "text/plain": [
              "PreTrainedTokenizerFast(name_or_path='kykim/funnel-kor-base', vocab_size=42000, model_max_len=512, is_fast=True, padding_side='right', truncation_side='right', special_tokens={'bos_token': '<s>', 'eos_token': '</s>', 'unk_token': '<unk>', 'sep_token': '<sep>', 'pad_token': '<pad>', 'cls_token': '<cls>', 'mask_token': '<mask>'})"
            ]
          },
          "metadata": {},
          "execution_count": 229
        }
      ],
      "source": [
        "# funnel: https://github.com/kiyoungkim1/LMkor\n",
        "from transformers import FunnelTokenizerFast, FunnelModel\n",
        "tokenizer_funnel = FunnelTokenizerFast.from_pretrained(\"kykim/funnel-kor-base\")\n",
        "tokenizer_funnel"
      ]
    },
    {
      "cell_type": "code",
      "execution_count": null,
      "metadata": {
        "id": "NRrtSg1JyKZQ"
      },
      "outputs": [],
      "source": [
        "#!pip install konlpy\n",
        "#import konlpy.tag\n",
        "#okt = konlpy.tag.Okt() # 객체 생성\n",
        "\n",
        "#stopwords = ['의', '가', '이', '은', '들', '는', '좀', '잘', '걍', '과', '도', '을'\n",
        "#             '를', '으로', '자', '에', '와', '한', '하다', '요']"
      ]
    },
    {
      "cell_type": "code",
      "execution_count": null,
      "metadata": {
        "id": "v9OAGljJbVlN"
      },
      "outputs": [],
      "source": [
        "def only_letters_num(x):\n",
        "  #x = okt.morphs(x, stem=True)\n",
        "  #x = [word for word in x if not word in stopwords]\n",
        "  return ' '.join(re.findall(r'\\w+', str(x)))"
      ]
    },
    {
      "cell_type": "markdown",
      "metadata": {
        "id": "0x5ApS9h9Utk"
      },
      "source": [
        ""
      ]
    },
    {
      "cell_type": "code",
      "execution_count": null,
      "metadata": {
        "id": "sqkCqWORZgTo"
      },
      "outputs": [],
      "source": [
        "import re\n",
        "\n",
        "w_ori_X_train2 = w_ori_X_train.copy()\n",
        "w_ori_X_test2 = w_ori_X_test.copy()\n",
        "\n",
        "w_ori_X_train2['All'] = w_ori_X_train.apply(lambda x : only_letters_num(x['All']) , axis = 1 )\n",
        "w_ori_X_test2['All'] = w_ori_X_test.apply(lambda x : only_letters_num(x['All']) , axis = 1 )\n",
        "\n",
        "w_document_bert_train = [\"[CLS] \" + str(s) + \" [SEP]\" for s in w_ori_X_train2['All']]\n",
        "w_document_bert_test = [\"[CLS] \" + str(s) + \" [SEP]\" for s in w_ori_X_test2['All']]\n",
        "\n",
        "w_ko_tokenized_texts_train = [tokenizer_funnel.tokenize(s) for s in w_document_bert_train]\n",
        "w_ko_tokenized_texts_test = [tokenizer_funnel.tokenize(s) for s in w_document_bert_test]\n",
        "\n",
        "##############\n",
        "m_ori_X_train2 = m_ori_X_train.copy()\n",
        "m_ori_X_test2 = m_ori_X_test.copy()\n",
        "\n",
        "m_ori_X_train2['All'] = m_ori_X_train.apply(lambda x : only_letters_num(x['All']) , axis = 1 )\n",
        "m_ori_X_test2['All'] = m_ori_X_test.apply(lambda x : only_letters_num(x['All']) , axis = 1 )\n",
        "\n",
        "m_document_bert_train = [\"[CLS] \" + str(s) + \" [SEP]\" for s in m_ori_X_train2['All']]\n",
        "m_document_bert_test = [\"[CLS] \" + str(s) + \" [SEP]\" for s in m_ori_X_test2['All']]\n",
        "\n",
        "m_ko_tokenized_texts_train = [tokenizer_funnel.tokenize(s) for s in m_document_bert_train]\n",
        "m_ko_tokenized_texts_test = [tokenizer_funnel.tokenize(s) for s in m_document_bert_test]"
      ]
    },
    {
      "cell_type": "code",
      "execution_count": null,
      "metadata": {
        "colab": {
          "base_uri": "https://localhost:8080/"
        },
        "id": "cdmCVFxeyqYe",
        "outputId": "fc936cd6-6af3-416f-bad6-3027277bb93b"
      },
      "outputs": [
        {
          "output_type": "stream",
          "name": "stdout",
          "text": [
            "배 아프다 50 대다 남자 1일 명치 부위 심해지다 이전 에도 3 차례 통증 보다 약하다 칼 찢기다 듯 한 통증 심하다 퍼지다 통증 등 퍼지다 구토 쓰리다 응급 어지러움 갈증 소 변량 감소 자세 따르다 변화 오른쪽 돌 아누 우 면 완화 반듯이 누우 면 악화 술 1 6 7 번 소주 2 3 병 담배 30 갑년 식사 매우 불규칙 직업 포클레인 조종수 과체중\n",
            "배 아프다 50 대다 남자 1일 명치 부위 심해지다 이전 에도 3 차례 통증 보다 약하다 칼 찢기다 듯 한 통증 심하다 퍼지다 통증 등 퍼지다 구토 쓰리다 응급 어지러움 갈증 소 변량 감소 자세 따르다 변화 오른쪽 돌 아누 우 면 완화 반듯이 누우 면 악화 술 1 6 7 번 소주 2 3 병 담배 30 갑년 식사 매우 불규칙 직업 포클레인 조종수 과체중\n"
          ]
        }
      ],
      "source": [
        "print(w_ori_X_train['All'][0])\n",
        "print(w_ori_X_train2['All'][0])"
      ]
    },
    {
      "cell_type": "code",
      "execution_count": null,
      "metadata": {
        "colab": {
          "base_uri": "https://localhost:8080/"
        },
        "id": "OO1NYsSekUWW",
        "outputId": "8465edd1-7c8c-4cfe-cfe1-43facffd3fc5"
      },
      "outputs": [
        {
          "output_type": "stream",
          "name": "stdout",
          "text": [
            "140\n",
            "140\n"
          ]
        }
      ],
      "source": [
        "print(max(len(l) for l in w_ko_tokenized_texts_train))\n",
        "print(max(len(l) for l in m_ko_tokenized_texts_train))"
      ]
    },
    {
      "cell_type": "code",
      "execution_count": null,
      "metadata": {
        "id": "tRe3kJoFaPkQ"
      },
      "outputs": [],
      "source": [
        "from keras.preprocessing.text import Tokenizer\n",
        "\n",
        "w_max_words = 1800 #Choose only 1800 words which has high frequency\n",
        "w_tokenizer = Tokenizer(num_words = w_max_words)\n",
        "w_tokenizer.fit_on_texts(w_ko_tokenized_texts_train)\n",
        "\n",
        "w_X_train_sequence = w_tokenizer.texts_to_sequences(w_ko_tokenized_texts_train)\n",
        "w_X_test_sequence = w_tokenizer.texts_to_sequences(w_ko_tokenized_texts_test)\n",
        "\n",
        "w_y_train_dummies = pd.get_dummies(women_df['level5/diagnosis']).loc[w_ori_X_train.index]\n",
        "w_y_test_dummies = pd.get_dummies(women_df['level5/diagnosis']).loc[w_ori_X_test.index]\n",
        "\n",
        "from keras.preprocessing.sequence import pad_sequences\n",
        "w_max_len = max(len(l) for l in w_ko_tokenized_texts_train)\n",
        "w_X_train_sequence = pad_sequences(w_X_train_sequence, maxlen=w_max_len)\n",
        "w_X_test_sequence = pad_sequences(w_X_test_sequence, maxlen=w_max_len)\n",
        "\n",
        "###############\n",
        "m_max_words = 1600\n",
        "m_tokenizer = Tokenizer(num_words = m_max_words)\n",
        "m_tokenizer.fit_on_texts(m_ko_tokenized_texts_train)\n",
        "\n",
        "m_X_train_sequence = m_tokenizer.texts_to_sequences(m_ko_tokenized_texts_train)\n",
        "m_X_test_sequence = m_tokenizer.texts_to_sequences(m_ko_tokenized_texts_test)\n",
        "\n",
        "m_y_train_dummies = pd.get_dummies(men_df['level5/diagnosis']).loc[m_ori_X_train.index]\n",
        "m_y_test_dummies = pd.get_dummies(men_df['level5/diagnosis']).loc[m_ori_X_test.index]\n",
        "\n",
        "m_max_len = max(len(l) for l in m_ko_tokenized_texts_train)\n",
        "m_X_train_sequence = pad_sequences(m_X_train_sequence, maxlen=m_max_len)\n",
        "m_X_test_sequence = pad_sequences(m_X_test_sequence, maxlen=m_max_len)"
      ]
    },
    {
      "cell_type": "code",
      "execution_count": null,
      "metadata": {
        "colab": {
          "base_uri": "https://localhost:8080/"
        },
        "id": "R7S4tSBBdDyA",
        "outputId": "020fec2d-0e78-45c2-ff1f-ea6fe2d347ee"
      },
      "outputs": [
        {
          "output_type": "stream",
          "name": "stdout",
          "text": [
            "225\n",
            "193\n"
          ]
        }
      ],
      "source": [
        "print(len(w_y_train_dummies.columns))\n",
        "print(len(m_y_test_dummies.columns))"
      ]
    },
    {
      "cell_type": "code",
      "execution_count": null,
      "metadata": {
        "colab": {
          "base_uri": "https://localhost:8080/"
        },
        "id": "Nn0nfGfWGnlq",
        "outputId": "5f8bffe3-4d15-4d00-daed-836728d7a7d6"
      },
      "outputs": [
        {
          "output_type": "stream",
          "name": "stdout",
          "text": [
            "1765\n",
            "1764\n",
            "1606\n",
            "1605\n"
          ]
        }
      ],
      "source": [
        "print(len(w_tokenizer.index_word) + 1)\n",
        "print(len(w_tokenizer.word_counts))\n",
        "\n",
        "print(len(m_tokenizer.index_word) + 1)\n",
        "print(len(m_tokenizer.word_counts))"
      ]
    },
    {
      "cell_type": "code",
      "execution_count": null,
      "metadata": {
        "colab": {
          "base_uri": "https://localhost:8080/"
        },
        "id": "Oc6gpU8pttUr",
        "outputId": "a7d998b8-0d19-48f8-db69-32e942e6a0d9"
      },
      "outputs": [
        {
          "output_type": "stream",
          "name": "stdout",
          "text": [
            "1800\n",
            "1600\n"
          ]
        }
      ],
      "source": [
        "print(w_tokenizer.num_words)\n",
        "print(m_tokenizer.num_words)"
      ]
    },
    {
      "cell_type": "code",
      "execution_count": null,
      "metadata": {
        "colab": {
          "base_uri": "https://localhost:8080/"
        },
        "id": "FykI7JSRY0MO",
        "outputId": "6227b144-3131-4b28-d257-76b770170839"
      },
      "outputs": [
        {
          "output_type": "stream",
          "name": "stdout",
          "text": [
            "140\n",
            "140\n"
          ]
        }
      ],
      "source": [
        "print(w_max_len)\n",
        "print(m_max_len)"
      ]
    },
    {
      "cell_type": "code",
      "execution_count": null,
      "metadata": {
        "colab": {
          "base_uri": "https://localhost:8080/"
        },
        "id": "1WkzXKFFF0HB",
        "outputId": "38e798c0-f907-4153-9195-cbb2596f2431"
      },
      "outputs": [
        {
          "output_type": "stream",
          "name": "stdout",
          "text": [
            "225\n",
            "193\n"
          ]
        }
      ],
      "source": [
        "print(len(women_df['level5/diagnosis'].unique()))\n",
        "print(len(men_df['level5/diagnosis'].unique()))"
      ]
    },
    {
      "cell_type": "code",
      "source": [
        "#women_df.to_csv(\"women_all_processed.csv\",index=False)\n",
        "\n",
        "#men_df.to_csv(\"women_all_processed.csv\",index=False)"
      ],
      "metadata": {
        "id": "qg4D5qmenVWj"
      },
      "execution_count": null,
      "outputs": []
    },
    {
      "cell_type": "code",
      "source": [
        "#women_df=women_df.to_csv('/content/gdrive/MyDrive/캡스톤/coco/women_all_processed.csv')\n",
        "#men_df=men_df.to_csv('/content/gdrive/MyDrive/캡스톤/coco/men_all_processed.csv')"
      ],
      "metadata": {
        "id": "TyfE22e9YiEA"
      },
      "execution_count": null,
      "outputs": []
    },
    {
      "cell_type": "markdown",
      "metadata": {
        "id": "qDY_XRkgmmgA"
      },
      "source": [
        "# class weight"
      ]
    },
    {
      "cell_type": "code",
      "execution_count": null,
      "metadata": {
        "id": "jl418l0vrLAK"
      },
      "outputs": [],
      "source": [
        "from sklearn.utils import class_weight\n",
        "import numpy as np\n",
        "\n",
        "class_weights = class_weight.compute_class_weight(class_weight ='balanced',\n",
        "                                                 classes = np.unique(men_df['level5/diagnosis']),\n",
        "                                                 y = men_df['level5/diagnosis'])\n",
        "\n",
        "m_class_weights = dict(enumerate(class_weights))"
      ]
    },
    {
      "cell_type": "code",
      "execution_count": null,
      "metadata": {
        "id": "f5YTS-PmmpEQ"
      },
      "outputs": [],
      "source": [
        "from sklearn.utils import class_weight\n",
        "import numpy as np\n",
        "\n",
        "class_weights = class_weight.compute_class_weight(class_weight ='balanced',\n",
        "                                                 classes = np.unique(women_df['level5/diagnosis']),\n",
        "                                                 y = women_df['level5/diagnosis'])\n",
        "\n",
        "w_class_weights = dict(enumerate(class_weights))"
      ]
    },
    {
      "cell_type": "markdown",
      "source": [
        "# 여기서부터 모델 돌리면 된다.!!"
      ],
      "metadata": {
        "id": "gPV8pcMVdIBb"
      }
    },
    {
      "cell_type": "code",
      "source": [
        "import pandas as pd\n",
        "women_df=pd.read_csv('/content/gdrive/MyDrive/캡스톤/coco/women_all_processed.csv')\n",
        "men_df=pd.read_csv('/content/gdrive/MyDrive/캡스톤/coco/men_all_processed.csv')"
      ],
      "metadata": {
        "id": "79G0Ry6HYkXU"
      },
      "execution_count": null,
      "outputs": []
    },
    {
      "cell_type": "markdown",
      "metadata": {
        "id": "7h1H3_p3Bm0e"
      },
      "source": [
        "# Model"
      ]
    },
    {
      "cell_type": "code",
      "source": [
        "class BahdanauAttention(tf.keras.Model):\n",
        "  def __init__(self, units):\n",
        "    super(BahdanauAttention, self).__init__()\n",
        "    self.W1 = Dense(units)\n",
        "    self.W2 = Dense(units)\n",
        "    self.V = Dense(1)\n",
        "\n",
        "  def call(self, values, query): # 단, key와 value는 같음\n",
        "    # query shape == (batch_size, hidden size)\n",
        "    # hidden_with_time_axis shape == (batch_size, 1, hidden size)\n",
        "    # score 계산을 위해 뒤에서 할 덧셈을 위해서 차원을 변경해줍니다.\n",
        "    hidden_with_time_axis = tf.expand_dims(query, 1)\n",
        "\n",
        "    # score shape == (batch_size, max_length, 1)\n",
        "    # we get 1 at the last axis because we are applying score to self.V\n",
        "    # the shape of the tensor before applying self.V is (batch_size, max_length, units)\n",
        "    score = self.V(tf.nn.tanh(\n",
        "        self.W1(values) + self.W2(hidden_with_time_axis)))\n",
        "\n",
        "    # attention_weights shape == (batch_size, max_length, 1)\n",
        "    attention_weights = tf.nn.softmax(score, axis=1)\n",
        "\n",
        "    # context_vector shape after sum == (batch_size, hidden_size)\n",
        "    context_vector = attention_weights * values\n",
        "    context_vector = tf.reduce_sum(context_vector, axis=1)\n",
        "\n",
        "    return context_vector, attention_weights"
      ],
      "metadata": {
        "id": "7l59SZs1Sr0L"
      },
      "execution_count": null,
      "outputs": []
    },
    {
      "cell_type": "markdown",
      "metadata": {
        "id": "ra4Hrsjtbqn0"
      },
      "source": [
        "## Multi (LSTM + Conv) _W"
      ]
    },
    {
      "cell_type": "code",
      "execution_count": null,
      "metadata": {
        "id": "vjo8aZCX_fxK"
      },
      "outputs": [],
      "source": [
        "def w_top_k_hitrate(predicted_proba, n=2):\n",
        "\n",
        "  eval_metric = []\n",
        "  top_k_result = tf.math.top_k(predicted_proba, k=n, sorted=True)\n",
        "  for i in range(len(top_k_result[1])):\n",
        "    first = top_k_result[1][i][0]\n",
        "    second = top_k_result[1][i][1]\n",
        "    third = top_k_result[1][i][2]\n",
        "\n",
        "    if w_ori_X_test['level5/diagnosis'].values[i] in (w_y_test_dummies.columns[first],\n",
        "                                                      w_y_test_dummies.columns[second],\n",
        "                                                      w_y_test_dummies.columns[third]):\n",
        "      eval_metric.append(1)\n",
        "    else:\n",
        "      eval_metric.append(0)\n",
        "\n",
        "  return np.mean(eval_metric)"
      ]
    },
    {
      "cell_type": "code",
      "execution_count": null,
      "metadata": {
        "id": "oCENR6zr-t1T"
      },
      "outputs": [],
      "source": [
        "from keras.preprocessing.sequence import pad_sequences\n",
        "from keras.layers import Activation, Conv2D, Input, Embedding, Reshape, MaxPool1D, Concatenate, Flatten, Dropout, Dense, Conv1D\n",
        "from keras.layers import MaxPool1D, BatchNormalization, SimpleRNN, MaxPooling1D\n",
        "from keras.models import Model\n",
        "from keras.layers import Embedding, Dense, LSTM, GlobalMaxPooling1D, Dropout, Conv1D, Bidirectional\n",
        "from keras.models import Sequential, load_model, save_model\n",
        "import tensorflow as tf\n",
        "from keras.callbacks import EarlyStopping, ModelCheckpoint\n",
        "import tensorflow.keras as keras\n",
        "\n",
        "w_VOCAB_SIZE = len(w_tokenizer.index_word) + 1\n",
        "num_filters = 512\n",
        "filter_sizes = [5, 7, 9]\n",
        "\n",
        "\n",
        "\n",
        "\n",
        "from tensorflow.keras.layers import Input, Embedding, LSTM, Dense, Bidirectional, Dropout, Concatenate\n",
        "\n",
        "embedding_dim = 1024\n",
        "\n",
        "# LSTM + Attention model\n",
        "inputs = Input(shape=(w_max_len,), dtype='int32')\n",
        "embedding = Embedding(w_VOCAB_SIZE, embedding_dim)(inputs) \n",
        "\n",
        "lstm = Bidirectional(LSTM(512, dropout=0.25, return_sequences = True))(embedding)\n",
        "lstm, forward_h, forward_c, backward_h, backward_c = Bidirectional \\\n",
        "  (LSTM(512, dropout=0.25, return_sequences=True, return_state=True))(lstm)\n",
        "state_h = Concatenate()([forward_h, backward_h]) # 은닉 상태\n",
        "state_c = Concatenate()([forward_c, backward_c]) # 셀 상태\n",
        "\n",
        "## add attention layers\n",
        "attention = BahdanauAttention(256) # 가중치 크기 정의\n",
        "context_vector, attention_weights = attention(lstm, state_h)\n",
        "\n",
        "x = Dense(2400, activation='relu')(context_vector)\n",
        "x = Dropout(0.3)(x)\n",
        "x = Dense(800, activation='relu')(x)\n",
        "x = Dropout(0.3)(x)\n",
        "output = Dense(units=len(women_df['level5/diagnosis'].unique()), activation='softmax')(x)\n",
        "\n",
        "\n",
        "\n",
        "'''\n",
        "lstm_1 = Bidirectional(LSTM(512, dropout=0.25, return_sequences = True))(embedding)\n",
        "lstm_2 = Bidirectional(LSTM(512, dropout=0.25, return_sequences = True))(embedding)\n",
        "lstm_3 = Bidirectional(LSTM(512, dropout=0.25, return_sequences = True))(embedding)\n",
        "\n",
        "lstm_maxpool_0 = MaxPooling1D(pool_size=4)(lstm_1)\n",
        "lstm_maxpool_1 = MaxPooling1D(pool_size=4)(lstm_2)\n",
        "lstm_maxpool_2 = MaxPooling1D(pool_size=4)(lstm_3)\n",
        "\n",
        "n_conv_0 = Conv1D(num_filters, kernel_size=(filter_sizes[0]),\n",
        "                padding='valid', activation='relu')(lstm_maxpool_0)\n",
        "n_conv_1 = Conv1D(num_filters, kernel_size=(filter_sizes[1]),\n",
        "                padding='valid', activation='relu')(lstm_maxpool_1)\n",
        "n_conv_2 = Conv1D(num_filters, kernel_size=(filter_sizes[2]),\n",
        "                padding='valid', activation='relu')(lstm_maxpool_2)\n",
        "\n",
        "#MaxPool1D\n",
        "n_maxpool_0 = GlobalMaxPooling1D()(n_conv_0)\n",
        "n_maxpool_1 = GlobalMaxPooling1D()(n_conv_1)\n",
        "n_maxpool_2 = GlobalMaxPooling1D()(n_conv_2)\n",
        "\n",
        "##############\n",
        "conv_0 = Conv1D(num_filters, kernel_size=(filter_sizes[0]),\n",
        "                padding='valid', activation='relu')(embedding)\n",
        "conv_1 = Conv1D(num_filters, kernel_size=(filter_sizes[1]),\n",
        "                padding='valid', activation='relu')(embedding)\n",
        "conv_2 = Conv1D(num_filters, kernel_size=(filter_sizes[2]),\n",
        "                padding='valid', activation='relu')(embedding)\n",
        "\n",
        "#MaxPool1D\n",
        "maxpool_0 = GlobalMaxPooling1D()(conv_0)\n",
        "maxpool_1 = GlobalMaxPooling1D()(conv_1)\n",
        "maxpool_2 = GlobalMaxPooling1D()(conv_2)\n",
        "################\n",
        "\n",
        "concatenated = Concatenate(axis=1)([maxpool_0, maxpool_1, maxpool_2,\n",
        "                                    n_maxpool_0, n_maxpool_1, n_maxpool_2])\n",
        "flatten_layer = Flatten()(concatenated)\n",
        "dropout_layer1 = Dropout(0.5)(flatten_layer)\n",
        "\n",
        "dense_layer3 = Dense(units=2400, activation='relu')(dropout_layer1)\n",
        "dropout_layer4 = Dropout(0.5)(dense_layer3)\n",
        "\n",
        "dense_layer4 = Dense(units=800, activation='relu')(dropout_layer4)\n",
        "dropout_layer5 = Dropout(0.5)(dense_layer4)\n",
        "\n",
        "output = Dense(units=len(women_df['level5/diagnosis'].unique()),\n",
        "               activation='softmax')(dropout_layer5)\n",
        "'''\n",
        "\n",
        "w_model = Model(inputs=inputs, outputs=output)\n",
        "\n",
        "w_model.compile(optimizer='adam', loss='categorical_crossentropy',\n",
        "                metrics=['accuracy',\n",
        "                         tf.keras.metrics.Precision(name='precision')])\n",
        "\n"
      ]
    },
    {
      "cell_type": "code",
      "source": [
        "women_df"
      ],
      "metadata": {
        "colab": {
          "base_uri": "https://localhost:8080/",
          "height": 423
        },
        "id": "m2MbptV6pfC2",
        "outputId": "33039437-0db7-49c5-d151-b7ae9ba1574b"
      },
      "execution_count": null,
      "outputs": [
        {
          "output_type": "execute_result",
          "data": {
            "text/plain": [
              "      Unnamed: 0 level5/diagnosis  \\\n",
              "0              0           소화성 궤양   \n",
              "1              1           소화성 궤양   \n",
              "2              2           소화성 궤양   \n",
              "3              3           소화성 궤양   \n",
              "4              4           소화성 궤양   \n",
              "...          ...              ...   \n",
              "2210        2210           갑상샘저하증   \n",
              "2211        2211            쿠싱증후군   \n",
              "2212        2212            폐경증후군   \n",
              "2213        2213            폐경증후군   \n",
              "2214        2214            터너증후군   \n",
              "\n",
              "                                                    All  \n",
              "0     배 아프다 50 대다 남자 1일 명치 부위 심해지다 이전 에도 3 차례 통증 보다 ...  \n",
              "1     갑자기 배 너무 아프다 30 대다 남자 오늘 새벽 명치 에서 시작 현재 복부 전체 ...  \n",
              "2     속이다 쓰리다 70 대다 여자 1 명치 부위 심해지다 속이다 쓰리다 약하다 구역질 ...  \n",
              "3     속이다 쓰리다 10 대다 남자 2 명치 부위 심해지다 명치 부위 누르다 아픔 쓰리다...  \n",
              "4     배 아프다 60 대다 남자 1시간 명치 부위 심해지다 명치 부위 아프다 쓰리다 고혈...  \n",
              "...                                                 ...  \n",
              "2210  콜레스테롤 높다 대요 50 대다 남자 1 개월 처음 피곤 식욕 저하 체중 증가 추위...  \n",
              "2211  콜레스테롤 높다 대요 30 대다 여자 1 처음 체중 변화 1 개월 근력 저하 복부 ...  \n",
              "2212    콜레스테롤 높다 대요 60 대다 여자 1 개월 처음 습관 운동 함 12년 폐경 과체중  \n",
              "2213             콜레스테롤 높다 대요 60 대다 여자 3 개월 처음 10년 폐경 정상  \n",
              "2214  생리 해 10 대다 여자 처음 부터 처음 초경 옴 턱 짧다 어리다 부터 성장 느리다...  \n",
              "\n",
              "[2215 rows x 3 columns]"
            ],
            "text/html": [
              "\n",
              "  <div id=\"df-3e85a789-73b1-4a20-8aca-4dc9ad7a8d3b\">\n",
              "    <div class=\"colab-df-container\">\n",
              "      <div>\n",
              "<style scoped>\n",
              "    .dataframe tbody tr th:only-of-type {\n",
              "        vertical-align: middle;\n",
              "    }\n",
              "\n",
              "    .dataframe tbody tr th {\n",
              "        vertical-align: top;\n",
              "    }\n",
              "\n",
              "    .dataframe thead th {\n",
              "        text-align: right;\n",
              "    }\n",
              "</style>\n",
              "<table border=\"1\" class=\"dataframe\">\n",
              "  <thead>\n",
              "    <tr style=\"text-align: right;\">\n",
              "      <th></th>\n",
              "      <th>Unnamed: 0</th>\n",
              "      <th>level5/diagnosis</th>\n",
              "      <th>All</th>\n",
              "    </tr>\n",
              "  </thead>\n",
              "  <tbody>\n",
              "    <tr>\n",
              "      <th>0</th>\n",
              "      <td>0</td>\n",
              "      <td>소화성 궤양</td>\n",
              "      <td>배 아프다 50 대다 남자 1일 명치 부위 심해지다 이전 에도 3 차례 통증 보다 ...</td>\n",
              "    </tr>\n",
              "    <tr>\n",
              "      <th>1</th>\n",
              "      <td>1</td>\n",
              "      <td>소화성 궤양</td>\n",
              "      <td>갑자기 배 너무 아프다 30 대다 남자 오늘 새벽 명치 에서 시작 현재 복부 전체 ...</td>\n",
              "    </tr>\n",
              "    <tr>\n",
              "      <th>2</th>\n",
              "      <td>2</td>\n",
              "      <td>소화성 궤양</td>\n",
              "      <td>속이다 쓰리다 70 대다 여자 1 명치 부위 심해지다 속이다 쓰리다 약하다 구역질 ...</td>\n",
              "    </tr>\n",
              "    <tr>\n",
              "      <th>3</th>\n",
              "      <td>3</td>\n",
              "      <td>소화성 궤양</td>\n",
              "      <td>속이다 쓰리다 10 대다 남자 2 명치 부위 심해지다 명치 부위 누르다 아픔 쓰리다...</td>\n",
              "    </tr>\n",
              "    <tr>\n",
              "      <th>4</th>\n",
              "      <td>4</td>\n",
              "      <td>소화성 궤양</td>\n",
              "      <td>배 아프다 60 대다 남자 1시간 명치 부위 심해지다 명치 부위 아프다 쓰리다 고혈...</td>\n",
              "    </tr>\n",
              "    <tr>\n",
              "      <th>...</th>\n",
              "      <td>...</td>\n",
              "      <td>...</td>\n",
              "      <td>...</td>\n",
              "    </tr>\n",
              "    <tr>\n",
              "      <th>2210</th>\n",
              "      <td>2210</td>\n",
              "      <td>갑상샘저하증</td>\n",
              "      <td>콜레스테롤 높다 대요 50 대다 남자 1 개월 처음 피곤 식욕 저하 체중 증가 추위...</td>\n",
              "    </tr>\n",
              "    <tr>\n",
              "      <th>2211</th>\n",
              "      <td>2211</td>\n",
              "      <td>쿠싱증후군</td>\n",
              "      <td>콜레스테롤 높다 대요 30 대다 여자 1 처음 체중 변화 1 개월 근력 저하 복부 ...</td>\n",
              "    </tr>\n",
              "    <tr>\n",
              "      <th>2212</th>\n",
              "      <td>2212</td>\n",
              "      <td>폐경증후군</td>\n",
              "      <td>콜레스테롤 높다 대요 60 대다 여자 1 개월 처음 습관 운동 함 12년 폐경 과체중</td>\n",
              "    </tr>\n",
              "    <tr>\n",
              "      <th>2213</th>\n",
              "      <td>2213</td>\n",
              "      <td>폐경증후군</td>\n",
              "      <td>콜레스테롤 높다 대요 60 대다 여자 3 개월 처음 10년 폐경 정상</td>\n",
              "    </tr>\n",
              "    <tr>\n",
              "      <th>2214</th>\n",
              "      <td>2214</td>\n",
              "      <td>터너증후군</td>\n",
              "      <td>생리 해 10 대다 여자 처음 부터 처음 초경 옴 턱 짧다 어리다 부터 성장 느리다...</td>\n",
              "    </tr>\n",
              "  </tbody>\n",
              "</table>\n",
              "<p>2215 rows × 3 columns</p>\n",
              "</div>\n",
              "      <button class=\"colab-df-convert\" onclick=\"convertToInteractive('df-3e85a789-73b1-4a20-8aca-4dc9ad7a8d3b')\"\n",
              "              title=\"Convert this dataframe to an interactive table.\"\n",
              "              style=\"display:none;\">\n",
              "        \n",
              "  <svg xmlns=\"http://www.w3.org/2000/svg\" height=\"24px\"viewBox=\"0 0 24 24\"\n",
              "       width=\"24px\">\n",
              "    <path d=\"M0 0h24v24H0V0z\" fill=\"none\"/>\n",
              "    <path d=\"M18.56 5.44l.94 2.06.94-2.06 2.06-.94-2.06-.94-.94-2.06-.94 2.06-2.06.94zm-11 1L8.5 8.5l.94-2.06 2.06-.94-2.06-.94L8.5 2.5l-.94 2.06-2.06.94zm10 10l.94 2.06.94-2.06 2.06-.94-2.06-.94-.94-2.06-.94 2.06-2.06.94z\"/><path d=\"M17.41 7.96l-1.37-1.37c-.4-.4-.92-.59-1.43-.59-.52 0-1.04.2-1.43.59L10.3 9.45l-7.72 7.72c-.78.78-.78 2.05 0 2.83L4 21.41c.39.39.9.59 1.41.59.51 0 1.02-.2 1.41-.59l7.78-7.78 2.81-2.81c.8-.78.8-2.07 0-2.86zM5.41 20L4 18.59l7.72-7.72 1.47 1.35L5.41 20z\"/>\n",
              "  </svg>\n",
              "      </button>\n",
              "      \n",
              "  <style>\n",
              "    .colab-df-container {\n",
              "      display:flex;\n",
              "      flex-wrap:wrap;\n",
              "      gap: 12px;\n",
              "    }\n",
              "\n",
              "    .colab-df-convert {\n",
              "      background-color: #E8F0FE;\n",
              "      border: none;\n",
              "      border-radius: 50%;\n",
              "      cursor: pointer;\n",
              "      display: none;\n",
              "      fill: #1967D2;\n",
              "      height: 32px;\n",
              "      padding: 0 0 0 0;\n",
              "      width: 32px;\n",
              "    }\n",
              "\n",
              "    .colab-df-convert:hover {\n",
              "      background-color: #E2EBFA;\n",
              "      box-shadow: 0px 1px 2px rgba(60, 64, 67, 0.3), 0px 1px 3px 1px rgba(60, 64, 67, 0.15);\n",
              "      fill: #174EA6;\n",
              "    }\n",
              "\n",
              "    [theme=dark] .colab-df-convert {\n",
              "      background-color: #3B4455;\n",
              "      fill: #D2E3FC;\n",
              "    }\n",
              "\n",
              "    [theme=dark] .colab-df-convert:hover {\n",
              "      background-color: #434B5C;\n",
              "      box-shadow: 0px 1px 3px 1px rgba(0, 0, 0, 0.15);\n",
              "      filter: drop-shadow(0px 1px 2px rgba(0, 0, 0, 0.3));\n",
              "      fill: #FFFFFF;\n",
              "    }\n",
              "  </style>\n",
              "\n",
              "      <script>\n",
              "        const buttonEl =\n",
              "          document.querySelector('#df-3e85a789-73b1-4a20-8aca-4dc9ad7a8d3b button.colab-df-convert');\n",
              "        buttonEl.style.display =\n",
              "          google.colab.kernel.accessAllowed ? 'block' : 'none';\n",
              "\n",
              "        async function convertToInteractive(key) {\n",
              "          const element = document.querySelector('#df-3e85a789-73b1-4a20-8aca-4dc9ad7a8d3b');\n",
              "          const dataTable =\n",
              "            await google.colab.kernel.invokeFunction('convertToInteractive',\n",
              "                                                     [key], {});\n",
              "          if (!dataTable) return;\n",
              "\n",
              "          const docLinkHtml = 'Like what you see? Visit the ' +\n",
              "            '<a target=\"_blank\" href=https://colab.research.google.com/notebooks/data_table.ipynb>data table notebook</a>'\n",
              "            + ' to learn more about interactive tables.';\n",
              "          element.innerHTML = '';\n",
              "          dataTable['output_type'] = 'display_data';\n",
              "          await google.colab.output.renderOutput(dataTable, element);\n",
              "          const docLink = document.createElement('div');\n",
              "          docLink.innerHTML = docLinkHtml;\n",
              "          element.appendChild(docLink);\n",
              "        }\n",
              "      </script>\n",
              "    </div>\n",
              "  </div>\n",
              "  "
            ]
          },
          "metadata": {},
          "execution_count": 393
        }
      ]
    },
    {
      "cell_type": "code",
      "source": [
        "history = w_model.fit(w_X_train_sequence, w_y_train_dummies, epochs=100, \n",
        "                      batch_size = 512, class_weight = w_class_weights,\n",
        "                      validation_split=0.2)"
      ],
      "metadata": {
        "colab": {
          "base_uri": "https://localhost:8080/"
        },
        "id": "Xjv6cUuqRXOj",
        "outputId": "916eda96-358b-4c8f-cc60-e24d3ead7b58"
      },
      "execution_count": null,
      "outputs": [
        {
          "output_type": "stream",
          "name": "stdout",
          "text": [
            "Epoch 1/100\n",
            "3/3 [==============================] - 19s 4s/step - loss: 5.4234 - accuracy: 0.0023 - precision: 0.0000e+00 - val_loss: 5.4197 - val_accuracy: 0.0000e+00 - val_precision: 0.0000e+00\n",
            "Epoch 2/100\n",
            "3/3 [==============================] - 9s 3s/step - loss: 5.4176 - accuracy: 0.0030 - precision: 0.0000e+00 - val_loss: 5.4195 - val_accuracy: 0.0000e+00 - val_precision: 0.0000e+00\n",
            "Epoch 3/100\n",
            "3/3 [==============================] - 9s 3s/step - loss: 5.4139 - accuracy: 0.0023 - precision: 0.0000e+00 - val_loss: 5.4330 - val_accuracy: 0.0000e+00 - val_precision: 0.0000e+00\n",
            "Epoch 4/100\n",
            "3/3 [==============================] - 9s 3s/step - loss: 5.3743 - accuracy: 0.0030 - precision: 0.0000e+00 - val_loss: 5.4470 - val_accuracy: 0.0000e+00 - val_precision: 0.0000e+00\n",
            "Epoch 5/100\n",
            "3/3 [==============================] - 9s 3s/step - loss: 5.3164 - accuracy: 0.0045 - precision: 0.0000e+00 - val_loss: 5.4490 - val_accuracy: 0.0060 - val_precision: 0.0000e+00\n",
            "Epoch 6/100\n",
            "3/3 [==============================] - 9s 3s/step - loss: 5.2003 - accuracy: 0.0068 - precision: 0.0000e+00 - val_loss: 5.3653 - val_accuracy: 0.0030 - val_precision: 0.0000e+00\n",
            "Epoch 7/100\n",
            "3/3 [==============================] - 9s 3s/step - loss: 5.0374 - accuracy: 0.0075 - precision: 0.0000e+00 - val_loss: 5.2895 - val_accuracy: 0.0060 - val_precision: 0.0000e+00\n",
            "Epoch 8/100\n",
            "3/3 [==============================] - 9s 3s/step - loss: 4.9144 - accuracy: 0.0098 - precision: 0.0000e+00 - val_loss: 5.2965 - val_accuracy: 0.0060 - val_precision: 0.0000e+00\n",
            "Epoch 9/100\n",
            "3/3 [==============================] - 9s 3s/step - loss: 4.7667 - accuracy: 0.0113 - precision: 0.0000e+00 - val_loss: 5.2346 - val_accuracy: 0.0060 - val_precision: 0.0000e+00\n",
            "Epoch 10/100\n",
            "3/3 [==============================] - 9s 3s/step - loss: 4.5865 - accuracy: 0.0294 - precision: 0.5000 - val_loss: 5.0708 - val_accuracy: 0.0060 - val_precision: 0.0000e+00\n",
            "Epoch 11/100\n",
            "3/3 [==============================] - 9s 3s/step - loss: 4.4185 - accuracy: 0.0339 - precision: 0.0000e+00 - val_loss: 4.9726 - val_accuracy: 0.0090 - val_precision: 0.0000e+00\n",
            "Epoch 12/100\n",
            "3/3 [==============================] - 9s 3s/step - loss: 4.2065 - accuracy: 0.0414 - precision: 0.5556 - val_loss: 4.8052 - val_accuracy: 0.0270 - val_precision: 0.0000e+00\n",
            "Epoch 13/100\n",
            "3/3 [==============================] - 9s 3s/step - loss: 4.0209 - accuracy: 0.0565 - precision: 0.5714 - val_loss: 4.5681 - val_accuracy: 0.0571 - val_precision: 0.0000e+00\n",
            "Epoch 14/100\n",
            "3/3 [==============================] - 9s 3s/step - loss: 3.7990 - accuracy: 0.0836 - precision: 0.4390 - val_loss: 4.3063 - val_accuracy: 0.0631 - val_precision: 0.5000\n",
            "Epoch 15/100\n",
            "3/3 [==============================] - 9s 3s/step - loss: 3.4690 - accuracy: 0.1461 - precision: 0.4500 - val_loss: 4.1314 - val_accuracy: 0.1051 - val_precision: 0.5000\n",
            "Epoch 16/100\n",
            "3/3 [==============================] - 9s 3s/step - loss: 3.2301 - accuracy: 0.1830 - precision: 0.5446 - val_loss: 4.0020 - val_accuracy: 0.1682 - val_precision: 0.4615\n",
            "Epoch 17/100\n",
            "3/3 [==============================] - 9s 3s/step - loss: 2.8697 - accuracy: 0.2470 - precision: 0.6625 - val_loss: 3.5544 - val_accuracy: 0.2523 - val_precision: 0.8438\n",
            "Epoch 18/100\n",
            "3/3 [==============================] - 9s 3s/step - loss: 2.5709 - accuracy: 0.3012 - precision: 0.6423 - val_loss: 3.3853 - val_accuracy: 0.2042 - val_precision: 0.6667\n",
            "Epoch 19/100\n",
            "3/3 [==============================] - 9s 3s/step - loss: 2.2397 - accuracy: 0.3268 - precision: 0.6221 - val_loss: 3.2757 - val_accuracy: 0.2913 - val_precision: 0.6607\n",
            "Epoch 20/100\n",
            "3/3 [==============================] - 9s 3s/step - loss: 1.9646 - accuracy: 0.4074 - precision: 0.6943 - val_loss: 2.9677 - val_accuracy: 0.3514 - val_precision: 0.7959\n",
            "Epoch 21/100\n",
            "3/3 [==============================] - 9s 3s/step - loss: 1.7437 - accuracy: 0.4639 - precision: 0.7004 - val_loss: 2.8761 - val_accuracy: 0.3784 - val_precision: 0.7850\n",
            "Epoch 22/100\n",
            "3/3 [==============================] - 9s 3s/step - loss: 1.4190 - accuracy: 0.5444 - precision: 0.7530 - val_loss: 2.5822 - val_accuracy: 0.5015 - val_precision: 0.8582\n",
            "Epoch 23/100\n",
            "3/3 [==============================] - 9s 3s/step - loss: 1.1907 - accuracy: 0.6235 - precision: 0.8482 - val_loss: 2.7023 - val_accuracy: 0.5045 - val_precision: 0.7516\n",
            "Epoch 24/100\n",
            "3/3 [==============================] - 9s 3s/step - loss: 0.9614 - accuracy: 0.6468 - precision: 0.8030 - val_loss: 2.7908 - val_accuracy: 0.4925 - val_precision: 0.7238\n",
            "Epoch 25/100\n",
            "3/3 [==============================] - 9s 3s/step - loss: 0.9150 - accuracy: 0.6634 - precision: 0.7998 - val_loss: 2.5922 - val_accuracy: 0.5315 - val_precision: 0.7366\n",
            "Epoch 26/100\n",
            "3/3 [==============================] - 9s 3s/step - loss: 0.7362 - accuracy: 0.7184 - precision: 0.8358 - val_loss: 2.5534 - val_accuracy: 0.5616 - val_precision: 0.7357\n",
            "Epoch 27/100\n",
            "3/3 [==============================] - 9s 3s/step - loss: 0.6861 - accuracy: 0.7538 - precision: 0.8419 - val_loss: 2.6175 - val_accuracy: 0.5856 - val_precision: 0.7149\n",
            "Epoch 28/100\n",
            "3/3 [==============================] - 9s 3s/step - loss: 0.6326 - accuracy: 0.7779 - precision: 0.8667 - val_loss: 2.4078 - val_accuracy: 0.5796 - val_precision: 0.7348\n",
            "Epoch 29/100\n",
            "3/3 [==============================] - 9s 3s/step - loss: 0.5376 - accuracy: 0.7974 - precision: 0.8652 - val_loss: 2.5682 - val_accuracy: 0.5586 - val_precision: 0.6911\n",
            "Epoch 30/100\n",
            "3/3 [==============================] - 9s 3s/step - loss: 0.3938 - accuracy: 0.8343 - precision: 0.8984 - val_loss: 2.5629 - val_accuracy: 0.5976 - val_precision: 0.7305\n",
            "Epoch 31/100\n",
            "3/3 [==============================] - 9s 3s/step - loss: 0.4208 - accuracy: 0.8426 - precision: 0.9053 - val_loss: 2.5080 - val_accuracy: 0.6066 - val_precision: 0.7306\n",
            "Epoch 32/100\n",
            "3/3 [==============================] - 9s 3s/step - loss: 0.3631 - accuracy: 0.8765 - precision: 0.9174 - val_loss: 2.6884 - val_accuracy: 0.6036 - val_precision: 0.6775\n",
            "Epoch 33/100\n",
            "3/3 [==============================] - 9s 3s/step - loss: 0.3542 - accuracy: 0.8773 - precision: 0.9107 - val_loss: 2.6861 - val_accuracy: 0.5916 - val_precision: 0.6850\n",
            "Epoch 34/100\n",
            "3/3 [==============================] - 9s 3s/step - loss: 0.3016 - accuracy: 0.8893 - precision: 0.9114 - val_loss: 2.7837 - val_accuracy: 0.6096 - val_precision: 0.6895\n",
            "Epoch 35/100\n",
            "3/3 [==============================] - 9s 3s/step - loss: 0.2782 - accuracy: 0.8878 - precision: 0.9179 - val_loss: 2.5791 - val_accuracy: 0.6186 - val_precision: 0.6982\n",
            "Epoch 36/100\n",
            "3/3 [==============================] - 9s 3s/step - loss: 0.2321 - accuracy: 0.9006 - precision: 0.9282 - val_loss: 2.5409 - val_accuracy: 0.6096 - val_precision: 0.6833\n",
            "Epoch 37/100\n",
            "3/3 [==============================] - 9s 3s/step - loss: 0.2083 - accuracy: 0.9307 - precision: 0.9521 - val_loss: 2.7156 - val_accuracy: 0.6276 - val_precision: 0.6912\n",
            "Epoch 38/100\n",
            "3/3 [==============================] - 9s 3s/step - loss: 0.1843 - accuracy: 0.9345 - precision: 0.9499 - val_loss: 2.6151 - val_accuracy: 0.6336 - val_precision: 0.7153\n",
            "Epoch 39/100\n",
            "3/3 [==============================] - 9s 3s/step - loss: 0.1604 - accuracy: 0.9352 - precision: 0.9525 - val_loss: 2.6656 - val_accuracy: 0.6456 - val_precision: 0.7138\n",
            "Epoch 40/100\n",
            "3/3 [==============================] - 9s 3s/step - loss: 0.1592 - accuracy: 0.9352 - precision: 0.9518 - val_loss: 2.9027 - val_accuracy: 0.6336 - val_precision: 0.6856\n",
            "Epoch 41/100\n",
            "3/3 [==============================] - 9s 3s/step - loss: 0.1364 - accuracy: 0.9473 - precision: 0.9578 - val_loss: 2.8362 - val_accuracy: 0.6396 - val_precision: 0.6863\n",
            "Epoch 42/100\n",
            "3/3 [==============================] - 9s 3s/step - loss: 0.1388 - accuracy: 0.9473 - precision: 0.9614 - val_loss: 2.9366 - val_accuracy: 0.6366 - val_precision: 0.6873\n",
            "Epoch 43/100\n",
            "3/3 [==============================] - 9s 3s/step - loss: 0.1213 - accuracy: 0.9593 - precision: 0.9738 - val_loss: 2.9791 - val_accuracy: 0.6426 - val_precision: 0.6906\n",
            "Epoch 44/100\n",
            "3/3 [==============================] - 9s 3s/step - loss: 0.1289 - accuracy: 0.9563 - precision: 0.9642 - val_loss: 2.8386 - val_accuracy: 0.6426 - val_precision: 0.6931\n",
            "Epoch 45/100\n",
            "3/3 [==============================] - 9s 3s/step - loss: 0.0942 - accuracy: 0.9714 - precision: 0.9787 - val_loss: 2.7964 - val_accuracy: 0.6426 - val_precision: 0.6773\n",
            "Epoch 46/100\n",
            "3/3 [==============================] - 9s 3s/step - loss: 0.0725 - accuracy: 0.9759 - precision: 0.9787 - val_loss: 2.9507 - val_accuracy: 0.6577 - val_precision: 0.7016\n",
            "Epoch 47/100\n",
            "3/3 [==============================] - 9s 3s/step - loss: 0.1050 - accuracy: 0.9503 - precision: 0.9566 - val_loss: 2.8750 - val_accuracy: 0.6486 - val_precision: 0.6997\n",
            "Epoch 48/100\n",
            "3/3 [==============================] - 9s 3s/step - loss: 0.0688 - accuracy: 0.9736 - precision: 0.9794 - val_loss: 2.7533 - val_accuracy: 0.6547 - val_precision: 0.7003\n",
            "Epoch 49/100\n",
            "3/3 [==============================] - 9s 3s/step - loss: 0.0479 - accuracy: 0.9819 - precision: 0.9863 - val_loss: 2.8041 - val_accuracy: 0.6637 - val_precision: 0.7078\n",
            "Epoch 50/100\n",
            "3/3 [==============================] - 9s 3s/step - loss: 0.0779 - accuracy: 0.9706 - precision: 0.9742 - val_loss: 2.9363 - val_accuracy: 0.6727 - val_precision: 0.7038\n",
            "Epoch 51/100\n",
            "3/3 [==============================] - 9s 3s/step - loss: 0.0601 - accuracy: 0.9759 - precision: 0.9818 - val_loss: 3.0131 - val_accuracy: 0.6637 - val_precision: 0.6933\n",
            "Epoch 52/100\n",
            "3/3 [==============================] - 9s 3s/step - loss: 0.0492 - accuracy: 0.9812 - precision: 0.9841 - val_loss: 3.0369 - val_accuracy: 0.6456 - val_precision: 0.6859\n",
            "Epoch 53/100\n",
            "3/3 [==============================] - 9s 3s/step - loss: 0.0573 - accuracy: 0.9797 - precision: 0.9818 - val_loss: 3.0384 - val_accuracy: 0.6486 - val_precision: 0.6928\n",
            "Epoch 54/100\n",
            "3/3 [==============================] - 9s 3s/step - loss: 0.0606 - accuracy: 0.9804 - precision: 0.9833 - val_loss: 3.0499 - val_accuracy: 0.6577 - val_precision: 0.6849\n",
            "Epoch 55/100\n",
            "3/3 [==============================] - 9s 3s/step - loss: 0.0562 - accuracy: 0.9834 - precision: 0.9841 - val_loss: 3.1613 - val_accuracy: 0.6517 - val_precision: 0.6837\n",
            "Epoch 56/100\n",
            "3/3 [==============================] - 9s 3s/step - loss: 0.0571 - accuracy: 0.9819 - precision: 0.9834 - val_loss: 3.0978 - val_accuracy: 0.6637 - val_precision: 0.7082\n",
            "Epoch 57/100\n",
            "3/3 [==============================] - 9s 3s/step - loss: 0.0455 - accuracy: 0.9864 - precision: 0.9872 - val_loss: 3.1050 - val_accuracy: 0.6577 - val_precision: 0.6913\n",
            "Epoch 58/100\n",
            "3/3 [==============================] - 9s 3s/step - loss: 0.0507 - accuracy: 0.9857 - precision: 0.9864 - val_loss: 3.0522 - val_accuracy: 0.6667 - val_precision: 0.7000\n",
            "Epoch 59/100\n",
            "3/3 [==============================] - 9s 3s/step - loss: 0.0396 - accuracy: 0.9842 - precision: 0.9856 - val_loss: 2.9986 - val_accuracy: 0.6817 - val_precision: 0.7066\n",
            "Epoch 60/100\n",
            "3/3 [==============================] - 9s 3s/step - loss: 0.0355 - accuracy: 0.9827 - precision: 0.9849 - val_loss: 3.0848 - val_accuracy: 0.6907 - val_precision: 0.7121\n",
            "Epoch 61/100\n",
            "3/3 [==============================] - 9s 3s/step - loss: 0.0421 - accuracy: 0.9827 - precision: 0.9827 - val_loss: 3.0146 - val_accuracy: 0.6967 - val_precision: 0.7210\n",
            "Epoch 62/100\n",
            "3/3 [==============================] - 9s 3s/step - loss: 0.0251 - accuracy: 0.9880 - precision: 0.9879 - val_loss: 2.9804 - val_accuracy: 0.6847 - val_precision: 0.7235\n",
            "Epoch 63/100\n",
            "3/3 [==============================] - 9s 3s/step - loss: 0.0386 - accuracy: 0.9872 - precision: 0.9894 - val_loss: 3.1248 - val_accuracy: 0.6757 - val_precision: 0.7098\n",
            "Epoch 64/100\n",
            "3/3 [==============================] - 9s 3s/step - loss: 0.0364 - accuracy: 0.9910 - precision: 0.9917 - val_loss: 3.3691 - val_accuracy: 0.6547 - val_precision: 0.6877\n",
            "Epoch 65/100\n",
            "3/3 [==============================] - 9s 3s/step - loss: 0.0522 - accuracy: 0.9872 - precision: 0.9894 - val_loss: 3.2438 - val_accuracy: 0.6727 - val_precision: 0.7184\n",
            "Epoch 66/100\n",
            "3/3 [==============================] - 9s 3s/step - loss: 0.0414 - accuracy: 0.9902 - precision: 0.9917 - val_loss: 3.2673 - val_accuracy: 0.6697 - val_precision: 0.7061\n",
            "Epoch 67/100\n",
            "3/3 [==============================] - 9s 3s/step - loss: 0.0473 - accuracy: 0.9872 - precision: 0.9887 - val_loss: 3.3134 - val_accuracy: 0.6667 - val_precision: 0.6972\n",
            "Epoch 68/100\n",
            "3/3 [==============================] - 9s 3s/step - loss: 0.0321 - accuracy: 0.9925 - precision: 0.9925 - val_loss: 3.2227 - val_accuracy: 0.6757 - val_precision: 0.7083\n",
            "Epoch 69/100\n",
            "3/3 [==============================] - 9s 3s/step - loss: 0.0360 - accuracy: 0.9872 - precision: 0.9894 - val_loss: 3.1015 - val_accuracy: 0.6757 - val_precision: 0.7111\n",
            "Epoch 70/100\n",
            "3/3 [==============================] - 9s 3s/step - loss: 0.0600 - accuracy: 0.9849 - precision: 0.9864 - val_loss: 3.1672 - val_accuracy: 0.6607 - val_precision: 0.7092\n",
            "Epoch 71/100\n",
            "3/3 [==============================] - 9s 3s/step - loss: 0.0327 - accuracy: 0.9902 - precision: 0.9910 - val_loss: 3.5674 - val_accuracy: 0.6306 - val_precision: 0.6603\n",
            "Epoch 72/100\n",
            "3/3 [==============================] - 9s 3s/step - loss: 0.0478 - accuracy: 0.9864 - precision: 0.9894 - val_loss: 3.5912 - val_accuracy: 0.6366 - val_precision: 0.6667\n",
            "Epoch 73/100\n",
            "3/3 [==============================] - 9s 3s/step - loss: 0.0377 - accuracy: 0.9880 - precision: 0.9917 - val_loss: 3.3819 - val_accuracy: 0.6667 - val_precision: 0.6877\n",
            "Epoch 74/100\n",
            "3/3 [==============================] - 9s 3s/step - loss: 0.0456 - accuracy: 0.9812 - precision: 0.9826 - val_loss: 3.2593 - val_accuracy: 0.6757 - val_precision: 0.6909\n",
            "Epoch 75/100\n",
            "3/3 [==============================] - 9s 3s/step - loss: 0.0471 - accuracy: 0.9849 - precision: 0.9872 - val_loss: 3.3542 - val_accuracy: 0.6817 - val_precision: 0.7022\n",
            "Epoch 76/100\n",
            "3/3 [==============================] - 9s 3s/step - loss: 0.0480 - accuracy: 0.9857 - precision: 0.9864 - val_loss: 3.4748 - val_accuracy: 0.6757 - val_precision: 0.6972\n",
            "Epoch 77/100\n",
            "3/3 [==============================] - 9s 3s/step - loss: 0.0316 - accuracy: 0.9895 - precision: 0.9902 - val_loss: 3.5321 - val_accuracy: 0.6757 - val_precision: 0.7035\n",
            "Epoch 78/100\n",
            "3/3 [==============================] - 9s 3s/step - loss: 0.0505 - accuracy: 0.9864 - precision: 0.9872 - val_loss: 3.3851 - val_accuracy: 0.6847 - val_precision: 0.7070\n",
            "Epoch 79/100\n",
            "3/3 [==============================] - 9s 3s/step - loss: 0.0340 - accuracy: 0.9902 - precision: 0.9910 - val_loss: 3.3631 - val_accuracy: 0.6667 - val_precision: 0.7006\n",
            "Epoch 80/100\n",
            "3/3 [==============================] - 9s 3s/step - loss: 0.0269 - accuracy: 0.9872 - precision: 0.9887 - val_loss: 3.3213 - val_accuracy: 0.6847 - val_precision: 0.7079\n",
            "Epoch 81/100\n",
            "3/3 [==============================] - 9s 3s/step - loss: 0.0427 - accuracy: 0.9902 - precision: 0.9924 - val_loss: 3.3784 - val_accuracy: 0.6757 - val_precision: 0.6991\n",
            "Epoch 82/100\n",
            "3/3 [==============================] - 9s 3s/step - loss: 0.0324 - accuracy: 0.9819 - precision: 0.9827 - val_loss: 3.4486 - val_accuracy: 0.6787 - val_precision: 0.7170\n",
            "Epoch 83/100\n",
            "3/3 [==============================] - 9s 3s/step - loss: 0.0398 - accuracy: 0.9872 - precision: 0.9887 - val_loss: 3.3749 - val_accuracy: 0.6847 - val_precision: 0.7229\n",
            "Epoch 84/100\n",
            "3/3 [==============================] - 9s 3s/step - loss: 0.0402 - accuracy: 0.9910 - precision: 0.9910 - val_loss: 3.5136 - val_accuracy: 0.6727 - val_precision: 0.6959\n",
            "Epoch 85/100\n",
            "3/3 [==============================] - 9s 3s/step - loss: 0.0465 - accuracy: 0.9827 - precision: 0.9856 - val_loss: 3.6369 - val_accuracy: 0.6607 - val_precision: 0.6909\n",
            "Epoch 86/100\n",
            "3/3 [==============================] - 9s 3s/step - loss: 0.0522 - accuracy: 0.9819 - precision: 0.9834 - val_loss: 3.6284 - val_accuracy: 0.6486 - val_precision: 0.6719\n",
            "Epoch 87/100\n",
            "3/3 [==============================] - 9s 3s/step - loss: 0.0585 - accuracy: 0.9759 - precision: 0.9795 - val_loss: 3.3486 - val_accuracy: 0.6757 - val_precision: 0.6881\n",
            "Epoch 88/100\n",
            "3/3 [==============================] - 9s 3s/step - loss: 0.0561 - accuracy: 0.9834 - precision: 0.9871 - val_loss: 3.3318 - val_accuracy: 0.6486 - val_precision: 0.6762\n",
            "Epoch 89/100\n",
            "3/3 [==============================] - 9s 3s/step - loss: 0.0215 - accuracy: 0.9940 - precision: 0.9947 - val_loss: 3.4578 - val_accuracy: 0.6517 - val_precision: 0.6835\n",
            "Epoch 90/100\n",
            "3/3 [==============================] - 9s 3s/step - loss: 0.0491 - accuracy: 0.9902 - precision: 0.9932 - val_loss: 3.5033 - val_accuracy: 0.6547 - val_precision: 0.6824\n",
            "Epoch 91/100\n",
            "3/3 [==============================] - 9s 3s/step - loss: 0.0222 - accuracy: 0.9917 - precision: 0.9917 - val_loss: 3.6494 - val_accuracy: 0.6547 - val_precision: 0.6879\n",
            "Epoch 92/100\n",
            "3/3 [==============================] - 9s 3s/step - loss: 0.0464 - accuracy: 0.9864 - precision: 0.9879 - val_loss: 3.4490 - val_accuracy: 0.6817 - val_precision: 0.7129\n",
            "Epoch 93/100\n",
            "3/3 [==============================] - 9s 3s/step - loss: 0.0409 - accuracy: 0.9842 - precision: 0.9864 - val_loss: 3.4093 - val_accuracy: 0.6697 - val_precision: 0.7006\n",
            "Epoch 94/100\n",
            "3/3 [==============================] - 9s 3s/step - loss: 0.0430 - accuracy: 0.9834 - precision: 0.9849 - val_loss: 3.3820 - val_accuracy: 0.6907 - val_precision: 0.7188\n",
            "Epoch 95/100\n",
            "3/3 [==============================] - 9s 3s/step - loss: 0.0535 - accuracy: 0.9827 - precision: 0.9834 - val_loss: 3.5492 - val_accuracy: 0.6757 - val_precision: 0.7093\n",
            "Epoch 96/100\n",
            "3/3 [==============================] - 9s 3s/step - loss: 0.0518 - accuracy: 0.9902 - precision: 0.9910 - val_loss: 3.7225 - val_accuracy: 0.6517 - val_precision: 0.6803\n",
            "Epoch 97/100\n",
            "3/3 [==============================] - 9s 3s/step - loss: 0.0634 - accuracy: 0.9767 - precision: 0.9818 - val_loss: 3.5947 - val_accuracy: 0.6637 - val_precision: 0.6844\n",
            "Epoch 98/100\n",
            "3/3 [==============================] - 9s 3s/step - loss: 0.0890 - accuracy: 0.9736 - precision: 0.9751 - val_loss: 3.4573 - val_accuracy: 0.6787 - val_precision: 0.7089\n",
            "Epoch 99/100\n",
            "3/3 [==============================] - 9s 3s/step - loss: 0.0900 - accuracy: 0.9752 - precision: 0.9780 - val_loss: 3.3041 - val_accuracy: 0.6637 - val_precision: 0.6987\n",
            "Epoch 100/100\n",
            "3/3 [==============================] - 9s 3s/step - loss: 0.1042 - accuracy: 0.9556 - precision: 0.9628 - val_loss: 3.3250 - val_accuracy: 0.6577 - val_precision: 0.6889\n"
          ]
        }
      ]
    },
    {
      "cell_type": "code",
      "execution_count": null,
      "metadata": {
        "colab": {
          "base_uri": "https://localhost:8080/"
        },
        "id": "zDZQlL9T-tPN",
        "outputId": "17a53b14-171b-426d-91cc-753821d91fe1"
      },
      "outputs": [
        {
          "output_type": "stream",
          "name": "stdout",
          "text": [
            "18/18 [==============================] - 3s 137ms/step - loss: 3.5353 - accuracy: 0.6534 - precision: 0.6883\n",
            "Accuracy of Test: 0.6534\n",
            "Precision of Test: 0.6883\n",
            "top_k_result: 0.7437\n"
          ]
        }
      ],
      "source": [
        "test_result = w_model.evaluate(w_X_test_sequence, w_y_test_dummies)\n",
        "\n",
        "print(\"Accuracy of Test: {:.4f}\".format(test_result[1])) #(TP+TN)/(TP+FN+FP+TN)\n",
        "print(\"Precision of Test: {:.4f}\".format(test_result[2])) #(TP/(TP+FP))\n",
        "#print(\"F1-score of Test: {:.4f}\".format(np.mean(test_result[3])))\n",
        "print(\"top_k_result: {:.4f}\".format(w_top_k_hitrate(w_model.predict(w_X_test_sequence), n=3)))"
      ]
    },
    {
      "cell_type": "code",
      "execution_count": null,
      "metadata": {
        "id": "0Y-HXXzGPjZm"
      },
      "outputs": [],
      "source": [
        "#dropout 0.3\n",
        "#Accuracy of Test: 0.8195\n",
        "#Precision of Test: 0.9523\n",
        "#top_k_result: 0.9152\n",
        "\n",
        "#Accuracy of Test: 0.8649\n",
        "#Precision of Test: 0.8894\n",
        "#top_k_result: 0.9272"
      ]
    },
    {
      "cell_type": "code",
      "execution_count": null,
      "metadata": {
        "colab": {
          "base_uri": "https://localhost:8080/",
          "height": 461
        },
        "id": "SuAhj8hS_pkL",
        "outputId": "34d717ec-799d-4622-c831-0900aa7e0361"
      },
      "outputs": [
        {
          "output_type": "stream",
          "name": "stderr",
          "text": [
            "/usr/local/lib/python3.7/dist-packages/ipykernel_launcher.py:3: FutureWarning: Support for multi-dimensional indexing (e.g. `obj[:, None]`) is deprecated and will be removed in a future version.  Convert to a numpy array before indexing instead.\n",
            "  This is separate from the ipykernel package so we can avoid doing imports until\n"
          ]
        },
        {
          "output_type": "execute_result",
          "data": {
            "text/plain": [
              "               True   predict\n",
              "0            갑상샘저하증    백의 고혈압\n",
              "1           역류성 식도염    소화성 궤양\n",
              "2                기흉  알레르기성 비염\n",
              "4            급성 충수염      요로결석\n",
              "5              대상포진    대동맥 박리\n",
              "..              ...       ...\n",
              "543              폐렴     상기도출혈\n",
              "546  약물 / 알콜에 의한 증상   신경인성 방광\n",
              "547            유방낭종    급성 유방염\n",
              "548             협착증    소화성 궤양\n",
              "552             골반염     난소 염전\n",
              "\n",
              "[192 rows x 2 columns]"
            ],
            "text/html": [
              "\n",
              "  <div id=\"df-4a237246-f42b-4ecd-9ebc-5c13e737e463\">\n",
              "    <div class=\"colab-df-container\">\n",
              "      <div>\n",
              "<style scoped>\n",
              "    .dataframe tbody tr th:only-of-type {\n",
              "        vertical-align: middle;\n",
              "    }\n",
              "\n",
              "    .dataframe tbody tr th {\n",
              "        vertical-align: top;\n",
              "    }\n",
              "\n",
              "    .dataframe thead th {\n",
              "        text-align: right;\n",
              "    }\n",
              "</style>\n",
              "<table border=\"1\" class=\"dataframe\">\n",
              "  <thead>\n",
              "    <tr style=\"text-align: right;\">\n",
              "      <th></th>\n",
              "      <th>True</th>\n",
              "      <th>predict</th>\n",
              "    </tr>\n",
              "  </thead>\n",
              "  <tbody>\n",
              "    <tr>\n",
              "      <th>0</th>\n",
              "      <td>갑상샘저하증</td>\n",
              "      <td>백의 고혈압</td>\n",
              "    </tr>\n",
              "    <tr>\n",
              "      <th>1</th>\n",
              "      <td>역류성 식도염</td>\n",
              "      <td>소화성 궤양</td>\n",
              "    </tr>\n",
              "    <tr>\n",
              "      <th>2</th>\n",
              "      <td>기흉</td>\n",
              "      <td>알레르기성 비염</td>\n",
              "    </tr>\n",
              "    <tr>\n",
              "      <th>4</th>\n",
              "      <td>급성 충수염</td>\n",
              "      <td>요로결석</td>\n",
              "    </tr>\n",
              "    <tr>\n",
              "      <th>5</th>\n",
              "      <td>대상포진</td>\n",
              "      <td>대동맥 박리</td>\n",
              "    </tr>\n",
              "    <tr>\n",
              "      <th>...</th>\n",
              "      <td>...</td>\n",
              "      <td>...</td>\n",
              "    </tr>\n",
              "    <tr>\n",
              "      <th>543</th>\n",
              "      <td>폐렴</td>\n",
              "      <td>상기도출혈</td>\n",
              "    </tr>\n",
              "    <tr>\n",
              "      <th>546</th>\n",
              "      <td>약물 / 알콜에 의한 증상</td>\n",
              "      <td>신경인성 방광</td>\n",
              "    </tr>\n",
              "    <tr>\n",
              "      <th>547</th>\n",
              "      <td>유방낭종</td>\n",
              "      <td>급성 유방염</td>\n",
              "    </tr>\n",
              "    <tr>\n",
              "      <th>548</th>\n",
              "      <td>협착증</td>\n",
              "      <td>소화성 궤양</td>\n",
              "    </tr>\n",
              "    <tr>\n",
              "      <th>552</th>\n",
              "      <td>골반염</td>\n",
              "      <td>난소 염전</td>\n",
              "    </tr>\n",
              "  </tbody>\n",
              "</table>\n",
              "<p>192 rows × 2 columns</p>\n",
              "</div>\n",
              "      <button class=\"colab-df-convert\" onclick=\"convertToInteractive('df-4a237246-f42b-4ecd-9ebc-5c13e737e463')\"\n",
              "              title=\"Convert this dataframe to an interactive table.\"\n",
              "              style=\"display:none;\">\n",
              "        \n",
              "  <svg xmlns=\"http://www.w3.org/2000/svg\" height=\"24px\"viewBox=\"0 0 24 24\"\n",
              "       width=\"24px\">\n",
              "    <path d=\"M0 0h24v24H0V0z\" fill=\"none\"/>\n",
              "    <path d=\"M18.56 5.44l.94 2.06.94-2.06 2.06-.94-2.06-.94-.94-2.06-.94 2.06-2.06.94zm-11 1L8.5 8.5l.94-2.06 2.06-.94-2.06-.94L8.5 2.5l-.94 2.06-2.06.94zm10 10l.94 2.06.94-2.06 2.06-.94-2.06-.94-.94-2.06-.94 2.06-2.06.94z\"/><path d=\"M17.41 7.96l-1.37-1.37c-.4-.4-.92-.59-1.43-.59-.52 0-1.04.2-1.43.59L10.3 9.45l-7.72 7.72c-.78.78-.78 2.05 0 2.83L4 21.41c.39.39.9.59 1.41.59.51 0 1.02-.2 1.41-.59l7.78-7.78 2.81-2.81c.8-.78.8-2.07 0-2.86zM5.41 20L4 18.59l7.72-7.72 1.47 1.35L5.41 20z\"/>\n",
              "  </svg>\n",
              "      </button>\n",
              "      \n",
              "  <style>\n",
              "    .colab-df-container {\n",
              "      display:flex;\n",
              "      flex-wrap:wrap;\n",
              "      gap: 12px;\n",
              "    }\n",
              "\n",
              "    .colab-df-convert {\n",
              "      background-color: #E8F0FE;\n",
              "      border: none;\n",
              "      border-radius: 50%;\n",
              "      cursor: pointer;\n",
              "      display: none;\n",
              "      fill: #1967D2;\n",
              "      height: 32px;\n",
              "      padding: 0 0 0 0;\n",
              "      width: 32px;\n",
              "    }\n",
              "\n",
              "    .colab-df-convert:hover {\n",
              "      background-color: #E2EBFA;\n",
              "      box-shadow: 0px 1px 2px rgba(60, 64, 67, 0.3), 0px 1px 3px 1px rgba(60, 64, 67, 0.15);\n",
              "      fill: #174EA6;\n",
              "    }\n",
              "\n",
              "    [theme=dark] .colab-df-convert {\n",
              "      background-color: #3B4455;\n",
              "      fill: #D2E3FC;\n",
              "    }\n",
              "\n",
              "    [theme=dark] .colab-df-convert:hover {\n",
              "      background-color: #434B5C;\n",
              "      box-shadow: 0px 1px 3px 1px rgba(0, 0, 0, 0.15);\n",
              "      filter: drop-shadow(0px 1px 2px rgba(0, 0, 0, 0.3));\n",
              "      fill: #FFFFFF;\n",
              "    }\n",
              "  </style>\n",
              "\n",
              "      <script>\n",
              "        const buttonEl =\n",
              "          document.querySelector('#df-4a237246-f42b-4ecd-9ebc-5c13e737e463 button.colab-df-convert');\n",
              "        buttonEl.style.display =\n",
              "          google.colab.kernel.accessAllowed ? 'block' : 'none';\n",
              "\n",
              "        async function convertToInteractive(key) {\n",
              "          const element = document.querySelector('#df-4a237246-f42b-4ecd-9ebc-5c13e737e463');\n",
              "          const dataTable =\n",
              "            await google.colab.kernel.invokeFunction('convertToInteractive',\n",
              "                                                     [key], {});\n",
              "          if (!dataTable) return;\n",
              "\n",
              "          const docLinkHtml = 'Like what you see? Visit the ' +\n",
              "            '<a target=\"_blank\" href=https://colab.research.google.com/notebooks/data_table.ipynb>data table notebook</a>'\n",
              "            + ' to learn more about interactive tables.';\n",
              "          element.innerHTML = '';\n",
              "          dataTable['output_type'] = 'display_data';\n",
              "          await google.colab.output.renderOutput(dataTable, element);\n",
              "          const docLink = document.createElement('div');\n",
              "          docLink.innerHTML = docLinkHtml;\n",
              "          element.appendChild(docLink);\n",
              "        }\n",
              "      </script>\n",
              "    </div>\n",
              "  </div>\n",
              "  "
            ]
          },
          "metadata": {},
          "execution_count": 397
        }
      ],
      "source": [
        "top_k_result = tf.math.top_k(w_model.predict(w_X_test_sequence), k=1, sorted=True)\n",
        "first = top_k_result[1]\n",
        "b = w_y_test_dummies.columns[first]\n",
        "\n",
        "w_ori_y_test = np.asarray(w_ori_y_test)\n",
        "\n",
        "compare_result = pd.concat([pd.DataFrame(w_ori_y_test, columns=['True']).reset_index(drop=True),\n",
        "                            pd.DataFrame(b, columns=['predict']).reset_index(drop=True)],\n",
        "                           axis=1)\n",
        "\n",
        "misclassified = np.where(compare_result['True'] != compare_result['predict'])\n",
        "compare_result.iloc[misclassified]"
      ]
    },
    {
      "cell_type": "code",
      "execution_count": null,
      "metadata": {
        "id": "OOQBd43Rqvlr"
      },
      "outputs": [],
      "source": [
        ""
      ]
    },
    {
      "cell_type": "markdown",
      "metadata": {
        "id": "bo-h8iRstgMd"
      },
      "source": [
        "## Multi (LSTM -> Conv) _M"
      ]
    },
    {
      "cell_type": "code",
      "execution_count": null,
      "metadata": {
        "id": "vqHPtQu_AAWp"
      },
      "outputs": [],
      "source": [
        "def m_top_k_hitrate(predicted_proba, n=2):\n",
        "\n",
        "  eval_metric = []\n",
        "  top_k_result = tf.math.top_k(predicted_proba, k=n, sorted=True)\n",
        "  for i in range(len(top_k_result[1])):\n",
        "    first = top_k_result[1][i][0]\n",
        "    second = top_k_result[1][i][1]\n",
        "    third = top_k_result[1][i][2]\n",
        "\n",
        "    if m_ori_X_test['level5/diagnosis'].values[i] in (m_y_test_dummies.columns[first],\n",
        "                                                      m_y_test_dummies.columns[second],\n",
        "                                                      m_y_test_dummies.columns[third]):\n",
        "      eval_metric.append(1)\n",
        "    else:\n",
        "      eval_metric.append(0)\n",
        "\n",
        "  return np.mean(eval_metric)"
      ]
    },
    {
      "cell_type": "code",
      "execution_count": null,
      "metadata": {
        "id": "fTShM1-MSjEO"
      },
      "outputs": [],
      "source": [
        "from keras.layers import MaxPooling1D\n",
        "m_VOCAB_SIZE = len(m_tokenizer.index_word) + 1\n",
        "num_filters = 512\n",
        "filter_sizes = [5, 7, 9]\n",
        "\n",
        "\n",
        "\n",
        "from tensorflow.keras.layers import Input, Embedding, LSTM, Dense, Bidirectional, Dropout, Concatenate\n",
        "\n",
        "\n",
        "\n",
        "# LSTM + Attention model\n",
        "\n",
        "#embedding = Embedding(w_VOCAB_SIZE, embedding_dim)(inputs) \n",
        "embedding_dim = 1024\n",
        "inputs = Input(shape=(m_max_len,), dtype='int32')\n",
        "embedding = Embedding(m_VOCAB_SIZE, 1000)(inputs) #800하면 top_k가 0.01높지만 나머지는 0.01낮다.\n",
        "lstm = Bidirectional(LSTM(512, dropout=0.25, return_sequences = True))(embedding)\n",
        "lstm, forward_h, forward_c, backward_h, backward_c = Bidirectional \\\n",
        "  (LSTM(512, dropout=0.25, return_sequences=True, return_state=True))(lstm)\n",
        "state_h = Concatenate()([forward_h, backward_h]) # 은닉 상태\n",
        "state_c = Concatenate()([forward_c, backward_c]) # 셀 상태\n",
        "\n",
        "## add attention layers\n",
        "attention = BahdanauAttention(256) # 가중치 크기 정의\n",
        "context_vector, attention_weights = attention(lstm, state_h)\n",
        "\n",
        "x = Dense(2400, activation='relu')(context_vector)\n",
        "x = Dropout(0.5)(x)\n",
        "x = Dense(800, activation='relu')(x)\n",
        "x = Dropout(0.5)(x)\n",
        "output = Dense(units=len(men_df['level5/diagnosis'].unique()), activation='softmax')(x)\n",
        "\n",
        "'''#lstm_1 = LSTM(512, dropout=0.2, return_sequences=True)(embedding)\n",
        "#lstm_2 = LSTM(512, dropout=0.2, return_sequences=True)(embedding)\n",
        "#lstm_3 = LSTM(512, dropout=0.2, return_sequences=True)(embedding)\n",
        "\n",
        "lstm_1 = LSTM(512, dropout=0.3, return_sequences=True)(embedding)\n",
        "lstm_2 = LSTM(512, dropout=0.3, return_sequences=True)(embedding)\n",
        "lstm_3 = LSTM(512, dropout=0.3, return_sequences=True)(embedding)\n",
        "\n",
        "lstm_maxpool_0 = MaxPooling1D(pool_size=4)(lstm_1)\n",
        "lstm_maxpool_1 = MaxPooling1D(pool_size=4)(lstm_2)\n",
        "lstm_maxpool_2 = MaxPooling1D(pool_size=4)(lstm_3)\n",
        "\n",
        "n_conv_0 = Conv1D(num_filters, kernel_size=(filter_sizes[0]),\n",
        "                padding='valid', activation='relu')(lstm_maxpool_0)\n",
        "n_conv_1 = Conv1D(num_filters, kernel_size=(filter_sizes[1]),\n",
        "                padding='valid', activation='relu')(lstm_maxpool_1)\n",
        "n_conv_2 = Conv1D(num_filters, kernel_size=(filter_sizes[2]),\n",
        "                padding='valid', activation='relu')(lstm_maxpool_2)\n",
        "\n",
        "#MaxPool1D\n",
        "n_maxpool_0 = GlobalMaxPooling1D()(n_conv_0)\n",
        "n_maxpool_1 = GlobalMaxPooling1D()(n_conv_1)\n",
        "n_maxpool_2 = GlobalMaxPooling1D()(n_conv_2)\n",
        "\n",
        "##############\n",
        "conv_0 = Conv1D(num_filters, kernel_size=(filter_sizes[0]),\n",
        "                padding='valid', activation='relu')(embedding)\n",
        "conv_1 = Conv1D(num_filters, kernel_size=(filter_sizes[1]),\n",
        "                padding='valid', activation='relu')(embedding)\n",
        "conv_2 = Conv1D(num_filters, kernel_size=(filter_sizes[2]),\n",
        "                padding='valid', activation='relu')(embedding)\n",
        "\n",
        "#MaxPool1D\n",
        "maxpool_0 = GlobalMaxPooling1D()(conv_0)\n",
        "maxpool_1 = GlobalMaxPooling1D()(conv_1)\n",
        "maxpool_2 = GlobalMaxPooling1D()(conv_2)\n",
        "################\n",
        "\n",
        "concatenated = Concatenate(axis=1)([maxpool_0, maxpool_1, maxpool_2,\n",
        "                                    n_maxpool_0, n_maxpool_1, n_maxpool_2])\n",
        "flatten_layer = Flatten()(concatenated)\n",
        "dropout_layer1 = Dropout(0.5)(flatten_layer)\n",
        "\n",
        "dense_layer3 = Dense(units=2400, activation='relu')(dropout_layer1)\n",
        "dropout_layer4 = Dropout(0.5)(dense_layer3)\n",
        "\n",
        "dense_layer4 = Dense(units=800, activation='relu')(dropout_layer4)\n",
        "dropout_layer5 = Dropout(0.5)(dense_layer4)\n",
        "\n",
        "output = Dense(units=len(men_df['level5/diagnosis'].unique()),\n",
        "               activation='softmax')(dropout_layer5)'''\n",
        "\n",
        "m_model = Model(inputs=inputs, outputs=output)\n",
        "\n",
        "m_model.compile(optimizer='adam', loss='categorical_crossentropy',\n",
        "                metrics=['accuracy',\n",
        "                         tf.keras.metrics.Precision(name='precision')])\n",
        "\n"
      ]
    },
    {
      "cell_type": "code",
      "source": [
        "history = m_model.fit(m_X_train_sequence, m_y_train_dummies, epochs=100,\n",
        "                      batch_size = 128, class_weight = m_class_weights,\n",
        "                      validation_split=0.2)"
      ],
      "metadata": {
        "colab": {
          "base_uri": "https://localhost:8080/"
        },
        "id": "xHuvcSfqWwX-",
        "outputId": "f0a28b22-d26a-45f6-de39-ad37dff96665"
      },
      "execution_count": null,
      "outputs": [
        {
          "output_type": "stream",
          "name": "stdout",
          "text": [
            "Epoch 1/100\n",
            "10/10 [==============================] - 19s 1s/step - loss: 5.2769 - accuracy: 0.0075 - precision: 0.0000e+00 - val_loss: 5.2591 - val_accuracy: 0.0033 - val_precision: 0.0000e+00\n",
            "Epoch 2/100\n",
            "10/10 [==============================] - 9s 955ms/step - loss: 5.2616 - accuracy: 0.0100 - precision: 0.0000e+00 - val_loss: 5.2441 - val_accuracy: 0.0033 - val_precision: 0.0000e+00\n",
            "Epoch 3/100\n",
            "10/10 [==============================] - 9s 949ms/step - loss: 5.2742 - accuracy: 0.0067 - precision: 0.0000e+00 - val_loss: 5.3276 - val_accuracy: 0.0033 - val_precision: 0.0000e+00\n",
            "Epoch 4/100\n",
            "10/10 [==============================] - 9s 946ms/step - loss: 5.0943 - accuracy: 0.0133 - precision: 1.0000 - val_loss: 5.1758 - val_accuracy: 0.0033 - val_precision: 0.0000e+00\n",
            "Epoch 5/100\n",
            "10/10 [==============================] - 9s 947ms/step - loss: 5.0070 - accuracy: 0.0117 - precision: 0.0000e+00 - val_loss: 5.1298 - val_accuracy: 0.0000e+00 - val_precision: 0.0000e+00\n",
            "Epoch 6/100\n",
            "10/10 [==============================] - 9s 948ms/step - loss: 4.8604 - accuracy: 0.0225 - precision: 0.6000 - val_loss: 4.9514 - val_accuracy: 0.0033 - val_precision: 0.0000e+00\n",
            "Epoch 7/100\n",
            "10/10 [==============================] - 9s 949ms/step - loss: 4.6434 - accuracy: 0.0250 - precision: 0.8000 - val_loss: 4.8288 - val_accuracy: 0.0367 - val_precision: 0.0000e+00\n",
            "Epoch 8/100\n",
            "10/10 [==============================] - 9s 948ms/step - loss: 4.3350 - accuracy: 0.0558 - precision: 0.5294 - val_loss: 4.5376 - val_accuracy: 0.0467 - val_precision: 1.0000\n",
            "Epoch 9/100\n",
            "10/10 [==============================] - 9s 949ms/step - loss: 4.0648 - accuracy: 0.1050 - precision: 0.5526 - val_loss: 4.2092 - val_accuracy: 0.1400 - val_precision: 1.0000\n",
            "Epoch 10/100\n",
            "10/10 [==============================] - 9s 947ms/step - loss: 3.5910 - accuracy: 0.1717 - precision: 0.5909 - val_loss: 3.8462 - val_accuracy: 0.2233 - val_precision: 0.9048\n",
            "Epoch 11/100\n",
            "10/10 [==============================] - 9s 949ms/step - loss: 3.3179 - accuracy: 0.2067 - precision: 0.5659 - val_loss: 3.3525 - val_accuracy: 0.2733 - val_precision: 0.8276\n",
            "Epoch 12/100\n",
            "10/10 [==============================] - 9s 950ms/step - loss: 2.8819 - accuracy: 0.3100 - precision: 0.6756 - val_loss: 3.1409 - val_accuracy: 0.2900 - val_precision: 0.8548\n",
            "Epoch 13/100\n",
            "10/10 [==============================] - 9s 949ms/step - loss: 2.4119 - accuracy: 0.3983 - precision: 0.7481 - val_loss: 3.0180 - val_accuracy: 0.3400 - val_precision: 0.7500\n",
            "Epoch 14/100\n",
            "10/10 [==============================] - 9s 951ms/step - loss: 2.0928 - accuracy: 0.4308 - precision: 0.6792 - val_loss: 2.5698 - val_accuracy: 0.4333 - val_precision: 0.7544\n",
            "Epoch 15/100\n",
            "10/10 [==============================] - 9s 946ms/step - loss: 1.7306 - accuracy: 0.5158 - precision: 0.7588 - val_loss: 2.3600 - val_accuracy: 0.5033 - val_precision: 0.8456\n",
            "Epoch 16/100\n",
            "10/10 [==============================] - 9s 950ms/step - loss: 1.4462 - accuracy: 0.5850 - precision: 0.7673 - val_loss: 2.3076 - val_accuracy: 0.5267 - val_precision: 0.8116\n",
            "Epoch 17/100\n",
            "10/10 [==============================] - 9s 948ms/step - loss: 1.2619 - accuracy: 0.6292 - precision: 0.7787 - val_loss: 2.2144 - val_accuracy: 0.5700 - val_precision: 0.7772\n",
            "Epoch 18/100\n",
            "10/10 [==============================] - 9s 948ms/step - loss: 1.0699 - accuracy: 0.6675 - precision: 0.7975 - val_loss: 2.1997 - val_accuracy: 0.5633 - val_precision: 0.7853\n",
            "Epoch 19/100\n",
            "10/10 [==============================] - 9s 949ms/step - loss: 0.9638 - accuracy: 0.7175 - precision: 0.8328 - val_loss: 2.1539 - val_accuracy: 0.6033 - val_precision: 0.7980\n",
            "Epoch 20/100\n",
            "10/10 [==============================] - 9s 949ms/step - loss: 0.9501 - accuracy: 0.7450 - precision: 0.8462 - val_loss: 2.0015 - val_accuracy: 0.6067 - val_precision: 0.7895\n",
            "Epoch 21/100\n",
            "10/10 [==============================] - 9s 949ms/step - loss: 0.7951 - accuracy: 0.7458 - precision: 0.8241 - val_loss: 1.9829 - val_accuracy: 0.5533 - val_precision: 0.7602\n",
            "Epoch 22/100\n",
            "10/10 [==============================] - 9s 949ms/step - loss: 0.6403 - accuracy: 0.8025 - precision: 0.8792 - val_loss: 1.9607 - val_accuracy: 0.6567 - val_precision: 0.7763\n",
            "Epoch 23/100\n",
            "10/10 [==============================] - 9s 948ms/step - loss: 0.5115 - accuracy: 0.8217 - precision: 0.8762 - val_loss: 2.0618 - val_accuracy: 0.6433 - val_precision: 0.7479\n",
            "Epoch 24/100\n",
            "10/10 [==============================] - 9s 948ms/step - loss: 0.4857 - accuracy: 0.8317 - precision: 0.8694 - val_loss: 2.1988 - val_accuracy: 0.6433 - val_precision: 0.7555\n",
            "Epoch 25/100\n",
            "10/10 [==============================] - 9s 949ms/step - loss: 0.4919 - accuracy: 0.8542 - precision: 0.8997 - val_loss: 2.0174 - val_accuracy: 0.6433 - val_precision: 0.7469\n",
            "Epoch 26/100\n",
            "10/10 [==============================] - 9s 949ms/step - loss: 0.3685 - accuracy: 0.8833 - precision: 0.9150 - val_loss: 1.9388 - val_accuracy: 0.6833 - val_precision: 0.7671\n",
            "Epoch 27/100\n",
            "10/10 [==============================] - 9s 949ms/step - loss: 0.2914 - accuracy: 0.9083 - precision: 0.9332 - val_loss: 1.9543 - val_accuracy: 0.6833 - val_precision: 0.7800\n",
            "Epoch 28/100\n",
            "10/10 [==============================] - 9s 948ms/step - loss: 0.2807 - accuracy: 0.9050 - precision: 0.9236 - val_loss: 2.2477 - val_accuracy: 0.6867 - val_precision: 0.7769\n",
            "Epoch 29/100\n",
            "10/10 [==============================] - 9s 947ms/step - loss: 0.3475 - accuracy: 0.8917 - precision: 0.9153 - val_loss: 2.3883 - val_accuracy: 0.6400 - val_precision: 0.7430\n",
            "Epoch 30/100\n",
            "10/10 [==============================] - 9s 949ms/step - loss: 0.3640 - accuracy: 0.8850 - precision: 0.9108 - val_loss: 2.1492 - val_accuracy: 0.6733 - val_precision: 0.7725\n",
            "Epoch 31/100\n",
            "10/10 [==============================] - 9s 948ms/step - loss: 0.2875 - accuracy: 0.9000 - precision: 0.9244 - val_loss: 2.1700 - val_accuracy: 0.6800 - val_precision: 0.7481\n",
            "Epoch 32/100\n",
            "10/10 [==============================] - 9s 948ms/step - loss: 0.2439 - accuracy: 0.9167 - precision: 0.9336 - val_loss: 2.2051 - val_accuracy: 0.6867 - val_precision: 0.7388\n",
            "Epoch 33/100\n",
            "10/10 [==============================] - 9s 946ms/step - loss: 0.2167 - accuracy: 0.9367 - precision: 0.9527 - val_loss: 2.2319 - val_accuracy: 0.7000 - val_precision: 0.7500\n",
            "Epoch 34/100\n",
            "10/10 [==============================] - 9s 949ms/step - loss: 0.2110 - accuracy: 0.9308 - precision: 0.9413 - val_loss: 2.1789 - val_accuracy: 0.7000 - val_precision: 0.7852\n",
            "Epoch 35/100\n",
            "10/10 [==============================] - 9s 950ms/step - loss: 0.1605 - accuracy: 0.9525 - precision: 0.9609 - val_loss: 2.2825 - val_accuracy: 0.6833 - val_precision: 0.7434\n",
            "Epoch 36/100\n",
            "10/10 [==============================] - 9s 949ms/step - loss: 0.1649 - accuracy: 0.9492 - precision: 0.9575 - val_loss: 2.5300 - val_accuracy: 0.6567 - val_precision: 0.7068\n",
            "Epoch 37/100\n",
            "10/10 [==============================] - 9s 946ms/step - loss: 0.2023 - accuracy: 0.9408 - precision: 0.9531 - val_loss: 2.4712 - val_accuracy: 0.6800 - val_precision: 0.7443\n",
            "Epoch 38/100\n",
            "10/10 [==============================] - 9s 949ms/step - loss: 0.1774 - accuracy: 0.9400 - precision: 0.9517 - val_loss: 2.3256 - val_accuracy: 0.6967 - val_precision: 0.7491\n",
            "Epoch 39/100\n",
            "10/10 [==============================] - 9s 949ms/step - loss: 0.1862 - accuracy: 0.9525 - precision: 0.9610 - val_loss: 2.3508 - val_accuracy: 0.6800 - val_precision: 0.7509\n",
            "Epoch 40/100\n",
            "10/10 [==============================] - 9s 948ms/step - loss: 0.1329 - accuracy: 0.9542 - precision: 0.9595 - val_loss: 2.5931 - val_accuracy: 0.6900 - val_precision: 0.7454\n",
            "Epoch 41/100\n",
            "10/10 [==============================] - 9s 948ms/step - loss: 0.1690 - accuracy: 0.9633 - precision: 0.9687 - val_loss: 2.4654 - val_accuracy: 0.6733 - val_precision: 0.7269\n",
            "Epoch 42/100\n",
            "10/10 [==============================] - 9s 949ms/step - loss: 0.1143 - accuracy: 0.9575 - precision: 0.9711 - val_loss: 2.6110 - val_accuracy: 0.6700 - val_precision: 0.7243\n",
            "Epoch 43/100\n",
            "10/10 [==============================] - 9s 951ms/step - loss: 0.1477 - accuracy: 0.9592 - precision: 0.9695 - val_loss: 2.5837 - val_accuracy: 0.6533 - val_precision: 0.6957\n",
            "Epoch 44/100\n",
            "10/10 [==============================] - 9s 949ms/step - loss: 0.1480 - accuracy: 0.9492 - precision: 0.9591 - val_loss: 2.5894 - val_accuracy: 0.6567 - val_precision: 0.7143\n",
            "Epoch 45/100\n",
            "10/10 [==============================] - 9s 948ms/step - loss: 0.1490 - accuracy: 0.9567 - precision: 0.9653 - val_loss: 2.5934 - val_accuracy: 0.6667 - val_precision: 0.7086\n",
            "Epoch 46/100\n",
            "10/10 [==============================] - 9s 947ms/step - loss: 0.1645 - accuracy: 0.9550 - precision: 0.9668 - val_loss: 2.6491 - val_accuracy: 0.6767 - val_precision: 0.7194\n",
            "Epoch 47/100\n",
            "10/10 [==============================] - 9s 951ms/step - loss: 0.1439 - accuracy: 0.9492 - precision: 0.9577 - val_loss: 2.8331 - val_accuracy: 0.6733 - val_precision: 0.7190\n",
            "Epoch 48/100\n",
            "10/10 [==============================] - 9s 946ms/step - loss: 0.1269 - accuracy: 0.9600 - precision: 0.9679 - val_loss: 2.8175 - val_accuracy: 0.6600 - val_precision: 0.7138\n",
            "Epoch 49/100\n",
            "10/10 [==============================] - 9s 950ms/step - loss: 0.1178 - accuracy: 0.9642 - precision: 0.9697 - val_loss: 2.6270 - val_accuracy: 0.6833 - val_precision: 0.7398\n",
            "Epoch 50/100\n",
            "10/10 [==============================] - 9s 950ms/step - loss: 0.0897 - accuracy: 0.9642 - precision: 0.9706 - val_loss: 2.7356 - val_accuracy: 0.6667 - val_precision: 0.7091\n",
            "Epoch 51/100\n",
            "10/10 [==============================] - 9s 948ms/step - loss: 0.0988 - accuracy: 0.9667 - precision: 0.9714 - val_loss: 2.6204 - val_accuracy: 0.6900 - val_precision: 0.7393\n",
            "Epoch 52/100\n",
            "10/10 [==============================] - 9s 950ms/step - loss: 0.0771 - accuracy: 0.9692 - precision: 0.9724 - val_loss: 2.5258 - val_accuracy: 0.7033 - val_precision: 0.7374\n",
            "Epoch 53/100\n",
            "10/10 [==============================] - 9s 946ms/step - loss: 0.0616 - accuracy: 0.9767 - precision: 0.9807 - val_loss: 2.7061 - val_accuracy: 0.6933 - val_precision: 0.7410\n",
            "Epoch 54/100\n",
            "10/10 [==============================] - 9s 948ms/step - loss: 0.0823 - accuracy: 0.9792 - precision: 0.9799 - val_loss: 2.6872 - val_accuracy: 0.6933 - val_precision: 0.7234\n",
            "Epoch 55/100\n",
            "10/10 [==============================] - 9s 946ms/step - loss: 0.0780 - accuracy: 0.9733 - precision: 0.9748 - val_loss: 2.7133 - val_accuracy: 0.6767 - val_precision: 0.7122\n",
            "Epoch 56/100\n",
            "10/10 [==============================] - 9s 949ms/step - loss: 0.0771 - accuracy: 0.9808 - precision: 0.9816 - val_loss: 2.7953 - val_accuracy: 0.7000 - val_precision: 0.7317\n",
            "Epoch 57/100\n",
            "10/10 [==============================] - 9s 947ms/step - loss: 0.0714 - accuracy: 0.9808 - precision: 0.9816 - val_loss: 2.8935 - val_accuracy: 0.6967 - val_precision: 0.7308\n",
            "Epoch 58/100\n",
            "10/10 [==============================] - 9s 950ms/step - loss: 0.0896 - accuracy: 0.9792 - precision: 0.9824 - val_loss: 2.7224 - val_accuracy: 0.7200 - val_precision: 0.7597\n",
            "Epoch 59/100\n",
            "10/10 [==============================] - 9s 949ms/step - loss: 0.0987 - accuracy: 0.9750 - precision: 0.9774 - val_loss: 2.7581 - val_accuracy: 0.7033 - val_precision: 0.7393\n",
            "Epoch 60/100\n",
            "10/10 [==============================] - 9s 949ms/step - loss: 0.1090 - accuracy: 0.9675 - precision: 0.9731 - val_loss: 2.7425 - val_accuracy: 0.6833 - val_precision: 0.7243\n",
            "Epoch 61/100\n",
            "10/10 [==============================] - 9s 949ms/step - loss: 0.1452 - accuracy: 0.9533 - precision: 0.9579 - val_loss: 2.6638 - val_accuracy: 0.7000 - val_precision: 0.7292\n",
            "Epoch 62/100\n",
            "10/10 [==============================] - 9s 949ms/step - loss: 0.1483 - accuracy: 0.9433 - precision: 0.9469 - val_loss: 2.7908 - val_accuracy: 0.6867 - val_precision: 0.7118\n",
            "Epoch 63/100\n",
            "10/10 [==============================] - 9s 948ms/step - loss: 0.1337 - accuracy: 0.9583 - precision: 0.9678 - val_loss: 2.9829 - val_accuracy: 0.6567 - val_precision: 0.6890\n",
            "Epoch 64/100\n",
            "10/10 [==============================] - 9s 949ms/step - loss: 0.1744 - accuracy: 0.9458 - precision: 0.9559 - val_loss: 2.9258 - val_accuracy: 0.6667 - val_precision: 0.6964\n",
            "Epoch 65/100\n",
            "10/10 [==============================] - 9s 949ms/step - loss: 0.1868 - accuracy: 0.9492 - precision: 0.9560 - val_loss: 3.2388 - val_accuracy: 0.6467 - val_precision: 0.6773\n",
            "Epoch 66/100\n",
            "10/10 [==============================] - 9s 948ms/step - loss: 0.1673 - accuracy: 0.9458 - precision: 0.9505 - val_loss: 2.9206 - val_accuracy: 0.6900 - val_precision: 0.7203\n",
            "Epoch 67/100\n",
            "10/10 [==============================] - 9s 948ms/step - loss: 0.2030 - accuracy: 0.9392 - precision: 0.9467 - val_loss: 2.9131 - val_accuracy: 0.7100 - val_precision: 0.7402\n",
            "Epoch 68/100\n",
            "10/10 [==============================] - 9s 948ms/step - loss: 0.1820 - accuracy: 0.9392 - precision: 0.9497 - val_loss: 3.1342 - val_accuracy: 0.6833 - val_precision: 0.7292\n",
            "Epoch 69/100\n",
            "10/10 [==============================] - 9s 951ms/step - loss: 0.2033 - accuracy: 0.9467 - precision: 0.9543 - val_loss: 2.8953 - val_accuracy: 0.6733 - val_precision: 0.7071\n",
            "Epoch 70/100\n",
            "10/10 [==============================] - 9s 947ms/step - loss: 0.1757 - accuracy: 0.9583 - precision: 0.9605 - val_loss: 2.9294 - val_accuracy: 0.7067 - val_precision: 0.7394\n",
            "Epoch 71/100\n",
            "10/10 [==============================] - 9s 948ms/step - loss: 0.2382 - accuracy: 0.9467 - precision: 0.9534 - val_loss: 2.6307 - val_accuracy: 0.6900 - val_precision: 0.7128\n",
            "Epoch 72/100\n",
            "10/10 [==============================] - 9s 949ms/step - loss: 0.2673 - accuracy: 0.9300 - precision: 0.9413 - val_loss: 2.7489 - val_accuracy: 0.6600 - val_precision: 0.7154\n",
            "Epoch 73/100\n",
            "10/10 [==============================] - 9s 950ms/step - loss: 0.1846 - accuracy: 0.9375 - precision: 0.9484 - val_loss: 2.4485 - val_accuracy: 0.7033 - val_precision: 0.7695\n",
            "Epoch 74/100\n",
            "10/10 [==============================] - 9s 947ms/step - loss: 0.1272 - accuracy: 0.9642 - precision: 0.9671 - val_loss: 2.5294 - val_accuracy: 0.6900 - val_precision: 0.7509\n",
            "Epoch 75/100\n",
            "10/10 [==============================] - 9s 949ms/step - loss: 0.1040 - accuracy: 0.9625 - precision: 0.9704 - val_loss: 2.7150 - val_accuracy: 0.6900 - val_precision: 0.7519\n",
            "Epoch 76/100\n",
            "10/10 [==============================] - 9s 948ms/step - loss: 0.1133 - accuracy: 0.9767 - precision: 0.9807 - val_loss: 2.5530 - val_accuracy: 0.7200 - val_precision: 0.7717\n",
            "Epoch 77/100\n",
            "10/10 [==============================] - 9s 947ms/step - loss: 0.0790 - accuracy: 0.9775 - precision: 0.9807 - val_loss: 2.4410 - val_accuracy: 0.7167 - val_precision: 0.7709\n",
            "Epoch 78/100\n",
            "10/10 [==============================] - 9s 951ms/step - loss: 0.0911 - accuracy: 0.9708 - precision: 0.9764 - val_loss: 2.3724 - val_accuracy: 0.7067 - val_precision: 0.7464\n",
            "Epoch 79/100\n",
            "10/10 [==============================] - 9s 947ms/step - loss: 0.0651 - accuracy: 0.9742 - precision: 0.9790 - val_loss: 2.3960 - val_accuracy: 0.7133 - val_precision: 0.7609\n",
            "Epoch 80/100\n",
            "10/10 [==============================] - 9s 948ms/step - loss: 0.0575 - accuracy: 0.9808 - precision: 0.9841 - val_loss: 2.5958 - val_accuracy: 0.7200 - val_precision: 0.7634\n",
            "Epoch 81/100\n",
            "10/10 [==============================] - 9s 948ms/step - loss: 0.0575 - accuracy: 0.9817 - precision: 0.9849 - val_loss: 2.5619 - val_accuracy: 0.7233 - val_precision: 0.7580\n",
            "Epoch 82/100\n",
            "10/10 [==============================] - 9s 949ms/step - loss: 0.0624 - accuracy: 0.9825 - precision: 0.9858 - val_loss: 2.5843 - val_accuracy: 0.7233 - val_precision: 0.7589\n",
            "Epoch 83/100\n",
            "10/10 [==============================] - 9s 949ms/step - loss: 0.0447 - accuracy: 0.9900 - precision: 0.9925 - val_loss: 2.6814 - val_accuracy: 0.7233 - val_precision: 0.7517\n",
            "Epoch 84/100\n",
            "10/10 [==============================] - 9s 947ms/step - loss: 0.0644 - accuracy: 0.9850 - precision: 0.9866 - val_loss: 2.7399 - val_accuracy: 0.7100 - val_precision: 0.7590\n",
            "Epoch 85/100\n",
            "10/10 [==============================] - 9s 951ms/step - loss: 0.0662 - accuracy: 0.9817 - precision: 0.9833 - val_loss: 2.9793 - val_accuracy: 0.7133 - val_precision: 0.7500\n",
            "Epoch 86/100\n",
            "10/10 [==============================] - 9s 947ms/step - loss: 0.0823 - accuracy: 0.9708 - precision: 0.9707 - val_loss: 3.0751 - val_accuracy: 0.7133 - val_precision: 0.7527\n",
            "Epoch 87/100\n",
            "10/10 [==============================] - 9s 942ms/step - loss: 0.0778 - accuracy: 0.9758 - precision: 0.9848 - val_loss: 2.9767 - val_accuracy: 0.6933 - val_precision: 0.7314\n",
            "Epoch 88/100\n",
            "10/10 [==============================] - 9s 945ms/step - loss: 0.1004 - accuracy: 0.9733 - precision: 0.9766 - val_loss: 2.7170 - val_accuracy: 0.7133 - val_precision: 0.7396\n",
            "Epoch 89/100\n",
            "10/10 [==============================] - 9s 949ms/step - loss: 0.1116 - accuracy: 0.9667 - precision: 0.9739 - val_loss: 2.6762 - val_accuracy: 0.7167 - val_precision: 0.7570\n",
            "Epoch 90/100\n",
            "10/10 [==============================] - 9s 949ms/step - loss: 0.1662 - accuracy: 0.9667 - precision: 0.9722 - val_loss: 2.5981 - val_accuracy: 0.6767 - val_precision: 0.7086\n",
            "Epoch 91/100\n",
            "10/10 [==============================] - 9s 947ms/step - loss: 0.1472 - accuracy: 0.9550 - precision: 0.9572 - val_loss: 2.5504 - val_accuracy: 0.6700 - val_precision: 0.7286\n",
            "Epoch 92/100\n",
            "10/10 [==============================] - 9s 948ms/step - loss: 0.0985 - accuracy: 0.9708 - precision: 0.9748 - val_loss: 2.6882 - val_accuracy: 0.7067 - val_precision: 0.7430\n",
            "Epoch 93/100\n",
            "10/10 [==============================] - 9s 949ms/step - loss: 0.1110 - accuracy: 0.9733 - precision: 0.9749 - val_loss: 2.6586 - val_accuracy: 0.7133 - val_precision: 0.7474\n",
            "Epoch 94/100\n",
            "10/10 [==============================] - 9s 949ms/step - loss: 0.1338 - accuracy: 0.9692 - precision: 0.9732 - val_loss: 2.8284 - val_accuracy: 0.7033 - val_precision: 0.7247\n",
            "Epoch 95/100\n",
            "10/10 [==============================] - 9s 946ms/step - loss: 0.0815 - accuracy: 0.9817 - precision: 0.9825 - val_loss: 2.7354 - val_accuracy: 0.7000 - val_precision: 0.7500\n",
            "Epoch 96/100\n",
            "10/10 [==============================] - 9s 949ms/step - loss: 0.0827 - accuracy: 0.9792 - precision: 0.9824 - val_loss: 2.7933 - val_accuracy: 0.7133 - val_precision: 0.7317\n",
            "Epoch 97/100\n",
            "10/10 [==============================] - 9s 951ms/step - loss: 0.0798 - accuracy: 0.9775 - precision: 0.9799 - val_loss: 2.7274 - val_accuracy: 0.7000 - val_precision: 0.7455\n",
            "Epoch 98/100\n",
            "10/10 [==============================] - 9s 946ms/step - loss: 0.0774 - accuracy: 0.9725 - precision: 0.9741 - val_loss: 2.9437 - val_accuracy: 0.7033 - val_precision: 0.7276\n",
            "Epoch 99/100\n",
            "10/10 [==============================] - 9s 948ms/step - loss: 0.0664 - accuracy: 0.9775 - precision: 0.9807 - val_loss: 3.0627 - val_accuracy: 0.6967 - val_precision: 0.7207\n",
            "Epoch 100/100\n",
            "10/10 [==============================] - 9s 949ms/step - loss: 0.0695 - accuracy: 0.9825 - precision: 0.9841 - val_loss: 2.9849 - val_accuracy: 0.7033 - val_precision: 0.7326\n"
          ]
        }
      ]
    },
    {
      "cell_type": "code",
      "execution_count": null,
      "metadata": {
        "id": "RaiQWndLv4kC",
        "colab": {
          "base_uri": "https://localhost:8080/"
        },
        "outputId": "fde8fe45-dec3-45fc-a0c3-ba486a5674eb"
      },
      "outputs": [
        {
          "output_type": "stream",
          "name": "stdout",
          "text": [
            "16/16 [==============================] - 2s 138ms/step - loss: 2.7229 - accuracy: 0.7380 - precision: 0.7745\n",
            "Accuracy of Test: 0.7380\n",
            "Precision of Test: 0.7745\n",
            "top_k_result: 0.8060\n"
          ]
        }
      ],
      "source": [
        "test_result = m_model.evaluate(m_X_test_sequence, m_y_test_dummies)\n",
        "\n",
        "print(\"Accuracy of Test: {:.4f}\".format(test_result[1])) #(TP+TN)/(TP+FN+FP+TN)\n",
        "print(\"Precision of Test: {:.4f}\".format(test_result[2])) #(TP/(TP+FP))\n",
        "#print(\"F1-score of Test: {:.4f}\".format(np.mean(test_result[3])))\n",
        "print(\"top_k_result: {:.4f}\".format(m_top_k_hitrate(m_model.predict(m_X_test_sequence), n=3)))"
      ]
    },
    {
      "cell_type": "code",
      "source": [
        "'''\n",
        "women\n",
        "Accuracy of Test: 0.6390\n",
        "Precision of Test: 0.7478\n",
        "top_k_result: 0.7238\n",
        "\n",
        "men\n",
        "Accuracy of Test: 0.6860\n",
        "Precision of Test: 0.8076\n",
        "top_k_result: 0.7880\n",
        "\n",
        "'''"
      ],
      "metadata": {
        "colab": {
          "base_uri": "https://localhost:8080/",
          "height": 36
        },
        "id": "lQmL9Qul1kEU",
        "outputId": "2d7ecf93-2ea0-47f4-d967-1b102a38e261"
      },
      "execution_count": null,
      "outputs": [
        {
          "output_type": "execute_result",
          "data": {
            "text/plain": [
              "'\\nwomen\\nAccuracy of Test: 0.6390\\nPrecision of Test: 0.7478\\ntop_k_result: 0.7238\\n\\nmen\\nAccuracy of Test: 0.6860\\nPrecision of Test: 0.8076\\ntop_k_result: 0.7880\\n\\n'"
            ],
            "application/vnd.google.colaboratory.intrinsic+json": {
              "type": "string"
            }
          },
          "metadata": {},
          "execution_count": 402
        }
      ]
    },
    {
      "cell_type": "code",
      "execution_count": null,
      "metadata": {
        "id": "dp9GoikmASaP",
        "colab": {
          "base_uri": "https://localhost:8080/",
          "height": 461
        },
        "outputId": "689fc0d2-e7f2-40b2-cb43-c232270af42a"
      },
      "outputs": [
        {
          "output_type": "stream",
          "name": "stderr",
          "text": [
            "/usr/local/lib/python3.7/dist-packages/ipykernel_launcher.py:3: FutureWarning: Support for multi-dimensional indexing (e.g. `obj[:, None]`) is deprecated and will be removed in a future version.  Convert to a numpy array before indexing instead.\n",
            "  This is separate from the ipykernel package so we can avoid doing imports until\n"
          ]
        },
        {
          "output_type": "execute_result",
          "data": {
            "text/plain": [
              "                     True               predict\n",
              "8               용혈성 요독증후군                   부정맥\n",
              "9                  급성 췌장염                급성 충수염\n",
              "13                 소아성 용종             결장암 / 직장암\n",
              "20                 횡문근융해증                 요로 감염\n",
              "24                크롬세포친화종              약물 유발 빈맥\n",
              "..                    ...                   ...\n",
              "482  기립성 저혈압(혈량저하증 동반 가능)                   용혈병\n",
              "485                 난소 염전                 자궁외임신\n",
              "492               역류성 식도염               절박성 요실금\n",
              "493                만성 신부전                악성 고혈암\n",
              "495              미주신경성 실신  기립성 저혈압(혈량저하증 동반 가능)\n",
              "\n",
              "[131 rows x 2 columns]"
            ],
            "text/html": [
              "\n",
              "  <div id=\"df-4bca73c0-e217-4890-85f0-e154b2798b80\">\n",
              "    <div class=\"colab-df-container\">\n",
              "      <div>\n",
              "<style scoped>\n",
              "    .dataframe tbody tr th:only-of-type {\n",
              "        vertical-align: middle;\n",
              "    }\n",
              "\n",
              "    .dataframe tbody tr th {\n",
              "        vertical-align: top;\n",
              "    }\n",
              "\n",
              "    .dataframe thead th {\n",
              "        text-align: right;\n",
              "    }\n",
              "</style>\n",
              "<table border=\"1\" class=\"dataframe\">\n",
              "  <thead>\n",
              "    <tr style=\"text-align: right;\">\n",
              "      <th></th>\n",
              "      <th>True</th>\n",
              "      <th>predict</th>\n",
              "    </tr>\n",
              "  </thead>\n",
              "  <tbody>\n",
              "    <tr>\n",
              "      <th>8</th>\n",
              "      <td>용혈성 요독증후군</td>\n",
              "      <td>부정맥</td>\n",
              "    </tr>\n",
              "    <tr>\n",
              "      <th>9</th>\n",
              "      <td>급성 췌장염</td>\n",
              "      <td>급성 충수염</td>\n",
              "    </tr>\n",
              "    <tr>\n",
              "      <th>13</th>\n",
              "      <td>소아성 용종</td>\n",
              "      <td>결장암 / 직장암</td>\n",
              "    </tr>\n",
              "    <tr>\n",
              "      <th>20</th>\n",
              "      <td>횡문근융해증</td>\n",
              "      <td>요로 감염</td>\n",
              "    </tr>\n",
              "    <tr>\n",
              "      <th>24</th>\n",
              "      <td>크롬세포친화종</td>\n",
              "      <td>약물 유발 빈맥</td>\n",
              "    </tr>\n",
              "    <tr>\n",
              "      <th>...</th>\n",
              "      <td>...</td>\n",
              "      <td>...</td>\n",
              "    </tr>\n",
              "    <tr>\n",
              "      <th>482</th>\n",
              "      <td>기립성 저혈압(혈량저하증 동반 가능)</td>\n",
              "      <td>용혈병</td>\n",
              "    </tr>\n",
              "    <tr>\n",
              "      <th>485</th>\n",
              "      <td>난소 염전</td>\n",
              "      <td>자궁외임신</td>\n",
              "    </tr>\n",
              "    <tr>\n",
              "      <th>492</th>\n",
              "      <td>역류성 식도염</td>\n",
              "      <td>절박성 요실금</td>\n",
              "    </tr>\n",
              "    <tr>\n",
              "      <th>493</th>\n",
              "      <td>만성 신부전</td>\n",
              "      <td>악성 고혈암</td>\n",
              "    </tr>\n",
              "    <tr>\n",
              "      <th>495</th>\n",
              "      <td>미주신경성 실신</td>\n",
              "      <td>기립성 저혈압(혈량저하증 동반 가능)</td>\n",
              "    </tr>\n",
              "  </tbody>\n",
              "</table>\n",
              "<p>131 rows × 2 columns</p>\n",
              "</div>\n",
              "      <button class=\"colab-df-convert\" onclick=\"convertToInteractive('df-4bca73c0-e217-4890-85f0-e154b2798b80')\"\n",
              "              title=\"Convert this dataframe to an interactive table.\"\n",
              "              style=\"display:none;\">\n",
              "        \n",
              "  <svg xmlns=\"http://www.w3.org/2000/svg\" height=\"24px\"viewBox=\"0 0 24 24\"\n",
              "       width=\"24px\">\n",
              "    <path d=\"M0 0h24v24H0V0z\" fill=\"none\"/>\n",
              "    <path d=\"M18.56 5.44l.94 2.06.94-2.06 2.06-.94-2.06-.94-.94-2.06-.94 2.06-2.06.94zm-11 1L8.5 8.5l.94-2.06 2.06-.94-2.06-.94L8.5 2.5l-.94 2.06-2.06.94zm10 10l.94 2.06.94-2.06 2.06-.94-2.06-.94-.94-2.06-.94 2.06-2.06.94z\"/><path d=\"M17.41 7.96l-1.37-1.37c-.4-.4-.92-.59-1.43-.59-.52 0-1.04.2-1.43.59L10.3 9.45l-7.72 7.72c-.78.78-.78 2.05 0 2.83L4 21.41c.39.39.9.59 1.41.59.51 0 1.02-.2 1.41-.59l7.78-7.78 2.81-2.81c.8-.78.8-2.07 0-2.86zM5.41 20L4 18.59l7.72-7.72 1.47 1.35L5.41 20z\"/>\n",
              "  </svg>\n",
              "      </button>\n",
              "      \n",
              "  <style>\n",
              "    .colab-df-container {\n",
              "      display:flex;\n",
              "      flex-wrap:wrap;\n",
              "      gap: 12px;\n",
              "    }\n",
              "\n",
              "    .colab-df-convert {\n",
              "      background-color: #E8F0FE;\n",
              "      border: none;\n",
              "      border-radius: 50%;\n",
              "      cursor: pointer;\n",
              "      display: none;\n",
              "      fill: #1967D2;\n",
              "      height: 32px;\n",
              "      padding: 0 0 0 0;\n",
              "      width: 32px;\n",
              "    }\n",
              "\n",
              "    .colab-df-convert:hover {\n",
              "      background-color: #E2EBFA;\n",
              "      box-shadow: 0px 1px 2px rgba(60, 64, 67, 0.3), 0px 1px 3px 1px rgba(60, 64, 67, 0.15);\n",
              "      fill: #174EA6;\n",
              "    }\n",
              "\n",
              "    [theme=dark] .colab-df-convert {\n",
              "      background-color: #3B4455;\n",
              "      fill: #D2E3FC;\n",
              "    }\n",
              "\n",
              "    [theme=dark] .colab-df-convert:hover {\n",
              "      background-color: #434B5C;\n",
              "      box-shadow: 0px 1px 3px 1px rgba(0, 0, 0, 0.15);\n",
              "      filter: drop-shadow(0px 1px 2px rgba(0, 0, 0, 0.3));\n",
              "      fill: #FFFFFF;\n",
              "    }\n",
              "  </style>\n",
              "\n",
              "      <script>\n",
              "        const buttonEl =\n",
              "          document.querySelector('#df-4bca73c0-e217-4890-85f0-e154b2798b80 button.colab-df-convert');\n",
              "        buttonEl.style.display =\n",
              "          google.colab.kernel.accessAllowed ? 'block' : 'none';\n",
              "\n",
              "        async function convertToInteractive(key) {\n",
              "          const element = document.querySelector('#df-4bca73c0-e217-4890-85f0-e154b2798b80');\n",
              "          const dataTable =\n",
              "            await google.colab.kernel.invokeFunction('convertToInteractive',\n",
              "                                                     [key], {});\n",
              "          if (!dataTable) return;\n",
              "\n",
              "          const docLinkHtml = 'Like what you see? Visit the ' +\n",
              "            '<a target=\"_blank\" href=https://colab.research.google.com/notebooks/data_table.ipynb>data table notebook</a>'\n",
              "            + ' to learn more about interactive tables.';\n",
              "          element.innerHTML = '';\n",
              "          dataTable['output_type'] = 'display_data';\n",
              "          await google.colab.output.renderOutput(dataTable, element);\n",
              "          const docLink = document.createElement('div');\n",
              "          docLink.innerHTML = docLinkHtml;\n",
              "          element.appendChild(docLink);\n",
              "        }\n",
              "      </script>\n",
              "    </div>\n",
              "  </div>\n",
              "  "
            ]
          },
          "metadata": {},
          "execution_count": 403
        }
      ],
      "source": [
        "top_k_result = tf.math.top_k(m_model.predict(m_X_test_sequence), k=1, sorted=True)\n",
        "first = top_k_result[1]\n",
        "b = m_y_test_dummies.columns[first]\n",
        "\n",
        "m_ori_y_test = np.asarray(m_ori_y_test)\n",
        "\n",
        "compare_result = pd.concat([pd.DataFrame(m_ori_y_test, columns=['True']).reset_index(drop=True),\n",
        "                            pd.DataFrame(b, columns=['predict']).reset_index(drop=True)],\n",
        "                           axis=1)\n",
        "\n",
        "misclassified = np.where(compare_result['True'] != compare_result['predict'])\n",
        "compare_result.iloc[misclassified]"
      ]
    },
    {
      "cell_type": "code",
      "execution_count": null,
      "metadata": {
        "id": "-A-_QCieAWMY"
      },
      "outputs": [],
      "source": [
        ""
      ]
    },
    {
      "cell_type": "markdown",
      "metadata": {
        "id": "wBWMuWeMP-Dx"
      },
      "source": [
        "# Save Models"
      ]
    },
    {
      "cell_type": "code",
      "execution_count": null,
      "metadata": {
        "id": "Wjdu7itsRHI_"
      },
      "outputs": [],
      "source": [
        "import pickle\n",
        "\n",
        "# Save processed disease names\n",
        "with open(\"/content/gdrive/MyDrive/캡스톤/coco/LSTMAttention_men_diseases_v9.txt\", \"wb\") as fp:\n",
        "  pickle.dump(m_y_test_dummies.columns, fp)\n",
        "\n",
        "with open(\"/content/gdrive/MyDrive/캡스톤/coco/LSTMAttention_women_diseases_v9.txt\", \"wb\") as fp:\n",
        "  pickle.dump(w_y_test_dummies.columns, fp)\n",
        "\n",
        "# Save tokenizer\n",
        "with open('/content/gdrive/MyDrive/캡스톤/coco/LSTMAttention_men_tokenizer_v9.pickle', 'wb') as handle:\n",
        "    pickle.dump(m_tokenizer, handle, protocol=pickle.HIGHEST_PROTOCOL)\n",
        "\n",
        "with open('/content/gdrive/MyDrive/캡스톤/coco/LSTMAttention_women_tokenizer_v9.pickle', 'wb') as handle:\n",
        "    pickle.dump(w_tokenizer, handle, protocol=pickle.HIGHEST_PROTOCOL)\n",
        "\n"
      ]
    },
    {
      "cell_type": "code",
      "source": [
        "# Save ML model\n",
        "#with open('ml_random_forest.pkl', 'wb') as file:\n",
        "#    pickle.dump(ml_model, file)\n",
        "\n",
        "# Save DL model\n",
        "## 1\n",
        "#Input(shape=(m_max_len,), dtype='int32')\n",
        "#m_model.add(tf.keras.layers.Flatten(input_shape=(m_max_len,)))\n",
        "#w_model.add(tf.keras.layers.Flatten(input_shape=(w_max_len,)))\n",
        "#m_model.save('/content/gdrive/MyDrive/캡스톤/coco/LSTMAttention_men_model.h5')\n",
        "\n",
        "#w_model.save('/content/gdrive/MyDrive/캡스톤/coco/LSTMAttention_women_model.h5')\n",
        "\n",
        "with open(\"/content/gdrive/MyDrive/캡스톤/coco/LSTMAttention_men_model_v9.h5\", \"wb\") as fp:\n",
        "  pickle.dump(m_model, fp)\n",
        "\n",
        "with open(\"/content/gdrive/MyDrive/캡스톤/coco/LSTMAttention_women_model_v9.h5\", \"wb\") as fp:\n",
        "  pickle.dump(w_model, fp)\n",
        "#m_model.save('/content/gdrive/MyDrive/캡스톤/Disease_models/ver2/LSTMAttention_men_model.h5')\n",
        "#w_model.save('/content/gdrive/MyDrive/캡스톤/Disease_models/ver2/LSTMAttention_women_model.h5')\n",
        "\n",
        "## 2\n",
        "#model_json = model.to_json()\n",
        "#with open(\"baseline_model.json\", \"w\") as json_file : \n",
        "#    json_file.write(model_json)\n",
        "\n",
        "#model.save_weights(\"baseline_model_weights.h5\")"
      ],
      "metadata": {
        "colab": {
          "base_uri": "https://localhost:8080/"
        },
        "id": "APQoPi6kdsdJ",
        "outputId": "14790d81-bd5b-45de-bcaa-690c0670ba7c"
      },
      "execution_count": null,
      "outputs": [
        {
          "output_type": "stream",
          "name": "stderr",
          "text": [
            "WARNING:absl:Found untraced functions such as lstm_cell_67_layer_call_fn, lstm_cell_67_layer_call_and_return_conditional_losses, lstm_cell_68_layer_call_fn, lstm_cell_68_layer_call_and_return_conditional_losses, lstm_cell_70_layer_call_fn while saving (showing 5 of 8). These functions will not be directly callable after loading.\n"
          ]
        },
        {
          "output_type": "stream",
          "name": "stdout",
          "text": [
            "INFO:tensorflow:Assets written to: ram://6d7a3bf7-490d-41a7-bd57-1f08be8c4ff9/assets\n"
          ]
        },
        {
          "output_type": "stream",
          "name": "stderr",
          "text": [
            "INFO:tensorflow:Assets written to: ram://6d7a3bf7-490d-41a7-bd57-1f08be8c4ff9/assets\n",
            "WARNING:absl:<keras.layers.recurrent.LSTMCell object at 0x7f7a3c9f8990> has the same name 'LSTMCell' as a built-in Keras object. Consider renaming <class 'keras.layers.recurrent.LSTMCell'> to avoid naming conflicts when loading with `tf.keras.models.load_model`. If renaming is not possible, pass the object in the `custom_objects` parameter of the load function.\n",
            "WARNING:absl:<keras.layers.recurrent.LSTMCell object at 0x7f7a3c9e7890> has the same name 'LSTMCell' as a built-in Keras object. Consider renaming <class 'keras.layers.recurrent.LSTMCell'> to avoid naming conflicts when loading with `tf.keras.models.load_model`. If renaming is not possible, pass the object in the `custom_objects` parameter of the load function.\n",
            "WARNING:absl:<keras.layers.recurrent.LSTMCell object at 0x7f7a3c9fe0d0> has the same name 'LSTMCell' as a built-in Keras object. Consider renaming <class 'keras.layers.recurrent.LSTMCell'> to avoid naming conflicts when loading with `tf.keras.models.load_model`. If renaming is not possible, pass the object in the `custom_objects` parameter of the load function.\n",
            "WARNING:absl:<keras.layers.recurrent.LSTMCell object at 0x7f7a3cd66b50> has the same name 'LSTMCell' as a built-in Keras object. Consider renaming <class 'keras.layers.recurrent.LSTMCell'> to avoid naming conflicts when loading with `tf.keras.models.load_model`. If renaming is not possible, pass the object in the `custom_objects` parameter of the load function.\n",
            "WARNING:absl:Found untraced functions such as lstm_cell_61_layer_call_fn, lstm_cell_61_layer_call_and_return_conditional_losses, lstm_cell_62_layer_call_fn, lstm_cell_62_layer_call_and_return_conditional_losses, lstm_cell_64_layer_call_fn while saving (showing 5 of 8). These functions will not be directly callable after loading.\n"
          ]
        },
        {
          "output_type": "stream",
          "name": "stdout",
          "text": [
            "INFO:tensorflow:Assets written to: ram://8b77f2de-2238-4558-97a2-951ee3a1a750/assets\n"
          ]
        },
        {
          "output_type": "stream",
          "name": "stderr",
          "text": [
            "INFO:tensorflow:Assets written to: ram://8b77f2de-2238-4558-97a2-951ee3a1a750/assets\n",
            "WARNING:absl:<keras.layers.recurrent.LSTMCell object at 0x7f7a44497310> has the same name 'LSTMCell' as a built-in Keras object. Consider renaming <class 'keras.layers.recurrent.LSTMCell'> to avoid naming conflicts when loading with `tf.keras.models.load_model`. If renaming is not possible, pass the object in the `custom_objects` parameter of the load function.\n",
            "WARNING:absl:<keras.layers.recurrent.LSTMCell object at 0x7f7a444b9310> has the same name 'LSTMCell' as a built-in Keras object. Consider renaming <class 'keras.layers.recurrent.LSTMCell'> to avoid naming conflicts when loading with `tf.keras.models.load_model`. If renaming is not possible, pass the object in the `custom_objects` parameter of the load function.\n",
            "WARNING:absl:<keras.layers.recurrent.LSTMCell object at 0x7f7a46b041d0> has the same name 'LSTMCell' as a built-in Keras object. Consider renaming <class 'keras.layers.recurrent.LSTMCell'> to avoid naming conflicts when loading with `tf.keras.models.load_model`. If renaming is not possible, pass the object in the `custom_objects` parameter of the load function.\n",
            "WARNING:absl:<keras.layers.recurrent.LSTMCell object at 0x7f7a3db88bd0> has the same name 'LSTMCell' as a built-in Keras object. Consider renaming <class 'keras.layers.recurrent.LSTMCell'> to avoid naming conflicts when loading with `tf.keras.models.load_model`. If renaming is not possible, pass the object in the `custom_objects` parameter of the load function.\n"
          ]
        }
      ]
    },
    {
      "cell_type": "code",
      "source": [
        "w_model.summary()"
      ],
      "metadata": {
        "colab": {
          "base_uri": "https://localhost:8080/"
        },
        "id": "Hxp1vKFAd28l",
        "outputId": "5081ca5d-f6df-41b9-a34a-4a2a1541862d"
      },
      "execution_count": null,
      "outputs": [
        {
          "output_type": "stream",
          "name": "stdout",
          "text": [
            "Model: \"model_6\"\n",
            "__________________________________________________________________________________________________\n",
            " Layer (type)                   Output Shape         Param #     Connected to                     \n",
            "==================================================================================================\n",
            " input_7 (InputLayer)           [(None, 140)]        0           []                               \n",
            "                                                                                                  \n",
            " embedding_6 (Embedding)        (None, 140, 1024)    1807360     ['input_7[0][0]']                \n",
            "                                                                                                  \n",
            " bidirectional_12 (Bidirectiona  (None, 140, 1024)   6295552     ['embedding_6[0][0]']            \n",
            " l)                                                                                               \n",
            "                                                                                                  \n",
            " bidirectional_13 (Bidirectiona  [(None, 140, 1024),  6295552    ['bidirectional_12[0][0]']       \n",
            " l)                              (None, 512),                                                     \n",
            "                                 (None, 512),                                                     \n",
            "                                 (None, 512),                                                     \n",
            "                                 (None, 512)]                                                     \n",
            "                                                                                                  \n",
            " concatenate_12 (Concatenate)   (None, 1024)         0           ['bidirectional_13[0][1]',       \n",
            "                                                                  'bidirectional_13[0][3]']       \n",
            "                                                                                                  \n",
            " bahdanau_attention_6 (Bahdanau  ((None, 1024),      525057      ['bidirectional_13[0][0]',       \n",
            " Attention)                      (None, 140, 1))                  'concatenate_12[0][0]']         \n",
            "                                                                                                  \n",
            " dense_39 (Dense)               (None, 2400)         2460000     ['bahdanau_attention_6[0][0]']   \n",
            "                                                                                                  \n",
            " dropout_12 (Dropout)           (None, 2400)         0           ['dense_39[0][0]']               \n",
            "                                                                                                  \n",
            " dense_40 (Dense)               (None, 800)          1920800     ['dropout_12[0][0]']             \n",
            "                                                                                                  \n",
            " dropout_13 (Dropout)           (None, 800)          0           ['dense_40[0][0]']               \n",
            "                                                                                                  \n",
            " dense_41 (Dense)               (None, 225)          180225      ['dropout_13[0][0]']             \n",
            "                                                                                                  \n",
            "==================================================================================================\n",
            "Total params: 19,484,546\n",
            "Trainable params: 19,484,546\n",
            "Non-trainable params: 0\n",
            "__________________________________________________________________________________________________\n"
          ]
        }
      ]
    },
    {
      "cell_type": "markdown",
      "metadata": {
        "id": "Nh0UWd4ee5h2"
      },
      "source": [
        "# For test"
      ]
    },
    {
      "cell_type": "code",
      "source": [
        ""
      ],
      "metadata": {
        "id": "da6Pm-Zfdroq"
      },
      "execution_count": null,
      "outputs": []
    },
    {
      "cell_type": "code",
      "source": [
        ""
      ],
      "metadata": {
        "id": "2efzaJs5K6Qh"
      },
      "execution_count": null,
      "outputs": []
    },
    {
      "cell_type": "code",
      "execution_count": null,
      "metadata": {
        "id": "OkP0YZ44fDd1",
        "colab": {
          "base_uri": "https://localhost:8080/"
        },
        "outputId": "62947ce1-2306-405d-db94-32604a6304b8"
      },
      "outputs": [
        {
          "output_type": "stream",
          "name": "stdout",
          "text": [
            "Requirement already satisfied: transformers in /usr/local/lib/python3.7/dist-packages (4.17.0)\n",
            "Requirement already satisfied: packaging>=20.0 in /usr/local/lib/python3.7/dist-packages (from transformers) (21.3)\n",
            "Requirement already satisfied: numpy>=1.17 in /usr/local/lib/python3.7/dist-packages (from transformers) (1.21.5)\n",
            "Requirement already satisfied: regex!=2019.12.17 in /usr/local/lib/python3.7/dist-packages (from transformers) (2019.12.20)\n",
            "Requirement already satisfied: tqdm>=4.27 in /usr/local/lib/python3.7/dist-packages (from transformers) (4.63.0)\n",
            "Requirement already satisfied: pyyaml>=5.1 in /usr/local/lib/python3.7/dist-packages (from transformers) (6.0)\n",
            "Requirement already satisfied: sacremoses in /usr/local/lib/python3.7/dist-packages (from transformers) (0.0.49)\n",
            "Requirement already satisfied: importlib-metadata in /usr/local/lib/python3.7/dist-packages (from transformers) (4.11.3)\n",
            "Requirement already satisfied: tokenizers!=0.11.3,>=0.11.1 in /usr/local/lib/python3.7/dist-packages (from transformers) (0.11.6)\n",
            "Requirement already satisfied: requests in /usr/local/lib/python3.7/dist-packages (from transformers) (2.23.0)\n",
            "Requirement already satisfied: huggingface-hub<1.0,>=0.1.0 in /usr/local/lib/python3.7/dist-packages (from transformers) (0.4.0)\n",
            "Requirement already satisfied: filelock in /usr/local/lib/python3.7/dist-packages (from transformers) (3.6.0)\n",
            "Requirement already satisfied: typing-extensions>=3.7.4.3 in /usr/local/lib/python3.7/dist-packages (from huggingface-hub<1.0,>=0.1.0->transformers) (3.10.0.2)\n",
            "Requirement already satisfied: pyparsing!=3.0.5,>=2.0.2 in /usr/local/lib/python3.7/dist-packages (from packaging>=20.0->transformers) (3.0.7)\n",
            "Requirement already satisfied: zipp>=0.5 in /usr/local/lib/python3.7/dist-packages (from importlib-metadata->transformers) (3.7.0)\n",
            "Requirement already satisfied: certifi>=2017.4.17 in /usr/local/lib/python3.7/dist-packages (from requests->transformers) (2021.10.8)\n",
            "Requirement already satisfied: urllib3!=1.25.0,!=1.25.1,<1.26,>=1.21.1 in /usr/local/lib/python3.7/dist-packages (from requests->transformers) (1.24.3)\n",
            "Requirement already satisfied: chardet<4,>=3.0.2 in /usr/local/lib/python3.7/dist-packages (from requests->transformers) (3.0.4)\n",
            "Requirement already satisfied: idna<3,>=2.5 in /usr/local/lib/python3.7/dist-packages (from requests->transformers) (2.10)\n",
            "Requirement already satisfied: click in /usr/local/lib/python3.7/dist-packages (from sacremoses->transformers) (7.1.2)\n",
            "Requirement already satisfied: six in /usr/local/lib/python3.7/dist-packages (from sacremoses->transformers) (1.15.0)\n",
            "Requirement already satisfied: joblib in /usr/local/lib/python3.7/dist-packages (from sacremoses->transformers) (1.1.0)\n",
            "Requirement already satisfied: konlpy in /usr/local/lib/python3.7/dist-packages (0.6.0)\n",
            "Requirement already satisfied: JPype1>=0.7.0 in /usr/local/lib/python3.7/dist-packages (from konlpy) (1.3.0)\n",
            "Requirement already satisfied: numpy>=1.6 in /usr/local/lib/python3.7/dist-packages (from konlpy) (1.21.5)\n",
            "Requirement already satisfied: lxml>=4.1.0 in /usr/local/lib/python3.7/dist-packages (from konlpy) (4.2.6)\n",
            "Requirement already satisfied: typing-extensions in /usr/local/lib/python3.7/dist-packages (from JPype1>=0.7.0->konlpy) (3.10.0.2)\n"
          ]
        }
      ],
      "source": [
        "!pip install transformers\n",
        "!pip install konlpy\n",
        "from transformers import FunnelTokenizerFast\n",
        "from keras.preprocessing.text import Tokenizer\n",
        "from keras.preprocessing.sequence import pad_sequences\n",
        "from keras.models import load_model\n",
        "import pickle\n",
        "import konlpy.tag\n",
        "import re"
      ]
    },
    {
      "cell_type": "code",
      "execution_count": null,
      "metadata": {
        "id": "rnhm5OX0rd7h"
      },
      "outputs": [],
      "source": [
        "def to_nan(x):\n",
        "  if(x == '-'):\n",
        "    x = ''\n",
        "  elif(x == '아니오'):\n",
        "    x = ''\n",
        "  elif(x == '아뇨'):\n",
        "    x = ''\n",
        "  elif(x == '몰라요'):\n",
        "    x = ''\n",
        "  elif(x == '모릅니다'):\n",
        "    x = ''\n",
        "  elif(x == '모름'):\n",
        "    x = ''\n",
        "  elif(x == '아뇨'):\n",
        "    x = ''\n",
        "  elif(x == '없습니다'):\n",
        "    x = ''\n",
        "  elif(x == '없어요'):\n",
        "    x = ''\n",
        "  elif(x == '없음'):\n",
        "    x = ''\n",
        "  elif(x == '.'):\n",
        "    x = ''    \n",
        "  return x\n",
        "\n",
        "def NRS_to_text(text):\n",
        "\n",
        "  a = re.findall('NRS.*?점', text) #NRS 5점\n",
        "  if len(a) == 0:\n",
        "    a = re.findall('NRS.*?\\d~\\d', text) #NRS 4~6 / NRS : 4~6\n",
        "  if len(a) == 0:\n",
        "    a = re.findall('NRS.*?\\d', text) #NRS: 5\n",
        "  \n",
        "  try:\n",
        "    t = re.findall('[0-9]+', a[0])\n",
        "\n",
        "    if (len(t) == 2):\n",
        "      score = (int(t[0])+int(t[1]))/ 2\n",
        "    else:\n",
        "      score = int(t[0])\n",
        "\n",
        "    if score >= 7:\n",
        "      to_text = '심함'\n",
        "    elif score >= 4:\n",
        "      to_text = '중간'\n",
        "    else:\n",
        "      to_text = '약함'\n",
        "\n",
        "    text = text.replace(a[0], to_text)\n",
        "  \n",
        "  except:\n",
        "    pass\n",
        "\n",
        "  return text\n",
        "\n",
        "from hanspell import spell_checker\n",
        "\n",
        "def spelling_check(text):\n",
        "  #print(text)\n",
        "  result = spell_checker.check(text) \n",
        "  \n",
        "  return result.as_dict()['checked'] \n",
        "\n",
        "def define_obesity(x):\n",
        "  if x < 0:\n",
        "    return '알 수 없음'\n",
        "  elif x < 20.0:\n",
        "    return '저체중'\n",
        "  elif x <= 24.0:\n",
        "    return '정상'\n",
        "  elif x <= 29.0:\n",
        "    return '과체중'\n",
        "  else:\n",
        "    return '비만'\n",
        "\n",
        "\n",
        "def only_letters_num(x):\n",
        "  return ' '.join(re.findall(r'\\w+', str(x)))\n",
        "\n",
        "\n",
        "okt = konlpy.tag.Okt() # 객체 생성\n",
        "stopwords = ['질문', '문의', '관련', '그대로', '계속', '답변', '선생님', '관련문의',\n",
        "              '한지', '자주', '좀', '쪽', '자꾸', '요즘', '몇개', '무조건', '하나요',\n",
        "              '안해', '경우', '최근', '및', '몇', '달', '일반', '전날', '저번',\n",
        "              '말', '일어나지', '며칠', '먹기', '지난번', '글', '때문', '너', '무',\n",
        "              '시', '잔', '뒤', '지속', '막', '것', '이건', '뭔가', '다시', '그',\n",
        "              '무슨', '안', '난', '기', '후', '거리', '뭘', '저', '뭐', '답젼',\n",
        "              '평생', '회복', '반', '감사', '의사', '보험', '학생', '제발', '살짝',\n",
        "              '느낌', '제', '대해','문제', '전','정도', '왜', '거', '가요',\n",
        "              '의심', '추천', '를', '지금', '무엇', '관해', '리', '세',\n",
        "              '로', '목적', '그냥', '거의', '고민', '다음', '이틀', '항상', '뭐', '때',\n",
        "              '요',  '이후', '혹시', '안녕하세요',\n",
        "              '안녕','선생','끼','일','식','첨부','말씀','이번','분','년','진단','밥',\n",
        "              '속','년','동안','코딩','바','평소','게','주','올해','월','외','소견','오후','병원',\n",
        "              '어머니','군데','여러분','전문가','건','아버지','주일','센티','동안','건가요',\n",
        "              '의견','건강','세일','결까요','학원','수업','밤','부모','적','가족','대학생',\n",
        "              '무언가','이게','무엇','포함','살','사진','제','가능','중','기재','아이',\n",
        "              '저녁','안심','걱정','씨','며칠','동네','어디','하루','동생','해외','얘',\n",
        "              '학년','사람','직장인','나이','키','몸무게','엄마','부탁','해석','혹','시가'\n",
        "             '의', '가', '이', '은', '들', '는', '잘', '걍', '과', '도', '을'\n",
        "             '를', '으로', '자', '에', '와', '하다', '다', '.', ',']\n",
        "             \n",
        "def erase_stopwords(text):\n",
        "  temp_x = okt.morphs(text, stem=True)\n",
        "  temp_x = [word for word in temp_x if not word in stopwords]\n",
        "  temp_x = re.findall(r'\\w+', str(temp_x))\n",
        "  temp_x = ' '.join(map(str, temp_x))\n",
        "  \n",
        "  return ' '.join(re.findall(r'\\w+', str(temp_x)))"
      ]
    },
    {
      "cell_type": "code",
      "execution_count": null,
      "metadata": {
        "id": "ZXtWQ-tsfeDw"
      },
      "outputs": [],
      "source": [
        "with open('/content/gdrive/MyDrive/캡스톤/coco/LSTMAttention_men_tokenizer_v9.pickle', 'rb') as handle:\n",
        "    m_tokenizer = pickle.load(handle)\n",
        "\n",
        "with open('/content/gdrive/MyDrive/캡스톤/coco/LSTMAttention_men_model_v9.h5', 'rb') as handle:\n",
        "    m_loaded_mode = pickle.load(handle)\n",
        "\n",
        "with open(\"/content/gdrive/MyDrive/캡스톤/coco/LSTMAttention_men_diseases_v9.txt\", \"rb\") as fp:\n",
        "    m_disease_codes = pickle.load(fp)"
      ]
    },
    {
      "cell_type": "code",
      "execution_count": null,
      "metadata": {
        "id": "xCw4GersfAG3"
      },
      "outputs": [],
      "source": [
        "test_df = {\n",
        "  'Height': '180',\n",
        "  'Weight': '75',\n",
        "  'Age': '30대',\n",
        "  'Chief complaint': '배가 아파요',\n",
        "  'Sex': '남자',\n",
        "  'Onset': '1일 전',\n",
        "  'Location': '명치 부위',\n",
        "  'Duration' : '지속',\n",
        "  'Course': '심해짐',\n",
        "  'Experience' : '이전에도 3차례, 통증은 이번보다 약했음',\n",
        "  'Character': '칼로 찢기는 듯한 통증, NRS 8점, 방사통: 등으로 퍼짐',\n",
        "  'Associated Sx.': '구토, 속쓰림, 어지러움, 갈증, 소변량 감소',\n",
        "  'Factor': '오른쪽으로 돌아 누우면 완화',\n",
        "  'Event': '',\n",
        "  '약물 투약력': '',\n",
        "  '사회력': '술: 1주일 6~7번, 식사는 매우 불규칙',\n",
        "  '가족력': '',\n",
        "  '외상력': '',\n",
        "  '과거력': '',\n",
        "  '여성력': ''\n",
        "}\n",
        "\n",
        "data = pd.DataFrame([test_df])"
      ]
    },
    {
      "cell_type": "code",
      "source": [
        "# 두근거리다 50 대다 여자 1일 3시간 6 개월 부터 기적 규칙 빠르다 홍조 더위 견디다 못 불면 생리 량 감소 정상\n",
        "test_df_w =  {\n",
        "  'Height': '160',\n",
        "  'Weight': '55',\n",
        "  'Age': '50대',\n",
        "  'Chief complaint': '두근거려요',\n",
        "  'Sex': '여자',\n",
        "  'Onset': '6개월 전',\n",
        "  'Location': '아랫배 부위',\n",
        "  'Duration' : '지속',\n",
        "  'Course': '심해짐',\n",
        "  'Experience' : '이전에도 3차례, 통증은 이번보다 약했음',\n",
        "  'Character': ', NRS 2점',\n",
        "  'Associated Sx.': '홍조, 더위를 못 견딤, 생리량 감소',\n",
        "  'Factor': '',\n",
        "  'Event': '',\n",
        "  '약물 투약력': '',\n",
        "  '사회력': '술: 1주일 2~3번, 식사는 규칙',\n",
        "  '가족력': '',\n",
        "  '외상력': '',\n",
        "  '과거력': '갑상선암',\n",
        "  '여성력': ''\n",
        "}\n",
        "\n",
        "data = pd.DataFrame([test_df_w])"
      ],
      "metadata": {
        "id": "oRXkhXBT6DTM"
      },
      "execution_count": null,
      "outputs": []
    },
    {
      "cell_type": "code",
      "execution_count": null,
      "metadata": {
        "id": "CGs84yvXfDK6",
        "colab": {
          "base_uri": "https://localhost:8080/"
        },
        "outputId": "0ee259c8-7855-4806-99b3-4cd61bfda75d"
      },
      "outputs": [
        {
          "output_type": "execute_result",
          "data": {
            "text/plain": [
              "array([['180', '75', '30대', '배가 아파요', '남자', '1일 전', '명치 부위', '지속', '심해짐',\n",
              "        '이전에도 3차례, 통증은 이번보다 약했음', '칼로 찢기는 듯한 통증, NRS 8점, 방사통: 등으로 퍼짐',\n",
              "        '구토, 속쓰림, 어지러움, 갈증, 소변량 감소', '오른쪽으로 돌아 누우면 완화', '', '',\n",
              "        '술: 1주일 6~7번, 식사는 매우 불규칙', '', '', '', '']], dtype=object)"
            ]
          },
          "metadata": {},
          "execution_count": 411
        }
      ],
      "source": [
        "data.values"
      ]
    },
    {
      "cell_type": "code",
      "execution_count": null,
      "metadata": {
        "id": "aKftgdMq9c3O",
        "colab": {
          "base_uri": "https://localhost:8080/",
          "height": 160
        },
        "outputId": "87e4ebaf-8672-48f0-9e03-6aabb29cd1d9"
      },
      "outputs": [
        {
          "output_type": "execute_result",
          "data": {
            "text/plain": [
              "  Height Weight  Age Chief complaint Sex Onset Location Duration Course  \\\n",
              "0    180     75  30대          배가 아파요  남자  1일 전    명치 부위       지속    심해짐   \n",
              "\n",
              "               Experience                          Character  \\\n",
              "0  이전에도 3차례, 통증은 이번보다 약했음  칼로 찢기는 듯한 통증, NRS 8점, 방사통: 등으로 퍼짐   \n",
              "\n",
              "              Associated Sx.           Factor Event 약물 투약력  \\\n",
              "0  구토, 속쓰림, 어지러움, 갈증, 소변량 감소  오른쪽으로 돌아 누우면 완화                \n",
              "\n",
              "                       사회력 가족력 외상력 과거력 여성력  \n",
              "0  술: 1주일 6~7번, 식사는 매우 불규칙                  "
            ],
            "text/html": [
              "\n",
              "  <div id=\"df-11e6c470-c729-4029-ad8f-fc0ee106d857\">\n",
              "    <div class=\"colab-df-container\">\n",
              "      <div>\n",
              "<style scoped>\n",
              "    .dataframe tbody tr th:only-of-type {\n",
              "        vertical-align: middle;\n",
              "    }\n",
              "\n",
              "    .dataframe tbody tr th {\n",
              "        vertical-align: top;\n",
              "    }\n",
              "\n",
              "    .dataframe thead th {\n",
              "        text-align: right;\n",
              "    }\n",
              "</style>\n",
              "<table border=\"1\" class=\"dataframe\">\n",
              "  <thead>\n",
              "    <tr style=\"text-align: right;\">\n",
              "      <th></th>\n",
              "      <th>Height</th>\n",
              "      <th>Weight</th>\n",
              "      <th>Age</th>\n",
              "      <th>Chief complaint</th>\n",
              "      <th>Sex</th>\n",
              "      <th>Onset</th>\n",
              "      <th>Location</th>\n",
              "      <th>Duration</th>\n",
              "      <th>Course</th>\n",
              "      <th>Experience</th>\n",
              "      <th>Character</th>\n",
              "      <th>Associated Sx.</th>\n",
              "      <th>Factor</th>\n",
              "      <th>Event</th>\n",
              "      <th>약물 투약력</th>\n",
              "      <th>사회력</th>\n",
              "      <th>가족력</th>\n",
              "      <th>외상력</th>\n",
              "      <th>과거력</th>\n",
              "      <th>여성력</th>\n",
              "    </tr>\n",
              "  </thead>\n",
              "  <tbody>\n",
              "    <tr>\n",
              "      <th>0</th>\n",
              "      <td>180</td>\n",
              "      <td>75</td>\n",
              "      <td>30대</td>\n",
              "      <td>배가 아파요</td>\n",
              "      <td>남자</td>\n",
              "      <td>1일 전</td>\n",
              "      <td>명치 부위</td>\n",
              "      <td>지속</td>\n",
              "      <td>심해짐</td>\n",
              "      <td>이전에도 3차례, 통증은 이번보다 약했음</td>\n",
              "      <td>칼로 찢기는 듯한 통증, NRS 8점, 방사통: 등으로 퍼짐</td>\n",
              "      <td>구토, 속쓰림, 어지러움, 갈증, 소변량 감소</td>\n",
              "      <td>오른쪽으로 돌아 누우면 완화</td>\n",
              "      <td></td>\n",
              "      <td></td>\n",
              "      <td>술: 1주일 6~7번, 식사는 매우 불규칙</td>\n",
              "      <td></td>\n",
              "      <td></td>\n",
              "      <td></td>\n",
              "      <td></td>\n",
              "    </tr>\n",
              "  </tbody>\n",
              "</table>\n",
              "</div>\n",
              "      <button class=\"colab-df-convert\" onclick=\"convertToInteractive('df-11e6c470-c729-4029-ad8f-fc0ee106d857')\"\n",
              "              title=\"Convert this dataframe to an interactive table.\"\n",
              "              style=\"display:none;\">\n",
              "        \n",
              "  <svg xmlns=\"http://www.w3.org/2000/svg\" height=\"24px\"viewBox=\"0 0 24 24\"\n",
              "       width=\"24px\">\n",
              "    <path d=\"M0 0h24v24H0V0z\" fill=\"none\"/>\n",
              "    <path d=\"M18.56 5.44l.94 2.06.94-2.06 2.06-.94-2.06-.94-.94-2.06-.94 2.06-2.06.94zm-11 1L8.5 8.5l.94-2.06 2.06-.94-2.06-.94L8.5 2.5l-.94 2.06-2.06.94zm10 10l.94 2.06.94-2.06 2.06-.94-2.06-.94-.94-2.06-.94 2.06-2.06.94z\"/><path d=\"M17.41 7.96l-1.37-1.37c-.4-.4-.92-.59-1.43-.59-.52 0-1.04.2-1.43.59L10.3 9.45l-7.72 7.72c-.78.78-.78 2.05 0 2.83L4 21.41c.39.39.9.59 1.41.59.51 0 1.02-.2 1.41-.59l7.78-7.78 2.81-2.81c.8-.78.8-2.07 0-2.86zM5.41 20L4 18.59l7.72-7.72 1.47 1.35L5.41 20z\"/>\n",
              "  </svg>\n",
              "      </button>\n",
              "      \n",
              "  <style>\n",
              "    .colab-df-container {\n",
              "      display:flex;\n",
              "      flex-wrap:wrap;\n",
              "      gap: 12px;\n",
              "    }\n",
              "\n",
              "    .colab-df-convert {\n",
              "      background-color: #E8F0FE;\n",
              "      border: none;\n",
              "      border-radius: 50%;\n",
              "      cursor: pointer;\n",
              "      display: none;\n",
              "      fill: #1967D2;\n",
              "      height: 32px;\n",
              "      padding: 0 0 0 0;\n",
              "      width: 32px;\n",
              "    }\n",
              "\n",
              "    .colab-df-convert:hover {\n",
              "      background-color: #E2EBFA;\n",
              "      box-shadow: 0px 1px 2px rgba(60, 64, 67, 0.3), 0px 1px 3px 1px rgba(60, 64, 67, 0.15);\n",
              "      fill: #174EA6;\n",
              "    }\n",
              "\n",
              "    [theme=dark] .colab-df-convert {\n",
              "      background-color: #3B4455;\n",
              "      fill: #D2E3FC;\n",
              "    }\n",
              "\n",
              "    [theme=dark] .colab-df-convert:hover {\n",
              "      background-color: #434B5C;\n",
              "      box-shadow: 0px 1px 3px 1px rgba(0, 0, 0, 0.15);\n",
              "      filter: drop-shadow(0px 1px 2px rgba(0, 0, 0, 0.3));\n",
              "      fill: #FFFFFF;\n",
              "    }\n",
              "  </style>\n",
              "\n",
              "      <script>\n",
              "        const buttonEl =\n",
              "          document.querySelector('#df-11e6c470-c729-4029-ad8f-fc0ee106d857 button.colab-df-convert');\n",
              "        buttonEl.style.display =\n",
              "          google.colab.kernel.accessAllowed ? 'block' : 'none';\n",
              "\n",
              "        async function convertToInteractive(key) {\n",
              "          const element = document.querySelector('#df-11e6c470-c729-4029-ad8f-fc0ee106d857');\n",
              "          const dataTable =\n",
              "            await google.colab.kernel.invokeFunction('convertToInteractive',\n",
              "                                                     [key], {});\n",
              "          if (!dataTable) return;\n",
              "\n",
              "          const docLinkHtml = 'Like what you see? Visit the ' +\n",
              "            '<a target=\"_blank\" href=https://colab.research.google.com/notebooks/data_table.ipynb>data table notebook</a>'\n",
              "            + ' to learn more about interactive tables.';\n",
              "          element.innerHTML = '';\n",
              "          dataTable['output_type'] = 'display_data';\n",
              "          await google.colab.output.renderOutput(dataTable, element);\n",
              "          const docLink = document.createElement('div');\n",
              "          docLink.innerHTML = docLinkHtml;\n",
              "          element.appendChild(docLink);\n",
              "        }\n",
              "      </script>\n",
              "    </div>\n",
              "  </div>\n",
              "  "
            ]
          },
          "metadata": {},
          "execution_count": 412
        }
      ],
      "source": [
        "data"
      ]
    },
    {
      "cell_type": "code",
      "execution_count": null,
      "metadata": {
        "id": "8mN_MOHMfpeK"
      },
      "outputs": [],
      "source": [
        "# Handle Nan values \n",
        "data = data.fillna('-')\n",
        "\n",
        "for i in range(len(data.columns)):\n",
        "  data[data.columns[i]] = data.apply(lambda x : to_nan(x[data.columns[i]]) , axis = 1 )\n",
        "\n",
        "# Define obesity by calculating BMI with Height and Weight\n",
        "data['Height'] = data['Height'].replace('', '0')\n",
        "data['Weight'] = data['Weight'].replace('', '0')\n",
        "\n",
        "data['Height'] = data['Height'].astype('int')\n",
        "data['Weight'] = data['Weight'].astype('int')\n",
        "\n",
        "data['BMI'] = data['Weight'] / (data['Height']/100)**2\n",
        "data['BMI'].fillna(-1, inplace=True)\n",
        "data['Obesity'] = define_obesity(data['BMI'].values)\n",
        "  \n",
        "# Change Age to Groups of AgeX(-> Since we are going to receive their age as a group_format)\n",
        "data['Age'] = data['Age'].astype(str)"
      ]
    },
    {
      "cell_type": "code",
      "execution_count": null,
      "metadata": {
        "id": "0yaJPBSBgz6k"
      },
      "outputs": [],
      "source": [
        "# Make a sentence\n",
        "data['All'] = (data['Chief complaint'].values +'. '+ data['Age'].values + '. '+\n",
        "                  data['Onset'].values + '. '+ data['Location'].values + '. ' +\n",
        "                  data['Sex'].values + '. '+\n",
        "                  data['Duration'].values + '. ' + data['Course'].values + '. ' +\n",
        "                  data['Experience'].values + '. ' + data['Character'].values + '. ' +\n",
        "                  data['Associated Sx.'].values+'. '+ data['Factor'].values + '. ' +\n",
        "                  data['Event'].values + '. ' + data['약물 투약력'].values + '. ' +\n",
        "                  data['사회력'].values + '. ' + data['가족력'].values + '. ' +\n",
        "                  data['외상력'].values + '. ' + data['과거력'].values + '. ' +\n",
        "                  data['여성력'].values + '. ' + data['Obesity'].values)"
      ]
    },
    {
      "cell_type": "code",
      "execution_count": null,
      "metadata": {
        "id": "-ZJWlJLkKmgS",
        "colab": {
          "base_uri": "https://localhost:8080/",
          "height": 195
        },
        "outputId": "89c9fb48-bb57-440a-f1f5-607edf0e750d"
      },
      "outputs": [
        {
          "output_type": "execute_result",
          "data": {
            "text/plain": [
              "   Height  Weight  Age Chief complaint Sex Onset Location Duration Course  \\\n",
              "0     180      75  30대          배가 아파요  남자  1일 전    명치 부위       지속    심해짐   \n",
              "\n",
              "               Experience                          Character  \\\n",
              "0  이전에도 3차례, 통증은 이번보다 약했음  칼로 찢기는 듯한 통증, NRS 8점, 방사통: 등으로 퍼짐   \n",
              "\n",
              "              Associated Sx.           Factor Event 약물 투약력  \\\n",
              "0  구토, 속쓰림, 어지러움, 갈증, 소변량 감소  오른쪽으로 돌아 누우면 완화                \n",
              "\n",
              "                       사회력 가족력 외상력 과거력 여성력        BMI Obesity  \\\n",
              "0  술: 1주일 6~7번, 식사는 매우 불규칙                  23.148148      정상   \n",
              "\n",
              "                                                 All  \n",
              "0  배가 아파요. 30대. 1일 전. 명치 부위. 남자. 지속. 심해짐. 이전에도 3차...  "
            ],
            "text/html": [
              "\n",
              "  <div id=\"df-87eb2b0e-2c1b-4d38-bc13-13c1755c6331\">\n",
              "    <div class=\"colab-df-container\">\n",
              "      <div>\n",
              "<style scoped>\n",
              "    .dataframe tbody tr th:only-of-type {\n",
              "        vertical-align: middle;\n",
              "    }\n",
              "\n",
              "    .dataframe tbody tr th {\n",
              "        vertical-align: top;\n",
              "    }\n",
              "\n",
              "    .dataframe thead th {\n",
              "        text-align: right;\n",
              "    }\n",
              "</style>\n",
              "<table border=\"1\" class=\"dataframe\">\n",
              "  <thead>\n",
              "    <tr style=\"text-align: right;\">\n",
              "      <th></th>\n",
              "      <th>Height</th>\n",
              "      <th>Weight</th>\n",
              "      <th>Age</th>\n",
              "      <th>Chief complaint</th>\n",
              "      <th>Sex</th>\n",
              "      <th>Onset</th>\n",
              "      <th>Location</th>\n",
              "      <th>Duration</th>\n",
              "      <th>Course</th>\n",
              "      <th>Experience</th>\n",
              "      <th>Character</th>\n",
              "      <th>Associated Sx.</th>\n",
              "      <th>Factor</th>\n",
              "      <th>Event</th>\n",
              "      <th>약물 투약력</th>\n",
              "      <th>사회력</th>\n",
              "      <th>가족력</th>\n",
              "      <th>외상력</th>\n",
              "      <th>과거력</th>\n",
              "      <th>여성력</th>\n",
              "      <th>BMI</th>\n",
              "      <th>Obesity</th>\n",
              "      <th>All</th>\n",
              "    </tr>\n",
              "  </thead>\n",
              "  <tbody>\n",
              "    <tr>\n",
              "      <th>0</th>\n",
              "      <td>180</td>\n",
              "      <td>75</td>\n",
              "      <td>30대</td>\n",
              "      <td>배가 아파요</td>\n",
              "      <td>남자</td>\n",
              "      <td>1일 전</td>\n",
              "      <td>명치 부위</td>\n",
              "      <td>지속</td>\n",
              "      <td>심해짐</td>\n",
              "      <td>이전에도 3차례, 통증은 이번보다 약했음</td>\n",
              "      <td>칼로 찢기는 듯한 통증, NRS 8점, 방사통: 등으로 퍼짐</td>\n",
              "      <td>구토, 속쓰림, 어지러움, 갈증, 소변량 감소</td>\n",
              "      <td>오른쪽으로 돌아 누우면 완화</td>\n",
              "      <td></td>\n",
              "      <td></td>\n",
              "      <td>술: 1주일 6~7번, 식사는 매우 불규칙</td>\n",
              "      <td></td>\n",
              "      <td></td>\n",
              "      <td></td>\n",
              "      <td></td>\n",
              "      <td>23.148148</td>\n",
              "      <td>정상</td>\n",
              "      <td>배가 아파요. 30대. 1일 전. 명치 부위. 남자. 지속. 심해짐. 이전에도 3차...</td>\n",
              "    </tr>\n",
              "  </tbody>\n",
              "</table>\n",
              "</div>\n",
              "      <button class=\"colab-df-convert\" onclick=\"convertToInteractive('df-87eb2b0e-2c1b-4d38-bc13-13c1755c6331')\"\n",
              "              title=\"Convert this dataframe to an interactive table.\"\n",
              "              style=\"display:none;\">\n",
              "        \n",
              "  <svg xmlns=\"http://www.w3.org/2000/svg\" height=\"24px\"viewBox=\"0 0 24 24\"\n",
              "       width=\"24px\">\n",
              "    <path d=\"M0 0h24v24H0V0z\" fill=\"none\"/>\n",
              "    <path d=\"M18.56 5.44l.94 2.06.94-2.06 2.06-.94-2.06-.94-.94-2.06-.94 2.06-2.06.94zm-11 1L8.5 8.5l.94-2.06 2.06-.94-2.06-.94L8.5 2.5l-.94 2.06-2.06.94zm10 10l.94 2.06.94-2.06 2.06-.94-2.06-.94-.94-2.06-.94 2.06-2.06.94z\"/><path d=\"M17.41 7.96l-1.37-1.37c-.4-.4-.92-.59-1.43-.59-.52 0-1.04.2-1.43.59L10.3 9.45l-7.72 7.72c-.78.78-.78 2.05 0 2.83L4 21.41c.39.39.9.59 1.41.59.51 0 1.02-.2 1.41-.59l7.78-7.78 2.81-2.81c.8-.78.8-2.07 0-2.86zM5.41 20L4 18.59l7.72-7.72 1.47 1.35L5.41 20z\"/>\n",
              "  </svg>\n",
              "      </button>\n",
              "      \n",
              "  <style>\n",
              "    .colab-df-container {\n",
              "      display:flex;\n",
              "      flex-wrap:wrap;\n",
              "      gap: 12px;\n",
              "    }\n",
              "\n",
              "    .colab-df-convert {\n",
              "      background-color: #E8F0FE;\n",
              "      border: none;\n",
              "      border-radius: 50%;\n",
              "      cursor: pointer;\n",
              "      display: none;\n",
              "      fill: #1967D2;\n",
              "      height: 32px;\n",
              "      padding: 0 0 0 0;\n",
              "      width: 32px;\n",
              "    }\n",
              "\n",
              "    .colab-df-convert:hover {\n",
              "      background-color: #E2EBFA;\n",
              "      box-shadow: 0px 1px 2px rgba(60, 64, 67, 0.3), 0px 1px 3px 1px rgba(60, 64, 67, 0.15);\n",
              "      fill: #174EA6;\n",
              "    }\n",
              "\n",
              "    [theme=dark] .colab-df-convert {\n",
              "      background-color: #3B4455;\n",
              "      fill: #D2E3FC;\n",
              "    }\n",
              "\n",
              "    [theme=dark] .colab-df-convert:hover {\n",
              "      background-color: #434B5C;\n",
              "      box-shadow: 0px 1px 3px 1px rgba(0, 0, 0, 0.15);\n",
              "      filter: drop-shadow(0px 1px 2px rgba(0, 0, 0, 0.3));\n",
              "      fill: #FFFFFF;\n",
              "    }\n",
              "  </style>\n",
              "\n",
              "      <script>\n",
              "        const buttonEl =\n",
              "          document.querySelector('#df-87eb2b0e-2c1b-4d38-bc13-13c1755c6331 button.colab-df-convert');\n",
              "        buttonEl.style.display =\n",
              "          google.colab.kernel.accessAllowed ? 'block' : 'none';\n",
              "\n",
              "        async function convertToInteractive(key) {\n",
              "          const element = document.querySelector('#df-87eb2b0e-2c1b-4d38-bc13-13c1755c6331');\n",
              "          const dataTable =\n",
              "            await google.colab.kernel.invokeFunction('convertToInteractive',\n",
              "                                                     [key], {});\n",
              "          if (!dataTable) return;\n",
              "\n",
              "          const docLinkHtml = 'Like what you see? Visit the ' +\n",
              "            '<a target=\"_blank\" href=https://colab.research.google.com/notebooks/data_table.ipynb>data table notebook</a>'\n",
              "            + ' to learn more about interactive tables.';\n",
              "          element.innerHTML = '';\n",
              "          dataTable['output_type'] = 'display_data';\n",
              "          await google.colab.output.renderOutput(dataTable, element);\n",
              "          const docLink = document.createElement('div');\n",
              "          docLink.innerHTML = docLinkHtml;\n",
              "          element.appendChild(docLink);\n",
              "        }\n",
              "      </script>\n",
              "    </div>\n",
              "  </div>\n",
              "  "
            ]
          },
          "metadata": {},
          "execution_count": 415
        }
      ],
      "source": [
        "data"
      ]
    },
    {
      "cell_type": "code",
      "source": [
        "len(data)"
      ],
      "metadata": {
        "id": "0PuHmXksvQrR",
        "colab": {
          "base_uri": "https://localhost:8080/"
        },
        "outputId": "52c0fb02-c601-41ea-d61c-e944b16417fa"
      },
      "execution_count": null,
      "outputs": [
        {
          "output_type": "execute_result",
          "data": {
            "text/plain": [
              "1"
            ]
          },
          "metadata": {},
          "execution_count": 416
        }
      ]
    },
    {
      "cell_type": "code",
      "execution_count": null,
      "metadata": {
        "id": "3WND1APXKX10"
      },
      "outputs": [],
      "source": [
        "# Change NRS to text\n",
        "data['All'] = NRS_to_text(data['All'].values[0])\n",
        "\n",
        "# Spelling Check\n",
        "data['All'] = spelling_check(data['All'].values[0])\n",
        "\n",
        "# Erase stopwords using konlpy\n",
        "data['All'] = erase_stopwords(data['All'].values[0])"
      ]
    },
    {
      "cell_type": "code",
      "execution_count": null,
      "metadata": {
        "id": "SQXbjcsNgVIZ"
      },
      "outputs": [],
      "source": [
        "data['All'] = only_letters_num(data['All'].values)\n",
        "document_bert_data = [\"[CLS] \" + str(s) + \" [SEP]\" for s in data['All'].values]"
      ]
    },
    {
      "cell_type": "code",
      "execution_count": null,
      "metadata": {
        "id": "4eHWyJQKgVpF",
        "colab": {
          "base_uri": "https://localhost:8080/"
        },
        "outputId": "fcebf5cd-9a8b-4377-ed76-1ddbc96e1262"
      },
      "outputs": [
        {
          "output_type": "execute_result",
          "data": {
            "text/plain": [
              "['[CLS] 배 아프다 30 대다 1일 명치 부위 남자 심해지다 이전 에도 3 차례 통증 보다 약하다 칼 찢기다 듯 한 통증 심하다 방사 통 등 퍼지다 구토 쓰리다 어지러움 갈증 소 변량 감소 오른쪽 돌 아누 우 면 완화 술 1 6 7 번 식사 매우 불규칙 정상 [SEP]']"
            ]
          },
          "metadata": {},
          "execution_count": 419
        }
      ],
      "source": [
        "document_bert_data"
      ]
    },
    {
      "cell_type": "code",
      "execution_count": null,
      "metadata": {
        "id": "BUD1a8b3g2dZ"
      },
      "outputs": [],
      "source": [
        "m_max_len = 140\n",
        "tokenizer_funnel = FunnelTokenizerFast.from_pretrained(\"kykim/funnel-kor-base\")\n",
        "\n",
        "if data['Sex'].values =='남자':\n",
        "  ko_tokenized_texts_data = [tokenizer_funnel.tokenize(s) for s in document_bert_data]\n",
        "  data_sequence = m_tokenizer.texts_to_sequences(ko_tokenized_texts_data)\n",
        "  data_sequence = pad_sequences(data_sequence, maxlen = m_max_len).reshape(1,-1)"
      ]
    },
    {
      "cell_type": "code",
      "execution_count": null,
      "metadata": {
        "id": "xUOaYIfjhAT9"
      },
      "outputs": [],
      "source": [
        "y_prob = m_loaded_mode.predict(data_sequence)"
      ]
    },
    {
      "cell_type": "code",
      "execution_count": null,
      "metadata": {
        "id": "OvXABndaj-Q2"
      },
      "outputs": [],
      "source": [
        "top_k_result = tf.math.top_k(y_prob, k=3, sorted=True)\n",
        "\n",
        "first = top_k_result[1][0][0], top_k_result.values.numpy()[0][0]\n",
        "second = top_k_result[1][0][1], top_k_result.values.numpy()[0][1]\n",
        "third = top_k_result[1][0][2], top_k_result.values.numpy()[0][2]\n",
        "\n",
        "first_pred_disease_name = m_disease_codes[first[0]]\n",
        "second_pred_disease_name = m_disease_codes[second[0]]\n",
        "third_pred_disease_name = m_disease_codes[third[0]]"
      ]
    },
    {
      "cell_type": "code",
      "execution_count": null,
      "metadata": {
        "id": "hKXMxNngkCWQ",
        "colab": {
          "base_uri": "https://localhost:8080/",
          "height": 588
        },
        "outputId": "74c9f5dc-29c5-4b8d-a844-d657f3273059"
      },
      "outputs": [
        {
          "output_type": "execute_result",
          "data": {
            "text/plain": [
              "     Unnamed: 0                  원 질병이름  \\\n",
              "0             0  ACEI(혈압강하제) 복용으로 인한 증상   \n",
              "1             1                      간염   \n",
              "2             2                 간질성 폐질환   \n",
              "3             3                   갈비연골염   \n",
              "4             4                 감염성 관절염   \n",
              "..          ...                     ...   \n",
              "221         221                 지주막하 출혈   \n",
              "222         222         커피 / 약물에 의한 요붕증   \n",
              "223         223                   터너증후군   \n",
              "224         224                 하지신경 손상   \n",
              "225         225                호두까기 증후군   \n",
              "\n",
              "                                          사이트 질병 이름  \\\n",
              "0                                (ACEI side effect)   \n",
              "1                                     간염(Hepatitis)   \n",
              "2    미만성 간질성 폐질환(Diffuse Interstitial lung disease)   \n",
              "3                                             갈비연골염   \n",
              "4                                           감염성 관절염   \n",
              "..                                              ...   \n",
              "221                         뇌동맥류(Cerebral aneurysm)   \n",
              "222                         요붕증(Diabetes insipidus)   \n",
              "223                        터너 증후군 (Turner syndrome)   \n",
              "224                         업데이트 예정 (전처리 중 drop 질병)   \n",
              "225                         업데이트 예정 (전처리 중 drop 질병)   \n",
              "\n",
              "                           진료과                                        동의어  \\\n",
              "0                        순환기내과                                   ACEI 부작용   \n",
              "1                        소화기내과                                 간세포 염증,간염증   \n",
              "2                        호흡기내과  간질성 폐질환,미만성 침윤성 폐질환,특발성 간질성 폐렴,폐섬유증,폐섬유화증   \n",
              "3                         흉부외과                                       늑연골염   \n",
              "4                        류미티스과                                        관절염   \n",
              "..                         ...                                        ...   \n",
              "221       영상의학과, 신경외과, 신경중재클리닉                   뇌동맥꽈리,뇌지주막하 출혈,두개강 내 동맥류   \n",
              "222            내분비내과, 소아내분비대사과                                 항이뇨호르몬 결핍증   \n",
              "223  의학유전학센터, 소아내분비대사과, 의학유전학과                                      터너증후군   \n",
              "224    업데이트 예정 (전처리 중 drop 질병)                    업데이트 예정 (전처리 중 drop 질병)   \n",
              "225    업데이트 예정 (전처리 중 drop 질병)                    업데이트 예정 (전처리 중 drop 질병)   \n",
              "\n",
              "                                                    정의  \n",
              "0                  혈압 강하제 중 ACEI 복용 후 나타나는 부작용을 의미합니다.  \n",
              "1                         간염은 간세포 조직에 염증이 생긴 것을 의미합니다.  \n",
              "2    미만성 간질성 폐질환(DILD)은 폐간질에 침범되는 비종양성, 비감염성 질환을 총칭...  \n",
              "3              갈비연골염은 늑골과 흉골을 연결하는 갈비 연골에 염증이 생긴 것입니다.  \n",
              "4    감염성 관절염은 보통 박테리아나 경우에 따라 바이러스 또는 진균으로 인해 관절액과 ...  \n",
              "..                                                 ...  \n",
              "221  뇌동맥류는 뇌동맥 일부가 약해져서 그 부분이 풍선이나 꽈리처럼 부풀어 오르는 질환을...  \n",
              "222  항이뇨호르몬 분비가 부족하거나 신장에서 제 기능을 하지 못하는 상태를 요붕증이라고 ...  \n",
              "223  터너 증후군은 여성의 키가 작고, 목이 짧고 두꺼우며, 성적 발달이 지연되는 유전 ...  \n",
              "224                            업데이트 예정 (전처리 중 drop 질병)  \n",
              "225                            업데이트 예정 (전처리 중 drop 질병)  \n",
              "\n",
              "[226 rows x 6 columns]"
            ],
            "text/html": [
              "\n",
              "  <div id=\"df-fd9edbb8-1ab6-44cd-8c71-ef6542cfb439\">\n",
              "    <div class=\"colab-df-container\">\n",
              "      <div>\n",
              "<style scoped>\n",
              "    .dataframe tbody tr th:only-of-type {\n",
              "        vertical-align: middle;\n",
              "    }\n",
              "\n",
              "    .dataframe tbody tr th {\n",
              "        vertical-align: top;\n",
              "    }\n",
              "\n",
              "    .dataframe thead th {\n",
              "        text-align: right;\n",
              "    }\n",
              "</style>\n",
              "<table border=\"1\" class=\"dataframe\">\n",
              "  <thead>\n",
              "    <tr style=\"text-align: right;\">\n",
              "      <th></th>\n",
              "      <th>Unnamed: 0</th>\n",
              "      <th>원 질병이름</th>\n",
              "      <th>사이트 질병 이름</th>\n",
              "      <th>진료과</th>\n",
              "      <th>동의어</th>\n",
              "      <th>정의</th>\n",
              "    </tr>\n",
              "  </thead>\n",
              "  <tbody>\n",
              "    <tr>\n",
              "      <th>0</th>\n",
              "      <td>0</td>\n",
              "      <td>ACEI(혈압강하제) 복용으로 인한 증상</td>\n",
              "      <td>(ACEI side effect)</td>\n",
              "      <td>순환기내과</td>\n",
              "      <td>ACEI 부작용</td>\n",
              "      <td>혈압 강하제 중 ACEI 복용 후 나타나는 부작용을 의미합니다.</td>\n",
              "    </tr>\n",
              "    <tr>\n",
              "      <th>1</th>\n",
              "      <td>1</td>\n",
              "      <td>간염</td>\n",
              "      <td>간염(Hepatitis)</td>\n",
              "      <td>소화기내과</td>\n",
              "      <td>간세포 염증,간염증</td>\n",
              "      <td>간염은 간세포 조직에 염증이 생긴 것을 의미합니다.</td>\n",
              "    </tr>\n",
              "    <tr>\n",
              "      <th>2</th>\n",
              "      <td>2</td>\n",
              "      <td>간질성 폐질환</td>\n",
              "      <td>미만성 간질성 폐질환(Diffuse Interstitial lung disease)</td>\n",
              "      <td>호흡기내과</td>\n",
              "      <td>간질성 폐질환,미만성 침윤성 폐질환,특발성 간질성 폐렴,폐섬유증,폐섬유화증</td>\n",
              "      <td>미만성 간질성 폐질환(DILD)은 폐간질에 침범되는 비종양성, 비감염성 질환을 총칭...</td>\n",
              "    </tr>\n",
              "    <tr>\n",
              "      <th>3</th>\n",
              "      <td>3</td>\n",
              "      <td>갈비연골염</td>\n",
              "      <td>갈비연골염</td>\n",
              "      <td>흉부외과</td>\n",
              "      <td>늑연골염</td>\n",
              "      <td>갈비연골염은 늑골과 흉골을 연결하는 갈비 연골에 염증이 생긴 것입니다.</td>\n",
              "    </tr>\n",
              "    <tr>\n",
              "      <th>4</th>\n",
              "      <td>4</td>\n",
              "      <td>감염성 관절염</td>\n",
              "      <td>감염성 관절염</td>\n",
              "      <td>류미티스과</td>\n",
              "      <td>관절염</td>\n",
              "      <td>감염성 관절염은 보통 박테리아나 경우에 따라 바이러스 또는 진균으로 인해 관절액과 ...</td>\n",
              "    </tr>\n",
              "    <tr>\n",
              "      <th>...</th>\n",
              "      <td>...</td>\n",
              "      <td>...</td>\n",
              "      <td>...</td>\n",
              "      <td>...</td>\n",
              "      <td>...</td>\n",
              "      <td>...</td>\n",
              "    </tr>\n",
              "    <tr>\n",
              "      <th>221</th>\n",
              "      <td>221</td>\n",
              "      <td>지주막하 출혈</td>\n",
              "      <td>뇌동맥류(Cerebral aneurysm)</td>\n",
              "      <td>영상의학과, 신경외과, 신경중재클리닉</td>\n",
              "      <td>뇌동맥꽈리,뇌지주막하 출혈,두개강 내 동맥류</td>\n",
              "      <td>뇌동맥류는 뇌동맥 일부가 약해져서 그 부분이 풍선이나 꽈리처럼 부풀어 오르는 질환을...</td>\n",
              "    </tr>\n",
              "    <tr>\n",
              "      <th>222</th>\n",
              "      <td>222</td>\n",
              "      <td>커피 / 약물에 의한 요붕증</td>\n",
              "      <td>요붕증(Diabetes insipidus)</td>\n",
              "      <td>내분비내과, 소아내분비대사과</td>\n",
              "      <td>항이뇨호르몬 결핍증</td>\n",
              "      <td>항이뇨호르몬 분비가 부족하거나 신장에서 제 기능을 하지 못하는 상태를 요붕증이라고 ...</td>\n",
              "    </tr>\n",
              "    <tr>\n",
              "      <th>223</th>\n",
              "      <td>223</td>\n",
              "      <td>터너증후군</td>\n",
              "      <td>터너 증후군 (Turner syndrome)</td>\n",
              "      <td>의학유전학센터, 소아내분비대사과, 의학유전학과</td>\n",
              "      <td>터너증후군</td>\n",
              "      <td>터너 증후군은 여성의 키가 작고, 목이 짧고 두꺼우며, 성적 발달이 지연되는 유전 ...</td>\n",
              "    </tr>\n",
              "    <tr>\n",
              "      <th>224</th>\n",
              "      <td>224</td>\n",
              "      <td>하지신경 손상</td>\n",
              "      <td>업데이트 예정 (전처리 중 drop 질병)</td>\n",
              "      <td>업데이트 예정 (전처리 중 drop 질병)</td>\n",
              "      <td>업데이트 예정 (전처리 중 drop 질병)</td>\n",
              "      <td>업데이트 예정 (전처리 중 drop 질병)</td>\n",
              "    </tr>\n",
              "    <tr>\n",
              "      <th>225</th>\n",
              "      <td>225</td>\n",
              "      <td>호두까기 증후군</td>\n",
              "      <td>업데이트 예정 (전처리 중 drop 질병)</td>\n",
              "      <td>업데이트 예정 (전처리 중 drop 질병)</td>\n",
              "      <td>업데이트 예정 (전처리 중 drop 질병)</td>\n",
              "      <td>업데이트 예정 (전처리 중 drop 질병)</td>\n",
              "    </tr>\n",
              "  </tbody>\n",
              "</table>\n",
              "<p>226 rows × 6 columns</p>\n",
              "</div>\n",
              "      <button class=\"colab-df-convert\" onclick=\"convertToInteractive('df-fd9edbb8-1ab6-44cd-8c71-ef6542cfb439')\"\n",
              "              title=\"Convert this dataframe to an interactive table.\"\n",
              "              style=\"display:none;\">\n",
              "        \n",
              "  <svg xmlns=\"http://www.w3.org/2000/svg\" height=\"24px\"viewBox=\"0 0 24 24\"\n",
              "       width=\"24px\">\n",
              "    <path d=\"M0 0h24v24H0V0z\" fill=\"none\"/>\n",
              "    <path d=\"M18.56 5.44l.94 2.06.94-2.06 2.06-.94-2.06-.94-.94-2.06-.94 2.06-2.06.94zm-11 1L8.5 8.5l.94-2.06 2.06-.94-2.06-.94L8.5 2.5l-.94 2.06-2.06.94zm10 10l.94 2.06.94-2.06 2.06-.94-2.06-.94-.94-2.06-.94 2.06-2.06.94z\"/><path d=\"M17.41 7.96l-1.37-1.37c-.4-.4-.92-.59-1.43-.59-.52 0-1.04.2-1.43.59L10.3 9.45l-7.72 7.72c-.78.78-.78 2.05 0 2.83L4 21.41c.39.39.9.59 1.41.59.51 0 1.02-.2 1.41-.59l7.78-7.78 2.81-2.81c.8-.78.8-2.07 0-2.86zM5.41 20L4 18.59l7.72-7.72 1.47 1.35L5.41 20z\"/>\n",
              "  </svg>\n",
              "      </button>\n",
              "      \n",
              "  <style>\n",
              "    .colab-df-container {\n",
              "      display:flex;\n",
              "      flex-wrap:wrap;\n",
              "      gap: 12px;\n",
              "    }\n",
              "\n",
              "    .colab-df-convert {\n",
              "      background-color: #E8F0FE;\n",
              "      border: none;\n",
              "      border-radius: 50%;\n",
              "      cursor: pointer;\n",
              "      display: none;\n",
              "      fill: #1967D2;\n",
              "      height: 32px;\n",
              "      padding: 0 0 0 0;\n",
              "      width: 32px;\n",
              "    }\n",
              "\n",
              "    .colab-df-convert:hover {\n",
              "      background-color: #E2EBFA;\n",
              "      box-shadow: 0px 1px 2px rgba(60, 64, 67, 0.3), 0px 1px 3px 1px rgba(60, 64, 67, 0.15);\n",
              "      fill: #174EA6;\n",
              "    }\n",
              "\n",
              "    [theme=dark] .colab-df-convert {\n",
              "      background-color: #3B4455;\n",
              "      fill: #D2E3FC;\n",
              "    }\n",
              "\n",
              "    [theme=dark] .colab-df-convert:hover {\n",
              "      background-color: #434B5C;\n",
              "      box-shadow: 0px 1px 3px 1px rgba(0, 0, 0, 0.15);\n",
              "      filter: drop-shadow(0px 1px 2px rgba(0, 0, 0, 0.3));\n",
              "      fill: #FFFFFF;\n",
              "    }\n",
              "  </style>\n",
              "\n",
              "      <script>\n",
              "        const buttonEl =\n",
              "          document.querySelector('#df-fd9edbb8-1ab6-44cd-8c71-ef6542cfb439 button.colab-df-convert');\n",
              "        buttonEl.style.display =\n",
              "          google.colab.kernel.accessAllowed ? 'block' : 'none';\n",
              "\n",
              "        async function convertToInteractive(key) {\n",
              "          const element = document.querySelector('#df-fd9edbb8-1ab6-44cd-8c71-ef6542cfb439');\n",
              "          const dataTable =\n",
              "            await google.colab.kernel.invokeFunction('convertToInteractive',\n",
              "                                                     [key], {});\n",
              "          if (!dataTable) return;\n",
              "\n",
              "          const docLinkHtml = 'Like what you see? Visit the ' +\n",
              "            '<a target=\"_blank\" href=https://colab.research.google.com/notebooks/data_table.ipynb>data table notebook</a>'\n",
              "            + ' to learn more about interactive tables.';\n",
              "          element.innerHTML = '';\n",
              "          dataTable['output_type'] = 'display_data';\n",
              "          await google.colab.output.renderOutput(dataTable, element);\n",
              "          const docLink = document.createElement('div');\n",
              "          docLink.innerHTML = docLinkHtml;\n",
              "          element.appendChild(docLink);\n",
              "        }\n",
              "      </script>\n",
              "    </div>\n",
              "  </div>\n",
              "  "
            ]
          },
          "metadata": {},
          "execution_count": 423
        }
      ],
      "source": [
        "aa = pd.read_csv(DATA_IN_PATH + 'Disease_info.csv')\n",
        "#aa.drop('Unnamed: 0', axis=1, inplace=True)\n",
        "aa"
      ]
    },
    {
      "cell_type": "code",
      "source": [
        ""
      ],
      "metadata": {
        "id": "hs1XwmNpo7Ic"
      },
      "execution_count": null,
      "outputs": []
    },
    {
      "cell_type": "code",
      "source": [
        ""
      ],
      "metadata": {
        "id": "YwzNDuLJ8Fzz"
      },
      "execution_count": null,
      "outputs": []
    },
    {
      "cell_type": "code",
      "source": [
        ""
      ],
      "metadata": {
        "id": "TEHYoZ738oT_"
      },
      "execution_count": null,
      "outputs": []
    },
    {
      "cell_type": "markdown",
      "source": [
        "# **ver9:**\n",
        "\n",
        "embedding_dim = 1024, dense 2400 -- 800, dropout 0.5\n",
        "stopwords 설정, epoch 100"
      ],
      "metadata": {
        "id": "QFkRIbkwCJJa"
      }
    },
    {
      "cell_type": "code",
      "source": [
        "'''\n",
        "women\n",
        "Accuracy of Test: 0.6534\n",
        "Precision of Test: 0.6883\n",
        "top_k_result: 0.7437\n",
        "\n",
        "men\n",
        "Accuracy of Test: 0.7380\n",
        "Precision of Test: 0.7745\n",
        "top_k_result: 0.8060\n",
        "\n",
        "'''"
      ],
      "metadata": {
        "id": "he7oU87xCJJb"
      },
      "execution_count": null,
      "outputs": []
    },
    {
      "cell_type": "code",
      "execution_count": null,
      "metadata": {
        "colab": {
          "base_uri": "https://localhost:8080/"
        },
        "outputId": "052e652b-65c0-4e01-e8b3-954c45bcb3d8",
        "id": "PPws6tXyCJJb"
      },
      "outputs": [
        {
          "output_type": "stream",
          "name": "stdout",
          "text": [
            "위암 85.26 % \n",
            " 동의어: Gastric cancer,Malignant neoplasm of stomach,cancer of the stomach,위 악성종양,위선암,위선암종,위암종\n",
            " 진료과:  소화기내과, 종양내과, 방사선종양학과, 위장관외과, 암병원\n",
            " 질병 설명: 위에 발생하는 악성 종양에는 위 선암, 림프종, 위 점막하 종양, 평활 근육종 등이 있습니다. 이 중에서 위 선암이 98%를 차지합니다. 따라서 위암은 일반적으로 위 선암을 말합니다. 위암은 위의 점막에서 발생합니다. 시간이 지남에 따라 점막하층, 근육층, 장막하층, 장막층으로 침윤합니다. 위암은 점막 또는 점막하층을 따라 위 내에 넓게 퍼지기도 하고, 점막층에서 장막층을 향해 깊이 퍼지기도 합니다. 위 주변의 임파선을 따라서, 혹은 혈류의 파급에 의해 간, 폐, 뼈 등의 여러 부위로 퍼질 수 있습니다.\n"
          ]
        }
      ],
      "source": [
        "first_info = aa[aa['원 질병이름'] == first_pred_disease_name]\n",
        "print(first_pred_disease_name, round(first[1]*100, 2),'%','\\n',\n",
        "      '동의어:', first_info['동의어'].values[0]+'\\n',\n",
        "      '진료과: ', first_info['진료과'].values[0]+'\\n',\n",
        "      '질병 설명:', first_info['정의'].values[0]\n",
        "      )"
      ]
    },
    {
      "cell_type": "code",
      "execution_count": null,
      "metadata": {
        "colab": {
          "base_uri": "https://localhost:8080/",
          "height": 36
        },
        "outputId": "671ebef8-45ff-4435-8b18-b4292fc351fe",
        "id": "SZj7hQ89CJJb"
      },
      "outputs": [
        {
          "output_type": "execute_result",
          "data": {
            "text/plain": [
              "'소화기내과, 종양내과, 방사선종양학과, 위장관외과, 암병원'"
            ],
            "application/vnd.google.colaboratory.intrinsic+json": {
              "type": "string"
            }
          },
          "metadata": {},
          "execution_count": 425
        }
      ],
      "source": [
        "first_info = aa[aa['원 질병이름'] == first_pred_disease_name]\n",
        "first_info['진료과'].values[0]"
      ]
    },
    {
      "cell_type": "code",
      "execution_count": null,
      "metadata": {
        "colab": {
          "base_uri": "https://localhost:8080/"
        },
        "outputId": "8c9b0003-3636-4bbf-c37e-5dd7aff074ba",
        "id": "fdh30Bu8CJJc"
      },
      "outputs": [
        {
          "output_type": "stream",
          "name": "stdout",
          "text": [
            "단장 증후군 4.34 % \n",
            " 동의어: 작은창자증후군,짧은 창자증후군\n",
            " 진료과:  소화기내과\n",
            " 질병 설명: 단장 증후군은 소장이 짧아 영양소의 소화 흡수 기능이 저하됨으로써 발생하는 여러 가지 대사 이상을 의미합니다. 발병 유형에 따라 선천성과 후천성으로 구분합니다. 선천성은 태아가 짧은 소장을 갖고 태어나는 것을 의미합니다. 후천성은 다른 질병이나 외상으로 인해 잘라내고 남은 소장의 길이가 너무 짧아 장애를 일으키는 것을 의미합니다.\n"
          ]
        }
      ],
      "source": [
        "second_info = aa[aa['원 질병이름'] == second_pred_disease_name]\n",
        "print(second_pred_disease_name, round(second[1]*100, 2),'%','\\n',\n",
        "      '동의어:', second_info['동의어'].values[0]+'\\n',\n",
        "      '진료과: ', second_info['진료과'].values[0]+'\\n',\n",
        "      '질병 설명:', second_info['정의'].values[0]\n",
        "      )"
      ]
    },
    {
      "cell_type": "code",
      "source": [
        "third_info = aa[aa['원 질병이름'] == third_pred_disease_name]\n",
        "print(third_pred_disease_name, round(third[1]*100, 2),'%','\\n',\n",
        "      '동의어:', third_info['동의어'].values[0]+'\\n',\n",
        "      '진료과: ', third_info['진료과'].values[0]+'\\n',\n",
        "      '질병 설명:', third_info['정의'].values[0]\n",
        "      )"
      ],
      "metadata": {
        "colab": {
          "base_uri": "https://localhost:8080/"
        },
        "outputId": "42686be0-3a4d-48c3-b93e-b913cc4e9ea0",
        "id": "K-jRLxErCJJc"
      },
      "execution_count": null,
      "outputs": [
        {
          "output_type": "stream",
          "name": "stdout",
          "text": [
            "식도 정맥류 파열 4.05 % \n",
            " 동의어: Esophageal Varix\n",
            " 진료과:  소화기내과\n",
            " 질병 설명: 식도 정맥류는 식도에 있는 정맥이 혹처럼 부풀어 오르는 질환입니다. 이 질환은 간경변증의 주요 합병증입니다.\n"
          ]
        }
      ]
    },
    {
      "cell_type": "code",
      "source": [
        ""
      ],
      "metadata": {
        "id": "DstBMj9D8pNc"
      },
      "execution_count": null,
      "outputs": []
    },
    {
      "cell_type": "code",
      "source": [
        ""
      ],
      "metadata": {
        "id": "JJajh-fS8pUZ"
      },
      "execution_count": null,
      "outputs": []
    },
    {
      "cell_type": "code",
      "source": [
        ""
      ],
      "metadata": {
        "id": "JGQ_G3Cw8pdE"
      },
      "execution_count": null,
      "outputs": []
    },
    {
      "cell_type": "markdown",
      "source": [
        "# **ver8:**\n",
        "\n",
        "embedding_dim = 1024, dense 2048--512, 2400 -- 800, dropout 0.3, 0.5\n",
        "stopwords 똑같이 만들어주기"
      ],
      "metadata": {
        "id": "5K1iAyAA8pwS"
      }
    },
    {
      "cell_type": "code",
      "source": [
        "'''\n",
        "women\n",
        "Accuracy of Test: 0.6372\n",
        "Precision of Test: 0.6879\n",
        "top_k_result: 0.7491\n",
        "\n",
        "men\n",
        "Accuracy of Test: 0.6840\n",
        "Precision of Test: 0.7534\n",
        "top_k_result: 0.7860\n",
        "\n",
        "'''"
      ],
      "metadata": {
        "id": "1gxWnh1l8pwT"
      },
      "execution_count": null,
      "outputs": []
    },
    {
      "cell_type": "code",
      "execution_count": null,
      "metadata": {
        "colab": {
          "base_uri": "https://localhost:8080/"
        },
        "outputId": "f0b879fb-5a56-41d8-b4eb-61ed16ed6a28",
        "id": "ejop1W9r8pwU"
      },
      "outputs": [
        {
          "output_type": "stream",
          "name": "stdout",
          "text": [
            "유당불내증 64.4 % \n",
            " 동의어: 우유 소화불량,유당분해효소결핍,유당불내증,젖당분해효소결핍,젖당불내성\n",
            " 진료과:  가정의학과\n",
            " 질병 설명: 유당은 우유에 함유된 물질입니다. 유당 분해 효소인 락타아제가 부족한 사람이 유당을 섭취하면, 유당이 소장에서 삼투 현상에 의해 수분을 끌어들임으로써 팽만감과 경련을 일으키고, 대장을 통과하면서 설사를 유발합니다. 이러한 현상을 유당분해효소결핍증이라 합니다.\n"
          ]
        }
      ],
      "source": [
        "first_info = aa[aa['원 질병이름'] == first_pred_disease_name]\n",
        "print(first_pred_disease_name, round(first[1]*100, 2),'%','\\n',\n",
        "      '동의어:', first_info['동의어'].values[0]+'\\n',\n",
        "      '진료과: ', first_info['진료과'].values[0]+'\\n',\n",
        "      '질병 설명:', first_info['정의'].values[0]\n",
        "      )"
      ]
    },
    {
      "cell_type": "code",
      "execution_count": null,
      "metadata": {
        "colab": {
          "base_uri": "https://localhost:8080/",
          "height": 36
        },
        "outputId": "aadfb0c3-05bc-484a-e1a0-007d02ea8ed5",
        "id": "sargRwf98pwV"
      },
      "outputs": [
        {
          "output_type": "execute_result",
          "data": {
            "text/plain": [
              "'가정의학과'"
            ],
            "application/vnd.google.colaboratory.intrinsic+json": {
              "type": "string"
            }
          },
          "metadata": {},
          "execution_count": 347
        }
      ],
      "source": [
        "first_info = aa[aa['원 질병이름'] == first_pred_disease_name]\n",
        "first_info['진료과'].values[0]"
      ]
    },
    {
      "cell_type": "code",
      "execution_count": null,
      "metadata": {
        "colab": {
          "base_uri": "https://localhost:8080/"
        },
        "outputId": "3c754eee-f596-4f91-ed82-37497e1778e6",
        "id": "S7hqd7WR8pwW"
      },
      "outputs": [
        {
          "output_type": "stream",
          "name": "stdout",
          "text": [
            "염증성 장질환 29.5 % \n",
            " 동의어: 국한성 창자염,염증성 장질환,육아종성 대장염,크론씨병\n",
            " 진료과:  소화기내과, 대장항문외과, 소아소화기영양과\n",
            " 질병 설명: 크론병은 입에서 항문까지 소화기관 전체에 발생할 수 있는 만성 염증성 장질환입니다. 궤양성 대장염과 달리 장의 모든 층에 염증이 침범할 수 있습니다. 주로 대장과 소장이 연결되는 부위인 회맹부에 발병하는 경우가 흔하고, 그 다음으로 대장, 회장 말단부, 소장 등에서 많이 발생합니다.\n"
          ]
        }
      ],
      "source": [
        "second_info = aa[aa['원 질병이름'] == second_pred_disease_name]\n",
        "print(second_pred_disease_name, round(second[1]*100, 2),'%','\\n',\n",
        "      '동의어:', second_info['동의어'].values[0]+'\\n',\n",
        "      '진료과: ', second_info['진료과'].values[0]+'\\n',\n",
        "      '질병 설명:', second_info['정의'].values[0]\n",
        "      )"
      ]
    },
    {
      "cell_type": "code",
      "source": [
        "third_info = aa[aa['원 질병이름'] == third_pred_disease_name]\n",
        "print(third_pred_disease_name, round(third[1]*100, 2),'%','\\n',\n",
        "      '동의어:', third_info['동의어'].values[0]+'\\n',\n",
        "      '진료과: ', third_info['진료과'].values[0]+'\\n',\n",
        "      '질병 설명:', third_info['정의'].values[0]\n",
        "      )"
      ],
      "metadata": {
        "colab": {
          "base_uri": "https://localhost:8080/"
        },
        "outputId": "fd7ee3b9-88f6-4f9d-da62-6677729d36ae",
        "id": "7JLCFF5e8pwX"
      },
      "execution_count": null,
      "outputs": [
        {
          "output_type": "stream",
          "name": "stdout",
          "text": [
            "뇌척수액 비루 4.28 % \n",
            " 동의어: 업데이트 예정\n",
            " 진료과:  신경외과\n",
            " 질병 설명: 뇌척수액 비루란 뇌척수액이 마치 콧물처럼 코로 새어나오는 질환입니다. 맑고 물 같은 콧물이 계속 나오며, 아랫배에 힘을 주었을 때 더 많이 나온다면 뇌척수액비루일 가능성이 있습니다.\n"
          ]
        }
      ]
    },
    {
      "cell_type": "code",
      "source": [
        ""
      ],
      "metadata": {
        "id": "WWtpgRRC8obA"
      },
      "execution_count": null,
      "outputs": []
    },
    {
      "cell_type": "code",
      "source": [
        ""
      ],
      "metadata": {
        "id": "n_qYQqvr8oix"
      },
      "execution_count": null,
      "outputs": []
    },
    {
      "cell_type": "code",
      "source": [
        ""
      ],
      "metadata": {
        "id": "hydykr0QvpG3"
      },
      "execution_count": null,
      "outputs": []
    },
    {
      "cell_type": "code",
      "source": [
        ""
      ],
      "metadata": {
        "id": "_oudsvv4vpLv"
      },
      "execution_count": null,
      "outputs": []
    },
    {
      "cell_type": "markdown",
      "source": [
        "# **ver7:**\n",
        "\n",
        "embedding_dim = 1024, dense 2400 -- 800, dropout 0.25, 0.5\n",
        "stopwords 똑같이 만들어주기"
      ],
      "metadata": {
        "id": "zO5HnfYlvpsG"
      }
    },
    {
      "cell_type": "code",
      "source": [
        "'''\n",
        "women\n",
        "Accuracy of Test: 0.5993\n",
        "Precision of Test: 0.6481\n",
        "top_k_result: 0.7202\n",
        "\n",
        "men\n",
        "Accuracy of Test: 0.6780\n",
        "Precision of Test: 0.7365\n",
        "top_k_result: 0.7600\n",
        "'''"
      ],
      "metadata": {
        "id": "2xIZxx3avpsH"
      },
      "execution_count": null,
      "outputs": []
    },
    {
      "cell_type": "code",
      "execution_count": null,
      "metadata": {
        "colab": {
          "base_uri": "https://localhost:8080/"
        },
        "outputId": "15c9ba63-280e-453c-c3f1-e66bd281b4d6",
        "id": "-2MqbOtCvpsH"
      },
      "outputs": [
        {
          "output_type": "stream",
          "name": "stdout",
          "text": [
            "소화성 궤양 98.82 % \n",
            " 동의어: 소화성 궤양,십이지장 궤양\n",
            " 진료과:  소화기내과, 노년내과\n",
            " 질병 설명: 위궤양은 위점막이 헐어서 궤양이 점막뿐만 아니라 근육층까지 침범한 것을 말합니다.\n"
          ]
        }
      ],
      "source": [
        "first_info = aa[aa['원 질병이름'] == first_pred_disease_name]\n",
        "print(first_pred_disease_name, round(first[1]*100, 2),'%','\\n',\n",
        "      '동의어:', first_info['동의어'].values[0]+'\\n',\n",
        "      '진료과: ', first_info['진료과'].values[0]+'\\n',\n",
        "      '질병 설명:', first_info['정의'].values[0]\n",
        "      )"
      ]
    },
    {
      "cell_type": "code",
      "execution_count": null,
      "metadata": {
        "colab": {
          "base_uri": "https://localhost:8080/",
          "height": 36
        },
        "outputId": "66755592-a93f-473d-9490-5b8900de3c8d",
        "id": "Q5hMDdBGvpsI"
      },
      "outputs": [
        {
          "output_type": "execute_result",
          "data": {
            "text/plain": [
              "'소화기내과, 노년내과'"
            ],
            "application/vnd.google.colaboratory.intrinsic+json": {
              "type": "string"
            }
          },
          "metadata": {},
          "execution_count": 303
        }
      ],
      "source": [
        "first_info = aa[aa['원 질병이름'] == first_pred_disease_name]\n",
        "first_info['진료과'].values[0]"
      ]
    },
    {
      "cell_type": "code",
      "execution_count": null,
      "metadata": {
        "colab": {
          "base_uri": "https://localhost:8080/"
        },
        "outputId": "7d2e0c89-e734-4a5d-a4dd-8f06b40faba1",
        "id": "OB7MzBc6vpsI"
      },
      "outputs": [
        {
          "output_type": "stream",
          "name": "stdout",
          "text": [
            "공황장애 0.63 % \n",
            " 동의어: 공황발작, 우발적 발작성불안, 임소공포\n",
            " 진료과:  정신건강의학과\n",
            " 질병 설명: 공황 장애란 갑자기 극도의 두려움과 불안을 느끼는 불안 장애의 일종입니다.\n"
          ]
        }
      ],
      "source": [
        "second_info = aa[aa['원 질병이름'] == second_pred_disease_name]\n",
        "print(second_pred_disease_name, round(second[1]*100, 2),'%','\\n',\n",
        "      '동의어:', second_info['동의어'].values[0]+'\\n',\n",
        "      '진료과: ', second_info['진료과'].values[0]+'\\n',\n",
        "      '질병 설명:', second_info['정의'].values[0]\n",
        "      )"
      ]
    },
    {
      "cell_type": "code",
      "source": [
        "third_info = aa[aa['원 질병이름'] == third_pred_disease_name]\n",
        "print(third_pred_disease_name, round(third[1]*100, 2),'%','\\n',\n",
        "      '동의어:', third_info['동의어'].values[0]+'\\n',\n",
        "      '진료과: ', third_info['진료과'].values[0]+'\\n',\n",
        "      '질병 설명:', third_info['정의'].values[0]\n",
        "      )"
      ],
      "metadata": {
        "colab": {
          "base_uri": "https://localhost:8080/"
        },
        "outputId": "638b53b4-42e8-43c3-c489-d399e9778f5e",
        "id": "GvwrR0NovpsI"
      },
      "execution_count": null,
      "outputs": [
        {
          "output_type": "stream",
          "name": "stdout",
          "text": [
            "약물에 의한 변비 0.52 % \n",
            " 동의어: 변비\n",
            " 진료과:  소화기내과\n",
            " 질병 설명: 변비는 대장의 연동 운동이 저하되어 원활한 배변 운동을 하지 못하는 질환을 의미합니다.\n"
          ]
        }
      ]
    },
    {
      "cell_type": "code",
      "source": [
        ""
      ],
      "metadata": {
        "id": "4vmK_bD4vpQo"
      },
      "execution_count": null,
      "outputs": []
    },
    {
      "cell_type": "code",
      "source": [
        ""
      ],
      "metadata": {
        "id": "_tSvNRk6JdH2"
      },
      "execution_count": null,
      "outputs": []
    },
    {
      "cell_type": "code",
      "source": [
        ""
      ],
      "metadata": {
        "id": "BgSrAcfJJdK_"
      },
      "execution_count": null,
      "outputs": []
    },
    {
      "cell_type": "code",
      "source": [
        ""
      ],
      "metadata": {
        "id": "yJHnLg_gJdPD"
      },
      "execution_count": null,
      "outputs": []
    },
    {
      "cell_type": "markdown",
      "source": [
        "# **ver6:**\n",
        "\n",
        "embedding_dim = 1024, dense 2400 -- 800, dropout 0.5\n",
        "stopwords 똑같이 만들어주기"
      ],
      "metadata": {
        "id": "tX8AhdAMJeCu"
      }
    },
    {
      "cell_type": "code",
      "source": [
        "'''\n",
        "women\n",
        "\n",
        "\n",
        "men\n",
        "\n",
        "'''"
      ],
      "metadata": {
        "id": "9UmsU7U4JeCv"
      },
      "execution_count": null,
      "outputs": []
    },
    {
      "cell_type": "code",
      "execution_count": null,
      "metadata": {
        "colab": {
          "base_uri": "https://localhost:8080/"
        },
        "outputId": "82536031-4be3-4b3a-e6d9-c313ca1f367c",
        "id": "_j7uX66cJeCv"
      },
      "outputs": [
        {
          "output_type": "stream",
          "name": "stdout",
          "text": [
            "소화성 궤양 95.91 % \n",
            " 동의어: 소화성 궤양,십이지장 궤양\n",
            " 진료과:  소화기내과, 노년내과\n",
            " 질병 설명: 위궤양은 위점막이 헐어서 궤양이 점막뿐만 아니라 근육층까지 침범한 것을 말합니다.\n"
          ]
        }
      ],
      "source": [
        "first_info = aa[aa['원 질병이름'] == first_pred_disease_name]\n",
        "print(first_pred_disease_name, round(first[1]*100, 2),'%','\\n',\n",
        "      '동의어:', first_info['동의어'].values[0]+'\\n',\n",
        "      '진료과: ', first_info['진료과'].values[0]+'\\n',\n",
        "      '질병 설명:', first_info['정의'].values[0]\n",
        "      )"
      ]
    },
    {
      "cell_type": "code",
      "execution_count": null,
      "metadata": {
        "colab": {
          "base_uri": "https://localhost:8080/",
          "height": 36
        },
        "outputId": "3608004b-583e-43e8-9d32-c19dec8ab40f",
        "id": "_s_Mrv5DJeCv"
      },
      "outputs": [
        {
          "output_type": "execute_result",
          "data": {
            "text/plain": [
              "'소화기내과, 노년내과'"
            ],
            "application/vnd.google.colaboratory.intrinsic+json": {
              "type": "string"
            }
          },
          "metadata": {},
          "execution_count": 344
        }
      ],
      "source": [
        "first_info = aa[aa['원 질병이름'] == first_pred_disease_name]\n",
        "first_info['진료과'].values[0]"
      ]
    },
    {
      "cell_type": "code",
      "execution_count": null,
      "metadata": {
        "colab": {
          "base_uri": "https://localhost:8080/"
        },
        "outputId": "de8c87ee-b91e-425a-c0ad-8ed49f67418e",
        "id": "IYulrHc7JeCw"
      },
      "outputs": [
        {
          "output_type": "stream",
          "name": "stdout",
          "text": [
            "양성돌발체위현훈 3.92 % \n",
            " 동의어: 양성 돌발성 체위 현훈증,양성 발작성 현기증,양성 체위성 현훈,양성자세현훈\n",
            " 진료과:  이비인후과 \n",
            " 질병 설명: 이석증은 주변이 빙글빙글 도는 듯한 심한 어지럼이 수초에서 1분 정도 지속되다가 저절로 좋아지는 일이 반복되는 증상으로, 원래 명칭은 양성 발작성 체위성 현훈입니다. 이석증은 어지럼의 가장 흔한 원인입니다.\n"
          ]
        }
      ],
      "source": [
        "second_info = aa[aa['원 질병이름'] == second_pred_disease_name]\n",
        "print(second_pred_disease_name, round(second[1]*100, 2),'%','\\n',\n",
        "      '동의어:', second_info['동의어'].values[0]+'\\n',\n",
        "      '진료과: ', second_info['진료과'].values[0]+'\\n',\n",
        "      '질병 설명:', second_info['정의'].values[0]\n",
        "      )"
      ]
    },
    {
      "cell_type": "code",
      "source": [
        "third_info = aa[aa['원 질병이름'] == third_pred_disease_name]\n",
        "print(third_pred_disease_name, round(third[1]*100, 2),'%','\\n',\n",
        "      '동의어:', third_info['동의어'].values[0]+'\\n',\n",
        "      '진료과: ', third_info['진료과'].values[0]+'\\n',\n",
        "      '질병 설명:', third_info['정의'].values[0]\n",
        "      )"
      ],
      "metadata": {
        "colab": {
          "base_uri": "https://localhost:8080/"
        },
        "outputId": "21e0eef8-a56a-4907-a962-39d7546bc8dd",
        "id": "94Uhm2DdJeCw"
      },
      "execution_count": null,
      "outputs": [
        {
          "output_type": "stream",
          "name": "stdout",
          "text": [
            "위암 0.1 % \n",
            " 동의어: Gastric cancer,Malignant neoplasm of stomach,cancer of the stomach,위 악성종양,위선암,위선암종,위암종\n",
            " 진료과:  소화기내과, 종양내과, 방사선종양학과, 위장관외과, 암병원\n",
            " 질병 설명: 위에 발생하는 악성 종양에는 위 선암, 림프종, 위 점막하 종양, 평활 근육종 등이 있습니다. 이 중에서 위 선암이 98%를 차지합니다. 따라서 위암은 일반적으로 위 선암을 말합니다. 위암은 위의 점막에서 발생합니다. 시간이 지남에 따라 점막하층, 근육층, 장막하층, 장막층으로 침윤합니다. 위암은 점막 또는 점막하층을 따라 위 내에 넓게 퍼지기도 하고, 점막층에서 장막층을 향해 깊이 퍼지기도 합니다. 위 주변의 임파선을 따라서, 혹은 혈류의 파급에 의해 간, 폐, 뼈 등의 여러 부위로 퍼질 수 있습니다.\n"
          ]
        }
      ]
    },
    {
      "cell_type": "code",
      "source": [
        ""
      ],
      "metadata": {
        "id": "t3ZkjRciJdTb"
      },
      "execution_count": null,
      "outputs": []
    },
    {
      "cell_type": "code",
      "source": [
        ""
      ],
      "metadata": {
        "id": "aFSE7cblJdXH"
      },
      "execution_count": null,
      "outputs": []
    },
    {
      "cell_type": "code",
      "source": [
        ""
      ],
      "metadata": {
        "id": "GFAdbY5-JdbP"
      },
      "execution_count": null,
      "outputs": []
    },
    {
      "cell_type": "code",
      "source": [
        ""
      ],
      "metadata": {
        "id": "tw_fHw1AJdgQ"
      },
      "execution_count": null,
      "outputs": []
    },
    {
      "cell_type": "code",
      "source": [
        ""
      ],
      "metadata": {
        "id": "KmFXvfPZDGAP"
      },
      "execution_count": null,
      "outputs": []
    },
    {
      "cell_type": "code",
      "source": [
        ""
      ],
      "metadata": {
        "id": "XSaf02AMDGDm"
      },
      "execution_count": null,
      "outputs": []
    },
    {
      "cell_type": "code",
      "source": [
        ""
      ],
      "metadata": {
        "id": "2o6x7nJ0D6ds"
      },
      "execution_count": null,
      "outputs": []
    },
    {
      "cell_type": "markdown",
      "source": [
        "# **ver5:**\n",
        "\n",
        "embedding_dim = 1024, dense 2400 -- 800, dropout 0.5\n",
        "stopwords 똑같이 만들어주기"
      ],
      "metadata": {
        "id": "1b-Ll54kD8XU"
      }
    },
    {
      "cell_type": "code",
      "source": [
        "'''\n",
        "women\n",
        "Accuracy of Test: 0.6480\n",
        "Precision of Test: 0.7114\n",
        "top_k_result: 0.7635\n",
        "\n",
        "men\n",
        "Accuracy of Test: 0.6820\n",
        "Precision of Test: 0.7326\n",
        "top_k_result: 0.7580\n",
        "\n",
        "'''"
      ],
      "metadata": {
        "id": "xv7yDkLmD8XV"
      },
      "execution_count": null,
      "outputs": []
    },
    {
      "cell_type": "code",
      "execution_count": null,
      "metadata": {
        "colab": {
          "base_uri": "https://localhost:8080/"
        },
        "outputId": "974e6a1c-7958-4553-a1e2-65b348d251c0",
        "id": "yPdWqia1D8XW"
      },
      "outputs": [
        {
          "output_type": "stream",
          "name": "stdout",
          "text": [
            "요도염 49.4 % \n",
            " 동의어: 요도염\n",
            " 진료과:  비뇨의학과\n",
            " 질병 설명: 요도염은 성교에 의해 전파되며, 요도 분비물, 배뇨 시 통증, 요도의 소양감(간지러움) 등의 증상을 나타내는 요도의 염증성 질환입니다.\n"
          ]
        }
      ],
      "source": [
        "first_info = aa[aa['원 질병이름'] == first_pred_disease_name]\n",
        "print(first_pred_disease_name, round(first[1]*100, 2),'%','\\n',\n",
        "      '동의어:', first_info['동의어'].values[0]+'\\n',\n",
        "      '진료과: ', first_info['진료과'].values[0]+'\\n',\n",
        "      '질병 설명:', first_info['정의'].values[0]\n",
        "      )"
      ]
    },
    {
      "cell_type": "code",
      "execution_count": null,
      "metadata": {
        "colab": {
          "base_uri": "https://localhost:8080/",
          "height": 36
        },
        "outputId": "18e7d3d8-3201-4b0e-b609-ef59588512e3",
        "id": "lcvxDdDID8XX"
      },
      "outputs": [
        {
          "output_type": "execute_result",
          "data": {
            "text/plain": [
              "'비뇨의학과'"
            ],
            "application/vnd.google.colaboratory.intrinsic+json": {
              "type": "string"
            }
          },
          "metadata": {},
          "execution_count": 305
        }
      ],
      "source": [
        "first_info = aa[aa['원 질병이름'] == first_pred_disease_name]\n",
        "first_info['진료과'].values[0]"
      ]
    },
    {
      "cell_type": "code",
      "execution_count": null,
      "metadata": {
        "colab": {
          "base_uri": "https://localhost:8080/"
        },
        "outputId": "8bf92273-dcaa-4737-80e2-5cf8e1dedfef",
        "id": "3t_Mj5D7D8XX"
      },
      "outputs": [
        {
          "output_type": "stream",
          "name": "stdout",
          "text": [
            "식도암 37.49 % \n",
            " 동의어: 식도암종\n",
            " 진료과:  소화기내과, 종양내과, 영상의학과, 방사선종양학과, 신경외과, 이비인후과, 흉부외과, 위장관외과\n",
            " 질병 설명: 식도암은 식도에 생긴 암입니다. 식도암은 위치에 따라 경부 식도암, 흉부 식도암, 위-식도 연결부위암으로 구분되고, 세포의 형태에 따라 편평세포암, 선암, 육종, 림프종, 흑색종 등으로 구분됩니다. 우리나라에서 많이 발생하는 식도암은 편평세포암으로, 전체 식도암의 95% 정도를 차지합니다. 편평세포암은 식도 점막의 상피세포에서 생기는 암으로, 대개 식도의 중부와 하부에 발생합니다. 선암은 식도의 분비샘 조직에서 생기는 암으로, 대개 위 근처인 하부 식도에서 발생합니다.\n"
          ]
        }
      ],
      "source": [
        "second_info = aa[aa['원 질병이름'] == second_pred_disease_name]\n",
        "print(second_pred_disease_name, round(second[1]*100, 2),'%','\\n',\n",
        "      '동의어:', second_info['동의어'].values[0]+'\\n',\n",
        "      '진료과: ', second_info['진료과'].values[0]+'\\n',\n",
        "      '질병 설명:', second_info['정의'].values[0]\n",
        "      )"
      ]
    },
    {
      "cell_type": "code",
      "source": [
        "third_info = aa[aa['원 질병이름'] == third_pred_disease_name]\n",
        "print(third_pred_disease_name, round(third[1]*100, 2),'%','\\n',\n",
        "      '동의어:', third_info['동의어'].values[0]+'\\n',\n",
        "      '진료과: ', third_info['진료과'].values[0]+'\\n',\n",
        "      '질병 설명:', third_info['정의'].values[0]\n",
        "      )"
      ],
      "metadata": {
        "colab": {
          "base_uri": "https://localhost:8080/"
        },
        "outputId": "82e6e65a-31c4-492d-c54f-066fdb485ece",
        "id": "0YrXzDGZD8XY"
      },
      "execution_count": null,
      "outputs": [
        {
          "output_type": "stream",
          "name": "stdout",
          "text": [
            "역류성 식도염 6.39 % \n",
            " 동의어: 역류성 식도염,위 식도 역류질환\n",
            " 진료과:  가정의학과, 소화기내과, 위장관외과, 소아소화기영양과\n",
            " 질병 설명: 위식도 역류성 질환은 위 내용물이 소량씩 식도로 역류하고, 이러한 역류의 과정이 반복되어 식도 점막이 손상되어 염증이 나타나는 질환을 의미합니다. 이는 위와 식도 사이에서 위의 내용물이 식도로 올라오는 것을 막아 주는 조임쇠 역할을 하는 괄약근에 이상이 생겨 발생합니다.\n"
          ]
        }
      ]
    },
    {
      "cell_type": "code",
      "source": [
        ""
      ],
      "metadata": {
        "id": "x9qB-UroD6h5"
      },
      "execution_count": null,
      "outputs": []
    },
    {
      "cell_type": "code",
      "source": [
        ""
      ],
      "metadata": {
        "id": "_rDEwVRAD6nN"
      },
      "execution_count": null,
      "outputs": []
    },
    {
      "cell_type": "code",
      "source": [
        ""
      ],
      "metadata": {
        "id": "zsnMqPZaD6sM"
      },
      "execution_count": null,
      "outputs": []
    },
    {
      "cell_type": "code",
      "source": [
        ""
      ],
      "metadata": {
        "id": "TTz69e0SD6xI"
      },
      "execution_count": null,
      "outputs": []
    },
    {
      "cell_type": "code",
      "source": [
        ""
      ],
      "metadata": {
        "id": "ODzrCs_8DGIM"
      },
      "execution_count": null,
      "outputs": []
    },
    {
      "cell_type": "code",
      "source": [
        ""
      ],
      "metadata": {
        "id": "I7SYCvaQDGOB"
      },
      "execution_count": null,
      "outputs": []
    },
    {
      "cell_type": "code",
      "source": [
        ""
      ],
      "metadata": {
        "id": "Y4Y2iBzsDGSW"
      },
      "execution_count": null,
      "outputs": []
    },
    {
      "cell_type": "code",
      "source": [
        ""
      ],
      "metadata": {
        "id": "31_iVRIvDGWY"
      },
      "execution_count": null,
      "outputs": []
    },
    {
      "cell_type": "markdown",
      "source": [
        "# **ver4:**\n",
        "\n",
        "embedding_dim = 1024, dense 2400 -- 800, dropout 0.5 (여자는 dropout 0.25)\n",
        "\n",
        "stopwords 똑같이 만들어주기"
      ],
      "metadata": {
        "id": "w1psR9yM8HEf"
      }
    },
    {
      "cell_type": "code",
      "source": [
        "'''\n",
        "women\n",
        "Accuracy of Test: 0.6318\n",
        "Precision of Test: 0.6943\n",
        "top_k_result: 0.7401\n",
        "\n",
        "men\n",
        "Accuracy of Test: 0.7180\n",
        "Precision of Test: 0.7601\n",
        "top_k_result: 0.8160\n",
        "--> 전체적으로 다 오른 것을 볼 수 있음\n",
        "'''"
      ],
      "metadata": {
        "id": "rawJVFOX8HEg"
      },
      "execution_count": null,
      "outputs": []
    },
    {
      "cell_type": "code",
      "execution_count": null,
      "metadata": {
        "colab": {
          "base_uri": "https://localhost:8080/"
        },
        "outputId": "dceaac89-2572-478c-b788-991fddcf657d",
        "id": "Vd4w8AQ28HEg"
      },
      "outputs": [
        {
          "output_type": "stream",
          "name": "stdout",
          "text": [
            "소화성 궤양 97.19 % \n",
            " 동의어: 소화성 궤양,십이지장 궤양\n",
            " 진료과:  소화기내과, 노년내과\n",
            " 질병 설명: 위궤양은 위점막이 헐어서 궤양이 점막뿐만 아니라 근육층까지 침범한 것을 말합니다.\n"
          ]
        }
      ],
      "source": [
        "first_info = aa[aa['원 질병이름'] == first_pred_disease_name]\n",
        "print(first_pred_disease_name, round(first[1]*100, 2),'%','\\n',\n",
        "      '동의어:', first_info['동의어'].values[0]+'\\n',\n",
        "      '진료과: ', first_info['진료과'].values[0]+'\\n',\n",
        "      '질병 설명:', first_info['정의'].values[0]\n",
        "      )"
      ]
    },
    {
      "cell_type": "code",
      "execution_count": null,
      "metadata": {
        "colab": {
          "base_uri": "https://localhost:8080/",
          "height": 36
        },
        "outputId": "57358cf3-eee8-4cd8-b7b4-855efc65e166",
        "id": "AfTu6zYg8HEh"
      },
      "outputs": [
        {
          "output_type": "execute_result",
          "data": {
            "text/plain": [
              "'소화기내과, 노년내과'"
            ],
            "application/vnd.google.colaboratory.intrinsic+json": {
              "type": "string"
            }
          },
          "metadata": {},
          "execution_count": 259
        }
      ],
      "source": [
        "first_info = aa[aa['원 질병이름'] == first_pred_disease_name]\n",
        "first_info['진료과'].values[0]"
      ]
    },
    {
      "cell_type": "code",
      "execution_count": null,
      "metadata": {
        "colab": {
          "base_uri": "https://localhost:8080/"
        },
        "outputId": "ad5bb518-531d-4e7e-ad16-e36c53ce76f3",
        "id": "4tJKeXgZ8HEh"
      },
      "outputs": [
        {
          "output_type": "stream",
          "name": "stdout",
          "text": [
            "감염성 대장염 2.17 % \n",
            " 동의어: 대장염\n",
            " 진료과:  소화기내과\n",
            " 질병 설명: 감염성 대장염은 바이러스나 세균 등에 의하여 대장에 발생하는 감염입니다.\n"
          ]
        }
      ],
      "source": [
        "second_info = aa[aa['원 질병이름'] == second_pred_disease_name]\n",
        "print(second_pred_disease_name, round(second[1]*100, 2),'%','\\n',\n",
        "      '동의어:', second_info['동의어'].values[0]+'\\n',\n",
        "      '진료과: ', second_info['진료과'].values[0]+'\\n',\n",
        "      '질병 설명:', second_info['정의'].values[0]\n",
        "      )"
      ]
    },
    {
      "cell_type": "code",
      "source": [
        "third_info = aa[aa['원 질병이름'] == third_pred_disease_name]\n",
        "print(third_pred_disease_name, round(third[1]*100, 2),'%','\\n',\n",
        "      '동의어:', third_info['동의어'].values[0]+'\\n',\n",
        "      '진료과: ', third_info['진료과'].values[0]+'\\n',\n",
        "      '질병 설명:', third_info['정의'].values[0]\n",
        "      )"
      ],
      "metadata": {
        "colab": {
          "base_uri": "https://localhost:8080/"
        },
        "outputId": "f3f4d670-d029-45ce-c806-6f0e08d7d86f",
        "id": "pcpe_BQv8HEh"
      },
      "execution_count": null,
      "outputs": [
        {
          "output_type": "stream",
          "name": "stdout",
          "text": [
            "불안 / 우울 0.35 % \n",
            " 동의어: 우울병,우울장애,울병,주요 우울장애\n",
            " 진료과:  정신건강의학과\n",
            " 질병 설명: 우울증은 생각의 내용, 사고 과정, 동기, 의욕, 관심, 행동, 수면, 신체 활동 등 전반적인 정신 기능이 지속적으로 저하되어 일상생활에도 악영향을 미치는 상태를 의미합니다.\n"
          ]
        }
      ]
    },
    {
      "cell_type": "code",
      "source": [
        ""
      ],
      "metadata": {
        "id": "7ii77vIp8F6h"
      },
      "execution_count": null,
      "outputs": []
    },
    {
      "cell_type": "code",
      "source": [
        ""
      ],
      "metadata": {
        "id": "dxZfoIgW8F-Q"
      },
      "execution_count": null,
      "outputs": []
    },
    {
      "cell_type": "code",
      "source": [
        ""
      ],
      "metadata": {
        "id": "2LV1SJyW8GCC"
      },
      "execution_count": null,
      "outputs": []
    },
    {
      "cell_type": "code",
      "source": [
        ""
      ],
      "metadata": {
        "id": "WUhX2dJt8GFv"
      },
      "execution_count": null,
      "outputs": []
    },
    {
      "cell_type": "code",
      "source": [
        ""
      ],
      "metadata": {
        "id": "802OVH3D8GJx"
      },
      "execution_count": null,
      "outputs": []
    },
    {
      "cell_type": "code",
      "source": [
        ""
      ],
      "metadata": {
        "id": "SA9L31cg8GNb"
      },
      "execution_count": null,
      "outputs": []
    },
    {
      "cell_type": "code",
      "source": [
        ""
      ],
      "metadata": {
        "id": "S3iow72z8GRO"
      },
      "execution_count": null,
      "outputs": []
    },
    {
      "cell_type": "code",
      "source": [
        ""
      ],
      "metadata": {
        "id": "bURFVSdUo7M6"
      },
      "execution_count": null,
      "outputs": []
    },
    {
      "cell_type": "markdown",
      "source": [
        "# **ver3:**\n",
        "\n",
        "embedding_dim = 1024, dense 256 -- 64, dropout 0.5\n",
        "stopwords 똑같이 만들어주기"
      ],
      "metadata": {
        "id": "pFUrEXl20zG_"
      }
    },
    {
      "cell_type": "code",
      "source": [
        "'''\n",
        "women\n",
        "Accuracy of Test: 0.6390\n",
        "Precision of Test: 0.7478\n",
        "top_k_result: 0.7238\n",
        "\n",
        "men\n",
        "Accuracy of Test: 0.6860\n",
        "Precision of Test: 0.8076\n",
        "top_k_result: 0.7880\n",
        "수치는 올랐으나 --> 질병 예측의 전체적인 정확도 내려감 \n",
        "'''"
      ],
      "metadata": {
        "id": "vZU0cpfW6OY-"
      },
      "execution_count": null,
      "outputs": []
    },
    {
      "cell_type": "code",
      "execution_count": null,
      "metadata": {
        "colab": {
          "base_uri": "https://localhost:8080/"
        },
        "outputId": "62161226-f158-45aa-eaa4-19872e81326a",
        "id": "uU-Xd2Bb0zHA"
      },
      "outputs": [
        {
          "output_type": "stream",
          "name": "stdout",
          "text": [
            "소화성 궤양 57.36 % \n",
            " 동의어: 소화성 궤양,십이지장 궤양\n",
            " 진료과:  소화기내과, 노년내과\n",
            " 질병 설명: 위궤양은 위점막이 헐어서 궤양이 점막뿐만 아니라 근육층까지 침범한 것을 말합니다.\n"
          ]
        }
      ],
      "source": [
        "first_info = aa[aa['원 질병이름'] == first_pred_disease_name]\n",
        "print(first_pred_disease_name, round(first[1]*100, 2),'%','\\n',\n",
        "      '동의어:', first_info['동의어'].values[0]+'\\n',\n",
        "      '진료과: ', first_info['진료과'].values[0]+'\\n',\n",
        "      '질병 설명:', first_info['정의'].values[0]\n",
        "      )"
      ]
    },
    {
      "cell_type": "code",
      "execution_count": null,
      "metadata": {
        "colab": {
          "base_uri": "https://localhost:8080/",
          "height": 36
        },
        "outputId": "163ccbaf-0599-43ed-aee3-cdc838ac7922",
        "id": "uyS6fiSk0zHA"
      },
      "outputs": [
        {
          "output_type": "execute_result",
          "data": {
            "text/plain": [
              "'소화기내과, 노년내과'"
            ],
            "application/vnd.google.colaboratory.intrinsic+json": {
              "type": "string"
            }
          },
          "metadata": {},
          "execution_count": 219
        }
      ],
      "source": [
        "first_info = aa[aa['원 질병이름'] == first_pred_disease_name]\n",
        "first_info['진료과'].values[0]"
      ]
    },
    {
      "cell_type": "code",
      "execution_count": null,
      "metadata": {
        "colab": {
          "base_uri": "https://localhost:8080/"
        },
        "outputId": "1273a1ff-d16d-457e-aab7-c396fa32620a",
        "id": "cXy0kb6w0zHB"
      },
      "outputs": [
        {
          "output_type": "stream",
          "name": "stdout",
          "text": [
            "기관지 확장증 8.34 % \n",
            " 동의어: 기관지확장병\n",
            " 진료과:  호흡기내과\n",
            " 질병 설명: 기관지확장증은 폐 속의 큰 기도인 기관지가 과거의 심한 호흡기계 염증으로 손상을 입어 영구적으로 확장됨으로써 객담 배출 기능이 약해진 상태를 의미합니다.\n"
          ]
        }
      ],
      "source": [
        "second_info = aa[aa['원 질병이름'] == second_pred_disease_name]\n",
        "print(second_pred_disease_name, round(second[1]*100, 2),'%','\\n',\n",
        "      '동의어:', second_info['동의어'].values[0]+'\\n',\n",
        "      '진료과: ', second_info['진료과'].values[0]+'\\n',\n",
        "      '질병 설명:', second_info['정의'].values[0]\n",
        "      )"
      ]
    },
    {
      "cell_type": "code",
      "source": [
        "third_info = aa[aa['원 질병이름'] == third_pred_disease_name]\n",
        "print(third_pred_disease_name, round(third[1]*100, 2),'%','\\n',\n",
        "      '동의어:', third_info['동의어'].values[0]+'\\n',\n",
        "      '진료과: ', third_info['진료과'].values[0]+'\\n',\n",
        "      '질병 설명:', third_info['정의'].values[0]\n",
        "      )"
      ],
      "metadata": {
        "colab": {
          "base_uri": "https://localhost:8080/"
        },
        "outputId": "cbdc7f5f-2744-43db-bb09-f0f5c9c2ea75",
        "id": "eG9XpODS0zHB"
      },
      "execution_count": null,
      "outputs": [
        {
          "output_type": "stream",
          "name": "stdout",
          "text": [
            "식도정맥류 7.1 % \n",
            " 동의어: Esophageal Varix\n",
            " 진료과:  소화기내과\n",
            " 질병 설명: 식도 정맥류는 식도에 있는 정맥이 혹처럼 부풀어 오르는 질환입니다. 이 질환은 간경변증의 주요 합병증입니다. 식도 정맥류는 출혈이 발생할 경우 사망률이 12~22%에 달하는 응급 질환입니다. 간경변증 환자의 주요 사망 원인 중 하나입니다.\n"
          ]
        }
      ]
    },
    {
      "cell_type": "code",
      "source": [
        ""
      ],
      "metadata": {
        "id": "7i2V7Jkw0yeH"
      },
      "execution_count": null,
      "outputs": []
    },
    {
      "cell_type": "code",
      "source": [
        ""
      ],
      "metadata": {
        "id": "AOFY8M-40ygr"
      },
      "execution_count": null,
      "outputs": []
    },
    {
      "cell_type": "code",
      "source": [
        ""
      ],
      "metadata": {
        "id": "MrAWFfDO0ylJ"
      },
      "execution_count": null,
      "outputs": []
    },
    {
      "cell_type": "code",
      "source": [
        ""
      ],
      "metadata": {
        "id": "4IVCDe4ao7QA"
      },
      "execution_count": null,
      "outputs": []
    },
    {
      "cell_type": "code",
      "source": [
        ""
      ],
      "metadata": {
        "id": "XLK4bkP-o7TK"
      },
      "execution_count": null,
      "outputs": []
    },
    {
      "cell_type": "code",
      "source": [
        ""
      ],
      "metadata": {
        "id": "Hi8_xfy-o7Wd"
      },
      "execution_count": null,
      "outputs": []
    },
    {
      "cell_type": "markdown",
      "source": [
        "# **ver2:**\n",
        "\n",
        "embedding_dim = 1024, dense 256 -- 64\n",
        "stopwords 똑같이 만들어주기"
      ],
      "metadata": {
        "id": "fX0Wzmcapth7"
      }
    },
    {
      "cell_type": "code",
      "source": [
        "'''\n",
        "women\n",
        "Accuracy of Test: 0.5650\n",
        "Precision of Test: 0.7311\n",
        "top_k_result: 0.6787\n",
        "\n",
        "men\n",
        "Accuracy of Test: 0.6580\n",
        "Precision of Test: 0.7529\n",
        "top_k_result: 0.7540\n",
        "'''"
      ],
      "metadata": {
        "id": "nfw58hIJy8ro"
      },
      "execution_count": null,
      "outputs": []
    },
    {
      "cell_type": "code",
      "execution_count": null,
      "metadata": {
        "colab": {
          "base_uri": "https://localhost:8080/"
        },
        "outputId": "e48f4f4b-9e1b-4c75-f4e9-5b7a5d62f02b",
        "id": "rE57uoU4p9lN"
      },
      "outputs": [
        {
          "output_type": "stream",
          "name": "stdout",
          "text": [
            "역류성 식도염 60.22 % \n",
            " 동의어: 역류성 식도염,위 식도 역류질환\n",
            " 진료과:  가정의학과, 소화기내과, 위장관외과, 소아소화기영양과\n",
            " 질병 설명: 위식도 역류성 질환은 위 내용물이 소량씩 식도로 역류하고, 이러한 역류의 과정이 반복되어 식도 점막이 손상되어 염증이 나타나는 질환을 의미합니다. 이는 위와 식도 사이에서 위의 내용물이 식도로 올라오는 것을 막아 주는 조임쇠 역할을 하는 괄약근에 이상이 생겨 발생합니다.\n"
          ]
        }
      ],
      "source": [
        "first_info = aa[aa['원 질병이름'] == first_pred_disease_name]\n",
        "print(first_pred_disease_name, round(first[1]*100, 2),'%','\\n',\n",
        "      '동의어:', first_info['동의어'].values[0]+'\\n',\n",
        "      '진료과: ', first_info['진료과'].values[0]+'\\n',\n",
        "      '질병 설명:', first_info['정의'].values[0]\n",
        "      )"
      ]
    },
    {
      "cell_type": "code",
      "execution_count": null,
      "metadata": {
        "colab": {
          "base_uri": "https://localhost:8080/",
          "height": 36
        },
        "outputId": "eb1f53d0-2aec-40f2-e33d-8f146f1e5b2e",
        "id": "hw4xPSwLp9lN"
      },
      "outputs": [
        {
          "output_type": "execute_result",
          "data": {
            "text/plain": [
              "'가정의학과, 소화기내과, 위장관외과, 소아소화기영양과'"
            ],
            "application/vnd.google.colaboratory.intrinsic+json": {
              "type": "string"
            }
          },
          "metadata": {},
          "execution_count": 174
        }
      ],
      "source": [
        "first_info = aa[aa['원 질병이름'] == first_pred_disease_name]\n",
        "first_info['진료과'].values[0]"
      ]
    },
    {
      "cell_type": "code",
      "execution_count": null,
      "metadata": {
        "colab": {
          "base_uri": "https://localhost:8080/"
        },
        "outputId": "3fb96a12-5bdd-447c-f015-e8b8108d92ef",
        "id": "2uYjUWv8p9lO"
      },
      "outputs": [
        {
          "output_type": "stream",
          "name": "stdout",
          "text": [
            "소화성 궤양 19.02 % \n",
            " 동의어: 소화성 궤양,십이지장 궤양\n",
            " 진료과:  소화기내과, 노년내과\n",
            " 질병 설명: 위궤양은 위점막이 헐어서 궤양이 점막뿐만 아니라 근육층까지 침범한 것을 말합니다.\n"
          ]
        }
      ],
      "source": [
        "second_info = aa[aa['원 질병이름'] == second_pred_disease_name]\n",
        "print(second_pred_disease_name, round(second[1]*100, 2),'%','\\n',\n",
        "      '동의어:', second_info['동의어'].values[0]+'\\n',\n",
        "      '진료과: ', second_info['진료과'].values[0]+'\\n',\n",
        "      '질병 설명:', second_info['정의'].values[0]\n",
        "      )"
      ]
    },
    {
      "cell_type": "code",
      "source": [
        "third_info = aa[aa['원 질병이름'] == third_pred_disease_name]\n",
        "print(third_pred_disease_name, round(third[1]*100, 2),'%','\\n',\n",
        "      '동의어:', third_info['동의어'].values[0]+'\\n',\n",
        "      '진료과: ', third_info['진료과'].values[0]+'\\n',\n",
        "      '질병 설명:', third_info['정의'].values[0]\n",
        "      )"
      ],
      "metadata": {
        "colab": {
          "base_uri": "https://localhost:8080/"
        },
        "outputId": "42449edb-6b3a-4734-e717-ea44fc249569",
        "id": "9JHerWGmp9lO"
      },
      "execution_count": null,
      "outputs": [
        {
          "output_type": "stream",
          "name": "stdout",
          "text": [
            "식도암 6.05 % \n",
            " 동의어: 식도암종\n",
            " 진료과:  소화기내과, 종양내과, 영상의학과, 방사선종양학과, 신경외과, 이비인후과, 흉부외과, 위장관외과\n",
            " 질병 설명: 식도암은 식도에 생긴 암입니다. 식도암은 위치에 따라 경부 식도암, 흉부 식도암, 위-식도 연결부위암으로 구분되고, 세포의 형태에 따라 편평세포암, 선암, 육종, 림프종, 흑색종 등으로 구분됩니다. 우리나라에서 많이 발생하는 식도암은 편평세포암으로, 전체 식도암의 95% 정도를 차지합니다. 편평세포암은 식도 점막의 상피세포에서 생기는 암으로, 대개 식도의 중부와 하부에 발생합니다. 선암은 식도의 분비샘 조직에서 생기는 암으로, 대개 위 근처인 하부 식도에서 발생합니다.\n"
          ]
        }
      ]
    },
    {
      "cell_type": "code",
      "source": [
        ""
      ],
      "metadata": {
        "id": "U6O8eYWco7eE"
      },
      "execution_count": null,
      "outputs": []
    },
    {
      "cell_type": "code",
      "source": [
        ""
      ],
      "metadata": {
        "id": "a1_QmhBWp6JT"
      },
      "execution_count": null,
      "outputs": []
    },
    {
      "cell_type": "code",
      "source": [
        ""
      ],
      "metadata": {
        "id": "voSdghHop6LW"
      },
      "execution_count": null,
      "outputs": []
    },
    {
      "cell_type": "code",
      "source": [
        ""
      ],
      "metadata": {
        "id": "JLiW4gy9p6Np"
      },
      "execution_count": null,
      "outputs": []
    },
    {
      "cell_type": "code",
      "source": [
        ""
      ],
      "metadata": {
        "id": "qiRoxiRHp6P1"
      },
      "execution_count": null,
      "outputs": []
    },
    {
      "cell_type": "markdown",
      "source": [
        "# **ver1:**\n",
        "\n",
        "embedding_dim = 1024, dense 256 -- 64"
      ],
      "metadata": {
        "id": "i-H9HtfGpYVv"
      }
    },
    {
      "cell_type": "code",
      "execution_count": null,
      "metadata": {
        "id": "UooykeavcZZ9",
        "colab": {
          "base_uri": "https://localhost:8080/"
        },
        "outputId": "092fd015-fc6f-4b43-a282-8343dfb85100"
      },
      "outputs": [
        {
          "output_type": "stream",
          "name": "stdout",
          "text": [
            "메켈 게실 34.43 % \n",
            " 동의어: 업데이트 예정\n",
            " 진료과:  소화기내과\n",
            " 질병 설명: 메켈 게실이란 태생 초기 태아의 혈액 보급로인 제장관막관이 출생 전에 퇴화되지 않아 회장 벽에서 60~100cm 정도로 돌출된 비정상적인 낭을 형성하는 질환입니다. 소화기 선천 기형 중 가장 흔한 질병 중 하나입니다.\n"
          ]
        }
      ],
      "source": [
        "first_info = aa[aa['원 질병이름'] == first_pred_disease_name]\n",
        "print(first_pred_disease_name, round(first[1]*100, 2),'%','\\n',\n",
        "      '동의어:', first_info['동의어'].values[0]+'\\n',\n",
        "      '진료과: ', first_info['진료과'].values[0]+'\\n',\n",
        "      '질병 설명:', first_info['정의'].values[0]\n",
        "      )"
      ]
    },
    {
      "cell_type": "code",
      "execution_count": null,
      "metadata": {
        "id": "T53yyhM5McFY",
        "colab": {
          "base_uri": "https://localhost:8080/",
          "height": 35
        },
        "outputId": "64b91bc2-6d3f-4239-b3a7-606be78373fa"
      },
      "outputs": [
        {
          "output_type": "execute_result",
          "data": {
            "text/plain": [
              "'소화기내과'"
            ],
            "application/vnd.google.colaboratory.intrinsic+json": {
              "type": "string"
            }
          },
          "metadata": {},
          "execution_count": 154
        }
      ],
      "source": [
        "first_info = aa[aa['원 질병이름'] == first_pred_disease_name]\n",
        "first_info['진료과'].values[0]"
      ]
    },
    {
      "cell_type": "code",
      "execution_count": null,
      "metadata": {
        "id": "jaKgeo3GMxJ5",
        "colab": {
          "base_uri": "https://localhost:8080/"
        },
        "outputId": "0b020c61-f6bd-4eae-a261-841048ec6b1c"
      },
      "outputs": [
        {
          "output_type": "stream",
          "name": "stdout",
          "text": [
            "크롬세포친화종 18.33 % \n",
            " 동의어: 크롬친화세포종\n",
            " 진료과:  내분비내과\n",
            " 질병 설명: 갈색세포종은 주로 부신수질에서 발생하는 종양을 말합니다.\n"
          ]
        }
      ],
      "source": [
        "second_info = aa[aa['원 질병이름'] == second_pred_disease_name]\n",
        "print(second_pred_disease_name, round(second[1]*100, 2),'%','\\n',\n",
        "      '동의어:', second_info['동의어'].values[0]+'\\n',\n",
        "      '진료과: ', second_info['진료과'].values[0]+'\\n',\n",
        "      '질병 설명:', second_info['정의'].values[0]\n",
        "      )"
      ]
    },
    {
      "cell_type": "code",
      "source": [
        "third_info = aa[aa['원 질병이름'] == third_pred_disease_name]\n",
        "print(third_pred_disease_name, round(third[1]*100, 2),'%','\\n',\n",
        "      '동의어:', third_info['동의어'].values[0]+'\\n',\n",
        "      '진료과: ', third_info['진료과'].values[0]+'\\n',\n",
        "      '질병 설명:', third_info['정의'].values[0]\n",
        "      )"
      ],
      "metadata": {
        "colab": {
          "base_uri": "https://localhost:8080/"
        },
        "id": "22HHczRUz1xw",
        "outputId": "2a30bb1a-dcf9-4870-f1f4-9333ac657f3d"
      },
      "execution_count": null,
      "outputs": [
        {
          "output_type": "stream",
          "name": "stdout",
          "text": [
            "뇌척수액 비루 16.95 % \n",
            " 동의어: 업데이트 예정\n",
            " 진료과:  신경외과\n",
            " 질병 설명: 뇌척수액 비루란 뇌척수액이 마치 콧물처럼 코로 새어나오는 질환입니다. 맑고 물 같은 콧물이 계속 나오며, 아랫배에 힘을 주었을 때 더 많이 나온다면 뇌척수액비루일 가능성이 있습니다.\n"
          ]
        }
      ]
    },
    {
      "cell_type": "code",
      "source": [
        ""
      ],
      "metadata": {
        "id": "kjoGoGPt0Osv"
      },
      "execution_count": null,
      "outputs": []
    }
  ],
  "metadata": {
    "colab": {
      "collapsed_sections": [],
      "name": "LSTMAttention_질병예측_v1",
      "provenance": [],
      "toc_visible": true
    },
    "kernelspec": {
      "display_name": "Python 3",
      "language": "python",
      "name": "python3"
    },
    "language_info": {
      "codemirror_mode": {
        "name": "ipython",
        "version": 3
      },
      "file_extension": ".py",
      "mimetype": "text/x-python",
      "name": "python",
      "nbconvert_exporter": "python",
      "pygments_lexer": "ipython3",
      "version": "3.8.5"
    },
    "widgets": {
      "application/vnd.jupyter.widget-state+json": {
        "5b10b45aefcf46648c2cd617309309df": {
          "model_module": "@jupyter-widgets/controls",
          "model_name": "HBoxModel",
          "model_module_version": "1.5.0",
          "state": {
            "_dom_classes": [],
            "_model_module": "@jupyter-widgets/controls",
            "_model_module_version": "1.5.0",
            "_model_name": "HBoxModel",
            "_view_count": null,
            "_view_module": "@jupyter-widgets/controls",
            "_view_module_version": "1.5.0",
            "_view_name": "HBoxView",
            "box_style": "",
            "children": [
              "IPY_MODEL_27af9825e09a4df6a3458a8be8909a50",
              "IPY_MODEL_75684ec66f0842e280730cba9cda200d",
              "IPY_MODEL_9eb22ceceab1430498493ce535a2fdac"
            ],
            "layout": "IPY_MODEL_2b22b776c69049dfa23b972b72c5ffe7"
          }
        },
        "27af9825e09a4df6a3458a8be8909a50": {
          "model_module": "@jupyter-widgets/controls",
          "model_name": "HTMLModel",
          "model_module_version": "1.5.0",
          "state": {
            "_dom_classes": [],
            "_model_module": "@jupyter-widgets/controls",
            "_model_module_version": "1.5.0",
            "_model_name": "HTMLModel",
            "_view_count": null,
            "_view_module": "@jupyter-widgets/controls",
            "_view_module_version": "1.5.0",
            "_view_name": "HTMLView",
            "description": "",
            "description_tooltip": null,
            "layout": "IPY_MODEL_d6998c8ebc2c4370bec60076eb99d551",
            "placeholder": "​",
            "style": "IPY_MODEL_a415c129ea0345b2aa43e33346272f2f",
            "value": "100%"
          }
        },
        "75684ec66f0842e280730cba9cda200d": {
          "model_module": "@jupyter-widgets/controls",
          "model_name": "FloatProgressModel",
          "model_module_version": "1.5.0",
          "state": {
            "_dom_classes": [],
            "_model_module": "@jupyter-widgets/controls",
            "_model_module_version": "1.5.0",
            "_model_name": "FloatProgressModel",
            "_view_count": null,
            "_view_module": "@jupyter-widgets/controls",
            "_view_module_version": "1.5.0",
            "_view_name": "ProgressView",
            "bar_style": "success",
            "description": "",
            "description_tooltip": null,
            "layout": "IPY_MODEL_c32c7cf7693842e4bee6c82d287525a9",
            "max": 2215,
            "min": 0,
            "orientation": "horizontal",
            "style": "IPY_MODEL_aa7fccad146f489b99f8c24261a63f10",
            "value": 2215
          }
        },
        "9eb22ceceab1430498493ce535a2fdac": {
          "model_module": "@jupyter-widgets/controls",
          "model_name": "HTMLModel",
          "model_module_version": "1.5.0",
          "state": {
            "_dom_classes": [],
            "_model_module": "@jupyter-widgets/controls",
            "_model_module_version": "1.5.0",
            "_model_name": "HTMLModel",
            "_view_count": null,
            "_view_module": "@jupyter-widgets/controls",
            "_view_module_version": "1.5.0",
            "_view_name": "HTMLView",
            "description": "",
            "description_tooltip": null,
            "layout": "IPY_MODEL_e7afff20760a406bb6950a5305c9e344",
            "placeholder": "​",
            "style": "IPY_MODEL_11e4894bbd874322ad08c7148007ac21",
            "value": " 2215/2215 [08:23&lt;00:00,  4.72it/s]"
          }
        },
        "2b22b776c69049dfa23b972b72c5ffe7": {
          "model_module": "@jupyter-widgets/base",
          "model_name": "LayoutModel",
          "model_module_version": "1.2.0",
          "state": {
            "_model_module": "@jupyter-widgets/base",
            "_model_module_version": "1.2.0",
            "_model_name": "LayoutModel",
            "_view_count": null,
            "_view_module": "@jupyter-widgets/base",
            "_view_module_version": "1.2.0",
            "_view_name": "LayoutView",
            "align_content": null,
            "align_items": null,
            "align_self": null,
            "border": null,
            "bottom": null,
            "display": null,
            "flex": null,
            "flex_flow": null,
            "grid_area": null,
            "grid_auto_columns": null,
            "grid_auto_flow": null,
            "grid_auto_rows": null,
            "grid_column": null,
            "grid_gap": null,
            "grid_row": null,
            "grid_template_areas": null,
            "grid_template_columns": null,
            "grid_template_rows": null,
            "height": null,
            "justify_content": null,
            "justify_items": null,
            "left": null,
            "margin": null,
            "max_height": null,
            "max_width": null,
            "min_height": null,
            "min_width": null,
            "object_fit": null,
            "object_position": null,
            "order": null,
            "overflow": null,
            "overflow_x": null,
            "overflow_y": null,
            "padding": null,
            "right": null,
            "top": null,
            "visibility": null,
            "width": null
          }
        },
        "d6998c8ebc2c4370bec60076eb99d551": {
          "model_module": "@jupyter-widgets/base",
          "model_name": "LayoutModel",
          "model_module_version": "1.2.0",
          "state": {
            "_model_module": "@jupyter-widgets/base",
            "_model_module_version": "1.2.0",
            "_model_name": "LayoutModel",
            "_view_count": null,
            "_view_module": "@jupyter-widgets/base",
            "_view_module_version": "1.2.0",
            "_view_name": "LayoutView",
            "align_content": null,
            "align_items": null,
            "align_self": null,
            "border": null,
            "bottom": null,
            "display": null,
            "flex": null,
            "flex_flow": null,
            "grid_area": null,
            "grid_auto_columns": null,
            "grid_auto_flow": null,
            "grid_auto_rows": null,
            "grid_column": null,
            "grid_gap": null,
            "grid_row": null,
            "grid_template_areas": null,
            "grid_template_columns": null,
            "grid_template_rows": null,
            "height": null,
            "justify_content": null,
            "justify_items": null,
            "left": null,
            "margin": null,
            "max_height": null,
            "max_width": null,
            "min_height": null,
            "min_width": null,
            "object_fit": null,
            "object_position": null,
            "order": null,
            "overflow": null,
            "overflow_x": null,
            "overflow_y": null,
            "padding": null,
            "right": null,
            "top": null,
            "visibility": null,
            "width": null
          }
        },
        "a415c129ea0345b2aa43e33346272f2f": {
          "model_module": "@jupyter-widgets/controls",
          "model_name": "DescriptionStyleModel",
          "model_module_version": "1.5.0",
          "state": {
            "_model_module": "@jupyter-widgets/controls",
            "_model_module_version": "1.5.0",
            "_model_name": "DescriptionStyleModel",
            "_view_count": null,
            "_view_module": "@jupyter-widgets/base",
            "_view_module_version": "1.2.0",
            "_view_name": "StyleView",
            "description_width": ""
          }
        },
        "c32c7cf7693842e4bee6c82d287525a9": {
          "model_module": "@jupyter-widgets/base",
          "model_name": "LayoutModel",
          "model_module_version": "1.2.0",
          "state": {
            "_model_module": "@jupyter-widgets/base",
            "_model_module_version": "1.2.0",
            "_model_name": "LayoutModel",
            "_view_count": null,
            "_view_module": "@jupyter-widgets/base",
            "_view_module_version": "1.2.0",
            "_view_name": "LayoutView",
            "align_content": null,
            "align_items": null,
            "align_self": null,
            "border": null,
            "bottom": null,
            "display": null,
            "flex": null,
            "flex_flow": null,
            "grid_area": null,
            "grid_auto_columns": null,
            "grid_auto_flow": null,
            "grid_auto_rows": null,
            "grid_column": null,
            "grid_gap": null,
            "grid_row": null,
            "grid_template_areas": null,
            "grid_template_columns": null,
            "grid_template_rows": null,
            "height": null,
            "justify_content": null,
            "justify_items": null,
            "left": null,
            "margin": null,
            "max_height": null,
            "max_width": null,
            "min_height": null,
            "min_width": null,
            "object_fit": null,
            "object_position": null,
            "order": null,
            "overflow": null,
            "overflow_x": null,
            "overflow_y": null,
            "padding": null,
            "right": null,
            "top": null,
            "visibility": null,
            "width": null
          }
        },
        "aa7fccad146f489b99f8c24261a63f10": {
          "model_module": "@jupyter-widgets/controls",
          "model_name": "ProgressStyleModel",
          "model_module_version": "1.5.0",
          "state": {
            "_model_module": "@jupyter-widgets/controls",
            "_model_module_version": "1.5.0",
            "_model_name": "ProgressStyleModel",
            "_view_count": null,
            "_view_module": "@jupyter-widgets/base",
            "_view_module_version": "1.2.0",
            "_view_name": "StyleView",
            "bar_color": null,
            "description_width": ""
          }
        },
        "e7afff20760a406bb6950a5305c9e344": {
          "model_module": "@jupyter-widgets/base",
          "model_name": "LayoutModel",
          "model_module_version": "1.2.0",
          "state": {
            "_model_module": "@jupyter-widgets/base",
            "_model_module_version": "1.2.0",
            "_model_name": "LayoutModel",
            "_view_count": null,
            "_view_module": "@jupyter-widgets/base",
            "_view_module_version": "1.2.0",
            "_view_name": "LayoutView",
            "align_content": null,
            "align_items": null,
            "align_self": null,
            "border": null,
            "bottom": null,
            "display": null,
            "flex": null,
            "flex_flow": null,
            "grid_area": null,
            "grid_auto_columns": null,
            "grid_auto_flow": null,
            "grid_auto_rows": null,
            "grid_column": null,
            "grid_gap": null,
            "grid_row": null,
            "grid_template_areas": null,
            "grid_template_columns": null,
            "grid_template_rows": null,
            "height": null,
            "justify_content": null,
            "justify_items": null,
            "left": null,
            "margin": null,
            "max_height": null,
            "max_width": null,
            "min_height": null,
            "min_width": null,
            "object_fit": null,
            "object_position": null,
            "order": null,
            "overflow": null,
            "overflow_x": null,
            "overflow_y": null,
            "padding": null,
            "right": null,
            "top": null,
            "visibility": null,
            "width": null
          }
        },
        "11e4894bbd874322ad08c7148007ac21": {
          "model_module": "@jupyter-widgets/controls",
          "model_name": "DescriptionStyleModel",
          "model_module_version": "1.5.0",
          "state": {
            "_model_module": "@jupyter-widgets/controls",
            "_model_module_version": "1.5.0",
            "_model_name": "DescriptionStyleModel",
            "_view_count": null,
            "_view_module": "@jupyter-widgets/base",
            "_view_module_version": "1.2.0",
            "_view_name": "StyleView",
            "description_width": ""
          }
        },
        "d44f68e1d9154376b1d0ae9ab9cea70e": {
          "model_module": "@jupyter-widgets/controls",
          "model_name": "HBoxModel",
          "model_module_version": "1.5.0",
          "state": {
            "_dom_classes": [],
            "_model_module": "@jupyter-widgets/controls",
            "_model_module_version": "1.5.0",
            "_model_name": "HBoxModel",
            "_view_count": null,
            "_view_module": "@jupyter-widgets/controls",
            "_view_module_version": "1.5.0",
            "_view_name": "HBoxView",
            "box_style": "",
            "children": [
              "IPY_MODEL_1369f68a58be42d3a6357f12a6d99f62",
              "IPY_MODEL_12d800524a3547ba9c38f5e6642c9199",
              "IPY_MODEL_9d6de6f93e304425bddcefd4f5d6449c"
            ],
            "layout": "IPY_MODEL_9a459ce580e04454a736cc283dd69be6"
          }
        },
        "1369f68a58be42d3a6357f12a6d99f62": {
          "model_module": "@jupyter-widgets/controls",
          "model_name": "HTMLModel",
          "model_module_version": "1.5.0",
          "state": {
            "_dom_classes": [],
            "_model_module": "@jupyter-widgets/controls",
            "_model_module_version": "1.5.0",
            "_model_name": "HTMLModel",
            "_view_count": null,
            "_view_module": "@jupyter-widgets/controls",
            "_view_module_version": "1.5.0",
            "_view_name": "HTMLView",
            "description": "",
            "description_tooltip": null,
            "layout": "IPY_MODEL_bf3230755f91475180382fd12b4cabc0",
            "placeholder": "​",
            "style": "IPY_MODEL_6c341a4bcd344761acab44ae11c1b5bd",
            "value": "100%"
          }
        },
        "12d800524a3547ba9c38f5e6642c9199": {
          "model_module": "@jupyter-widgets/controls",
          "model_name": "FloatProgressModel",
          "model_module_version": "1.5.0",
          "state": {
            "_dom_classes": [],
            "_model_module": "@jupyter-widgets/controls",
            "_model_module_version": "1.5.0",
            "_model_name": "FloatProgressModel",
            "_view_count": null,
            "_view_module": "@jupyter-widgets/controls",
            "_view_module_version": "1.5.0",
            "_view_name": "ProgressView",
            "bar_style": "success",
            "description": "",
            "description_tooltip": null,
            "layout": "IPY_MODEL_1b8b6e99e2dd4421b445552f23f1194d",
            "max": 2215,
            "min": 0,
            "orientation": "horizontal",
            "style": "IPY_MODEL_e15a065d49c24452b31518977b50f014",
            "value": 2215
          }
        },
        "9d6de6f93e304425bddcefd4f5d6449c": {
          "model_module": "@jupyter-widgets/controls",
          "model_name": "HTMLModel",
          "model_module_version": "1.5.0",
          "state": {
            "_dom_classes": [],
            "_model_module": "@jupyter-widgets/controls",
            "_model_module_version": "1.5.0",
            "_model_name": "HTMLModel",
            "_view_count": null,
            "_view_module": "@jupyter-widgets/controls",
            "_view_module_version": "1.5.0",
            "_view_name": "HTMLView",
            "description": "",
            "description_tooltip": null,
            "layout": "IPY_MODEL_b7a1d5149cdd431f8a8e88db5ddd8ded",
            "placeholder": "​",
            "style": "IPY_MODEL_85af1f943a3747e69b0582c74a6f9da8",
            "value": " 2215/2215 [00:01&lt;00:00, 1498.47it/s]"
          }
        },
        "9a459ce580e04454a736cc283dd69be6": {
          "model_module": "@jupyter-widgets/base",
          "model_name": "LayoutModel",
          "model_module_version": "1.2.0",
          "state": {
            "_model_module": "@jupyter-widgets/base",
            "_model_module_version": "1.2.0",
            "_model_name": "LayoutModel",
            "_view_count": null,
            "_view_module": "@jupyter-widgets/base",
            "_view_module_version": "1.2.0",
            "_view_name": "LayoutView",
            "align_content": null,
            "align_items": null,
            "align_self": null,
            "border": null,
            "bottom": null,
            "display": null,
            "flex": null,
            "flex_flow": null,
            "grid_area": null,
            "grid_auto_columns": null,
            "grid_auto_flow": null,
            "grid_auto_rows": null,
            "grid_column": null,
            "grid_gap": null,
            "grid_row": null,
            "grid_template_areas": null,
            "grid_template_columns": null,
            "grid_template_rows": null,
            "height": null,
            "justify_content": null,
            "justify_items": null,
            "left": null,
            "margin": null,
            "max_height": null,
            "max_width": null,
            "min_height": null,
            "min_width": null,
            "object_fit": null,
            "object_position": null,
            "order": null,
            "overflow": null,
            "overflow_x": null,
            "overflow_y": null,
            "padding": null,
            "right": null,
            "top": null,
            "visibility": null,
            "width": null
          }
        },
        "bf3230755f91475180382fd12b4cabc0": {
          "model_module": "@jupyter-widgets/base",
          "model_name": "LayoutModel",
          "model_module_version": "1.2.0",
          "state": {
            "_model_module": "@jupyter-widgets/base",
            "_model_module_version": "1.2.0",
            "_model_name": "LayoutModel",
            "_view_count": null,
            "_view_module": "@jupyter-widgets/base",
            "_view_module_version": "1.2.0",
            "_view_name": "LayoutView",
            "align_content": null,
            "align_items": null,
            "align_self": null,
            "border": null,
            "bottom": null,
            "display": null,
            "flex": null,
            "flex_flow": null,
            "grid_area": null,
            "grid_auto_columns": null,
            "grid_auto_flow": null,
            "grid_auto_rows": null,
            "grid_column": null,
            "grid_gap": null,
            "grid_row": null,
            "grid_template_areas": null,
            "grid_template_columns": null,
            "grid_template_rows": null,
            "height": null,
            "justify_content": null,
            "justify_items": null,
            "left": null,
            "margin": null,
            "max_height": null,
            "max_width": null,
            "min_height": null,
            "min_width": null,
            "object_fit": null,
            "object_position": null,
            "order": null,
            "overflow": null,
            "overflow_x": null,
            "overflow_y": null,
            "padding": null,
            "right": null,
            "top": null,
            "visibility": null,
            "width": null
          }
        },
        "6c341a4bcd344761acab44ae11c1b5bd": {
          "model_module": "@jupyter-widgets/controls",
          "model_name": "DescriptionStyleModel",
          "model_module_version": "1.5.0",
          "state": {
            "_model_module": "@jupyter-widgets/controls",
            "_model_module_version": "1.5.0",
            "_model_name": "DescriptionStyleModel",
            "_view_count": null,
            "_view_module": "@jupyter-widgets/base",
            "_view_module_version": "1.2.0",
            "_view_name": "StyleView",
            "description_width": ""
          }
        },
        "1b8b6e99e2dd4421b445552f23f1194d": {
          "model_module": "@jupyter-widgets/base",
          "model_name": "LayoutModel",
          "model_module_version": "1.2.0",
          "state": {
            "_model_module": "@jupyter-widgets/base",
            "_model_module_version": "1.2.0",
            "_model_name": "LayoutModel",
            "_view_count": null,
            "_view_module": "@jupyter-widgets/base",
            "_view_module_version": "1.2.0",
            "_view_name": "LayoutView",
            "align_content": null,
            "align_items": null,
            "align_self": null,
            "border": null,
            "bottom": null,
            "display": null,
            "flex": null,
            "flex_flow": null,
            "grid_area": null,
            "grid_auto_columns": null,
            "grid_auto_flow": null,
            "grid_auto_rows": null,
            "grid_column": null,
            "grid_gap": null,
            "grid_row": null,
            "grid_template_areas": null,
            "grid_template_columns": null,
            "grid_template_rows": null,
            "height": null,
            "justify_content": null,
            "justify_items": null,
            "left": null,
            "margin": null,
            "max_height": null,
            "max_width": null,
            "min_height": null,
            "min_width": null,
            "object_fit": null,
            "object_position": null,
            "order": null,
            "overflow": null,
            "overflow_x": null,
            "overflow_y": null,
            "padding": null,
            "right": null,
            "top": null,
            "visibility": null,
            "width": null
          }
        },
        "e15a065d49c24452b31518977b50f014": {
          "model_module": "@jupyter-widgets/controls",
          "model_name": "ProgressStyleModel",
          "model_module_version": "1.5.0",
          "state": {
            "_model_module": "@jupyter-widgets/controls",
            "_model_module_version": "1.5.0",
            "_model_name": "ProgressStyleModel",
            "_view_count": null,
            "_view_module": "@jupyter-widgets/base",
            "_view_module_version": "1.2.0",
            "_view_name": "StyleView",
            "bar_color": null,
            "description_width": ""
          }
        },
        "b7a1d5149cdd431f8a8e88db5ddd8ded": {
          "model_module": "@jupyter-widgets/base",
          "model_name": "LayoutModel",
          "model_module_version": "1.2.0",
          "state": {
            "_model_module": "@jupyter-widgets/base",
            "_model_module_version": "1.2.0",
            "_model_name": "LayoutModel",
            "_view_count": null,
            "_view_module": "@jupyter-widgets/base",
            "_view_module_version": "1.2.0",
            "_view_name": "LayoutView",
            "align_content": null,
            "align_items": null,
            "align_self": null,
            "border": null,
            "bottom": null,
            "display": null,
            "flex": null,
            "flex_flow": null,
            "grid_area": null,
            "grid_auto_columns": null,
            "grid_auto_flow": null,
            "grid_auto_rows": null,
            "grid_column": null,
            "grid_gap": null,
            "grid_row": null,
            "grid_template_areas": null,
            "grid_template_columns": null,
            "grid_template_rows": null,
            "height": null,
            "justify_content": null,
            "justify_items": null,
            "left": null,
            "margin": null,
            "max_height": null,
            "max_width": null,
            "min_height": null,
            "min_width": null,
            "object_fit": null,
            "object_position": null,
            "order": null,
            "overflow": null,
            "overflow_x": null,
            "overflow_y": null,
            "padding": null,
            "right": null,
            "top": null,
            "visibility": null,
            "width": null
          }
        },
        "85af1f943a3747e69b0582c74a6f9da8": {
          "model_module": "@jupyter-widgets/controls",
          "model_name": "DescriptionStyleModel",
          "model_module_version": "1.5.0",
          "state": {
            "_model_module": "@jupyter-widgets/controls",
            "_model_module_version": "1.5.0",
            "_model_name": "DescriptionStyleModel",
            "_view_count": null,
            "_view_module": "@jupyter-widgets/base",
            "_view_module_version": "1.2.0",
            "_view_name": "StyleView",
            "description_width": ""
          }
        },
        "e2e94cc6c76e4456a76d3a86ae8db0d6": {
          "model_module": "@jupyter-widgets/controls",
          "model_name": "HBoxModel",
          "model_module_version": "1.5.0",
          "state": {
            "_dom_classes": [],
            "_model_module": "@jupyter-widgets/controls",
            "_model_module_version": "1.5.0",
            "_model_name": "HBoxModel",
            "_view_count": null,
            "_view_module": "@jupyter-widgets/controls",
            "_view_module_version": "1.5.0",
            "_view_name": "HBoxView",
            "box_style": "",
            "children": [
              "IPY_MODEL_131d1690f3f84842ac37fa26e4b52f17",
              "IPY_MODEL_6f8e05d9fc194f4c892c3d491b18e270",
              "IPY_MODEL_e908f564a2874813ad54b4d803153c8f"
            ],
            "layout": "IPY_MODEL_f59221bebb384dd6963be9203cae8ead"
          }
        },
        "131d1690f3f84842ac37fa26e4b52f17": {
          "model_module": "@jupyter-widgets/controls",
          "model_name": "HTMLModel",
          "model_module_version": "1.5.0",
          "state": {
            "_dom_classes": [],
            "_model_module": "@jupyter-widgets/controls",
            "_model_module_version": "1.5.0",
            "_model_name": "HTMLModel",
            "_view_count": null,
            "_view_module": "@jupyter-widgets/controls",
            "_view_module_version": "1.5.0",
            "_view_name": "HTMLView",
            "description": "",
            "description_tooltip": null,
            "layout": "IPY_MODEL_3fa6adc9c2fc433ebbbcfb428e3f2682",
            "placeholder": "​",
            "style": "IPY_MODEL_318732f7559545c195de92c50e2ddf62",
            "value": "100%"
          }
        },
        "6f8e05d9fc194f4c892c3d491b18e270": {
          "model_module": "@jupyter-widgets/controls",
          "model_name": "FloatProgressModel",
          "model_module_version": "1.5.0",
          "state": {
            "_dom_classes": [],
            "_model_module": "@jupyter-widgets/controls",
            "_model_module_version": "1.5.0",
            "_model_name": "FloatProgressModel",
            "_view_count": null,
            "_view_module": "@jupyter-widgets/controls",
            "_view_module_version": "1.5.0",
            "_view_name": "ProgressView",
            "bar_style": "success",
            "description": "",
            "description_tooltip": null,
            "layout": "IPY_MODEL_282c06d5cf0c47ddbd693ef869cccd2c",
            "max": 2215,
            "min": 0,
            "orientation": "horizontal",
            "style": "IPY_MODEL_4b10acc01cdc4914a1b09b5eaf3b43c1",
            "value": 2215
          }
        },
        "e908f564a2874813ad54b4d803153c8f": {
          "model_module": "@jupyter-widgets/controls",
          "model_name": "HTMLModel",
          "model_module_version": "1.5.0",
          "state": {
            "_dom_classes": [],
            "_model_module": "@jupyter-widgets/controls",
            "_model_module_version": "1.5.0",
            "_model_name": "HTMLModel",
            "_view_count": null,
            "_view_module": "@jupyter-widgets/controls",
            "_view_module_version": "1.5.0",
            "_view_name": "HTMLView",
            "description": "",
            "description_tooltip": null,
            "layout": "IPY_MODEL_f0478d88b4d04d96a0077719e4633d73",
            "placeholder": "​",
            "style": "IPY_MODEL_236a34edb14c4fb38ca748f91d7920fa",
            "value": " 2215/2215 [00:01&lt;00:00, 1358.60it/s]"
          }
        },
        "f59221bebb384dd6963be9203cae8ead": {
          "model_module": "@jupyter-widgets/base",
          "model_name": "LayoutModel",
          "model_module_version": "1.2.0",
          "state": {
            "_model_module": "@jupyter-widgets/base",
            "_model_module_version": "1.2.0",
            "_model_name": "LayoutModel",
            "_view_count": null,
            "_view_module": "@jupyter-widgets/base",
            "_view_module_version": "1.2.0",
            "_view_name": "LayoutView",
            "align_content": null,
            "align_items": null,
            "align_self": null,
            "border": null,
            "bottom": null,
            "display": null,
            "flex": null,
            "flex_flow": null,
            "grid_area": null,
            "grid_auto_columns": null,
            "grid_auto_flow": null,
            "grid_auto_rows": null,
            "grid_column": null,
            "grid_gap": null,
            "grid_row": null,
            "grid_template_areas": null,
            "grid_template_columns": null,
            "grid_template_rows": null,
            "height": null,
            "justify_content": null,
            "justify_items": null,
            "left": null,
            "margin": null,
            "max_height": null,
            "max_width": null,
            "min_height": null,
            "min_width": null,
            "object_fit": null,
            "object_position": null,
            "order": null,
            "overflow": null,
            "overflow_x": null,
            "overflow_y": null,
            "padding": null,
            "right": null,
            "top": null,
            "visibility": null,
            "width": null
          }
        },
        "3fa6adc9c2fc433ebbbcfb428e3f2682": {
          "model_module": "@jupyter-widgets/base",
          "model_name": "LayoutModel",
          "model_module_version": "1.2.0",
          "state": {
            "_model_module": "@jupyter-widgets/base",
            "_model_module_version": "1.2.0",
            "_model_name": "LayoutModel",
            "_view_count": null,
            "_view_module": "@jupyter-widgets/base",
            "_view_module_version": "1.2.0",
            "_view_name": "LayoutView",
            "align_content": null,
            "align_items": null,
            "align_self": null,
            "border": null,
            "bottom": null,
            "display": null,
            "flex": null,
            "flex_flow": null,
            "grid_area": null,
            "grid_auto_columns": null,
            "grid_auto_flow": null,
            "grid_auto_rows": null,
            "grid_column": null,
            "grid_gap": null,
            "grid_row": null,
            "grid_template_areas": null,
            "grid_template_columns": null,
            "grid_template_rows": null,
            "height": null,
            "justify_content": null,
            "justify_items": null,
            "left": null,
            "margin": null,
            "max_height": null,
            "max_width": null,
            "min_height": null,
            "min_width": null,
            "object_fit": null,
            "object_position": null,
            "order": null,
            "overflow": null,
            "overflow_x": null,
            "overflow_y": null,
            "padding": null,
            "right": null,
            "top": null,
            "visibility": null,
            "width": null
          }
        },
        "318732f7559545c195de92c50e2ddf62": {
          "model_module": "@jupyter-widgets/controls",
          "model_name": "DescriptionStyleModel",
          "model_module_version": "1.5.0",
          "state": {
            "_model_module": "@jupyter-widgets/controls",
            "_model_module_version": "1.5.0",
            "_model_name": "DescriptionStyleModel",
            "_view_count": null,
            "_view_module": "@jupyter-widgets/base",
            "_view_module_version": "1.2.0",
            "_view_name": "StyleView",
            "description_width": ""
          }
        },
        "282c06d5cf0c47ddbd693ef869cccd2c": {
          "model_module": "@jupyter-widgets/base",
          "model_name": "LayoutModel",
          "model_module_version": "1.2.0",
          "state": {
            "_model_module": "@jupyter-widgets/base",
            "_model_module_version": "1.2.0",
            "_model_name": "LayoutModel",
            "_view_count": null,
            "_view_module": "@jupyter-widgets/base",
            "_view_module_version": "1.2.0",
            "_view_name": "LayoutView",
            "align_content": null,
            "align_items": null,
            "align_self": null,
            "border": null,
            "bottom": null,
            "display": null,
            "flex": null,
            "flex_flow": null,
            "grid_area": null,
            "grid_auto_columns": null,
            "grid_auto_flow": null,
            "grid_auto_rows": null,
            "grid_column": null,
            "grid_gap": null,
            "grid_row": null,
            "grid_template_areas": null,
            "grid_template_columns": null,
            "grid_template_rows": null,
            "height": null,
            "justify_content": null,
            "justify_items": null,
            "left": null,
            "margin": null,
            "max_height": null,
            "max_width": null,
            "min_height": null,
            "min_width": null,
            "object_fit": null,
            "object_position": null,
            "order": null,
            "overflow": null,
            "overflow_x": null,
            "overflow_y": null,
            "padding": null,
            "right": null,
            "top": null,
            "visibility": null,
            "width": null
          }
        },
        "4b10acc01cdc4914a1b09b5eaf3b43c1": {
          "model_module": "@jupyter-widgets/controls",
          "model_name": "ProgressStyleModel",
          "model_module_version": "1.5.0",
          "state": {
            "_model_module": "@jupyter-widgets/controls",
            "_model_module_version": "1.5.0",
            "_model_name": "ProgressStyleModel",
            "_view_count": null,
            "_view_module": "@jupyter-widgets/base",
            "_view_module_version": "1.2.0",
            "_view_name": "StyleView",
            "bar_color": null,
            "description_width": ""
          }
        },
        "f0478d88b4d04d96a0077719e4633d73": {
          "model_module": "@jupyter-widgets/base",
          "model_name": "LayoutModel",
          "model_module_version": "1.2.0",
          "state": {
            "_model_module": "@jupyter-widgets/base",
            "_model_module_version": "1.2.0",
            "_model_name": "LayoutModel",
            "_view_count": null,
            "_view_module": "@jupyter-widgets/base",
            "_view_module_version": "1.2.0",
            "_view_name": "LayoutView",
            "align_content": null,
            "align_items": null,
            "align_self": null,
            "border": null,
            "bottom": null,
            "display": null,
            "flex": null,
            "flex_flow": null,
            "grid_area": null,
            "grid_auto_columns": null,
            "grid_auto_flow": null,
            "grid_auto_rows": null,
            "grid_column": null,
            "grid_gap": null,
            "grid_row": null,
            "grid_template_areas": null,
            "grid_template_columns": null,
            "grid_template_rows": null,
            "height": null,
            "justify_content": null,
            "justify_items": null,
            "left": null,
            "margin": null,
            "max_height": null,
            "max_width": null,
            "min_height": null,
            "min_width": null,
            "object_fit": null,
            "object_position": null,
            "order": null,
            "overflow": null,
            "overflow_x": null,
            "overflow_y": null,
            "padding": null,
            "right": null,
            "top": null,
            "visibility": null,
            "width": null
          }
        },
        "236a34edb14c4fb38ca748f91d7920fa": {
          "model_module": "@jupyter-widgets/controls",
          "model_name": "DescriptionStyleModel",
          "model_module_version": "1.5.0",
          "state": {
            "_model_module": "@jupyter-widgets/controls",
            "_model_module_version": "1.5.0",
            "_model_name": "DescriptionStyleModel",
            "_view_count": null,
            "_view_module": "@jupyter-widgets/base",
            "_view_module_version": "1.2.0",
            "_view_name": "StyleView",
            "description_width": ""
          }
        },
        "4de2933d7a124bd08d1fed1a74784a07": {
          "model_module": "@jupyter-widgets/controls",
          "model_name": "HBoxModel",
          "model_module_version": "1.5.0",
          "state": {
            "_dom_classes": [],
            "_model_module": "@jupyter-widgets/controls",
            "_model_module_version": "1.5.0",
            "_model_name": "HBoxModel",
            "_view_count": null,
            "_view_module": "@jupyter-widgets/controls",
            "_view_module_version": "1.5.0",
            "_view_name": "HBoxView",
            "box_style": "",
            "children": [
              "IPY_MODEL_def4350f035a4684b6fa9621d7e10cec",
              "IPY_MODEL_4ff5c20861cc49b8801beeb17f29910e",
              "IPY_MODEL_2ff570cf675849f0afe3545fc2f951f6"
            ],
            "layout": "IPY_MODEL_98de88bf04a542568833a16863b03ee8"
          }
        },
        "def4350f035a4684b6fa9621d7e10cec": {
          "model_module": "@jupyter-widgets/controls",
          "model_name": "HTMLModel",
          "model_module_version": "1.5.0",
          "state": {
            "_dom_classes": [],
            "_model_module": "@jupyter-widgets/controls",
            "_model_module_version": "1.5.0",
            "_model_name": "HTMLModel",
            "_view_count": null,
            "_view_module": "@jupyter-widgets/controls",
            "_view_module_version": "1.5.0",
            "_view_name": "HTMLView",
            "description": "",
            "description_tooltip": null,
            "layout": "IPY_MODEL_28a1328103304d4bba0f5702971117af",
            "placeholder": "​",
            "style": "IPY_MODEL_93e0ab6eca9941b3ad48a7dbcb44e8fa",
            "value": "100%"
          }
        },
        "4ff5c20861cc49b8801beeb17f29910e": {
          "model_module": "@jupyter-widgets/controls",
          "model_name": "FloatProgressModel",
          "model_module_version": "1.5.0",
          "state": {
            "_dom_classes": [],
            "_model_module": "@jupyter-widgets/controls",
            "_model_module_version": "1.5.0",
            "_model_name": "FloatProgressModel",
            "_view_count": null,
            "_view_module": "@jupyter-widgets/controls",
            "_view_module_version": "1.5.0",
            "_view_name": "ProgressView",
            "bar_style": "success",
            "description": "",
            "description_tooltip": null,
            "layout": "IPY_MODEL_692df0dbcecc4a2f860f98b827ddfedb",
            "max": 2215,
            "min": 0,
            "orientation": "horizontal",
            "style": "IPY_MODEL_6a7d6cb72b6846efa7d465d315771d85",
            "value": 2215
          }
        },
        "2ff570cf675849f0afe3545fc2f951f6": {
          "model_module": "@jupyter-widgets/controls",
          "model_name": "HTMLModel",
          "model_module_version": "1.5.0",
          "state": {
            "_dom_classes": [],
            "_model_module": "@jupyter-widgets/controls",
            "_model_module_version": "1.5.0",
            "_model_name": "HTMLModel",
            "_view_count": null,
            "_view_module": "@jupyter-widgets/controls",
            "_view_module_version": "1.5.0",
            "_view_name": "HTMLView",
            "description": "",
            "description_tooltip": null,
            "layout": "IPY_MODEL_0b50a73b7d1f466db97d717195f6bb5e",
            "placeholder": "​",
            "style": "IPY_MODEL_828d511cd2ec4c8dafba48f679124699",
            "value": " 2215/2215 [00:21&lt;00:00, 164.48it/s]"
          }
        },
        "98de88bf04a542568833a16863b03ee8": {
          "model_module": "@jupyter-widgets/base",
          "model_name": "LayoutModel",
          "model_module_version": "1.2.0",
          "state": {
            "_model_module": "@jupyter-widgets/base",
            "_model_module_version": "1.2.0",
            "_model_name": "LayoutModel",
            "_view_count": null,
            "_view_module": "@jupyter-widgets/base",
            "_view_module_version": "1.2.0",
            "_view_name": "LayoutView",
            "align_content": null,
            "align_items": null,
            "align_self": null,
            "border": null,
            "bottom": null,
            "display": null,
            "flex": null,
            "flex_flow": null,
            "grid_area": null,
            "grid_auto_columns": null,
            "grid_auto_flow": null,
            "grid_auto_rows": null,
            "grid_column": null,
            "grid_gap": null,
            "grid_row": null,
            "grid_template_areas": null,
            "grid_template_columns": null,
            "grid_template_rows": null,
            "height": null,
            "justify_content": null,
            "justify_items": null,
            "left": null,
            "margin": null,
            "max_height": null,
            "max_width": null,
            "min_height": null,
            "min_width": null,
            "object_fit": null,
            "object_position": null,
            "order": null,
            "overflow": null,
            "overflow_x": null,
            "overflow_y": null,
            "padding": null,
            "right": null,
            "top": null,
            "visibility": null,
            "width": null
          }
        },
        "28a1328103304d4bba0f5702971117af": {
          "model_module": "@jupyter-widgets/base",
          "model_name": "LayoutModel",
          "model_module_version": "1.2.0",
          "state": {
            "_model_module": "@jupyter-widgets/base",
            "_model_module_version": "1.2.0",
            "_model_name": "LayoutModel",
            "_view_count": null,
            "_view_module": "@jupyter-widgets/base",
            "_view_module_version": "1.2.0",
            "_view_name": "LayoutView",
            "align_content": null,
            "align_items": null,
            "align_self": null,
            "border": null,
            "bottom": null,
            "display": null,
            "flex": null,
            "flex_flow": null,
            "grid_area": null,
            "grid_auto_columns": null,
            "grid_auto_flow": null,
            "grid_auto_rows": null,
            "grid_column": null,
            "grid_gap": null,
            "grid_row": null,
            "grid_template_areas": null,
            "grid_template_columns": null,
            "grid_template_rows": null,
            "height": null,
            "justify_content": null,
            "justify_items": null,
            "left": null,
            "margin": null,
            "max_height": null,
            "max_width": null,
            "min_height": null,
            "min_width": null,
            "object_fit": null,
            "object_position": null,
            "order": null,
            "overflow": null,
            "overflow_x": null,
            "overflow_y": null,
            "padding": null,
            "right": null,
            "top": null,
            "visibility": null,
            "width": null
          }
        },
        "93e0ab6eca9941b3ad48a7dbcb44e8fa": {
          "model_module": "@jupyter-widgets/controls",
          "model_name": "DescriptionStyleModel",
          "model_module_version": "1.5.0",
          "state": {
            "_model_module": "@jupyter-widgets/controls",
            "_model_module_version": "1.5.0",
            "_model_name": "DescriptionStyleModel",
            "_view_count": null,
            "_view_module": "@jupyter-widgets/base",
            "_view_module_version": "1.2.0",
            "_view_name": "StyleView",
            "description_width": ""
          }
        },
        "692df0dbcecc4a2f860f98b827ddfedb": {
          "model_module": "@jupyter-widgets/base",
          "model_name": "LayoutModel",
          "model_module_version": "1.2.0",
          "state": {
            "_model_module": "@jupyter-widgets/base",
            "_model_module_version": "1.2.0",
            "_model_name": "LayoutModel",
            "_view_count": null,
            "_view_module": "@jupyter-widgets/base",
            "_view_module_version": "1.2.0",
            "_view_name": "LayoutView",
            "align_content": null,
            "align_items": null,
            "align_self": null,
            "border": null,
            "bottom": null,
            "display": null,
            "flex": null,
            "flex_flow": null,
            "grid_area": null,
            "grid_auto_columns": null,
            "grid_auto_flow": null,
            "grid_auto_rows": null,
            "grid_column": null,
            "grid_gap": null,
            "grid_row": null,
            "grid_template_areas": null,
            "grid_template_columns": null,
            "grid_template_rows": null,
            "height": null,
            "justify_content": null,
            "justify_items": null,
            "left": null,
            "margin": null,
            "max_height": null,
            "max_width": null,
            "min_height": null,
            "min_width": null,
            "object_fit": null,
            "object_position": null,
            "order": null,
            "overflow": null,
            "overflow_x": null,
            "overflow_y": null,
            "padding": null,
            "right": null,
            "top": null,
            "visibility": null,
            "width": null
          }
        },
        "6a7d6cb72b6846efa7d465d315771d85": {
          "model_module": "@jupyter-widgets/controls",
          "model_name": "ProgressStyleModel",
          "model_module_version": "1.5.0",
          "state": {
            "_model_module": "@jupyter-widgets/controls",
            "_model_module_version": "1.5.0",
            "_model_name": "ProgressStyleModel",
            "_view_count": null,
            "_view_module": "@jupyter-widgets/base",
            "_view_module_version": "1.2.0",
            "_view_name": "StyleView",
            "bar_color": null,
            "description_width": ""
          }
        },
        "0b50a73b7d1f466db97d717195f6bb5e": {
          "model_module": "@jupyter-widgets/base",
          "model_name": "LayoutModel",
          "model_module_version": "1.2.0",
          "state": {
            "_model_module": "@jupyter-widgets/base",
            "_model_module_version": "1.2.0",
            "_model_name": "LayoutModel",
            "_view_count": null,
            "_view_module": "@jupyter-widgets/base",
            "_view_module_version": "1.2.0",
            "_view_name": "LayoutView",
            "align_content": null,
            "align_items": null,
            "align_self": null,
            "border": null,
            "bottom": null,
            "display": null,
            "flex": null,
            "flex_flow": null,
            "grid_area": null,
            "grid_auto_columns": null,
            "grid_auto_flow": null,
            "grid_auto_rows": null,
            "grid_column": null,
            "grid_gap": null,
            "grid_row": null,
            "grid_template_areas": null,
            "grid_template_columns": null,
            "grid_template_rows": null,
            "height": null,
            "justify_content": null,
            "justify_items": null,
            "left": null,
            "margin": null,
            "max_height": null,
            "max_width": null,
            "min_height": null,
            "min_width": null,
            "object_fit": null,
            "object_position": null,
            "order": null,
            "overflow": null,
            "overflow_x": null,
            "overflow_y": null,
            "padding": null,
            "right": null,
            "top": null,
            "visibility": null,
            "width": null
          }
        },
        "828d511cd2ec4c8dafba48f679124699": {
          "model_module": "@jupyter-widgets/controls",
          "model_name": "DescriptionStyleModel",
          "model_module_version": "1.5.0",
          "state": {
            "_model_module": "@jupyter-widgets/controls",
            "_model_module_version": "1.5.0",
            "_model_name": "DescriptionStyleModel",
            "_view_count": null,
            "_view_module": "@jupyter-widgets/base",
            "_view_module_version": "1.2.0",
            "_view_name": "StyleView",
            "description_width": ""
          }
        }
      }
    }
  },
  "nbformat": 4,
  "nbformat_minor": 0
}